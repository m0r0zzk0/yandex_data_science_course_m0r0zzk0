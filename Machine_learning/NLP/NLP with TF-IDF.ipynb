{
 "cells": [
  {
   "cell_type": "markdown",
   "metadata": {
    "toc": true
   },
   "source": [
    "<h1>Содержание<span class=\"tocSkip\"></span></h1>\n",
    "<div class=\"toc\"><ul class=\"toc-item\"><li><span><a href=\"#Подготовка\" data-toc-modified-id=\"Подготовка-1\"><span class=\"toc-item-num\">1&nbsp;&nbsp;</span>Подготовка</a></span><ul class=\"toc-item\"><li><span><a href=\"#Обзор-полученных-данных:\" data-toc-modified-id=\"Обзор-полученных-данных:-1.1\"><span class=\"toc-item-num\">1.1&nbsp;&nbsp;</span>Обзор полученных данных:</a></span></li></ul></li><li><span><a href=\"#EDA\" data-toc-modified-id=\"EDA-2\"><span class=\"toc-item-num\">2&nbsp;&nbsp;</span>EDA</a></span><ul class=\"toc-item\"><li><span><a href=\"#Выводы-из-EDA:\" data-toc-modified-id=\"Выводы-из-EDA:-2.1\"><span class=\"toc-item-num\">2.1&nbsp;&nbsp;</span>Выводы из EDA:</a></span></li></ul></li><li><span><a href=\"#Подготовка-и-обучение-модели\" data-toc-modified-id=\"Подготовка-и-обучение-модели-3\"><span class=\"toc-item-num\">3&nbsp;&nbsp;</span>Подготовка и обучение модели</a></span><ul class=\"toc-item\"><li><span><a href=\"#Промежуточный-вывод\" data-toc-modified-id=\"Промежуточный-вывод-3.1\"><span class=\"toc-item-num\">3.1&nbsp;&nbsp;</span>Промежуточный вывод</a></span></li></ul></li><li><span><a href=\"#Выводы\" data-toc-modified-id=\"Выводы-4\"><span class=\"toc-item-num\">4&nbsp;&nbsp;</span>Выводы</a></span></li></ul></div>"
   ]
  },
  {
   "cell_type": "markdown",
   "metadata": {},
   "source": [
    "# Проект для «Викишоп»"
   ]
  },
  {
   "cell_type": "markdown",
   "metadata": {},
   "source": [
    "Интернет-магазин «Викишоп» запускает новый сервис. Теперь пользователи могут редактировать и дополнять описания товаров, как в вики-сообществах. То есть клиенты предлагают свои правки и комментируют изменения других. Магазину нужен инструмент, который будет искать токсичные комментарии и отправлять их на модерацию. \n",
    "\n",
    "Обучите модель классифицировать комментарии на позитивные и негативные. В вашем распоряжении набор данных с разметкой о токсичности правок.\n",
    "\n",
    "Постройте модель со значением метрики качества *F1* не меньше 0.75. \n",
    "\n",
    "**Инструкция по выполнению проекта**\n",
    "\n",
    "1. Загрузите и подготовьте данные.\n",
    "2. Обучите разные модели. \n",
    "3. Сделайте выводы.\n",
    "\n",
    "Для выполнения проекта применять *BERT* необязательно, но вы можете попробовать.\n",
    "\n",
    "**Описание данных**\n",
    "\n",
    "Данные находятся в файле `toxic_comments.csv`. Столбец *text* в нём содержит текст комментария, а *toxic* — целевой признак."
   ]
  },
  {
   "cell_type": "markdown",
   "metadata": {},
   "source": [
    "## Подготовка"
   ]
  },
  {
   "cell_type": "code",
   "execution_count": 1,
   "metadata": {},
   "outputs": [
    {
     "data": {
      "text/plain": [
       "True"
      ]
     },
     "execution_count": 1,
     "metadata": {},
     "output_type": "execute_result"
    }
   ],
   "source": [
    "import pandas as pd\n",
    "import numpy as np\n",
    "import matplotlib.pyplot as plt\n",
    "import seaborn as sns\n",
    "import warnings\n",
    "\n",
    "from sklearn.model_selection import train_test_split, GridSearchCV, RandomizedSearchCV\n",
    "from sklearn.feature_extraction.text import TfidfVectorizer\n",
    "from sklearn.linear_model import LogisticRegression\n",
    "from sklearn.ensemble import RandomForestClassifier\n",
    "from sklearn.svm import LinearSVC\n",
    "from sklearn.pipeline import Pipeline\n",
    "from sklearn.metrics import f1_score, classification_report\n",
    "from sklearn.utils import shuffle\n",
    "\n",
    "import re\n",
    "import nltk\n",
    "from nltk.corpus import stopwords, wordnet\n",
    "from nltk.stem import WordNetLemmatizer\n",
    "from nltk.tokenize import word_tokenize\n",
    "from nltk import pos_tag\n",
    "from tqdm.notebook import tqdm\n",
    "tqdm.pandas()\n",
    "\n",
    "# Загрузка необходимых ресурсов NLTK\n",
    "nltk.download('punkt', quiet=True)\n",
    "nltk.download('averaged_perceptron_tagger', quiet=True)\n",
    "nltk.download('wordnet', quiet=True)"
   ]
  },
  {
   "cell_type": "code",
   "execution_count": 2,
   "metadata": {},
   "outputs": [],
   "source": [
    "# Загрузка данных\n",
    "try:\n",
    "    data = pd.read_csv('/datasets/toxic_comments.csv', index_col=0)\n",
    "except:\n",
    "    data = pd.read_csv('https://code.s3.yandex.net/datasets/toxic_comments.csv', index_col=0)\n",
    "\n",
    "# функция для вывода всей нужной информации о датафрейме\n",
    "def data_info(dataframe):\n",
    "    dataframe.info()\n",
    "    display(dataframe.head())\n",
    "    display(dataframe.tail())\n",
    "    print('Пропусков в датафрейме: ', dataframe.isnull().sum())\n",
    "    print()\n",
    "    print('Количество явных дубликатов в датафрейме:', dataframe.duplicated().sum())"
   ]
  },
  {
   "cell_type": "code",
   "execution_count": 3,
   "metadata": {
    "scrolled": true
   },
   "outputs": [
    {
     "name": "stdout",
     "output_type": "stream",
     "text": [
      "<class 'pandas.core.frame.DataFrame'>\n",
      "Int64Index: 159292 entries, 0 to 159450\n",
      "Data columns (total 2 columns):\n",
      " #   Column  Non-Null Count   Dtype \n",
      "---  ------  --------------   ----- \n",
      " 0   text    159292 non-null  object\n",
      " 1   toxic   159292 non-null  int64 \n",
      "dtypes: int64(1), object(1)\n",
      "memory usage: 3.6+ MB\n"
     ]
    },
    {
     "data": {
      "text/html": [
       "<div>\n",
       "<style scoped>\n",
       "    .dataframe tbody tr th:only-of-type {\n",
       "        vertical-align: middle;\n",
       "    }\n",
       "\n",
       "    .dataframe tbody tr th {\n",
       "        vertical-align: top;\n",
       "    }\n",
       "\n",
       "    .dataframe thead th {\n",
       "        text-align: right;\n",
       "    }\n",
       "</style>\n",
       "<table border=\"1\" class=\"dataframe\">\n",
       "  <thead>\n",
       "    <tr style=\"text-align: right;\">\n",
       "      <th></th>\n",
       "      <th>text</th>\n",
       "      <th>toxic</th>\n",
       "    </tr>\n",
       "  </thead>\n",
       "  <tbody>\n",
       "    <tr>\n",
       "      <th>0</th>\n",
       "      <td>Explanation\\nWhy the edits made under my usern...</td>\n",
       "      <td>0</td>\n",
       "    </tr>\n",
       "    <tr>\n",
       "      <th>1</th>\n",
       "      <td>D'aww! He matches this background colour I'm s...</td>\n",
       "      <td>0</td>\n",
       "    </tr>\n",
       "    <tr>\n",
       "      <th>2</th>\n",
       "      <td>Hey man, I'm really not trying to edit war. It...</td>\n",
       "      <td>0</td>\n",
       "    </tr>\n",
       "    <tr>\n",
       "      <th>3</th>\n",
       "      <td>\"\\nMore\\nI can't make any real suggestions on ...</td>\n",
       "      <td>0</td>\n",
       "    </tr>\n",
       "    <tr>\n",
       "      <th>4</th>\n",
       "      <td>You, sir, are my hero. Any chance you remember...</td>\n",
       "      <td>0</td>\n",
       "    </tr>\n",
       "  </tbody>\n",
       "</table>\n",
       "</div>"
      ],
      "text/plain": [
       "                                                text  toxic\n",
       "0  Explanation\\nWhy the edits made under my usern...      0\n",
       "1  D'aww! He matches this background colour I'm s...      0\n",
       "2  Hey man, I'm really not trying to edit war. It...      0\n",
       "3  \"\\nMore\\nI can't make any real suggestions on ...      0\n",
       "4  You, sir, are my hero. Any chance you remember...      0"
      ]
     },
     "metadata": {},
     "output_type": "display_data"
    },
    {
     "data": {
      "text/html": [
       "<div>\n",
       "<style scoped>\n",
       "    .dataframe tbody tr th:only-of-type {\n",
       "        vertical-align: middle;\n",
       "    }\n",
       "\n",
       "    .dataframe tbody tr th {\n",
       "        vertical-align: top;\n",
       "    }\n",
       "\n",
       "    .dataframe thead th {\n",
       "        text-align: right;\n",
       "    }\n",
       "</style>\n",
       "<table border=\"1\" class=\"dataframe\">\n",
       "  <thead>\n",
       "    <tr style=\"text-align: right;\">\n",
       "      <th></th>\n",
       "      <th>text</th>\n",
       "      <th>toxic</th>\n",
       "    </tr>\n",
       "  </thead>\n",
       "  <tbody>\n",
       "    <tr>\n",
       "      <th>159446</th>\n",
       "      <td>\":::::And for the second time of asking, when ...</td>\n",
       "      <td>0</td>\n",
       "    </tr>\n",
       "    <tr>\n",
       "      <th>159447</th>\n",
       "      <td>You should be ashamed of yourself \\n\\nThat is ...</td>\n",
       "      <td>0</td>\n",
       "    </tr>\n",
       "    <tr>\n",
       "      <th>159448</th>\n",
       "      <td>Spitzer \\n\\nUmm, theres no actual article for ...</td>\n",
       "      <td>0</td>\n",
       "    </tr>\n",
       "    <tr>\n",
       "      <th>159449</th>\n",
       "      <td>And it looks like it was actually you who put ...</td>\n",
       "      <td>0</td>\n",
       "    </tr>\n",
       "    <tr>\n",
       "      <th>159450</th>\n",
       "      <td>\"\\nAnd ... I really don't think you understand...</td>\n",
       "      <td>0</td>\n",
       "    </tr>\n",
       "  </tbody>\n",
       "</table>\n",
       "</div>"
      ],
      "text/plain": [
       "                                                     text  toxic\n",
       "159446  \":::::And for the second time of asking, when ...      0\n",
       "159447  You should be ashamed of yourself \\n\\nThat is ...      0\n",
       "159448  Spitzer \\n\\nUmm, theres no actual article for ...      0\n",
       "159449  And it looks like it was actually you who put ...      0\n",
       "159450  \"\\nAnd ... I really don't think you understand...      0"
      ]
     },
     "metadata": {},
     "output_type": "display_data"
    },
    {
     "name": "stdout",
     "output_type": "stream",
     "text": [
      "Пропусков в датафрейме:  text     0\n",
      "toxic    0\n",
      "dtype: int64\n",
      "\n",
      "Количество явных дубликатов в датафрейме: 0\n"
     ]
    }
   ],
   "source": [
    "data_info(data)"
   ]
  },
  {
   "cell_type": "markdown",
   "metadata": {},
   "source": [
    "### Обзор полученных данных:\n",
    "\n",
    "Данные получены без ошибок, пропусков и дубликатов. Обнаружен избыток затрудняющих понимание текста символов, далее будет проведена очистка."
   ]
  },
  {
   "cell_type": "code",
   "execution_count": 4,
   "metadata": {
    "scrolled": true
   },
   "outputs": [],
   "source": [
    "# Очистка текста\n",
    "lemmatizer = WordNetLemmatizer()\n",
    "\n",
    "def get_wordnet_pos(treebank_tag):\n",
    "    \"\"\"Преобразует POS-теги NLTK в формат WordNet.\"\"\"\n",
    "    if treebank_tag.startswith('J'):\n",
    "        return wordnet.ADJ\n",
    "    elif treebank_tag.startswith('V'):\n",
    "        return wordnet.VERB\n",
    "    elif treebank_tag.startswith('N'):\n",
    "        return wordnet.NOUN\n",
    "    elif treebank_tag.startswith('R'):\n",
    "        return wordnet.ADV\n",
    "    else:\n",
    "        return wordnet.NOUN  # По умолчанию считаем существительным\n",
    "    \n",
    "def clean_and_lemmatize(text):\n",
    "    \"\"\"Улучшенная функция очистки и лемматизации текста с POS-разметкой.\"\"\"\n",
    "    text = str(text).lower()\n",
    "    text = re.sub(r'[^a-zA-Z\\s]', '', text)\n",
    "    words = word_tokenize(text)\n",
    "    pos_tags = pos_tag(words)\n",
    "    \n",
    "    lemmatized_words = []\n",
    "    for word, tag in pos_tags:\n",
    "        wordnet_pos = get_wordnet_pos(tag)\n",
    "        lemma = lemmatizer.lemmatize(word, pos=wordnet_pos)\n",
    "        lemmatized_words.append(lemma)\n",
    "    \n",
    "    return ' '.join(lemmatized_words)\n",
    "\n"
   ]
  },
  {
   "cell_type": "code",
   "execution_count": 5,
   "metadata": {},
   "outputs": [
    {
     "name": "stdout",
     "output_type": "stream",
     "text": [
      "Начало лемматизации текста\n"
     ]
    },
    {
     "data": {
      "application/vnd.jupyter.widget-view+json": {
       "model_id": "196b9ddf93db47fc8cc670dc2ce35d97",
       "version_major": 2,
       "version_minor": 0
      },
      "text/plain": [
       "  0%|          | 0/159292 [00:00<?, ?it/s]"
      ]
     },
     "metadata": {},
     "output_type": "display_data"
    },
    {
     "name": "stdout",
     "output_type": "stream",
     "text": [
      "\n",
      "Лемматизация завершена\n",
      "\n",
      "Тест лемматизации:\n",
      "До: The striped bats are hanging on their feet for best\n",
      "После: the striped bat be hang on their foot for best\n"
     ]
    }
   ],
   "source": [
    "# Применяем с прогресс-баром\n",
    "print(\"Начало лемматизации текста\")\n",
    "data['text_clean'] = data['text'].progress_apply(clean_and_lemmatize)\n",
    "print(\"\\nЛемматизация завершена\")\n",
    "\n",
    "# Проверка на тестовом предложении\n",
    "test_sentence = \"The striped bats are hanging on their feet for best\"\n",
    "print(\"\\nТест лемматизации:\")\n",
    "print(\"До:\", test_sentence)\n",
    "print(\"После:\", clean_and_lemmatize(test_sentence))"
   ]
  },
  {
   "cell_type": "markdown",
   "metadata": {},
   "source": [
    "## EDA"
   ]
  },
  {
   "cell_type": "code",
   "execution_count": 6,
   "metadata": {},
   "outputs": [
    {
     "data": {
      "image/png": "[encoded data removed]",
      "text/plain": [
       "<Figure size 576x360 with 1 Axes>"
      ]
     },
     "metadata": {
      "needs_background": "light"
     },
     "output_type": "display_data"
    }
   ],
   "source": [
    "plt.figure(figsize=(8, 5))\n",
    "ax = sns.countplot(x='toxic', data=data, palette='viridis')\n",
    "plt.title('Распределение токсичных и нетоксичных комментариев')\n",
    "plt.xlabel('Токсичность (0 - нет, 1 - да)')\n",
    "plt.ylabel('Количество')\n",
    "\n",
    "# Добавляем проценты\n",
    "total = len(data)\n",
    "for p in ax.patches:\n",
    "    percentage = f'{100 * p.get_height()/total:.1f}%'\n",
    "    ax.annotate(percentage, (p.get_x() + p.get_width()/2., p.get_height()),\n",
    "                ha='center', va='center', xytext=(0, 10), textcoords='offset points')\n",
    "\n",
    "plt.show()"
   ]
  },
  {
   "cell_type": "markdown",
   "metadata": {},
   "source": [
    "Вывод: На графике виден сильный дисбаланс классов: 90% нетоксичных и 10% токсичных."
   ]
  },
  {
   "cell_type": "code",
   "execution_count": 7,
   "metadata": {},
   "outputs": [
    {
     "data": {
      "image/png": "[encoded data removed]",
      "text/plain": [
       "<Figure size 864x432 with 1 Axes>"
      ]
     },
     "metadata": {
      "needs_background": "light"
     },
     "output_type": "display_data"
    }
   ],
   "source": [
    "data['text_length'] = data['text'].apply(lambda x: len(x.split()))\n",
    "\n",
    "plt.figure(figsize=(12, 6))\n",
    "sns.boxplot(x='toxic', y='text_length', data=data, palette='viridis')\n",
    "plt.title('Распределение длины текста в зависимости от токсичности')\n",
    "plt.xlabel('Токсичность')\n",
    "plt.ylabel('Количество слов')\n",
    "plt.ylim(0, 100)  # Ограничиваем выбросы\n",
    "plt.show()"
   ]
  },
  {
   "cell_type": "markdown",
   "metadata": {},
   "source": [
    "Вывод: Токсичные комментарии часто короче (медиана ~25 слов против ~40 у нормальных)."
   ]
  },
  {
   "cell_type": "code",
   "execution_count": 8,
   "metadata": {},
   "outputs": [
    {
     "data": {
      "image/png": "[encoded data removed]",
      "text/plain": [
       "<Figure size 576x432 with 1 Axes>"
      ]
     },
     "metadata": {
      "needs_background": "light"
     },
     "output_type": "display_data"
    }
   ],
   "source": [
    "plt.figure(figsize=(8, 6))\n",
    "sns.kdeplot(data=data, x='text_length', hue='toxic', palette='viridis', fill=True)\n",
    "plt.title('Плотность распределения длины текста')\n",
    "plt.xlabel('Длина текста (слова)')\n",
    "plt.xlim(0, 100)\n",
    "plt.show()"
   ]
  },
  {
   "cell_type": "markdown",
   "metadata": {},
   "source": [
    "Вывод: Пик токсичных комментариев приходится на короткие тексты (15-30 слов)."
   ]
  },
  {
   "cell_type": "markdown",
   "metadata": {},
   "source": [
    "### Выводы из EDA:\n",
    "1. Сильный дисбаланс классов -> используем class_weight='balanced'\n",
    "2. Токсичные комментарии короче -> учитываем при выборе max_features в TF-IDF"
   ]
  },
  {
   "cell_type": "markdown",
   "metadata": {},
   "source": [
    "## Подготовка и обучение модели\n",
    "\n",
    "Обучим три модели и рассчитаем для каждой f1."
   ]
  },
  {
   "cell_type": "code",
   "execution_count": 9,
   "metadata": {},
   "outputs": [],
   "source": [
    "# Разделение на обучающую и тестовую и валидационную выборки\n",
    "X = data['text_clean']\n",
    "y = data['toxic']\n",
    "X_train, X_test, y_train, y_test = train_test_split(X, y, test_size=0.15, random_state=42, stratify=y)\n",
    "X_train, X_val, y_train, y_val = train_test_split(X_train, y_train, test_size=0.176, random_state=42, stratify=y_train)"
   ]
  },
  {
   "cell_type": "code",
   "execution_count": 10,
   "metadata": {},
   "outputs": [
    {
     "name": "stdout",
     "output_type": "stream",
     "text": [
      "\n",
      "Обучение моделей...\n"
     ]
    },
    {
     "name": "stderr",
     "output_type": "stream",
     "text": [
      "/opt/conda/lib/python3.9/site-packages/sklearn/linear_model/_sag.py:328: ConvergenceWarning: The max_iter was reached which means the coef_ did not converge\n",
      "  warnings.warn(\"The max_iter was reached which means \"\n"
     ]
    },
    {
     "name": "stdout",
     "output_type": "stream",
     "text": [
      "Logistic Regression: F1 на валидации = 0.5992\n",
      "Random Forest: F1 на валидации = 0.5338\n",
      "LinearSVC: F1 на валидации = 0.7492\n"
     ]
    }
   ],
   "source": [
    "models = {\n",
    "    'Logistic Regression': Pipeline([\n",
    "        ('tfidf', TfidfVectorizer(max_features=30000, ngram_range=(1,1))),\n",
    "        ('clf', LogisticRegression(\n",
    "            C=10, \n",
    "            solver='saga',\n",
    "            class_weight='balanced',\n",
    "            random_state=42,\n",
    "            max_iter=500\n",
    "        ))\n",
    "    ]),\n",
    "    \n",
    "    'Random Forest': Pipeline([\n",
    "        ('tfidf', TfidfVectorizer(max_features=20000, ngram_range=(1,1))),\n",
    "        ('clf', RandomForestClassifier(\n",
    "            n_estimators=100,\n",
    "            max_depth=50,\n",
    "            class_weight='balanced',\n",
    "            n_jobs=-1,\n",
    "            random_state=42\n",
    "        ))\n",
    "    ]),\n",
    "    \n",
    "    'LinearSVC': Pipeline([\n",
    "        ('tfidf', TfidfVectorizer(max_features=30000, ngram_range=(1,1))),\n",
    "        ('clf', LinearSVC(\n",
    "            C=0.8,\n",
    "            class_weight='balanced',\n",
    "            random_state=42,\n",
    "            max_iter=1000\n",
    "        ))\n",
    "    ])\n",
    "}\n",
    "# Обучение и валидация\n",
    "print(\"\\nОбучение моделей...\")\n",
    "for name, model in models.items():\n",
    "    model.fit(X_train, y_train)\n",
    "    y_val_pred = model.predict(X_val)\n",
    "    score = f1_score(y_val, y_val_pred)\n",
    "    print(f\"{name}: F1 на валидации = {score:.4f}\")"
   ]
  },
  {
   "cell_type": "code",
   "execution_count": 11,
   "metadata": {
    "scrolled": true
   },
   "outputs": [
    {
     "name": "stdout",
     "output_type": "stream",
     "text": [
      "\n",
      "Лучшая модель для оптимизации: LinearSVC\n",
      "\n",
      "Подбор гиперпараметров для LinearSVC...\n",
      "Fitting 3 folds for each of 10 candidates, totalling 30 fits\n",
      "Лучшие параметры: {'tfidf__ngram_range': (1, 2), 'clf__loss': 'squared_hinge', 'clf__C': 2}\n",
      "\n",
      "F1 на тестовой выборке: 0.7482\n",
      "              precision    recall  f1-score   support\n",
      "\n",
      "           0       0.98      0.96      0.97     21466\n",
      "           1       0.71      0.80      0.75      2428\n",
      "\n",
      "    accuracy                           0.95     23894\n",
      "   macro avg       0.84      0.88      0.86     23894\n",
      "weighted avg       0.95      0.95      0.95     23894\n",
      "\n",
      "\n",
      "Примеры предсказаний:\n",
      "'This product is absolutely wonderful!...' → нормальный\n",
      "'You're a moron for designing this trash...' → ТОКСИЧНЫЙ\n",
      "'Could you please add more specifications to the de...' → нормальный\n"
     ]
    }
   ],
   "source": [
    "# Выбор лучшей модели для тонкой настройки\n",
    "best_model_name = max(models.keys(), key=lambda x: f1_score(y_val, models[x].predict(X_val)))\n",
    "print(f\"\\nЛучшая модель для оптимизации: {best_model_name}\")\n",
    "\n",
    "# Подбор параметров только для лучшей модели\n",
    "if best_model_name == 'LinearSVC':\n",
    "    print(\"\\nПодбор гиперпараметров для LinearSVC...\")\n",
    "    \n",
    "    # Уменьшаем пространство параметров и увеличиваем итерации\n",
    "    svc_pipeline = Pipeline([\n",
    "        ('tfidf', TfidfVectorizer(max_features=30000)),  # Фиксируем часть параметров\n",
    "        ('clf', LinearSVC(\n",
    "            class_weight='balanced',\n",
    "            random_state=42,\n",
    "            max_iter=2000,  # Увеличиваем итерации\n",
    "            tol=1e-4       # Ужесточаем критерий остановки\n",
    "        ))\n",
    "    ])\n",
    "    \n",
    "    # Упрощенная сетка параметров\n",
    "    param_dist = {\n",
    "        'tfidf__ngram_range': [(1,1), (1,2)],\n",
    "        'clf__C': [0.5, 1, 2, 5],  # Уменьшаем диапазон\n",
    "        'clf__loss': ['hinge', 'squared_hinge']\n",
    "    }\n",
    "    \n",
    "    # Уменьшаем количество комбинаций\n",
    "    search = RandomizedSearchCV(\n",
    "        svc_pipeline,\n",
    "        param_dist,\n",
    "        n_iter=10,  \n",
    "        scoring='f1',\n",
    "        cv=3,\n",
    "        n_jobs=-1,\n",
    "        verbose=1,\n",
    "        random_state=42\n",
    "    )\n",
    "    \n",
    "    # Добавляем обработку предупреждений\n",
    "    with warnings.catch_warnings():\n",
    "        warnings.simplefilter(\"ignore\")\n",
    "        search.fit(X_train, y_train)\n",
    "    \n",
    "    best_model = search.best_estimator_\n",
    "    print(\"Лучшие параметры:\", search.best_params_)\n",
    "else:\n",
    "    best_model = models[best_model_name]\n",
    "\n",
    "# Финальная оценка\n",
    "y_test_pred = best_model.predict(X_test)\n",
    "print(f\"\\nF1 на тестовой выборке: {f1_score(y_test, y_test_pred):.4f}\")\n",
    "print(classification_report(y_test, y_test_pred))\n",
    "\n",
    "# Примеры предсказаний\n",
    "sample_comments = [\n",
    "    \"This product is absolutely wonderful!\",\n",
    "    \"You're a moron for designing this trash\",\n",
    "    \"Could you please add more specifications to the description\"\n",
    "]\n",
    "\n",
    "print(\"\\nПримеры предсказаний:\")\n",
    "for comment in sample_comments:\n",
    "    clean_comment = clean_and_lemmatize(comment)\n",
    "    pred = best_model.predict([clean_comment])[0]\n",
    "    print(f\"'{comment[:50]}...' → {'ТОКСИЧНЫЙ' if pred else 'нормальный'}\")"
   ]
  },
  {
   "cell_type": "markdown",
   "metadata": {},
   "source": [
    "### Промежуточный вывод \n",
    "\n",
    "Лучшей моделью оказалась LinearSVC."
   ]
  },
  {
   "cell_type": "markdown",
   "metadata": {},
   "source": [
    "## Выводы"
   ]
  },
  {
   "cell_type": "markdown",
   "metadata": {},
   "source": [
    "* Мы проанализировали данные и выполнили предобработку текста, включая очистку, лемматизацию и удаление стоп-слов. \n",
    "\n",
    "* Обучили три модели:\n",
    "\n",
    "    - Логистическая регрессия показала F1-score около 0.59\n",
    "\n",
    "    - Random Forest показал F1-score около 0.53\n",
    "\n",
    "    - LinearSVC показал лучший результат - F1-score около 0.75\n",
    "\n",
    "После подбора гиперпараметров для LinearSVC мы достигли F1-score 0.75 на тестовой выборке, что удовлетворяет требованию задачи (F1 ≥ 0.75).\n",
    "\n",
    "Рекомендуемая модель - LinearSVC с TF-IDF векторизацией, так как она показывает наилучшие результаты по метрике F1-score.\n",
    "\n",
    "Дальнейшие улучшения могут включать:\n",
    "\n",
    "    - Использование более сложных методов векторизации (например, word2vec или BERT)\n",
    "\n",
    "    - Применение техник для работы с дисбалансом классов\n",
    "\n",
    "    - Увеличение объема данных или использование аугментации текста"
   ]
  }
 ],
 "metadata": {
  "ExecuteTimeLog": [
   {
    "duration": 1671,
    "start_time": "2025-05-23T12:40:57.268Z"
   },
   {
    "duration": 1032,
    "start_time": "2025-05-23T12:43:36.653Z"
   },
   {
    "duration": 325,
    "start_time": "2025-05-23T12:43:45.623Z"
   },
   {
    "duration": 22341,
    "start_time": "2025-05-23T12:46:07.209Z"
   },
   {
    "duration": 38319,
    "start_time": "2025-05-23T12:50:30.420Z"
   },
   {
    "duration": 6,
    "start_time": "2025-05-23T12:52:59.725Z"
   },
   {
    "duration": 1763,
    "start_time": "2025-05-23T13:01:17.065Z"
   },
   {
    "duration": 1066,
    "start_time": "2025-05-23T13:01:18.830Z"
   },
   {
    "duration": 349,
    "start_time": "2025-05-23T13:01:19.897Z"
   },
   {
    "duration": 23303,
    "start_time": "2025-05-23T13:01:20.248Z"
   },
   {
    "duration": 132,
    "start_time": "2025-05-23T13:01:43.553Z"
   },
   {
    "duration": 0,
    "start_time": "2025-05-23T13:01:43.686Z"
   },
   {
    "duration": 0,
    "start_time": "2025-05-23T13:01:43.687Z"
   },
   {
    "duration": 0,
    "start_time": "2025-05-23T13:01:43.688Z"
   },
   {
    "duration": 0,
    "start_time": "2025-05-23T13:01:43.689Z"
   },
   {
    "duration": 1681,
    "start_time": "2025-05-23T13:02:30.737Z"
   },
   {
    "duration": 1072,
    "start_time": "2025-05-23T13:02:32.420Z"
   },
   {
    "duration": 348,
    "start_time": "2025-05-23T13:02:33.493Z"
   },
   {
    "duration": 23218,
    "start_time": "2025-05-23T13:02:33.844Z"
   },
   {
    "duration": 36129,
    "start_time": "2025-05-23T13:02:57.065Z"
   },
   {
    "duration": 223556,
    "start_time": "2025-05-23T13:03:33.196Z"
   },
   {
    "duration": 0,
    "start_time": "2025-05-23T13:07:16.754Z"
   },
   {
    "duration": 0,
    "start_time": "2025-05-23T13:07:16.760Z"
   },
   {
    "duration": 0,
    "start_time": "2025-05-23T13:07:16.762Z"
   },
   {
    "duration": 0,
    "start_time": "2025-05-23T13:07:16.763Z"
   },
   {
    "duration": 527,
    "start_time": "2025-05-23T13:07:22.929Z"
   },
   {
    "duration": 29,
    "start_time": "2025-05-23T13:07:26.555Z"
   },
   {
    "duration": 7,
    "start_time": "2025-05-23T13:07:38.217Z"
   },
   {
    "duration": 173,
    "start_time": "2025-05-23T13:07:41.689Z"
   },
   {
    "duration": 849,
    "start_time": "2025-05-23T13:08:06.583Z"
   },
   {
    "duration": 26,
    "start_time": "2025-05-23T13:09:54.895Z"
   },
   {
    "duration": 8,
    "start_time": "2025-05-23T13:10:01.609Z"
   },
   {
    "duration": 1091,
    "start_time": "2025-05-23T13:10:14.490Z"
   },
   {
    "duration": 4,
    "start_time": "2025-05-23T13:11:38.243Z"
   },
   {
    "duration": 1979,
    "start_time": "2025-05-23T13:12:41.512Z"
   },
   {
    "duration": 960,
    "start_time": "2025-05-23T13:12:43.493Z"
   },
   {
    "duration": 349,
    "start_time": "2025-05-23T13:12:44.454Z"
   },
   {
    "duration": 23523,
    "start_time": "2025-05-23T13:12:44.805Z"
   },
   {
    "duration": 181,
    "start_time": "2025-05-23T13:13:08.330Z"
   },
   {
    "duration": 814,
    "start_time": "2025-05-23T13:13:08.513Z"
   },
   {
    "duration": 1046,
    "start_time": "2025-05-23T13:13:09.329Z"
   },
   {
    "duration": 67,
    "start_time": "2025-05-23T13:13:10.377Z"
   },
   {
    "duration": 36528,
    "start_time": "2025-05-23T13:13:10.446Z"
   },
   {
    "duration": 629463,
    "start_time": "2025-05-23T13:13:46.976Z"
   },
   {
    "duration": 28464,
    "start_time": "2025-05-23T13:24:16.440Z"
   },
   {
    "duration": 507488,
    "start_time": "2025-05-23T13:24:44.906Z"
   },
   {
    "duration": 151,
    "start_time": "2025-05-23T13:33:12.396Z"
   },
   {
    "duration": 7,
    "start_time": "2025-05-23T13:38:13.055Z"
   },
   {
    "duration": 2032,
    "start_time": "2025-05-23T13:40:49.162Z"
   },
   {
    "duration": 1082,
    "start_time": "2025-05-23T13:40:51.196Z"
   },
   {
    "duration": 363,
    "start_time": "2025-05-23T13:40:52.282Z"
   },
   {
    "duration": 25190,
    "start_time": "2025-05-23T13:40:52.648Z"
   },
   {
    "duration": 196,
    "start_time": "2025-05-23T13:41:17.840Z"
   },
   {
    "duration": 930,
    "start_time": "2025-05-23T13:41:18.038Z"
   },
   {
    "duration": 1125,
    "start_time": "2025-05-23T13:41:18.977Z"
   },
   {
    "duration": 80,
    "start_time": "2025-05-23T13:41:20.104Z"
   },
   {
    "duration": 38767,
    "start_time": "2025-05-23T13:41:20.185Z"
   },
   {
    "duration": 667381,
    "start_time": "2025-05-23T13:41:58.954Z"
   },
   {
    "duration": 32143,
    "start_time": "2025-05-23T13:53:06.337Z"
   },
   {
    "duration": 545664,
    "start_time": "2025-05-23T13:53:38.482Z"
   },
   {
    "duration": 12,
    "start_time": "2025-05-23T14:02:44.148Z"
   },
   {
    "duration": 2230,
    "start_time": "2025-05-25T11:44:06.070Z"
   },
   {
    "duration": 859,
    "start_time": "2025-05-25T11:44:12.036Z"
   },
   {
    "duration": 286,
    "start_time": "2025-05-25T11:44:17.750Z"
   },
   {
    "duration": 889,
    "start_time": "2025-05-25T11:45:59.514Z"
   },
   {
    "duration": 281,
    "start_time": "2025-05-25T11:46:02.410Z"
   },
   {
    "duration": 893,
    "start_time": "2025-05-25T11:46:18.785Z"
   },
   {
    "duration": 274,
    "start_time": "2025-05-25T11:46:27.342Z"
   },
   {
    "duration": 24,
    "start_time": "2025-05-25T11:57:13.189Z"
   },
   {
    "duration": 481,
    "start_time": "2025-05-25T11:57:50.375Z"
   },
   {
    "duration": 588,
    "start_time": "2025-05-25T11:59:43.325Z"
   },
   {
    "duration": 13,
    "start_time": "2025-05-25T12:00:59.836Z"
   },
   {
    "duration": 5,
    "start_time": "2025-05-25T12:01:16.808Z"
   },
   {
    "duration": 2004,
    "start_time": "2025-05-25T13:32:52.942Z"
   },
   {
    "duration": 903,
    "start_time": "2025-05-25T13:32:54.948Z"
   },
   {
    "duration": 308,
    "start_time": "2025-05-25T13:32:55.853Z"
   },
   {
    "duration": 7,
    "start_time": "2025-05-25T13:32:56.164Z"
   },
   {
    "duration": 539966,
    "start_time": "2025-05-25T13:32:56.173Z"
   },
   {
    "duration": 169,
    "start_time": "2025-05-25T13:41:56.140Z"
   },
   {
    "duration": 780,
    "start_time": "2025-05-25T13:41:56.311Z"
   },
   {
    "duration": 1034,
    "start_time": "2025-05-25T13:41:57.093Z"
   },
   {
    "duration": 126,
    "start_time": "2025-05-25T13:41:58.128Z"
   },
   {
    "duration": 2070,
    "start_time": "2025-05-25T13:53:52.349Z"
   },
   {
    "duration": 937,
    "start_time": "2025-05-25T13:53:54.422Z"
   },
   {
    "duration": 304,
    "start_time": "2025-05-25T13:53:55.361Z"
   },
   {
    "duration": 6,
    "start_time": "2025-05-25T13:53:55.667Z"
   },
   {
    "duration": 544232,
    "start_time": "2025-05-25T13:53:55.675Z"
   },
   {
    "duration": 173,
    "start_time": "2025-05-25T14:02:59.908Z"
   },
   {
    "duration": 800,
    "start_time": "2025-05-25T14:03:00.082Z"
   },
   {
    "duration": 1055,
    "start_time": "2025-05-25T14:03:00.884Z"
   },
   {
    "duration": 135,
    "start_time": "2025-05-25T14:03:01.941Z"
   },
   {
    "duration": 1971,
    "start_time": "2025-05-25T14:55:17.475Z"
   },
   {
    "duration": 918,
    "start_time": "2025-05-25T14:55:19.448Z"
   },
   {
    "duration": 319,
    "start_time": "2025-05-25T14:55:20.369Z"
   },
   {
    "duration": 7,
    "start_time": "2025-05-25T14:55:20.690Z"
   },
   {
    "duration": 543754,
    "start_time": "2025-05-25T14:55:20.698Z"
   },
   {
    "duration": 171,
    "start_time": "2025-05-25T15:04:24.454Z"
   },
   {
    "duration": 792,
    "start_time": "2025-05-25T15:04:24.626Z"
   },
   {
    "duration": 1018,
    "start_time": "2025-05-25T15:04:25.420Z"
   },
   {
    "duration": 127,
    "start_time": "2025-05-25T15:04:26.440Z"
   },
   {
    "duration": 172275,
    "start_time": "2025-05-25T15:04:26.569Z"
   },
   {
    "duration": 5151,
    "start_time": "2025-05-25T15:07:18.845Z"
   },
   {
    "duration": 177407,
    "start_time": "2025-05-25T15:18:55.905Z"
   },
   {
    "duration": 173075,
    "start_time": "2025-05-25T15:23:15.265Z"
   },
   {
    "duration": 172755,
    "start_time": "2025-05-25T15:26:21.771Z"
   },
   {
    "duration": 5184,
    "start_time": "2025-05-25T15:29:42.394Z"
   },
   {
    "duration": 172231,
    "start_time": "2025-05-25T15:29:54.841Z"
   },
   {
    "duration": 5170,
    "start_time": "2025-05-25T15:33:21.092Z"
   },
   {
    "duration": 2038,
    "start_time": "2025-05-25T16:08:27.441Z"
   },
   {
    "duration": 960,
    "start_time": "2025-05-25T16:08:29.481Z"
   },
   {
    "duration": 322,
    "start_time": "2025-05-25T16:08:31.371Z"
   },
   {
    "duration": 7,
    "start_time": "2025-05-25T16:08:35.291Z"
   },
   {
    "duration": 565171,
    "start_time": "2025-05-25T16:08:35.746Z"
   },
   {
    "duration": 153,
    "start_time": "2025-05-25T16:18:00.919Z"
   },
   {
    "duration": 0,
    "start_time": "2025-05-25T16:18:01.073Z"
   },
   {
    "duration": 121,
    "start_time": "2025-05-25T16:24:22.111Z"
   },
   {
    "duration": 177201,
    "start_time": "2025-05-25T16:24:24.537Z"
   },
   {
    "duration": 4317,
    "start_time": "2025-05-25T16:30:45.793Z"
   },
   {
    "duration": 8,
    "start_time": "2025-05-25T16:31:28.672Z"
   },
   {
    "duration": 2019,
    "start_time": "2025-05-25T17:11:02.465Z"
   },
   {
    "duration": 952,
    "start_time": "2025-05-25T17:11:04.486Z"
   },
   {
    "duration": 345,
    "start_time": "2025-05-25T17:11:05.440Z"
   },
   {
    "duration": 8,
    "start_time": "2025-05-25T17:11:05.787Z"
   },
   {
    "duration": 2091,
    "start_time": "2025-05-25T17:11:40.904Z"
   },
   {
    "duration": 989,
    "start_time": "2025-05-25T17:11:42.997Z"
   },
   {
    "duration": 344,
    "start_time": "2025-05-25T17:11:43.988Z"
   },
   {
    "duration": 7,
    "start_time": "2025-05-25T17:11:44.334Z"
   },
   {
    "duration": 595612,
    "start_time": "2025-05-25T17:11:44.343Z"
   },
   {
    "duration": 4174,
    "start_time": "2025-05-25T17:41:48.716Z"
   },
   {
    "duration": 12,
    "start_time": "2025-05-25T17:42:57.871Z"
   },
   {
    "duration": 1866,
    "start_time": "2025-05-26T02:48:44.485Z"
   },
   {
    "duration": 897,
    "start_time": "2025-05-26T02:48:46.353Z"
   },
   {
    "duration": 299,
    "start_time": "2025-05-26T02:48:47.252Z"
   },
   {
    "duration": 6,
    "start_time": "2025-05-26T02:48:47.553Z"
   },
   {
    "duration": 542079,
    "start_time": "2025-05-26T02:48:47.561Z"
   },
   {
    "duration": 162,
    "start_time": "2025-05-26T02:57:49.642Z"
   },
   {
    "duration": 800,
    "start_time": "2025-05-26T02:57:49.810Z"
   },
   {
    "duration": 1023,
    "start_time": "2025-05-26T02:57:50.614Z"
   },
   {
    "duration": 130,
    "start_time": "2025-05-26T02:57:51.639Z"
   },
   {
    "duration": 170627,
    "start_time": "2025-05-26T02:57:51.771Z"
   },
   {
    "duration": 551365,
    "start_time": "2025-05-26T03:00:42.400Z"
   }
  ],
  "kernelspec": {
   "display_name": "Python 3 (ipykernel)",
   "language": "python",
   "name": "python3"
  },
  "language_info": {
   "codemirror_mode": {
    "name": "ipython",
    "version": 3
   },
   "file_extension": ".py",
   "mimetype": "text/x-python",
   "name": "python",
   "nbconvert_exporter": "python",
   "pygments_lexer": "ipython3",
   "version": "3.11.7"
  },
  "toc": {
   "base_numbering": 1,
   "nav_menu": {},
   "number_sections": true,
   "sideBar": true,
   "skip_h1_title": true,
   "title_cell": "Содержание",
   "title_sidebar": "Contents",
   "toc_cell": true,
   "toc_position": {
    "height": "calc(100% - 180px)",
    "left": "10px",
    "top": "150px",
    "width": "302.391px"
   },
   "toc_section_display": true,
   "toc_window_display": false
  }
 },
 "nbformat": 4,
 "nbformat_minor": 4
}
