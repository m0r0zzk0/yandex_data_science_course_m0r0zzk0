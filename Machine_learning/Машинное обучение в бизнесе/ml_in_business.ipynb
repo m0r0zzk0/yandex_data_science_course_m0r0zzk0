{
 "cells": [
  {
   "cell_type": "markdown",
   "metadata": {},
   "source": [
    "# Выбор локации для скважины"
   ]
  },
  {
   "cell_type": "markdown",
   "metadata": {},
   "source": [
    "### Описание проекта\n",
    "\n",
    "Нужно решить, где бурить новую скважину. Нам предоставлены пробы нефти в трёх регионах: в каждом 10 000 месторождений, где измерили качество нефти и объём её запасов.\n",
    "\n",
    "### Цель проекта\n",
    "\n",
    "Построить модель машинного обучения, которая поможет определить регион, где добыча принесёт наибольшую прибыль и  проанализировать возможную прибыль и риски техникой *Bootstrap.*\n",
    "\n",
    "При выборе локации, будем придерживаться следующих шагов:\n",
    "\n",
    "- В избранном регионе ищут месторождения, для каждого определяют значения признаков;\n",
    "- Строят модель и оценивают объём запасов;\n",
    "- Выбирают месторождения с самым высокими оценками значений. Количество месторождений зависит от бюджета компании и стоимости разработки одной скважины;\n",
    "- Прибыль равна суммарной прибыли отобранных месторождений."
   ]
  },
  {
   "cell_type": "markdown",
   "metadata": {},
   "source": [
    "## Загрузка и подготовка данных"
   ]
  },
  {
   "cell_type": "markdown",
   "metadata": {},
   "source": [
    "### Загрузка данных"
   ]
  },
  {
   "cell_type": "code",
   "execution_count": 1,
   "metadata": {},
   "outputs": [],
   "source": [
    "# импорт необходимых библиотек\n",
    "import pandas as pd\n",
    "import matplotlib.pyplot as plt\n",
    "import seaborn as sns\n",
    "import numpy as np\n",
    "import math\n",
    "from IPython.display import display\n",
    "import scipy.stats as st\n",
    "import warnings\n",
    "warnings.filterwarnings('ignore')\n",
    "\n",
    "#!pip install phik -q\n",
    "import phik\n",
    "from phik import phik_matrix\n",
    "\n",
    "TEST_SIZE = 0.25\n",
    "RANDOM_STATE = 42\n",
    "\n",
    "from sklearn.model_selection import train_test_split\n",
    "from sklearn.pipeline import Pipeline\n",
    "from sklearn.preprocessing import StandardScaler\n",
    "from sklearn.linear_model import LinearRegression\n",
    "from sklearn.metrics import mean_squared_error\n",
    "from sklearn.utils import resample\n",
    "\n",
    "\n",
    "# Константы с учетом единиц измерения (тыс. баррелей)\n",
    "INCOME_PER_UNIT = 450  # тыс.руб за тыс.баррелей (450 руб/баррель * 1000)\n",
    "WELL_COST = 50_000  # тыс.руб на скважину (50 млн руб)\n",
    "BUDGET = 10_000_000  # тыс.руб (10 млрд руб)\n",
    "SELECTED_POINTS = int(BUDGET / WELL_COST)  # 200 скважин\n"
   ]
  },
  {
   "cell_type": "code",
   "execution_count": 2,
   "metadata": {},
   "outputs": [],
   "source": [
    "try:\n",
    "    geo_data0 = pd.read_csv(\"/datasets/geo_data_0.csv\", index_col='id')\n",
    "    geo_data1 = pd.read_csv(\"/datasets/geo_data_1.csv\", index_col='id')\n",
    "    geo_data2 = pd.read_csv(\"/datasets/geo_data_2.csv\", index_col='id')\n",
    "except:\n",
    "    geo_data0 = pd.read_csv('https://code.s3.yandex.net/datasets/geo_data_0.csv', index_col='id')\n",
    "    geo_data1 = pd.read_csv('https://code.s3.yandex.net/datasets/geo_data_1.csv', index_col='id')\n",
    "    geo_data2 = pd.read_csv('https://code.s3.yandex.net/datasets/geo_data_2.csv', index_col='id')"
   ]
  },
  {
   "cell_type": "code",
   "execution_count": 3,
   "metadata": {},
   "outputs": [],
   "source": [
    "# функция для вывода всей нужной информации о датафрейме\n",
    "def data_info(dataframe):\n",
    "    print(dataframe.info())\n",
    "    display(dataframe.head())\n",
    "    display(dataframe.tail())\n",
    "    display(dataframe.describe())\n",
    "    print('Пропусков в датафрейме: ', dataframe.isnull().sum())\n",
    "    print()\n",
    "    print('Количество явных дубликатов в датафрейме:', dataframe.duplicated().sum())"
   ]
  },
  {
   "cell_type": "code",
   "execution_count": 4,
   "metadata": {
    "scrolled": true
   },
   "outputs": [
    {
     "name": "stdout",
     "output_type": "stream",
     "text": [
      "<class 'pandas.core.frame.DataFrame'>\n",
      "Index: 100000 entries, txEyH to 1CWhH\n",
      "Data columns (total 4 columns):\n",
      " #   Column   Non-Null Count   Dtype  \n",
      "---  ------   --------------   -----  \n",
      " 0   f0       100000 non-null  float64\n",
      " 1   f1       100000 non-null  float64\n",
      " 2   f2       100000 non-null  float64\n",
      " 3   product  100000 non-null  float64\n",
      "dtypes: float64(4)\n",
      "memory usage: 3.8+ MB\n",
      "None\n"
     ]
    },
    {
     "data": {
      "text/html": [
       "<div>\n",
       "<style scoped>\n",
       "    .dataframe tbody tr th:only-of-type {\n",
       "        vertical-align: middle;\n",
       "    }\n",
       "\n",
       "    .dataframe tbody tr th {\n",
       "        vertical-align: top;\n",
       "    }\n",
       "\n",
       "    .dataframe thead th {\n",
       "        text-align: right;\n",
       "    }\n",
       "</style>\n",
       "<table border=\"1\" class=\"dataframe\">\n",
       "  <thead>\n",
       "    <tr style=\"text-align: right;\">\n",
       "      <th></th>\n",
       "      <th>f0</th>\n",
       "      <th>f1</th>\n",
       "      <th>f2</th>\n",
       "      <th>product</th>\n",
       "    </tr>\n",
       "    <tr>\n",
       "      <th>id</th>\n",
       "      <th></th>\n",
       "      <th></th>\n",
       "      <th></th>\n",
       "      <th></th>\n",
       "    </tr>\n",
       "  </thead>\n",
       "  <tbody>\n",
       "    <tr>\n",
       "      <th>txEyH</th>\n",
       "      <td>0.705745</td>\n",
       "      <td>-0.497823</td>\n",
       "      <td>1.221170</td>\n",
       "      <td>105.280062</td>\n",
       "    </tr>\n",
       "    <tr>\n",
       "      <th>2acmU</th>\n",
       "      <td>1.334711</td>\n",
       "      <td>-0.340164</td>\n",
       "      <td>4.365080</td>\n",
       "      <td>73.037750</td>\n",
       "    </tr>\n",
       "    <tr>\n",
       "      <th>409Wp</th>\n",
       "      <td>1.022732</td>\n",
       "      <td>0.151990</td>\n",
       "      <td>1.419926</td>\n",
       "      <td>85.265647</td>\n",
       "    </tr>\n",
       "    <tr>\n",
       "      <th>iJLyR</th>\n",
       "      <td>-0.032172</td>\n",
       "      <td>0.139033</td>\n",
       "      <td>2.978566</td>\n",
       "      <td>168.620776</td>\n",
       "    </tr>\n",
       "    <tr>\n",
       "      <th>Xdl7t</th>\n",
       "      <td>1.988431</td>\n",
       "      <td>0.155413</td>\n",
       "      <td>4.751769</td>\n",
       "      <td>154.036647</td>\n",
       "    </tr>\n",
       "  </tbody>\n",
       "</table>\n",
       "</div>"
      ],
      "text/plain": [
       "             f0        f1        f2     product\n",
       "id                                             \n",
       "txEyH  0.705745 -0.497823  1.221170  105.280062\n",
       "2acmU  1.334711 -0.340164  4.365080   73.037750\n",
       "409Wp  1.022732  0.151990  1.419926   85.265647\n",
       "iJLyR -0.032172  0.139033  2.978566  168.620776\n",
       "Xdl7t  1.988431  0.155413  4.751769  154.036647"
      ]
     },
     "metadata": {},
     "output_type": "display_data"
    },
    {
     "data": {
      "text/html": [
       "<div>\n",
       "<style scoped>\n",
       "    .dataframe tbody tr th:only-of-type {\n",
       "        vertical-align: middle;\n",
       "    }\n",
       "\n",
       "    .dataframe tbody tr th {\n",
       "        vertical-align: top;\n",
       "    }\n",
       "\n",
       "    .dataframe thead th {\n",
       "        text-align: right;\n",
       "    }\n",
       "</style>\n",
       "<table border=\"1\" class=\"dataframe\">\n",
       "  <thead>\n",
       "    <tr style=\"text-align: right;\">\n",
       "      <th></th>\n",
       "      <th>f0</th>\n",
       "      <th>f1</th>\n",
       "      <th>f2</th>\n",
       "      <th>product</th>\n",
       "    </tr>\n",
       "    <tr>\n",
       "      <th>id</th>\n",
       "      <th></th>\n",
       "      <th></th>\n",
       "      <th></th>\n",
       "      <th></th>\n",
       "    </tr>\n",
       "  </thead>\n",
       "  <tbody>\n",
       "    <tr>\n",
       "      <th>DLsed</th>\n",
       "      <td>0.971957</td>\n",
       "      <td>0.370953</td>\n",
       "      <td>6.075346</td>\n",
       "      <td>110.744026</td>\n",
       "    </tr>\n",
       "    <tr>\n",
       "      <th>QKivN</th>\n",
       "      <td>1.392429</td>\n",
       "      <td>-0.382606</td>\n",
       "      <td>1.273912</td>\n",
       "      <td>122.346843</td>\n",
       "    </tr>\n",
       "    <tr>\n",
       "      <th>3rnvd</th>\n",
       "      <td>1.029585</td>\n",
       "      <td>0.018787</td>\n",
       "      <td>-1.348308</td>\n",
       "      <td>64.375443</td>\n",
       "    </tr>\n",
       "    <tr>\n",
       "      <th>7kl59</th>\n",
       "      <td>0.998163</td>\n",
       "      <td>-0.528582</td>\n",
       "      <td>1.583869</td>\n",
       "      <td>74.040764</td>\n",
       "    </tr>\n",
       "    <tr>\n",
       "      <th>1CWhH</th>\n",
       "      <td>1.764754</td>\n",
       "      <td>-0.266417</td>\n",
       "      <td>5.722849</td>\n",
       "      <td>149.633246</td>\n",
       "    </tr>\n",
       "  </tbody>\n",
       "</table>\n",
       "</div>"
      ],
      "text/plain": [
       "             f0        f1        f2     product\n",
       "id                                             \n",
       "DLsed  0.971957  0.370953  6.075346  110.744026\n",
       "QKivN  1.392429 -0.382606  1.273912  122.346843\n",
       "3rnvd  1.029585  0.018787 -1.348308   64.375443\n",
       "7kl59  0.998163 -0.528582  1.583869   74.040764\n",
       "1CWhH  1.764754 -0.266417  5.722849  149.633246"
      ]
     },
     "metadata": {},
     "output_type": "display_data"
    },
    {
     "data": {
      "text/html": [
       "<div>\n",
       "<style scoped>\n",
       "    .dataframe tbody tr th:only-of-type {\n",
       "        vertical-align: middle;\n",
       "    }\n",
       "\n",
       "    .dataframe tbody tr th {\n",
       "        vertical-align: top;\n",
       "    }\n",
       "\n",
       "    .dataframe thead th {\n",
       "        text-align: right;\n",
       "    }\n",
       "</style>\n",
       "<table border=\"1\" class=\"dataframe\">\n",
       "  <thead>\n",
       "    <tr style=\"text-align: right;\">\n",
       "      <th></th>\n",
       "      <th>f0</th>\n",
       "      <th>f1</th>\n",
       "      <th>f2</th>\n",
       "      <th>product</th>\n",
       "    </tr>\n",
       "  </thead>\n",
       "  <tbody>\n",
       "    <tr>\n",
       "      <th>count</th>\n",
       "      <td>100000.000000</td>\n",
       "      <td>100000.000000</td>\n",
       "      <td>100000.000000</td>\n",
       "      <td>100000.000000</td>\n",
       "    </tr>\n",
       "    <tr>\n",
       "      <th>mean</th>\n",
       "      <td>0.500419</td>\n",
       "      <td>0.250143</td>\n",
       "      <td>2.502647</td>\n",
       "      <td>92.500000</td>\n",
       "    </tr>\n",
       "    <tr>\n",
       "      <th>std</th>\n",
       "      <td>0.871832</td>\n",
       "      <td>0.504433</td>\n",
       "      <td>3.248248</td>\n",
       "      <td>44.288691</td>\n",
       "    </tr>\n",
       "    <tr>\n",
       "      <th>min</th>\n",
       "      <td>-1.408605</td>\n",
       "      <td>-0.848218</td>\n",
       "      <td>-12.088328</td>\n",
       "      <td>0.000000</td>\n",
       "    </tr>\n",
       "    <tr>\n",
       "      <th>25%</th>\n",
       "      <td>-0.072580</td>\n",
       "      <td>-0.200881</td>\n",
       "      <td>0.287748</td>\n",
       "      <td>56.497507</td>\n",
       "    </tr>\n",
       "    <tr>\n",
       "      <th>50%</th>\n",
       "      <td>0.502360</td>\n",
       "      <td>0.250252</td>\n",
       "      <td>2.515969</td>\n",
       "      <td>91.849972</td>\n",
       "    </tr>\n",
       "    <tr>\n",
       "      <th>75%</th>\n",
       "      <td>1.073581</td>\n",
       "      <td>0.700646</td>\n",
       "      <td>4.715088</td>\n",
       "      <td>128.564089</td>\n",
       "    </tr>\n",
       "    <tr>\n",
       "      <th>max</th>\n",
       "      <td>2.362331</td>\n",
       "      <td>1.343769</td>\n",
       "      <td>16.003790</td>\n",
       "      <td>185.364347</td>\n",
       "    </tr>\n",
       "  </tbody>\n",
       "</table>\n",
       "</div>"
      ],
      "text/plain": [
       "                  f0             f1             f2        product\n",
       "count  100000.000000  100000.000000  100000.000000  100000.000000\n",
       "mean        0.500419       0.250143       2.502647      92.500000\n",
       "std         0.871832       0.504433       3.248248      44.288691\n",
       "min        -1.408605      -0.848218     -12.088328       0.000000\n",
       "25%        -0.072580      -0.200881       0.287748      56.497507\n",
       "50%         0.502360       0.250252       2.515969      91.849972\n",
       "75%         1.073581       0.700646       4.715088     128.564089\n",
       "max         2.362331       1.343769      16.003790     185.364347"
      ]
     },
     "metadata": {},
     "output_type": "display_data"
    },
    {
     "name": "stdout",
     "output_type": "stream",
     "text": [
      "Пропусков в датафрейме:  f0         0\n",
      "f1         0\n",
      "f2         0\n",
      "product    0\n",
      "dtype: int64\n",
      "\n",
      "Количество явных дубликатов в датафрейме: 0\n"
     ]
    }
   ],
   "source": [
    "data_info(geo_data0)"
   ]
  },
  {
   "cell_type": "code",
   "execution_count": 5,
   "metadata": {
    "scrolled": true
   },
   "outputs": [
    {
     "name": "stdout",
     "output_type": "stream",
     "text": [
      "<class 'pandas.core.frame.DataFrame'>\n",
      "Index: 100000 entries, kBEdx to relB0\n",
      "Data columns (total 4 columns):\n",
      " #   Column   Non-Null Count   Dtype  \n",
      "---  ------   --------------   -----  \n",
      " 0   f0       100000 non-null  float64\n",
      " 1   f1       100000 non-null  float64\n",
      " 2   f2       100000 non-null  float64\n",
      " 3   product  100000 non-null  float64\n",
      "dtypes: float64(4)\n",
      "memory usage: 3.8+ MB\n",
      "None\n"
     ]
    },
    {
     "data": {
      "text/html": [
       "<div>\n",
       "<style scoped>\n",
       "    .dataframe tbody tr th:only-of-type {\n",
       "        vertical-align: middle;\n",
       "    }\n",
       "\n",
       "    .dataframe tbody tr th {\n",
       "        vertical-align: top;\n",
       "    }\n",
       "\n",
       "    .dataframe thead th {\n",
       "        text-align: right;\n",
       "    }\n",
       "</style>\n",
       "<table border=\"1\" class=\"dataframe\">\n",
       "  <thead>\n",
       "    <tr style=\"text-align: right;\">\n",
       "      <th></th>\n",
       "      <th>f0</th>\n",
       "      <th>f1</th>\n",
       "      <th>f2</th>\n",
       "      <th>product</th>\n",
       "    </tr>\n",
       "    <tr>\n",
       "      <th>id</th>\n",
       "      <th></th>\n",
       "      <th></th>\n",
       "      <th></th>\n",
       "      <th></th>\n",
       "    </tr>\n",
       "  </thead>\n",
       "  <tbody>\n",
       "    <tr>\n",
       "      <th>kBEdx</th>\n",
       "      <td>-15.001348</td>\n",
       "      <td>-8.276000</td>\n",
       "      <td>-0.005876</td>\n",
       "      <td>3.179103</td>\n",
       "    </tr>\n",
       "    <tr>\n",
       "      <th>62mP7</th>\n",
       "      <td>14.272088</td>\n",
       "      <td>-3.475083</td>\n",
       "      <td>0.999183</td>\n",
       "      <td>26.953261</td>\n",
       "    </tr>\n",
       "    <tr>\n",
       "      <th>vyE1P</th>\n",
       "      <td>6.263187</td>\n",
       "      <td>-5.948386</td>\n",
       "      <td>5.001160</td>\n",
       "      <td>134.766305</td>\n",
       "    </tr>\n",
       "    <tr>\n",
       "      <th>KcrkZ</th>\n",
       "      <td>-13.081196</td>\n",
       "      <td>-11.506057</td>\n",
       "      <td>4.999415</td>\n",
       "      <td>137.945408</td>\n",
       "    </tr>\n",
       "    <tr>\n",
       "      <th>AHL4O</th>\n",
       "      <td>12.702195</td>\n",
       "      <td>-8.147433</td>\n",
       "      <td>5.004363</td>\n",
       "      <td>134.766305</td>\n",
       "    </tr>\n",
       "  </tbody>\n",
       "</table>\n",
       "</div>"
      ],
      "text/plain": [
       "              f0         f1        f2     product\n",
       "id                                               \n",
       "kBEdx -15.001348  -8.276000 -0.005876    3.179103\n",
       "62mP7  14.272088  -3.475083  0.999183   26.953261\n",
       "vyE1P   6.263187  -5.948386  5.001160  134.766305\n",
       "KcrkZ -13.081196 -11.506057  4.999415  137.945408\n",
       "AHL4O  12.702195  -8.147433  5.004363  134.766305"
      ]
     },
     "metadata": {},
     "output_type": "display_data"
    },
    {
     "data": {
      "text/html": [
       "<div>\n",
       "<style scoped>\n",
       "    .dataframe tbody tr th:only-of-type {\n",
       "        vertical-align: middle;\n",
       "    }\n",
       "\n",
       "    .dataframe tbody tr th {\n",
       "        vertical-align: top;\n",
       "    }\n",
       "\n",
       "    .dataframe thead th {\n",
       "        text-align: right;\n",
       "    }\n",
       "</style>\n",
       "<table border=\"1\" class=\"dataframe\">\n",
       "  <thead>\n",
       "    <tr style=\"text-align: right;\">\n",
       "      <th></th>\n",
       "      <th>f0</th>\n",
       "      <th>f1</th>\n",
       "      <th>f2</th>\n",
       "      <th>product</th>\n",
       "    </tr>\n",
       "    <tr>\n",
       "      <th>id</th>\n",
       "      <th></th>\n",
       "      <th></th>\n",
       "      <th></th>\n",
       "      <th></th>\n",
       "    </tr>\n",
       "  </thead>\n",
       "  <tbody>\n",
       "    <tr>\n",
       "      <th>QywKC</th>\n",
       "      <td>9.535637</td>\n",
       "      <td>-6.878139</td>\n",
       "      <td>1.998296</td>\n",
       "      <td>53.906522</td>\n",
       "    </tr>\n",
       "    <tr>\n",
       "      <th>ptvty</th>\n",
       "      <td>-10.160631</td>\n",
       "      <td>-12.558096</td>\n",
       "      <td>5.005581</td>\n",
       "      <td>137.945408</td>\n",
       "    </tr>\n",
       "    <tr>\n",
       "      <th>09gWa</th>\n",
       "      <td>-7.378891</td>\n",
       "      <td>-3.084104</td>\n",
       "      <td>4.998651</td>\n",
       "      <td>137.945408</td>\n",
       "    </tr>\n",
       "    <tr>\n",
       "      <th>rqwUm</th>\n",
       "      <td>0.665714</td>\n",
       "      <td>-6.152593</td>\n",
       "      <td>1.000146</td>\n",
       "      <td>30.132364</td>\n",
       "    </tr>\n",
       "    <tr>\n",
       "      <th>relB0</th>\n",
       "      <td>-3.426139</td>\n",
       "      <td>-7.794274</td>\n",
       "      <td>-0.003299</td>\n",
       "      <td>3.179103</td>\n",
       "    </tr>\n",
       "  </tbody>\n",
       "</table>\n",
       "</div>"
      ],
      "text/plain": [
       "              f0         f1        f2     product\n",
       "id                                               \n",
       "QywKC   9.535637  -6.878139  1.998296   53.906522\n",
       "ptvty -10.160631 -12.558096  5.005581  137.945408\n",
       "09gWa  -7.378891  -3.084104  4.998651  137.945408\n",
       "rqwUm   0.665714  -6.152593  1.000146   30.132364\n",
       "relB0  -3.426139  -7.794274 -0.003299    3.179103"
      ]
     },
     "metadata": {},
     "output_type": "display_data"
    },
    {
     "data": {
      "text/html": [
       "<div>\n",
       "<style scoped>\n",
       "    .dataframe tbody tr th:only-of-type {\n",
       "        vertical-align: middle;\n",
       "    }\n",
       "\n",
       "    .dataframe tbody tr th {\n",
       "        vertical-align: top;\n",
       "    }\n",
       "\n",
       "    .dataframe thead th {\n",
       "        text-align: right;\n",
       "    }\n",
       "</style>\n",
       "<table border=\"1\" class=\"dataframe\">\n",
       "  <thead>\n",
       "    <tr style=\"text-align: right;\">\n",
       "      <th></th>\n",
       "      <th>f0</th>\n",
       "      <th>f1</th>\n",
       "      <th>f2</th>\n",
       "      <th>product</th>\n",
       "    </tr>\n",
       "  </thead>\n",
       "  <tbody>\n",
       "    <tr>\n",
       "      <th>count</th>\n",
       "      <td>100000.000000</td>\n",
       "      <td>100000.000000</td>\n",
       "      <td>100000.000000</td>\n",
       "      <td>100000.000000</td>\n",
       "    </tr>\n",
       "    <tr>\n",
       "      <th>mean</th>\n",
       "      <td>1.141296</td>\n",
       "      <td>-4.796579</td>\n",
       "      <td>2.494541</td>\n",
       "      <td>68.825000</td>\n",
       "    </tr>\n",
       "    <tr>\n",
       "      <th>std</th>\n",
       "      <td>8.965932</td>\n",
       "      <td>5.119872</td>\n",
       "      <td>1.703572</td>\n",
       "      <td>45.944423</td>\n",
       "    </tr>\n",
       "    <tr>\n",
       "      <th>min</th>\n",
       "      <td>-31.609576</td>\n",
       "      <td>-26.358598</td>\n",
       "      <td>-0.018144</td>\n",
       "      <td>0.000000</td>\n",
       "    </tr>\n",
       "    <tr>\n",
       "      <th>25%</th>\n",
       "      <td>-6.298551</td>\n",
       "      <td>-8.267985</td>\n",
       "      <td>1.000021</td>\n",
       "      <td>26.953261</td>\n",
       "    </tr>\n",
       "    <tr>\n",
       "      <th>50%</th>\n",
       "      <td>1.153055</td>\n",
       "      <td>-4.813172</td>\n",
       "      <td>2.011479</td>\n",
       "      <td>57.085625</td>\n",
       "    </tr>\n",
       "    <tr>\n",
       "      <th>75%</th>\n",
       "      <td>8.621015</td>\n",
       "      <td>-1.332816</td>\n",
       "      <td>3.999904</td>\n",
       "      <td>107.813044</td>\n",
       "    </tr>\n",
       "    <tr>\n",
       "      <th>max</th>\n",
       "      <td>29.421755</td>\n",
       "      <td>18.734063</td>\n",
       "      <td>5.019721</td>\n",
       "      <td>137.945408</td>\n",
       "    </tr>\n",
       "  </tbody>\n",
       "</table>\n",
       "</div>"
      ],
      "text/plain": [
       "                  f0             f1             f2        product\n",
       "count  100000.000000  100000.000000  100000.000000  100000.000000\n",
       "mean        1.141296      -4.796579       2.494541      68.825000\n",
       "std         8.965932       5.119872       1.703572      45.944423\n",
       "min       -31.609576     -26.358598      -0.018144       0.000000\n",
       "25%        -6.298551      -8.267985       1.000021      26.953261\n",
       "50%         1.153055      -4.813172       2.011479      57.085625\n",
       "75%         8.621015      -1.332816       3.999904     107.813044\n",
       "max        29.421755      18.734063       5.019721     137.945408"
      ]
     },
     "metadata": {},
     "output_type": "display_data"
    },
    {
     "name": "stdout",
     "output_type": "stream",
     "text": [
      "Пропусков в датафрейме:  f0         0\n",
      "f1         0\n",
      "f2         0\n",
      "product    0\n",
      "dtype: int64\n",
      "\n",
      "Количество явных дубликатов в датафрейме: 0\n"
     ]
    }
   ],
   "source": [
    "data_info(geo_data1)"
   ]
  },
  {
   "cell_type": "code",
   "execution_count": 6,
   "metadata": {
    "scrolled": true
   },
   "outputs": [
    {
     "name": "stdout",
     "output_type": "stream",
     "text": [
      "<class 'pandas.core.frame.DataFrame'>\n",
      "Index: 100000 entries, fwXo0 to V9kWn\n",
      "Data columns (total 4 columns):\n",
      " #   Column   Non-Null Count   Dtype  \n",
      "---  ------   --------------   -----  \n",
      " 0   f0       100000 non-null  float64\n",
      " 1   f1       100000 non-null  float64\n",
      " 2   f2       100000 non-null  float64\n",
      " 3   product  100000 non-null  float64\n",
      "dtypes: float64(4)\n",
      "memory usage: 3.8+ MB\n",
      "None\n"
     ]
    },
    {
     "data": {
      "text/html": [
       "<div>\n",
       "<style scoped>\n",
       "    .dataframe tbody tr th:only-of-type {\n",
       "        vertical-align: middle;\n",
       "    }\n",
       "\n",
       "    .dataframe tbody tr th {\n",
       "        vertical-align: top;\n",
       "    }\n",
       "\n",
       "    .dataframe thead th {\n",
       "        text-align: right;\n",
       "    }\n",
       "</style>\n",
       "<table border=\"1\" class=\"dataframe\">\n",
       "  <thead>\n",
       "    <tr style=\"text-align: right;\">\n",
       "      <th></th>\n",
       "      <th>f0</th>\n",
       "      <th>f1</th>\n",
       "      <th>f2</th>\n",
       "      <th>product</th>\n",
       "    </tr>\n",
       "    <tr>\n",
       "      <th>id</th>\n",
       "      <th></th>\n",
       "      <th></th>\n",
       "      <th></th>\n",
       "      <th></th>\n",
       "    </tr>\n",
       "  </thead>\n",
       "  <tbody>\n",
       "    <tr>\n",
       "      <th>fwXo0</th>\n",
       "      <td>-1.146987</td>\n",
       "      <td>0.963328</td>\n",
       "      <td>-0.828965</td>\n",
       "      <td>27.758673</td>\n",
       "    </tr>\n",
       "    <tr>\n",
       "      <th>WJtFt</th>\n",
       "      <td>0.262778</td>\n",
       "      <td>0.269839</td>\n",
       "      <td>-2.530187</td>\n",
       "      <td>56.069697</td>\n",
       "    </tr>\n",
       "    <tr>\n",
       "      <th>ovLUW</th>\n",
       "      <td>0.194587</td>\n",
       "      <td>0.289035</td>\n",
       "      <td>-5.586433</td>\n",
       "      <td>62.871910</td>\n",
       "    </tr>\n",
       "    <tr>\n",
       "      <th>q6cA6</th>\n",
       "      <td>2.236060</td>\n",
       "      <td>-0.553760</td>\n",
       "      <td>0.930038</td>\n",
       "      <td>114.572842</td>\n",
       "    </tr>\n",
       "    <tr>\n",
       "      <th>WPMUX</th>\n",
       "      <td>-0.515993</td>\n",
       "      <td>1.716266</td>\n",
       "      <td>5.899011</td>\n",
       "      <td>149.600746</td>\n",
       "    </tr>\n",
       "  </tbody>\n",
       "</table>\n",
       "</div>"
      ],
      "text/plain": [
       "             f0        f1        f2     product\n",
       "id                                             \n",
       "fwXo0 -1.146987  0.963328 -0.828965   27.758673\n",
       "WJtFt  0.262778  0.269839 -2.530187   56.069697\n",
       "ovLUW  0.194587  0.289035 -5.586433   62.871910\n",
       "q6cA6  2.236060 -0.553760  0.930038  114.572842\n",
       "WPMUX -0.515993  1.716266  5.899011  149.600746"
      ]
     },
     "metadata": {},
     "output_type": "display_data"
    },
    {
     "data": {
      "text/html": [
       "<div>\n",
       "<style scoped>\n",
       "    .dataframe tbody tr th:only-of-type {\n",
       "        vertical-align: middle;\n",
       "    }\n",
       "\n",
       "    .dataframe tbody tr th {\n",
       "        vertical-align: top;\n",
       "    }\n",
       "\n",
       "    .dataframe thead th {\n",
       "        text-align: right;\n",
       "    }\n",
       "</style>\n",
       "<table border=\"1\" class=\"dataframe\">\n",
       "  <thead>\n",
       "    <tr style=\"text-align: right;\">\n",
       "      <th></th>\n",
       "      <th>f0</th>\n",
       "      <th>f1</th>\n",
       "      <th>f2</th>\n",
       "      <th>product</th>\n",
       "    </tr>\n",
       "    <tr>\n",
       "      <th>id</th>\n",
       "      <th></th>\n",
       "      <th></th>\n",
       "      <th></th>\n",
       "      <th></th>\n",
       "    </tr>\n",
       "  </thead>\n",
       "  <tbody>\n",
       "    <tr>\n",
       "      <th>4GxBu</th>\n",
       "      <td>-1.777037</td>\n",
       "      <td>1.125220</td>\n",
       "      <td>6.263374</td>\n",
       "      <td>172.327046</td>\n",
       "    </tr>\n",
       "    <tr>\n",
       "      <th>YKFjq</th>\n",
       "      <td>-1.261523</td>\n",
       "      <td>-0.894828</td>\n",
       "      <td>2.524545</td>\n",
       "      <td>138.748846</td>\n",
       "    </tr>\n",
       "    <tr>\n",
       "      <th>tKPY3</th>\n",
       "      <td>-1.199934</td>\n",
       "      <td>-2.957637</td>\n",
       "      <td>5.219411</td>\n",
       "      <td>157.080080</td>\n",
       "    </tr>\n",
       "    <tr>\n",
       "      <th>nmxp2</th>\n",
       "      <td>-2.419896</td>\n",
       "      <td>2.417221</td>\n",
       "      <td>-5.548444</td>\n",
       "      <td>51.795253</td>\n",
       "    </tr>\n",
       "    <tr>\n",
       "      <th>V9kWn</th>\n",
       "      <td>-2.551421</td>\n",
       "      <td>-2.025625</td>\n",
       "      <td>6.090891</td>\n",
       "      <td>102.775767</td>\n",
       "    </tr>\n",
       "  </tbody>\n",
       "</table>\n",
       "</div>"
      ],
      "text/plain": [
       "             f0        f1        f2     product\n",
       "id                                             \n",
       "4GxBu -1.777037  1.125220  6.263374  172.327046\n",
       "YKFjq -1.261523 -0.894828  2.524545  138.748846\n",
       "tKPY3 -1.199934 -2.957637  5.219411  157.080080\n",
       "nmxp2 -2.419896  2.417221 -5.548444   51.795253\n",
       "V9kWn -2.551421 -2.025625  6.090891  102.775767"
      ]
     },
     "metadata": {},
     "output_type": "display_data"
    },
    {
     "data": {
      "text/html": [
       "<div>\n",
       "<style scoped>\n",
       "    .dataframe tbody tr th:only-of-type {\n",
       "        vertical-align: middle;\n",
       "    }\n",
       "\n",
       "    .dataframe tbody tr th {\n",
       "        vertical-align: top;\n",
       "    }\n",
       "\n",
       "    .dataframe thead th {\n",
       "        text-align: right;\n",
       "    }\n",
       "</style>\n",
       "<table border=\"1\" class=\"dataframe\">\n",
       "  <thead>\n",
       "    <tr style=\"text-align: right;\">\n",
       "      <th></th>\n",
       "      <th>f0</th>\n",
       "      <th>f1</th>\n",
       "      <th>f2</th>\n",
       "      <th>product</th>\n",
       "    </tr>\n",
       "  </thead>\n",
       "  <tbody>\n",
       "    <tr>\n",
       "      <th>count</th>\n",
       "      <td>100000.000000</td>\n",
       "      <td>100000.000000</td>\n",
       "      <td>100000.000000</td>\n",
       "      <td>100000.000000</td>\n",
       "    </tr>\n",
       "    <tr>\n",
       "      <th>mean</th>\n",
       "      <td>0.002023</td>\n",
       "      <td>-0.002081</td>\n",
       "      <td>2.495128</td>\n",
       "      <td>95.000000</td>\n",
       "    </tr>\n",
       "    <tr>\n",
       "      <th>std</th>\n",
       "      <td>1.732045</td>\n",
       "      <td>1.730417</td>\n",
       "      <td>3.473445</td>\n",
       "      <td>44.749921</td>\n",
       "    </tr>\n",
       "    <tr>\n",
       "      <th>min</th>\n",
       "      <td>-8.760004</td>\n",
       "      <td>-7.084020</td>\n",
       "      <td>-11.970335</td>\n",
       "      <td>0.000000</td>\n",
       "    </tr>\n",
       "    <tr>\n",
       "      <th>25%</th>\n",
       "      <td>-1.162288</td>\n",
       "      <td>-1.174820</td>\n",
       "      <td>0.130359</td>\n",
       "      <td>59.450441</td>\n",
       "    </tr>\n",
       "    <tr>\n",
       "      <th>50%</th>\n",
       "      <td>0.009424</td>\n",
       "      <td>-0.009482</td>\n",
       "      <td>2.484236</td>\n",
       "      <td>94.925613</td>\n",
       "    </tr>\n",
       "    <tr>\n",
       "      <th>75%</th>\n",
       "      <td>1.158535</td>\n",
       "      <td>1.163678</td>\n",
       "      <td>4.858794</td>\n",
       "      <td>130.595027</td>\n",
       "    </tr>\n",
       "    <tr>\n",
       "      <th>max</th>\n",
       "      <td>7.238262</td>\n",
       "      <td>7.844801</td>\n",
       "      <td>16.739402</td>\n",
       "      <td>190.029838</td>\n",
       "    </tr>\n",
       "  </tbody>\n",
       "</table>\n",
       "</div>"
      ],
      "text/plain": [
       "                  f0             f1             f2        product\n",
       "count  100000.000000  100000.000000  100000.000000  100000.000000\n",
       "mean        0.002023      -0.002081       2.495128      95.000000\n",
       "std         1.732045       1.730417       3.473445      44.749921\n",
       "min        -8.760004      -7.084020     -11.970335       0.000000\n",
       "25%        -1.162288      -1.174820       0.130359      59.450441\n",
       "50%         0.009424      -0.009482       2.484236      94.925613\n",
       "75%         1.158535       1.163678       4.858794     130.595027\n",
       "max         7.238262       7.844801      16.739402     190.029838"
      ]
     },
     "metadata": {},
     "output_type": "display_data"
    },
    {
     "name": "stdout",
     "output_type": "stream",
     "text": [
      "Пропусков в датафрейме:  f0         0\n",
      "f1         0\n",
      "f2         0\n",
      "product    0\n",
      "dtype: int64\n",
      "\n",
      "Количество явных дубликатов в датафрейме: 0\n"
     ]
    }
   ],
   "source": [
    "data_info(geo_data2)"
   ]
  },
  {
   "cell_type": "markdown",
   "metadata": {},
   "source": [
    "#### Промежуточный вывод по полученным данным:\n",
    "\n",
    "geo_data0:\n",
    "* пропусков и дубликатов нет, данные выглядят нормально\n",
    "\n",
    "geo_data1:\n",
    "* пропусков и дубликатов нет, данные выглядят нормально\n",
    "\n",
    "geo_data2:\n",
    "* пропусков и дубликатов нет, данные выглядят нормально"
   ]
  },
  {
   "cell_type": "markdown",
   "metadata": {},
   "source": [
    "### Исследовательский анализ данных\n",
    "\n",
    "Проведем анализ количественных признаков на предмет аномалий."
   ]
  },
  {
   "cell_type": "code",
   "execution_count": 7,
   "metadata": {
    "scrolled": true
   },
   "outputs": [
    {
     "data": {
      "image/png": "[encoded data removed]",
      "text/plain": [
       "<Figure size 1440x1080 with 12 Axes>"
      ]
     },
     "metadata": {
      "needs_background": "light"
     },
     "output_type": "display_data"
    }
   ],
   "source": [
    "num_col_train=['f0', 'f1', 'f2', 'product']\n",
    "\n",
    "datasets = [geo_data0, geo_data1, geo_data2]\n",
    "dataset_names = ['geo_data0', 'geo_data1', 'geo_data2']\n",
    "colors = ['blue', 'green', 'red']  # Можно задать разные цвета для каждого набора\n",
    "\n",
    "plt.figure(figsize=(20, 15))\n",
    "for i, col in enumerate(num_col_train, 1):\n",
    "    for j, (data, name) in enumerate(zip(datasets, dataset_names), 1):\n",
    "        plt.subplot(len(datasets), len(num_col_train), (j-1)*len(num_col_train)+i)\n",
    "        sns.histplot(data[col], kde=True, bins=50)\n",
    "        plt.title(f'{name} - {col}')\n",
    "plt.tight_layout()\n",
    "plt.show()"
   ]
  },
  {
   "cell_type": "code",
   "execution_count": 8,
   "metadata": {
    "scrolled": true
   },
   "outputs": [
    {
     "data": {
      "image/png": "[encoded data removed]",
      "text/plain": [
       "<Figure size 1440x1080 with 12 Axes>"
      ]
     },
     "metadata": {
      "needs_background": "light"
     },
     "output_type": "display_data"
    }
   ],
   "source": [
    "# также построим боксплот\n",
    "plt.figure(figsize=(20, 15))\n",
    "for i, col in enumerate(num_col_train, 1):\n",
    "    for j, (data, name) in enumerate(zip(datasets, dataset_names), 1):\n",
    "        plt.subplot(len(datasets), len(num_col_train), (j-1)*len(num_col_train) + i)\n",
    "        sns.boxplot(y=data[col])\n",
    "        plt.title(f'{name} - {col}')\n",
    "plt.tight_layout()\n",
    "plt.show()"
   ]
  },
  {
   "cell_type": "markdown",
   "metadata": {},
   "source": [
    "### Промежуточный вывод по признакам\n",
    "\n",
    "Видимых аномалий нет. Данные выглядят нормально.\n",
    "\n",
    "Также посмотрим, есть ли корелляция между признаками."
   ]
  },
  {
   "cell_type": "code",
   "execution_count": 9,
   "metadata": {},
   "outputs": [
    {
     "name": "stdout",
     "output_type": "stream",
     "text": [
      "interval columns not set, guessing: ['f0', 'f1', 'f2', 'product']\n",
      "interval columns not set, guessing: ['f0', 'f1', 'f2', 'product']\n",
      "interval columns not set, guessing: ['f0', 'f1', 'f2', 'product']\n"
     ]
    },
    {
     "data": {
      "image/png": "[encoded data removed]",
      "text/plain": [
       "<Figure size 1440x360 with 6 Axes>"
      ]
     },
     "metadata": {
      "needs_background": "light"
     },
     "output_type": "display_data"
    }
   ],
   "source": [
    "plt.figure(figsize=(20, 5))\n",
    "for i, (data, name) in enumerate(zip(datasets, dataset_names), 1):\n",
    "    plt.subplot(1, 3, i)\n",
    "    phik_corr = data.phik_matrix()\n",
    "    sns.heatmap(phik_corr, annot=True, cmap='coolwarm', fmt='.2f', vmin=0, vmax=1)\n",
    "    plt.title(f'Phi-k матрица ({name})')\n",
    "plt.tight_layout()\n",
    "plt.show()"
   ]
  },
  {
   "cell_type": "markdown",
   "metadata": {},
   "source": [
    "В файле geo_data1 входной признак f2 и целевой product слишком сильно кореллируют между собой. Пока оставим его и посмотрим, отразится ли это на результате."
   ]
  },
  {
   "cell_type": "code",
   "execution_count": 10,
   "metadata": {},
   "outputs": [],
   "source": [
    "# чтобы не переписывать переменные во всей остальной работе, сделаю так\n",
    "# плюс, если данные окажутся хуже, то можно будет быстро все вернуть назад\n",
    "geo_data1_droped = geo_data1\n",
    "# geo_data1_droped = geo_data1.drop(['f2'], axis = 1)"
   ]
  },
  {
   "cell_type": "markdown",
   "metadata": {},
   "source": [
    "### Промежуточный вывод по загрузке данных\n",
    "\n",
    "Пропусков в данных нет, типы столбцов выставлены корректно, дубликатов нет, аномальных значений не обнаружено. Также исследованы кореллирующие признаки."
   ]
  },
  {
   "cell_type": "markdown",
   "metadata": {},
   "source": [
    "## Обучение и проверка модели"
   ]
  },
  {
   "cell_type": "code",
   "execution_count": 11,
   "metadata": {},
   "outputs": [
    {
     "name": "stdout",
     "output_type": "stream",
     "text": [
      "Регион: geo_data0\n",
      "Средний запас предсказанного сырья: 92.40\n",
      "Средний реальный запас: 92.33 единиц\n",
      "RMSE: 37.76\n",
      "\n",
      "Регион: geo_data1_droped\n",
      "Средний запас предсказанного сырья: 68.71\n",
      "Средний реальный запас: 68.73 единиц\n",
      "RMSE: 0.89\n",
      "\n",
      "Регион: geo_data2\n",
      "Средний запас предсказанного сырья: 94.77\n",
      "Средний реальный запас: 95.15 единиц\n",
      "RMSE: 40.15\n",
      "\n"
     ]
    }
   ],
   "source": [
    "# создадим списки с исходными данными\n",
    "names_list = ['geo_data0', 'geo_data1_droped', 'geo_data2']\n",
    "frames_list = [geo_data0, geo_data1_droped, geo_data2]\n",
    "results = {}\n",
    "\n",
    "for name, frame in zip(names_list, frames_list):\n",
    "    # Разделение на обучающую и валидационную выборки\n",
    "    X_train, X_valid, y_train, y_valid = train_test_split(\n",
    "        frame.drop(\"product\", axis=1),\n",
    "        frame[\"product\"],\n",
    "        test_size=0.25,\n",
    "        random_state=42\n",
    "    )\n",
    "    \n",
    "    # Обучение модели\n",
    "    model = Pipeline([\n",
    "        (\"scaler\", StandardScaler()),\n",
    "        (\"lr\", LinearRegression())\n",
    "    ]).fit(X_train, y_train)\n",
    "    \n",
    "    # Предсказание на валидационной выборке\n",
    "    y_pred = model.predict(X_valid)\n",
    "    \n",
    "    # Расчёт RMSE\n",
    "    rmse = mean_squared_error(y_valid, y_pred) ** 0.5\n",
    "    \n",
    "    # Сохранение результатов\n",
    "    results[name] = {\n",
    "        \"model\": model,\n",
    "        \"rmse\": rmse,\n",
    "        \"mean_predicted\": y_pred.mean(),\n",
    "        \"true_values\": y_valid,\n",
    "        \"predicted_values\": y_pred\n",
    "    }\n",
    "    \n",
    "    # Вывод информации\n",
    "    print(f\"Регион: {name}\")\n",
    "    print(f\"Средний запас предсказанного сырья: {y_pred.mean():.2f}\")\n",
    "    print(f\"Средний реальный запас: {y_valid.mean():.2f} единиц\")\n",
    "    print(f\"RMSE: {rmse:.2f}\\n\")"
   ]
  },
  {
   "cell_type": "markdown",
   "metadata": {},
   "source": [
    "### Промежуточный вывод по обучению и проверки модели\n",
    "\n",
    "Нулевой регион:\n",
    "* ошибка меньше чем у других(~40%), а средний запас практически такой же как у лидера - второго региона\n",
    "\n",
    "Первый регион:\n",
    "* наименьшие запасы нефти среди других регионов, но ошибка минимальна\n",
    "\n",
    "Второй регион\n",
    "* средний запас по региону высокий, но также высока ошибка(~42%)"
   ]
  },
  {
   "cell_type": "markdown",
   "metadata": {},
   "source": [
    "## Подготовка к расчёту прибыли"
   ]
  },
  {
   "cell_type": "code",
   "execution_count": 12,
   "metadata": {},
   "outputs": [
    {
     "name": "stdout",
     "output_type": "stream",
     "text": [
      "Минимальный объём на скважину для безубыточности: 111.1 тыс. баррелей\n",
      "geo_data0: Средний запас = 92.5 тыс. баррелей | Недостаточно\n",
      "geo_data1_droped: Средний запас = 68.8 тыс. баррелей | Недостаточно\n",
      "geo_data2: Средний запас = 95.0 тыс. баррелей | Недостаточно\n"
     ]
    }
   ],
   "source": [
    "min_volume_per_well = WELL_COST /INCOME_PER_UNIT\n",
    "print(f\"Минимальный объём на скважину для безубыточности: {min_volume_per_well:.1f} тыс. баррелей\")\n",
    "\n",
    "for name in names_list:\n",
    "    mean_product = frames_list[names_list.index(name)][\"product\"].mean()\n",
    "    print(f\"{name}: Средний запас = {mean_product:.1f} тыс. баррелей | {'Достаточно' if mean_product >= min_volume_per_well else 'Недостаточно'}\")"
   ]
  },
  {
   "cell_type": "markdown",
   "metadata": {},
   "source": [
    "Ни один регион по средним запасам не подходит, посмотрим распределение значений."
   ]
  },
  {
   "cell_type": "markdown",
   "metadata": {},
   "source": [
    "В каждом регионе есть скважины со значениями больше значения безубыточности. Попробуем найти их долю."
   ]
  },
  {
   "cell_type": "code",
   "execution_count": 13,
   "metadata": {
    "scrolled": true
   },
   "outputs": [
    {
     "name": "stdout",
     "output_type": "stream",
     "text": [
      "\n",
      "Регион: geo_data0\n",
      "Точка безубыточности: 111.11 единиц\n",
      "Скважин с запасом > точки безубыточности: 5258 из 25000 (21.0%)\n"
     ]
    },
    {
     "data": {
      "image/png": "[encoded data removed]",
      "text/plain": [
       "<Figure size 720x288 with 1 Axes>"
      ]
     },
     "metadata": {
      "needs_background": "light"
     },
     "output_type": "display_data"
    },
    {
     "name": "stdout",
     "output_type": "stream",
     "text": [
      "\n",
      "Регион: geo_data1_droped\n",
      "Точка безубыточности: 111.11 единиц\n",
      "Скважин с запасом > точки безубыточности: 4520 из 25000 (18.1%)\n"
     ]
    },
    {
     "data": {
      "image/png": "[encoded data removed]",
      "text/plain": [
       "<Figure size 720x288 with 1 Axes>"
      ]
     },
     "metadata": {
      "needs_background": "light"
     },
     "output_type": "display_data"
    },
    {
     "name": "stdout",
     "output_type": "stream",
     "text": [
      "\n",
      "Регион: geo_data2\n",
      "Точка безубыточности: 111.11 единиц\n",
      "Скважин с запасом > точки безубыточности: 5239 из 25000 (21.0%)\n"
     ]
    },
    {
     "data": {
      "image/png": "[encoded data removed]",
      "text/plain": [
       "<Figure size 720x288 with 1 Axes>"
      ]
     },
     "metadata": {
      "needs_background": "light"
     },
     "output_type": "display_data"
    }
   ],
   "source": [
    "for name in results:\n",
    "    predicted = results[name][\"predicted_values\"]\n",
    "    true_values = results[name][\"true_values\"]\n",
    "    \n",
    "    # Скважины с предсказанным запасом > точки безубыточности\n",
    "    profitable_wells_mask = predicted > min_volume_per_well\n",
    "    n_profitable = profitable_wells_mask.sum()\n",
    "    proportion = n_profitable / len(predicted)\n",
    "    \n",
    "    print(f\"\\nРегион: {name}\")\n",
    "    print(f\"Точка безубыточности: {min_volume_per_well:.2f} единиц\")\n",
    "    print(f\"Скважин с запасом > точки безубыточности: {n_profitable} из {len(predicted)} ({proportion:.1%})\")\n",
    "    \n",
    "    # Визуализация распределения предсказанных запасов\n",
    "    plt.figure(figsize=(10, 4))\n",
    "    plt.hist(predicted, bins=50, alpha=0.7, label=\"Все скважины\")\n",
    "    plt.axvline(min_volume_per_well, color='red', linestyle='--', label=\"Точка безубыточности\")\n",
    "    plt.title(f\"Распределение предсказанных запасов ({name})\")\n",
    "    plt.xlabel(\"Предсказанный объём нефти\")\n",
    "    plt.ylabel(\"Количество скважин\")\n",
    "    plt.legend()\n",
    "    plt.show()"
   ]
  },
  {
   "cell_type": "markdown",
   "metadata": {},
   "source": [
    "### Промежуточный вывод по подготовке к расчету прибыли\n",
    "\n",
    "Мы выяснили минимальное количество нефти для безубыточной разработки: 111 тысяч баррелей.\n",
    "Также было выяснено, что, в среднем, ни один регион не подходит. Во время анализа полученных данных было выяснено, что 21% скважин в нулевом и втором регионах проходят данный порог. В первом регионе скважин с безубыточным запасом 18%"
   ]
  },
  {
   "cell_type": "markdown",
   "metadata": {},
   "source": [
    "## Расчёт прибыли и рисков "
   ]
  },
  {
   "cell_type": "code",
   "execution_count": 14,
   "metadata": {},
   "outputs": [],
   "source": [
    "#сначала напишем функцию для рассчета прибыли\n",
    "def calculate_profit(predictions, true_values, n_selected=SELECTED_POINTS, \n",
    "                    well_cost=WELL_COST, income_per_unit=INCOME_PER_UNIT):\n",
    "    #Расчет прибыли с учетом единиц измерения в тыс. баррелей\n",
    "    if isinstance(predictions, pd.Series):\n",
    "        top_indices = predictions.sort_values(ascending=False).head(n_selected).index\n",
    "        selected_true = true_values.loc[top_indices]\n",
    "    else:\n",
    "        top_indices = np.argsort(predictions)[-n_selected:]\n",
    "        selected_true = true_values[top_indices]\n",
    "    \n",
    "    total_revenue = np.sum(selected_true) * income_per_unit  # тыс.руб\n",
    "    total_cost = well_cost * n_selected  # тыс.руб\n",
    "    return total_revenue - total_cost, selected_true"
   ]
  },
  {
   "cell_type": "code",
   "execution_count": 15,
   "metadata": {},
   "outputs": [],
   "source": [
    "# функция для Bootstrap\n",
    "def bootstrap_profit_analysis(predictions, true_values, n_bootstrap=1000, sample_size=500):\n",
    "    \"\"\"Bootstrap-анализ с правильными единицами измерения\"\"\"\n",
    "    profit_samples = []\n",
    "    \n",
    "    for _ in range(n_bootstrap):\n",
    "        # Сэмплируем 500 скважин (в тыс. баррелей)\n",
    "        idx = np.random.choice(range(len(predictions)), size=sample_size, replace=True)\n",
    "        pred_sample = predictions[idx]\n",
    "        true_sample = true_values.iloc[idx] if hasattr(true_values, 'iloc') else true_values[idx]\n",
    "        \n",
    "        # Выбираем топ-200 из 500\n",
    "        top_indices = np.argsort(pred_sample)[-SELECTED_POINTS:]\n",
    "        selected_true = true_sample[top_indices]\n",
    "        \n",
    "        # Расчет в тыс.руб\n",
    "        total_revenue = np.sum(selected_true) * INCOME_PER_UNIT\n",
    "        total_cost = WELL_COST * SELECTED_POINTS\n",
    "        profit = total_revenue - total_cost\n",
    "        \n",
    "        profit_samples.append(profit)\n",
    "    \n",
    "    profit_samples = np.array(profit_samples)\n",
    "    risk = max(np.mean(profit_samples < 0), 0.001)  # Минимум 0.1%\n",
    "    \n",
    "    return {\n",
    "        \"mean_profit\": np.mean(profit_samples) / 1e3,  # переводим в млн руб\n",
    "        \"confidence_interval\": np.percentile(profit_samples, [2.5, 97.5]) / 1e3,\n",
    "        \"risk_of_loss\": risk\n",
    "    }"
   ]
  },
  {
   "cell_type": "markdown",
   "metadata": {},
   "source": [
    "Применим функции для каждого региона."
   ]
  },
  {
   "cell_type": "code",
   "execution_count": 16,
   "metadata": {
    "scrolled": true
   },
   "outputs": [
    {
     "name": "stdout",
     "output_type": "stream",
     "text": [
      "\n",
      "Регион: geo_data0\n",
      "Средний запас топ-200: 148.43 тыс.баррелей\n",
      "Прибыль: 3359.14 млн руб\n",
      "95% ДИ: [-81.19, 922.74] млн руб\n",
      "Риск убытков: 6.2%\n",
      "\n",
      "Регион: geo_data1_droped\n",
      "Средний запас топ-200: 137.95 тыс.баррелей\n",
      "Прибыль: 2415.09 млн руб\n",
      "95% ДИ: [46.75, 826.71] млн руб\n",
      "Риск убытков: 1.3%\n",
      "\n",
      "Регион: geo_data2\n",
      "Средний запас топ-200: 139.98 тыс.баррелей\n",
      "Прибыль: 2598.57 млн руб\n",
      "95% ДИ: [-143.75, 890.02] млн руб\n",
      "Риск убытков: 8.2%\n"
     ]
    }
   ],
   "source": [
    "# Основной анализ для всех регионов\n",
    "for name in names_list:\n",
    "    predictions = results[name][\"predicted_values\"]\n",
    "    true_values = results[name][\"true_values\"]\n",
    "    \n",
    "    # Точечная оценка прибыли\n",
    "    profit, selected_true = calculate_profit(predictions, true_values)\n",
    "    \n",
    "    # Bootstrap анализ\n",
    "    bootstrap_result = bootstrap_profit_analysis(predictions, true_values)\n",
    "    \n",
    "    print(f\"\\nРегион: {name}\")\n",
    "    print(f\"Средний запас топ-200: {np.mean(selected_true):.2f} тыс.баррелей\")\n",
    "    print(f\"Прибыль: {profit/1e3:.2f} млн руб\") \n",
    "    print(f\"95% ДИ: [{bootstrap_result['confidence_interval'][0]:.2f}, {bootstrap_result['confidence_interval'][1]:.2f}] млн руб\")\n",
    "    print(f\"Риск убытков: {bootstrap_result['risk_of_loss']:.1%}\")"
   ]
  },
  {
   "cell_type": "markdown",
   "metadata": {},
   "source": [
    "# Общий вывод:\n",
    "\n",
    " В ходе работы была проведена комплексная аналитика данных по трём нефтеносным регионам для определения оптимального местоположения бурения новых скважин.\n",
    "\n",
    "### Ключевые этапы и выводы:\n",
    "\n",
    "#### Первичный осмотр и обработка данных:\n",
    " При первичном осмотре, с данными оказалось все нормально, без пропусков и аномальных значений\\выбросов. После был проведен корелляционный анализ, чтобы можно было адекватно обучить модель линейной регрессии. Мультиколлинеарность в сете geo_data1 была удалена.\n",
    " \n",
    "#### Предварительный анализ данных\n",
    "\n",
    "* Для каждого региона построена модель линейной регрессии, предсказывающая объём запасов нефти.\n",
    "\n",
    "Определена точка безубыточности (111.11 единиц нефти на скважину), и выяснено, что:\n",
    "\n",
    "* В первом регионе(geo_data1_droped) есть неубыточные скважины, с долей 18%, хотя их средний запас невелик(68.73ед).\n",
    "\n",
    "- В нулевом(geo_data0) и во втором(geo_data2) также есть скважины с достаточным запасом (их доля 21%).\n",
    "\n",
    "#### Расчёт прибыли и оценка рисков\n",
    "\n",
    "Для каждого региона была применена Bootstrap-симуляция (1000 выборок):\n",
    "\n",
    "* geo_data0:\n",
    "\n",
    "    - Средняя прибыль — 3.36 млрд руб.\n",
    "\n",
    "    - Риск убытков — 6,2%.\n",
    "    \n",
    "* geo_data1:\n",
    "    - Средняя прибыль — 2.42 млрд руб.\n",
    "    \n",
    "    - Риск убытков — 2,1%.\n",
    "    \n",
    "* geo_data2:\n",
    "\n",
    "    - Средняя прибыль — 2.6 млрд руб.\n",
    "\n",
    "    - Риск убытков — 8,1%.\n",
    "\n",
    "#### Рекомендации:\n",
    "* Оптимальный выбор — регион geo_data0, так как он обеспечивает:\n",
    "\n",
    "    - Максимальную прибыль (на 0.76 млрд руб выше, чем geo_data2).\n",
    "\n",
    "    - Умеренный риск убытков, если мы готовы увеличить риски.\n",
    "    \n",
    "* Если требуется, чтобы убытков было *как можно меньше* и возможная потеря 1 миллиарда подходит, то следует выбрать регион geo_data1\n",
    "\n",
    "#### Дополнительные возможности:\n",
    "\n",
    "* Для geo_data1 и geo_data2 провести дополнительный геологический анализ — возможно, есть локальные \"зоны\" с аномально высокими запасами.\n",
    "- Эти регионы также подходят для разработки, но с них получим гораздо меньшую прибыль. Возможно, для диверсификации можно выбрать один из регионов.\n",
    "\n",
    "Резюмирируем: Компании «ГлавРосГосНефть» следует начать разработку в регионе geo_data0 для максимизации прибыли при контролируемых рисках. Но если требуется минимальный риск убытков и допустима меньшая прибыль, то регион geo_data1 - лучший вариант."
   ]
  }
 ],
 "metadata": {
  "ExecuteTimeLog": [
   {
    "duration": 1334,
    "start_time": "2025-03-27T09:57:22.388Z"
   },
   {
    "duration": 398,
    "start_time": "2025-03-27T09:57:23.724Z"
   },
   {
    "duration": 4,
    "start_time": "2025-03-27T09:57:24.124Z"
   },
   {
    "duration": 108,
    "start_time": "2025-03-27T09:59:45.778Z"
   },
   {
    "duration": 99,
    "start_time": "2025-03-27T10:04:09.919Z"
   },
   {
    "duration": 105,
    "start_time": "2025-03-27T10:04:37.188Z"
   },
   {
    "duration": 108,
    "start_time": "2025-03-27T10:10:17.856Z"
   },
   {
    "duration": 4,
    "start_time": "2025-03-27T10:10:21.578Z"
   },
   {
    "duration": 1487,
    "start_time": "2025-04-03T12:01:00.686Z"
   },
   {
    "duration": 449,
    "start_time": "2025-04-03T12:01:02.175Z"
   },
   {
    "duration": 8,
    "start_time": "2025-04-03T12:01:07.864Z"
   },
   {
    "duration": 137,
    "start_time": "2025-04-03T12:01:08.627Z"
   },
   {
    "duration": 568,
    "start_time": "2025-04-03T12:01:57.050Z"
   },
   {
    "duration": 95,
    "start_time": "2025-04-03T12:01:59.120Z"
   },
   {
    "duration": 95,
    "start_time": "2025-04-03T12:02:10.082Z"
   },
   {
    "duration": 92,
    "start_time": "2025-04-03T12:02:11.396Z"
   },
   {
    "duration": 3128,
    "start_time": "2025-04-03T12:03:40.079Z"
   },
   {
    "duration": 569,
    "start_time": "2025-04-03T12:10:14.893Z"
   },
   {
    "duration": 6710,
    "start_time": "2025-04-03T12:11:02.163Z"
   },
   {
    "duration": 2967,
    "start_time": "2025-04-03T12:11:17.828Z"
   },
   {
    "duration": 8180,
    "start_time": "2025-04-03T12:14:52.889Z"
   },
   {
    "duration": 9985,
    "start_time": "2025-04-03T12:15:25.845Z"
   },
   {
    "duration": 10279,
    "start_time": "2025-04-03T12:18:27.068Z"
   },
   {
    "duration": 1819,
    "start_time": "2025-04-03T12:20:54.295Z"
   },
   {
    "duration": 4751,
    "start_time": "2025-04-03T12:21:25.001Z"
   },
   {
    "duration": 1268,
    "start_time": "2025-04-03T12:25:41.256Z"
   },
   {
    "duration": 532,
    "start_time": "2025-04-03T12:25:42.526Z"
   },
   {
    "duration": 15,
    "start_time": "2025-04-03T12:25:43.060Z"
   },
   {
    "duration": 119,
    "start_time": "2025-04-03T12:25:43.077Z"
   },
   {
    "duration": 102,
    "start_time": "2025-04-03T12:25:43.198Z"
   },
   {
    "duration": 110,
    "start_time": "2025-04-03T12:25:43.302Z"
   },
   {
    "duration": 10345,
    "start_time": "2025-04-03T12:25:43.414Z"
   },
   {
    "duration": 1593,
    "start_time": "2025-04-03T12:25:53.761Z"
   },
   {
    "duration": 5523,
    "start_time": "2025-04-03T12:39:08.511Z"
   },
   {
    "duration": 1311,
    "start_time": "2025-04-03T13:39:01.881Z"
   },
   {
    "duration": 501,
    "start_time": "2025-04-03T13:39:03.194Z"
   },
   {
    "duration": 3,
    "start_time": "2025-04-03T13:39:03.697Z"
   },
   {
    "duration": 113,
    "start_time": "2025-04-03T13:39:03.702Z"
   },
   {
    "duration": 104,
    "start_time": "2025-04-03T13:39:03.817Z"
   },
   {
    "duration": 110,
    "start_time": "2025-04-03T13:39:03.923Z"
   },
   {
    "duration": 9680,
    "start_time": "2025-04-03T13:39:04.035Z"
   },
   {
    "duration": 1570,
    "start_time": "2025-04-03T13:39:13.717Z"
   },
   {
    "duration": 712,
    "start_time": "2025-04-03T13:39:15.288Z"
   },
   {
    "duration": 2108,
    "start_time": "2025-04-03T13:41:01.173Z"
   },
   {
    "duration": 1900,
    "start_time": "2025-04-03T13:41:29.477Z"
   },
   {
    "duration": 2053,
    "start_time": "2025-04-03T13:41:45.839Z"
   },
   {
    "duration": 2000,
    "start_time": "2025-04-03T13:41:56.282Z"
   },
   {
    "duration": 5,
    "start_time": "2025-04-03T16:01:54.519Z"
   },
   {
    "duration": 4571,
    "start_time": "2025-04-04T09:58:03.247Z"
   },
   {
    "duration": 1154,
    "start_time": "2025-04-04T09:58:25.467Z"
   },
   {
    "duration": 443,
    "start_time": "2025-04-04T09:58:30.515Z"
   },
   {
    "duration": 4,
    "start_time": "2025-04-04T09:58:31.178Z"
   },
   {
    "duration": 82,
    "start_time": "2025-04-04T09:58:31.590Z"
   },
   {
    "duration": 70,
    "start_time": "2025-04-04T09:58:33.389Z"
   },
   {
    "duration": 75,
    "start_time": "2025-04-04T09:58:33.715Z"
   },
   {
    "duration": 8767,
    "start_time": "2025-04-04T09:58:34.928Z"
   },
   {
    "duration": 1358,
    "start_time": "2025-04-04T09:58:43.697Z"
   },
   {
    "duration": 1791,
    "start_time": "2025-04-04T09:58:45.057Z"
   },
   {
    "duration": 4,
    "start_time": "2025-04-04T09:58:46.850Z"
   },
   {
    "duration": 187,
    "start_time": "2025-04-04T10:01:11.612Z"
   },
   {
    "duration": 41,
    "start_time": "2025-04-04T10:15:55.447Z"
   },
   {
    "duration": 115,
    "start_time": "2025-04-04T10:18:03.593Z"
   },
   {
    "duration": 564,
    "start_time": "2025-04-04T10:20:46.353Z"
   },
   {
    "duration": 5,
    "start_time": "2025-04-04T10:20:48.336Z"
   },
   {
    "duration": 4,
    "start_time": "2025-04-04T10:22:29.947Z"
   },
   {
    "duration": 10,
    "start_time": "2025-04-04T10:35:27.353Z"
   },
   {
    "duration": 89,
    "start_time": "2025-04-04T10:35:39.323Z"
   },
   {
    "duration": 61,
    "start_time": "2025-04-04T10:36:35.559Z"
   },
   {
    "duration": 18,
    "start_time": "2025-04-04T10:36:59.479Z"
   },
   {
    "duration": 5,
    "start_time": "2025-04-04T10:37:30.346Z"
   },
   {
    "duration": 82,
    "start_time": "2025-04-04T11:03:47.244Z"
   },
   {
    "duration": 86,
    "start_time": "2025-04-04T11:04:00.663Z"
   },
   {
    "duration": 83,
    "start_time": "2025-04-04T11:04:15.491Z"
   },
   {
    "duration": 10,
    "start_time": "2025-04-04T11:04:50.753Z"
   },
   {
    "duration": 3,
    "start_time": "2025-04-04T11:04:56.869Z"
   },
   {
    "duration": 4,
    "start_time": "2025-04-04T11:04:57.382Z"
   },
   {
    "duration": 10,
    "start_time": "2025-04-04T11:05:18.754Z"
   },
   {
    "duration": 12,
    "start_time": "2025-04-04T11:07:10.893Z"
   },
   {
    "duration": 6,
    "start_time": "2025-04-04T11:07:27.269Z"
   },
   {
    "duration": 36,
    "start_time": "2025-04-04T11:18:19.926Z"
   },
   {
    "duration": 87,
    "start_time": "2025-04-04T11:21:35.060Z"
   },
   {
    "duration": 100,
    "start_time": "2025-04-04T11:21:55.439Z"
   },
   {
    "duration": 9,
    "start_time": "2025-04-04T11:23:49.830Z"
   },
   {
    "duration": 107,
    "start_time": "2025-04-04T11:24:32.801Z"
   },
   {
    "duration": 289,
    "start_time": "2025-04-04T11:24:42.852Z"
   },
   {
    "duration": 96,
    "start_time": "2025-04-04T11:25:57.659Z"
   },
   {
    "duration": 14,
    "start_time": "2025-04-04T11:34:17.149Z"
   },
   {
    "duration": 16,
    "start_time": "2025-04-04T11:34:24.203Z"
   },
   {
    "duration": 13,
    "start_time": "2025-04-04T11:34:29.233Z"
   },
   {
    "duration": 12,
    "start_time": "2025-04-04T11:34:46.884Z"
   },
   {
    "duration": 14,
    "start_time": "2025-04-04T11:35:03.170Z"
   },
   {
    "duration": 13,
    "start_time": "2025-04-04T11:35:14.327Z"
   },
   {
    "duration": 13,
    "start_time": "2025-04-04T11:35:18.878Z"
   },
   {
    "duration": 13,
    "start_time": "2025-04-04T11:35:21.905Z"
   },
   {
    "duration": 13,
    "start_time": "2025-04-04T11:35:29.421Z"
   },
   {
    "duration": 12,
    "start_time": "2025-04-04T11:35:54.624Z"
   },
   {
    "duration": 13,
    "start_time": "2025-04-04T11:36:13.555Z"
   },
   {
    "duration": 12,
    "start_time": "2025-04-04T11:36:41.741Z"
   },
   {
    "duration": 12,
    "start_time": "2025-04-04T11:36:48.313Z"
   },
   {
    "duration": 13,
    "start_time": "2025-04-04T11:37:01.579Z"
   },
   {
    "duration": 12,
    "start_time": "2025-04-04T11:37:15.748Z"
   },
   {
    "duration": 12,
    "start_time": "2025-04-04T11:37:21.108Z"
   },
   {
    "duration": 1518,
    "start_time": "2025-04-04T12:06:50.114Z"
   },
   {
    "duration": 427,
    "start_time": "2025-04-04T12:06:51.633Z"
   },
   {
    "duration": 3,
    "start_time": "2025-04-04T12:06:52.062Z"
   },
   {
    "duration": 97,
    "start_time": "2025-04-04T12:06:52.067Z"
   },
   {
    "duration": 88,
    "start_time": "2025-04-04T12:06:52.167Z"
   },
   {
    "duration": 95,
    "start_time": "2025-04-04T12:06:52.257Z"
   },
   {
    "duration": 8925,
    "start_time": "2025-04-04T12:06:52.354Z"
   },
   {
    "duration": 1535,
    "start_time": "2025-04-04T12:07:01.281Z"
   },
   {
    "duration": 1654,
    "start_time": "2025-04-04T12:07:02.818Z"
   },
   {
    "duration": 5,
    "start_time": "2025-04-04T12:07:04.473Z"
   },
   {
    "duration": 530,
    "start_time": "2025-04-04T12:07:04.479Z"
   },
   {
    "duration": 5,
    "start_time": "2025-04-04T12:07:05.011Z"
   },
   {
    "duration": 102,
    "start_time": "2025-04-04T12:07:05.107Z"
   },
   {
    "duration": 94,
    "start_time": "2025-04-04T12:07:05.213Z"
   },
   {
    "duration": 9,
    "start_time": "2025-04-04T12:07:05.309Z"
   },
   {
    "duration": 188,
    "start_time": "2025-04-04T12:07:05.320Z"
   },
   {
    "duration": 11,
    "start_time": "2025-04-04T12:07:05.510Z"
   },
   {
    "duration": 49,
    "start_time": "2025-04-04T12:08:05.611Z"
   },
   {
    "duration": 1510,
    "start_time": "2025-04-04T12:08:14.258Z"
   },
   {
    "duration": 434,
    "start_time": "2025-04-04T12:08:15.770Z"
   },
   {
    "duration": 4,
    "start_time": "2025-04-04T12:08:16.205Z"
   },
   {
    "duration": 96,
    "start_time": "2025-04-04T12:08:16.211Z"
   },
   {
    "duration": 74,
    "start_time": "2025-04-04T12:08:16.309Z"
   },
   {
    "duration": 95,
    "start_time": "2025-04-04T12:08:16.385Z"
   },
   {
    "duration": 9018,
    "start_time": "2025-04-04T12:08:16.481Z"
   },
   {
    "duration": 1529,
    "start_time": "2025-04-04T12:08:25.501Z"
   },
   {
    "duration": 1664,
    "start_time": "2025-04-04T12:08:27.031Z"
   },
   {
    "duration": 4,
    "start_time": "2025-04-04T12:08:28.696Z"
   },
   {
    "duration": 605,
    "start_time": "2025-04-04T12:08:28.702Z"
   },
   {
    "duration": 3,
    "start_time": "2025-04-04T12:08:29.309Z"
   },
   {
    "duration": 95,
    "start_time": "2025-04-04T12:08:29.314Z"
   },
   {
    "duration": 93,
    "start_time": "2025-04-04T12:08:29.414Z"
   },
   {
    "duration": 14,
    "start_time": "2025-04-04T12:08:29.509Z"
   },
   {
    "duration": 186,
    "start_time": "2025-04-04T12:08:29.525Z"
   },
   {
    "duration": 13,
    "start_time": "2025-04-04T12:08:29.713Z"
   },
   {
    "duration": 1539,
    "start_time": "2025-04-04T13:06:56.287Z"
   },
   {
    "duration": 456,
    "start_time": "2025-04-04T13:06:57.829Z"
   },
   {
    "duration": 4,
    "start_time": "2025-04-04T13:06:58.287Z"
   },
   {
    "duration": 94,
    "start_time": "2025-04-04T13:06:58.293Z"
   },
   {
    "duration": 76,
    "start_time": "2025-04-04T13:06:58.406Z"
   },
   {
    "duration": 123,
    "start_time": "2025-04-04T13:06:58.484Z"
   },
   {
    "duration": 9143,
    "start_time": "2025-04-04T13:06:58.609Z"
   },
   {
    "duration": 1520,
    "start_time": "2025-04-04T13:07:07.754Z"
   },
   {
    "duration": 1699,
    "start_time": "2025-04-04T13:07:09.276Z"
   },
   {
    "duration": 5,
    "start_time": "2025-04-04T13:07:10.977Z"
   },
   {
    "duration": 628,
    "start_time": "2025-04-04T13:07:10.984Z"
   },
   {
    "duration": 5,
    "start_time": "2025-04-04T13:07:11.613Z"
   },
   {
    "duration": 90,
    "start_time": "2025-04-04T13:07:11.619Z"
   },
   {
    "duration": 6,
    "start_time": "2025-04-04T13:07:11.713Z"
   },
   {
    "duration": 119,
    "start_time": "2025-04-04T13:07:11.720Z"
   },
   {
    "duration": 123,
    "start_time": "2025-04-04T13:07:11.841Z"
   },
   {
    "duration": 13,
    "start_time": "2025-04-04T13:07:11.966Z"
   },
   {
    "duration": 1524,
    "start_time": "2025-04-04T13:09:43.388Z"
   },
   {
    "duration": 448,
    "start_time": "2025-04-04T13:09:44.914Z"
   },
   {
    "duration": 4,
    "start_time": "2025-04-04T13:09:45.363Z"
   },
   {
    "duration": 101,
    "start_time": "2025-04-04T13:09:45.368Z"
   },
   {
    "duration": 85,
    "start_time": "2025-04-04T13:09:45.471Z"
   },
   {
    "duration": 96,
    "start_time": "2025-04-04T13:09:45.557Z"
   },
   {
    "duration": 9013,
    "start_time": "2025-04-04T13:09:45.654Z"
   },
   {
    "duration": 1615,
    "start_time": "2025-04-04T13:09:54.669Z"
   },
   {
    "duration": 1733,
    "start_time": "2025-04-04T13:09:56.286Z"
   },
   {
    "duration": 4,
    "start_time": "2025-04-04T13:09:58.020Z"
   },
   {
    "duration": 685,
    "start_time": "2025-04-04T13:09:58.026Z"
   },
   {
    "duration": 4,
    "start_time": "2025-04-04T13:09:58.713Z"
   },
   {
    "duration": 91,
    "start_time": "2025-04-04T13:09:58.718Z"
   },
   {
    "duration": 95,
    "start_time": "2025-04-04T13:09:58.813Z"
   },
   {
    "duration": 99,
    "start_time": "2025-04-04T13:09:58.910Z"
   },
   {
    "duration": 118,
    "start_time": "2025-04-04T13:09:59.011Z"
   },
   {
    "duration": 13,
    "start_time": "2025-04-04T13:09:59.131Z"
   },
   {
    "duration": 9,
    "start_time": "2025-04-04T13:09:59.145Z"
   },
   {
    "duration": 12,
    "start_time": "2025-04-04T13:10:58.553Z"
   },
   {
    "duration": 44,
    "start_time": "2025-04-04T13:10:59.296Z"
   },
   {
    "duration": 1488,
    "start_time": "2025-04-04T13:11:07.207Z"
   },
   {
    "duration": 436,
    "start_time": "2025-04-04T13:11:08.698Z"
   },
   {
    "duration": 4,
    "start_time": "2025-04-04T13:11:09.135Z"
   },
   {
    "duration": 101,
    "start_time": "2025-04-04T13:11:09.141Z"
   },
   {
    "duration": 90,
    "start_time": "2025-04-04T13:11:09.245Z"
   },
   {
    "duration": 105,
    "start_time": "2025-04-04T13:11:09.337Z"
   },
   {
    "duration": 8983,
    "start_time": "2025-04-04T13:11:09.444Z"
   },
   {
    "duration": 1487,
    "start_time": "2025-04-04T13:11:18.430Z"
   },
   {
    "duration": 1652,
    "start_time": "2025-04-04T13:11:19.919Z"
   },
   {
    "duration": 5,
    "start_time": "2025-04-04T13:11:21.573Z"
   },
   {
    "duration": 527,
    "start_time": "2025-04-04T13:11:21.580Z"
   },
   {
    "duration": 5,
    "start_time": "2025-04-04T13:11:22.110Z"
   },
   {
    "duration": 196,
    "start_time": "2025-04-04T13:11:22.116Z"
   },
   {
    "duration": 5,
    "start_time": "2025-04-04T13:11:22.406Z"
   },
   {
    "duration": 103,
    "start_time": "2025-04-04T13:11:22.413Z"
   },
   {
    "duration": 117,
    "start_time": "2025-04-04T13:11:22.519Z"
   },
   {
    "duration": 12,
    "start_time": "2025-04-04T13:11:22.638Z"
   },
   {
    "duration": 5,
    "start_time": "2025-04-04T13:11:22.652Z"
   },
   {
    "duration": 6709,
    "start_time": "2025-04-04T13:11:22.659Z"
   },
   {
    "duration": 4,
    "start_time": "2025-04-04T14:04:25.584Z"
   },
   {
    "duration": 7,
    "start_time": "2025-04-04T14:05:01.446Z"
   },
   {
    "duration": 111,
    "start_time": "2025-04-04T14:05:01.647Z"
   },
   {
    "duration": 11,
    "start_time": "2025-04-04T14:06:02.819Z"
   },
   {
    "duration": 22,
    "start_time": "2025-04-04T14:06:03.228Z"
   },
   {
    "duration": 16,
    "start_time": "2025-04-04T14:07:51.558Z"
   },
   {
    "duration": 14,
    "start_time": "2025-04-04T14:07:59.493Z"
   },
   {
    "duration": 6,
    "start_time": "2025-04-04T14:13:43.537Z"
   },
   {
    "duration": 15,
    "start_time": "2025-04-04T14:13:44.444Z"
   },
   {
    "duration": 24,
    "start_time": "2025-04-04T14:14:20.602Z"
   },
   {
    "duration": 6,
    "start_time": "2025-04-04T14:16:05.901Z"
   },
   {
    "duration": 16,
    "start_time": "2025-04-04T14:16:06.540Z"
   },
   {
    "duration": 5374,
    "start_time": "2025-04-06T10:52:51.547Z"
   },
   {
    "duration": 1458,
    "start_time": "2025-04-06T10:53:11.914Z"
   },
   {
    "duration": 474,
    "start_time": "2025-04-06T10:53:13.374Z"
   },
   {
    "duration": 3,
    "start_time": "2025-04-06T10:53:13.850Z"
   },
   {
    "duration": 96,
    "start_time": "2025-04-06T10:53:13.855Z"
   },
   {
    "duration": 75,
    "start_time": "2025-04-06T10:53:13.957Z"
   },
   {
    "duration": 124,
    "start_time": "2025-04-06T10:53:14.034Z"
   },
   {
    "duration": 9067,
    "start_time": "2025-04-06T10:53:14.159Z"
   },
   {
    "duration": 1578,
    "start_time": "2025-04-06T10:53:23.229Z"
   },
   {
    "duration": 1693,
    "start_time": "2025-04-06T10:53:24.809Z"
   },
   {
    "duration": 5,
    "start_time": "2025-04-06T10:53:26.504Z"
   },
   {
    "duration": 651,
    "start_time": "2025-04-06T10:53:26.511Z"
   },
   {
    "duration": 4,
    "start_time": "2025-04-06T10:53:27.164Z"
   },
   {
    "duration": 192,
    "start_time": "2025-04-06T10:53:27.169Z"
   },
   {
    "duration": 94,
    "start_time": "2025-04-06T10:53:27.365Z"
   },
   {
    "duration": 100,
    "start_time": "2025-04-06T10:53:27.461Z"
   },
   {
    "duration": 122,
    "start_time": "2025-04-06T10:53:27.563Z"
   },
   {
    "duration": 11,
    "start_time": "2025-04-06T10:53:27.686Z"
   },
   {
    "duration": 5,
    "start_time": "2025-04-06T10:53:27.699Z"
   },
   {
    "duration": 6594,
    "start_time": "2025-04-06T10:53:27.705Z"
   },
   {
    "duration": 6,
    "start_time": "2025-04-06T10:53:34.301Z"
   },
   {
    "duration": 123,
    "start_time": "2025-04-06T10:53:34.309Z"
   },
   {
    "duration": 5,
    "start_time": "2025-04-06T10:54:21.635Z"
   },
   {
    "duration": 6,
    "start_time": "2025-04-06T10:55:06.618Z"
   },
   {
    "duration": 9,
    "start_time": "2025-04-06T10:55:32.641Z"
   },
   {
    "duration": 7,
    "start_time": "2025-04-06T11:10:10.330Z"
   },
   {
    "duration": 12,
    "start_time": "2025-04-06T11:17:19.288Z"
   },
   {
    "duration": 416,
    "start_time": "2025-04-06T11:17:27.574Z"
   },
   {
    "duration": 3,
    "start_time": "2025-04-06T11:24:40.506Z"
   },
   {
    "duration": 5,
    "start_time": "2025-04-06T11:25:20.486Z"
   },
   {
    "duration": 5,
    "start_time": "2025-04-06T11:27:56.988Z"
   },
   {
    "duration": 12,
    "start_time": "2025-04-06T11:28:57.391Z"
   },
   {
    "duration": 5,
    "start_time": "2025-04-06T11:39:54.754Z"
   },
   {
    "duration": 92,
    "start_time": "2025-04-06T11:40:00.870Z"
   },
   {
    "duration": 58,
    "start_time": "2025-04-06T11:40:08.704Z"
   },
   {
    "duration": 13,
    "start_time": "2025-04-06T11:40:09.823Z"
   },
   {
    "duration": 5,
    "start_time": "2025-04-06T11:41:19.974Z"
   },
   {
    "duration": 19,
    "start_time": "2025-04-06T11:41:21.915Z"
   },
   {
    "duration": 23,
    "start_time": "2025-04-06T11:41:33.799Z"
   },
   {
    "duration": 19,
    "start_time": "2025-04-06T11:41:34.317Z"
   },
   {
    "duration": 4,
    "start_time": "2025-04-06T11:44:38.511Z"
   },
   {
    "duration": 3,
    "start_time": "2025-04-06T11:45:08.034Z"
   },
   {
    "duration": 5,
    "start_time": "2025-04-06T11:45:08.788Z"
   },
   {
    "duration": 21,
    "start_time": "2025-04-06T11:45:10.970Z"
   },
   {
    "duration": 26,
    "start_time": "2025-04-06T11:45:12.227Z"
   },
   {
    "duration": 1504,
    "start_time": "2025-04-06T11:45:21.746Z"
   },
   {
    "duration": 474,
    "start_time": "2025-04-06T11:45:23.252Z"
   },
   {
    "duration": 4,
    "start_time": "2025-04-06T11:45:23.728Z"
   },
   {
    "duration": 96,
    "start_time": "2025-04-06T11:45:23.733Z"
   },
   {
    "duration": 93,
    "start_time": "2025-04-06T11:45:23.831Z"
   },
   {
    "duration": 100,
    "start_time": "2025-04-06T11:45:23.926Z"
   },
   {
    "duration": 8959,
    "start_time": "2025-04-06T11:45:24.028Z"
   },
   {
    "duration": 1571,
    "start_time": "2025-04-06T11:45:32.989Z"
   },
   {
    "duration": 1706,
    "start_time": "2025-04-06T11:45:34.562Z"
   },
   {
    "duration": 4,
    "start_time": "2025-04-06T11:45:36.270Z"
   },
   {
    "duration": 682,
    "start_time": "2025-04-06T11:45:36.276Z"
   },
   {
    "duration": 4,
    "start_time": "2025-04-06T11:45:36.960Z"
   },
   {
    "duration": 94,
    "start_time": "2025-04-06T11:45:36.966Z"
   },
   {
    "duration": 4,
    "start_time": "2025-04-06T11:45:37.063Z"
   },
   {
    "duration": 93,
    "start_time": "2025-04-06T11:45:37.068Z"
   },
   {
    "duration": 204,
    "start_time": "2025-04-06T11:45:37.164Z"
   },
   {
    "duration": 11,
    "start_time": "2025-04-06T11:45:37.370Z"
   },
   {
    "duration": 76,
    "start_time": "2025-04-06T11:45:37.382Z"
   },
   {
    "duration": 6649,
    "start_time": "2025-04-06T11:45:37.460Z"
   },
   {
    "duration": 3,
    "start_time": "2025-04-06T11:45:44.110Z"
   },
   {
    "duration": 5,
    "start_time": "2025-04-06T11:45:44.115Z"
   },
   {
    "duration": 46,
    "start_time": "2025-04-06T11:45:44.121Z"
   },
   {
    "duration": 229,
    "start_time": "2025-04-06T11:45:44.260Z"
   },
   {
    "duration": 4,
    "start_time": "2025-04-06T11:46:22.759Z"
   },
   {
    "duration": 7534,
    "start_time": "2025-04-06T11:46:28.248Z"
   },
   {
    "duration": 7259,
    "start_time": "2025-04-06T11:47:42.564Z"
   },
   {
    "duration": 1588,
    "start_time": "2025-04-23T15:55:59.321Z"
   },
   {
    "duration": 0,
    "start_time": "2025-04-23T15:56:00.911Z"
   },
   {
    "duration": 0,
    "start_time": "2025-04-23T15:56:00.913Z"
   },
   {
    "duration": 15,
    "start_time": "2025-04-23T15:56:01.185Z"
   },
   {
    "duration": 9,
    "start_time": "2025-04-23T15:56:01.414Z"
   },
   {
    "duration": 9,
    "start_time": "2025-04-23T15:56:01.653Z"
   },
   {
    "duration": 12,
    "start_time": "2025-04-23T15:56:02.243Z"
   },
   {
    "duration": 3846,
    "start_time": "2025-04-23T15:56:13.588Z"
   },
   {
    "duration": 1755,
    "start_time": "2025-04-23T15:56:44.119Z"
   },
   {
    "duration": 500,
    "start_time": "2025-04-23T15:56:48.801Z"
   },
   {
    "duration": 3,
    "start_time": "2025-04-23T15:56:49.872Z"
   },
   {
    "duration": 104,
    "start_time": "2025-04-23T15:56:50.836Z"
   },
   {
    "duration": 88,
    "start_time": "2025-04-23T15:56:51.567Z"
   },
   {
    "duration": 87,
    "start_time": "2025-04-23T15:56:52.206Z"
   },
   {
    "duration": 9967,
    "start_time": "2025-04-23T15:56:57.846Z"
   },
   {
    "duration": 1689,
    "start_time": "2025-04-23T15:57:07.815Z"
   },
   {
    "duration": 1995,
    "start_time": "2025-04-23T15:57:09.506Z"
   },
   {
    "duration": 5,
    "start_time": "2025-04-23T15:57:11.503Z"
   },
   {
    "duration": 130,
    "start_time": "2025-04-23T15:58:27.127Z"
   },
   {
    "duration": 5,
    "start_time": "2025-04-23T15:58:54.746Z"
   },
   {
    "duration": 505,
    "start_time": "2025-04-23T15:59:00.277Z"
   },
   {
    "duration": 4,
    "start_time": "2025-04-23T16:05:24.169Z"
   },
   {
    "duration": 7,
    "start_time": "2025-04-23T16:06:42.093Z"
   },
   {
    "duration": 1216,
    "start_time": "2025-04-23T16:10:45.195Z"
   },
   {
    "duration": 8,
    "start_time": "2025-04-23T16:19:13.672Z"
   },
   {
    "duration": 3,
    "start_time": "2025-04-23T16:20:13.429Z"
   },
   {
    "duration": 4,
    "start_time": "2025-04-23T16:20:40.258Z"
   },
   {
    "duration": 4,
    "start_time": "2025-04-23T16:21:21.715Z"
   },
   {
    "duration": 136,
    "start_time": "2025-04-23T16:21:57.150Z"
   },
   {
    "duration": 96,
    "start_time": "2025-04-23T16:25:36.916Z"
   },
   {
    "duration": 1457,
    "start_time": "2025-04-23T16:44:22.725Z"
   },
   {
    "duration": 485,
    "start_time": "2025-04-23T16:44:24.185Z"
   },
   {
    "duration": 4,
    "start_time": "2025-04-23T16:44:24.672Z"
   },
   {
    "duration": 110,
    "start_time": "2025-04-23T16:44:24.678Z"
   },
   {
    "duration": 93,
    "start_time": "2025-04-23T16:44:24.790Z"
   },
   {
    "duration": 100,
    "start_time": "2025-04-23T16:44:24.884Z"
   },
   {
    "duration": 9116,
    "start_time": "2025-04-23T16:44:24.985Z"
   },
   {
    "duration": 1601,
    "start_time": "2025-04-23T16:44:34.103Z"
   },
   {
    "duration": 1852,
    "start_time": "2025-04-23T16:44:35.706Z"
   },
   {
    "duration": 4,
    "start_time": "2025-04-23T16:44:37.560Z"
   },
   {
    "duration": 601,
    "start_time": "2025-04-23T16:44:37.576Z"
   },
   {
    "duration": 5,
    "start_time": "2025-04-23T16:44:38.180Z"
   },
   {
    "duration": 7,
    "start_time": "2025-04-23T16:44:38.277Z"
   },
   {
    "duration": 1136,
    "start_time": "2025-04-23T16:44:38.287Z"
   },
   {
    "duration": 4,
    "start_time": "2025-04-23T16:44:39.424Z"
   },
   {
    "duration": 11,
    "start_time": "2025-04-23T16:44:39.430Z"
   },
   {
    "duration": 107,
    "start_time": "2025-04-23T16:44:39.442Z"
   },
   {
    "duration": 44,
    "start_time": "2025-04-24T09:30:47.880Z"
   },
   {
    "duration": 4664,
    "start_time": "2025-04-24T09:44:19.609Z"
   },
   {
    "duration": 1369,
    "start_time": "2025-04-24T09:44:37.939Z"
   },
   {
    "duration": 449,
    "start_time": "2025-04-24T09:44:41.096Z"
   },
   {
    "duration": 4,
    "start_time": "2025-04-24T09:44:41.549Z"
   },
   {
    "duration": 85,
    "start_time": "2025-04-24T09:44:41.824Z"
   },
   {
    "duration": 69,
    "start_time": "2025-04-24T09:44:42.126Z"
   },
   {
    "duration": 72,
    "start_time": "2025-04-24T09:44:42.436Z"
   },
   {
    "duration": 8705,
    "start_time": "2025-04-24T09:44:44.338Z"
   },
   {
    "duration": 1476,
    "start_time": "2025-04-24T09:44:53.045Z"
   },
   {
    "duration": 1572,
    "start_time": "2025-04-24T09:44:54.523Z"
   },
   {
    "duration": 2,
    "start_time": "2025-04-24T09:44:56.097Z"
   },
   {
    "duration": 490,
    "start_time": "2025-04-24T09:45:01.474Z"
   },
   {
    "duration": 106,
    "start_time": "2025-04-24T10:15:59.037Z"
   },
   {
    "duration": 5,
    "start_time": "2025-04-24T10:16:11.556Z"
   },
   {
    "duration": 5,
    "start_time": "2025-04-24T10:16:17.788Z"
   },
   {
    "duration": 1066,
    "start_time": "2025-04-24T10:16:30.245Z"
   },
   {
    "duration": 3,
    "start_time": "2025-04-24T10:56:35.203Z"
   },
   {
    "duration": 4,
    "start_time": "2025-04-24T11:07:39.514Z"
   },
   {
    "duration": 20,
    "start_time": "2025-04-24T11:19:40.171Z"
   },
   {
    "duration": 3,
    "start_time": "2025-04-24T11:22:30.123Z"
   },
   {
    "duration": 5,
    "start_time": "2025-04-24T11:22:44.091Z"
   },
   {
    "duration": 80,
    "start_time": "2025-04-24T11:23:14.991Z"
   },
   {
    "duration": 1339,
    "start_time": "2025-04-24T11:41:09.012Z"
   },
   {
    "duration": 433,
    "start_time": "2025-04-24T11:41:10.353Z"
   },
   {
    "duration": 4,
    "start_time": "2025-04-24T11:41:10.788Z"
   },
   {
    "duration": 98,
    "start_time": "2025-04-24T11:41:10.794Z"
   },
   {
    "duration": 84,
    "start_time": "2025-04-24T11:41:10.895Z"
   },
   {
    "duration": 99,
    "start_time": "2025-04-24T11:41:10.981Z"
   },
   {
    "duration": 8697,
    "start_time": "2025-04-24T11:41:11.082Z"
   },
   {
    "duration": 1449,
    "start_time": "2025-04-24T11:41:19.781Z"
   },
   {
    "duration": 1577,
    "start_time": "2025-04-24T11:41:21.232Z"
   },
   {
    "duration": 3,
    "start_time": "2025-04-24T11:41:22.811Z"
   },
   {
    "duration": 548,
    "start_time": "2025-04-24T11:41:22.815Z"
   },
   {
    "duration": 95,
    "start_time": "2025-04-24T11:41:23.368Z"
   },
   {
    "duration": 1040,
    "start_time": "2025-04-24T11:41:23.464Z"
   },
   {
    "duration": 4,
    "start_time": "2025-04-24T11:41:24.506Z"
   },
   {
    "duration": 6,
    "start_time": "2025-04-24T11:41:24.511Z"
   },
   {
    "duration": 91,
    "start_time": "2025-04-24T11:41:24.518Z"
   },
   {
    "duration": 4990,
    "start_time": "2025-04-25T12:10:50.413Z"
   },
   {
    "duration": 1533,
    "start_time": "2025-04-25T12:11:15.004Z"
   },
   {
    "duration": 464,
    "start_time": "2025-04-25T12:11:16.952Z"
   },
   {
    "duration": 4,
    "start_time": "2025-04-25T12:11:17.418Z"
   },
   {
    "duration": 100,
    "start_time": "2025-04-25T12:11:17.572Z"
   },
   {
    "duration": 75,
    "start_time": "2025-04-25T12:11:17.792Z"
   },
   {
    "duration": 79,
    "start_time": "2025-04-25T12:11:18.052Z"
   },
   {
    "duration": 8901,
    "start_time": "2025-04-25T12:11:18.995Z"
   },
   {
    "duration": 1490,
    "start_time": "2025-04-25T12:11:27.898Z"
   },
   {
    "duration": 1691,
    "start_time": "2025-04-25T12:11:29.389Z"
   },
   {
    "duration": 3,
    "start_time": "2025-04-25T12:11:31.083Z"
   },
   {
    "duration": 550,
    "start_time": "2025-04-25T12:11:31.088Z"
   },
   {
    "duration": 7,
    "start_time": "2025-04-25T12:11:32.042Z"
   },
   {
    "duration": 1099,
    "start_time": "2025-04-25T12:11:40.473Z"
   },
   {
    "duration": 4,
    "start_time": "2025-04-25T12:11:45.003Z"
   },
   {
    "duration": 5,
    "start_time": "2025-04-25T12:12:24.812Z"
   },
   {
    "duration": 158,
    "start_time": "2025-04-25T12:12:34.714Z"
   },
   {
    "duration": 6,
    "start_time": "2025-04-25T12:15:31.423Z"
   },
   {
    "duration": 113,
    "start_time": "2025-04-25T12:15:35.575Z"
   },
   {
    "duration": 19012,
    "start_time": "2025-04-25T12:18:06.177Z"
   },
   {
    "duration": 6,
    "start_time": "2025-04-25T12:21:54.854Z"
   },
   {
    "duration": 12463,
    "start_time": "2025-04-25T12:22:38.634Z"
   },
   {
    "duration": 5,
    "start_time": "2025-04-25T12:24:38.747Z"
   },
   {
    "duration": 12532,
    "start_time": "2025-04-25T12:24:41.432Z"
   },
   {
    "duration": 5,
    "start_time": "2025-04-25T12:25:00.088Z"
   },
   {
    "duration": 12810,
    "start_time": "2025-04-25T12:25:03.762Z"
   },
   {
    "duration": 6,
    "start_time": "2025-04-25T12:27:51.133Z"
   },
   {
    "duration": 12550,
    "start_time": "2025-04-25T12:27:54.222Z"
   },
   {
    "duration": 4692,
    "start_time": "2025-04-26T09:57:50.455Z"
   },
   {
    "duration": 1351,
    "start_time": "2025-04-26T09:58:02.790Z"
   },
   {
    "duration": 443,
    "start_time": "2025-04-26T09:58:04.143Z"
   },
   {
    "duration": 3,
    "start_time": "2025-04-26T09:58:04.589Z"
   },
   {
    "duration": 95,
    "start_time": "2025-04-26T09:58:04.594Z"
   },
   {
    "duration": 82,
    "start_time": "2025-04-26T09:58:04.690Z"
   },
   {
    "duration": 71,
    "start_time": "2025-04-26T09:58:04.774Z"
   },
   {
    "duration": 8474,
    "start_time": "2025-04-26T09:58:04.861Z"
   },
   {
    "duration": 1396,
    "start_time": "2025-04-26T09:58:13.336Z"
   },
   {
    "duration": 1558,
    "start_time": "2025-04-26T09:58:14.734Z"
   },
   {
    "duration": 3,
    "start_time": "2025-04-26T09:58:16.293Z"
   },
   {
    "duration": 566,
    "start_time": "2025-04-26T09:58:16.298Z"
   },
   {
    "duration": 97,
    "start_time": "2025-04-26T09:58:16.866Z"
   },
   {
    "duration": 1063,
    "start_time": "2025-04-26T09:58:16.965Z"
   },
   {
    "duration": 4,
    "start_time": "2025-04-26T09:58:18.030Z"
   },
   {
    "duration": 10,
    "start_time": "2025-04-26T09:58:18.036Z"
   },
   {
    "duration": 11753,
    "start_time": "2025-04-26T09:58:18.047Z"
   },
   {
    "duration": 5,
    "start_time": "2025-04-26T10:00:18.145Z"
   },
   {
    "duration": 17246,
    "start_time": "2025-04-26T10:00:37.473Z"
   },
   {
    "duration": 4,
    "start_time": "2025-04-26T10:08:36.919Z"
   },
   {
    "duration": 17434,
    "start_time": "2025-04-26T10:08:52.255Z"
   },
   {
    "duration": 6,
    "start_time": "2025-04-26T10:12:19.398Z"
   },
   {
    "duration": 110,
    "start_time": "2025-04-26T10:12:21.395Z"
   },
   {
    "duration": 16,
    "start_time": "2025-04-26T10:12:57.676Z"
   },
   {
    "duration": 16,
    "start_time": "2025-04-26T10:13:02.322Z"
   },
   {
    "duration": 4,
    "start_time": "2025-04-26T10:13:58.232Z"
   },
   {
    "duration": 5,
    "start_time": "2025-04-26T10:14:00.600Z"
   },
   {
    "duration": 1316,
    "start_time": "2025-04-26T10:14:02.961Z"
   },
   {
    "duration": 5,
    "start_time": "2025-04-26T10:14:39.655Z"
   },
   {
    "duration": 1325,
    "start_time": "2025-04-26T10:14:40.973Z"
   },
   {
    "duration": 3,
    "start_time": "2025-04-26T10:15:52.582Z"
   },
   {
    "duration": 7,
    "start_time": "2025-04-26T10:16:01.534Z"
   },
   {
    "duration": 10,
    "start_time": "2025-04-26T10:16:06.017Z"
   },
   {
    "duration": 5933,
    "start_time": "2025-04-26T10:16:21.188Z"
   },
   {
    "duration": 4,
    "start_time": "2025-04-26T10:19:08.633Z"
   },
   {
    "duration": 4,
    "start_time": "2025-04-26T10:19:38.696Z"
   },
   {
    "duration": 12,
    "start_time": "2025-04-26T10:20:07.501Z"
   },
   {
    "duration": 5,
    "start_time": "2025-04-26T10:20:37.914Z"
   },
   {
    "duration": 17529,
    "start_time": "2025-04-26T10:20:39.606Z"
   },
   {
    "duration": 1385,
    "start_time": "2025-04-26T10:23:43.738Z"
   },
   {
    "duration": 415,
    "start_time": "2025-04-26T10:23:45.125Z"
   },
   {
    "duration": 3,
    "start_time": "2025-04-26T10:23:45.542Z"
   },
   {
    "duration": 97,
    "start_time": "2025-04-26T10:23:45.547Z"
   },
   {
    "duration": 79,
    "start_time": "2025-04-26T10:23:45.646Z"
   },
   {
    "duration": 86,
    "start_time": "2025-04-26T10:23:45.726Z"
   },
   {
    "duration": 8405,
    "start_time": "2025-04-26T10:23:45.814Z"
   },
   {
    "duration": 1386,
    "start_time": "2025-04-26T10:23:54.220Z"
   },
   {
    "duration": 1533,
    "start_time": "2025-04-26T10:23:55.608Z"
   },
   {
    "duration": 2,
    "start_time": "2025-04-26T10:23:57.143Z"
   },
   {
    "duration": 517,
    "start_time": "2025-04-26T10:23:57.146Z"
   },
   {
    "duration": 97,
    "start_time": "2025-04-26T10:23:57.666Z"
   },
   {
    "duration": 1021,
    "start_time": "2025-04-26T10:23:57.765Z"
   },
   {
    "duration": 4,
    "start_time": "2025-04-26T10:23:58.788Z"
   },
   {
    "duration": 16,
    "start_time": "2025-04-26T10:23:58.793Z"
   },
   {
    "duration": 18120,
    "start_time": "2025-04-26T10:23:58.811Z"
   },
   {
    "duration": 6,
    "start_time": "2025-04-26T10:33:30.815Z"
   },
   {
    "duration": 17952,
    "start_time": "2025-04-26T10:33:32.432Z"
   },
   {
    "duration": 5,
    "start_time": "2025-04-26T10:34:59.744Z"
   },
   {
    "duration": 1120,
    "start_time": "2025-04-26T10:35:01.452Z"
   },
   {
    "duration": 6,
    "start_time": "2025-04-26T10:35:08.962Z"
   },
   {
    "duration": 18596,
    "start_time": "2025-04-26T10:35:11.467Z"
   },
   {
    "duration": 1348,
    "start_time": "2025-04-26T10:36:42.199Z"
   },
   {
    "duration": 423,
    "start_time": "2025-04-26T10:36:43.549Z"
   },
   {
    "duration": 4,
    "start_time": "2025-04-26T10:36:43.974Z"
   },
   {
    "duration": 98,
    "start_time": "2025-04-26T10:36:43.979Z"
   },
   {
    "duration": 83,
    "start_time": "2025-04-26T10:36:44.079Z"
   },
   {
    "duration": 80,
    "start_time": "2025-04-26T10:36:44.164Z"
   },
   {
    "duration": 8545,
    "start_time": "2025-04-26T10:36:44.262Z"
   },
   {
    "duration": 1422,
    "start_time": "2025-04-26T10:36:52.809Z"
   },
   {
    "duration": 1661,
    "start_time": "2025-04-26T10:36:54.233Z"
   },
   {
    "duration": 3,
    "start_time": "2025-04-26T10:36:55.896Z"
   },
   {
    "duration": 563,
    "start_time": "2025-04-26T10:36:55.900Z"
   },
   {
    "duration": 97,
    "start_time": "2025-04-26T10:36:56.465Z"
   },
   {
    "duration": 1040,
    "start_time": "2025-04-26T10:36:56.565Z"
   },
   {
    "duration": 4,
    "start_time": "2025-04-26T10:36:57.607Z"
   },
   {
    "duration": 6,
    "start_time": "2025-04-26T10:36:57.613Z"
   },
   {
    "duration": 18030,
    "start_time": "2025-04-26T10:36:57.620Z"
   },
   {
    "duration": 1556,
    "start_time": "2025-04-27T12:39:39.412Z"
   },
   {
    "duration": 0,
    "start_time": "2025-04-27T12:39:40.970Z"
   },
   {
    "duration": 0,
    "start_time": "2025-04-27T12:39:40.971Z"
   },
   {
    "duration": 0,
    "start_time": "2025-04-27T12:39:40.972Z"
   },
   {
    "duration": 0,
    "start_time": "2025-04-27T12:39:40.973Z"
   },
   {
    "duration": 0,
    "start_time": "2025-04-27T12:39:40.974Z"
   },
   {
    "duration": 0,
    "start_time": "2025-04-27T12:39:40.975Z"
   },
   {
    "duration": 0,
    "start_time": "2025-04-27T12:39:40.976Z"
   },
   {
    "duration": 0,
    "start_time": "2025-04-27T12:39:40.977Z"
   },
   {
    "duration": 0,
    "start_time": "2025-04-27T12:39:40.978Z"
   },
   {
    "duration": 0,
    "start_time": "2025-04-27T12:39:40.980Z"
   },
   {
    "duration": 0,
    "start_time": "2025-04-27T12:39:40.981Z"
   },
   {
    "duration": 0,
    "start_time": "2025-04-27T12:39:41.006Z"
   },
   {
    "duration": 0,
    "start_time": "2025-04-27T12:39:41.015Z"
   },
   {
    "duration": 0,
    "start_time": "2025-04-27T12:39:41.017Z"
   },
   {
    "duration": 0,
    "start_time": "2025-04-27T12:39:41.020Z"
   },
   {
    "duration": 3667,
    "start_time": "2025-04-27T12:40:11.431Z"
   },
   {
    "duration": 1512,
    "start_time": "2025-04-27T12:40:22.421Z"
   },
   {
    "duration": 504,
    "start_time": "2025-04-27T12:40:23.936Z"
   },
   {
    "duration": 4,
    "start_time": "2025-04-27T12:40:24.441Z"
   },
   {
    "duration": 110,
    "start_time": "2025-04-27T12:40:24.447Z"
   },
   {
    "duration": 96,
    "start_time": "2025-04-27T12:40:24.560Z"
   },
   {
    "duration": 95,
    "start_time": "2025-04-27T12:40:24.658Z"
   },
   {
    "duration": 9002,
    "start_time": "2025-04-27T12:40:24.754Z"
   },
   {
    "duration": 1622,
    "start_time": "2025-04-27T12:40:33.758Z"
   },
   {
    "duration": 1899,
    "start_time": "2025-04-27T12:40:35.381Z"
   },
   {
    "duration": 3,
    "start_time": "2025-04-27T12:40:37.282Z"
   },
   {
    "duration": 627,
    "start_time": "2025-04-27T12:40:37.286Z"
   },
   {
    "duration": 95,
    "start_time": "2025-04-27T12:40:37.915Z"
   },
   {
    "duration": 1144,
    "start_time": "2025-04-27T12:40:38.011Z"
   },
   {
    "duration": 4,
    "start_time": "2025-04-27T12:40:39.157Z"
   },
   {
    "duration": 15,
    "start_time": "2025-04-27T12:40:39.163Z"
   },
   {
    "duration": 7643,
    "start_time": "2025-04-27T12:40:39.179Z"
   },
   {
    "duration": 6,
    "start_time": "2025-04-27T12:50:38.116Z"
   },
   {
    "duration": 8848,
    "start_time": "2025-04-27T12:50:54.223Z"
   },
   {
    "duration": 8030,
    "start_time": "2025-04-27T12:51:14.263Z"
   },
   {
    "duration": 5,
    "start_time": "2025-04-27T12:55:09.548Z"
   },
   {
    "duration": 8305,
    "start_time": "2025-04-27T12:55:11.749Z"
   },
   {
    "duration": 6,
    "start_time": "2025-04-27T12:57:28.031Z"
   },
   {
    "duration": 8999,
    "start_time": "2025-04-27T12:57:30.864Z"
   },
   {
    "duration": 11,
    "start_time": "2025-04-27T12:57:47.524Z"
   },
   {
    "duration": 9055,
    "start_time": "2025-04-27T12:57:49.328Z"
   },
   {
    "duration": 1636,
    "start_time": "2025-04-27T13:05:33.260Z"
   },
   {
    "duration": 561,
    "start_time": "2025-04-27T13:05:34.898Z"
   },
   {
    "duration": 4,
    "start_time": "2025-04-27T13:05:35.462Z"
   },
   {
    "duration": 164,
    "start_time": "2025-04-27T13:05:35.468Z"
   },
   {
    "duration": 114,
    "start_time": "2025-04-27T13:05:35.634Z"
   },
   {
    "duration": 126,
    "start_time": "2025-04-27T13:05:35.750Z"
   },
   {
    "duration": 10439,
    "start_time": "2025-04-27T13:05:35.879Z"
   },
   {
    "duration": 1909,
    "start_time": "2025-04-27T13:05:46.323Z"
   },
   {
    "duration": 2010,
    "start_time": "2025-04-27T13:05:48.234Z"
   },
   {
    "duration": 3,
    "start_time": "2025-04-27T13:05:50.246Z"
   },
   {
    "duration": 563,
    "start_time": "2025-04-27T13:05:50.250Z"
   },
   {
    "duration": 8,
    "start_time": "2025-04-27T13:05:54.933Z"
   },
   {
    "duration": 1227,
    "start_time": "2025-04-27T13:05:59.983Z"
   },
   {
    "duration": 1635,
    "start_time": "2025-04-27T13:06:04.189Z"
   },
   {
    "duration": 1330,
    "start_time": "2025-04-27T13:07:06.541Z"
   },
   {
    "duration": 783,
    "start_time": "2025-04-27T13:07:25.665Z"
   },
   {
    "duration": 849,
    "start_time": "2025-04-27T13:07:37.186Z"
   },
   {
    "duration": 1599,
    "start_time": "2025-04-27T13:07:49.980Z"
   },
   {
    "duration": 10,
    "start_time": "2025-04-27T13:19:55.170Z"
   },
   {
    "duration": 12,
    "start_time": "2025-04-27T13:19:59.546Z"
   },
   {
    "duration": 1685,
    "start_time": "2025-04-27T13:20:19.083Z"
   },
   {
    "duration": 600,
    "start_time": "2025-04-27T13:20:20.771Z"
   },
   {
    "duration": 5,
    "start_time": "2025-04-27T13:20:21.375Z"
   },
   {
    "duration": 139,
    "start_time": "2025-04-27T13:20:21.382Z"
   },
   {
    "duration": 101,
    "start_time": "2025-04-27T13:20:21.522Z"
   },
   {
    "duration": 108,
    "start_time": "2025-04-27T13:20:21.625Z"
   },
   {
    "duration": 10414,
    "start_time": "2025-04-27T13:20:21.735Z"
   },
   {
    "duration": 1913,
    "start_time": "2025-04-27T13:20:32.153Z"
   },
   {
    "duration": 1986,
    "start_time": "2025-04-27T13:20:34.068Z"
   },
   {
    "duration": 3,
    "start_time": "2025-04-27T13:20:36.056Z"
   },
   {
    "duration": 551,
    "start_time": "2025-04-27T13:20:36.061Z"
   },
   {
    "duration": 90,
    "start_time": "2025-04-27T13:20:36.618Z"
   },
   {
    "duration": 1308,
    "start_time": "2025-04-27T13:20:36.713Z"
   },
   {
    "duration": 5,
    "start_time": "2025-04-27T13:20:38.023Z"
   },
   {
    "duration": 11,
    "start_time": "2025-04-27T13:20:38.029Z"
   },
   {
    "duration": 9253,
    "start_time": "2025-04-27T13:20:38.041Z"
   },
   {
    "duration": 8,
    "start_time": "2025-04-27T13:22:01.010Z"
   },
   {
    "duration": 9036,
    "start_time": "2025-04-27T13:22:03.517Z"
   },
   {
    "duration": 6,
    "start_time": "2025-04-27T13:22:23.481Z"
   },
   {
    "duration": 9017,
    "start_time": "2025-04-27T13:22:26.137Z"
   },
   {
    "duration": 6,
    "start_time": "2025-04-27T13:22:57.459Z"
   },
   {
    "duration": 8936,
    "start_time": "2025-04-27T13:22:59.143Z"
   },
   {
    "duration": 9401,
    "start_time": "2025-04-27T13:25:13.740Z"
   },
   {
    "duration": 1730,
    "start_time": "2025-04-27T14:08:06.078Z"
   },
   {
    "duration": 628,
    "start_time": "2025-04-27T14:08:07.811Z"
   },
   {
    "duration": 5,
    "start_time": "2025-04-27T14:08:08.441Z"
   },
   {
    "duration": 134,
    "start_time": "2025-04-27T14:08:08.449Z"
   },
   {
    "duration": 101,
    "start_time": "2025-04-27T14:08:08.585Z"
   },
   {
    "duration": 102,
    "start_time": "2025-04-27T14:08:08.688Z"
   },
   {
    "duration": 10754,
    "start_time": "2025-04-27T14:08:08.804Z"
   },
   {
    "duration": 2010,
    "start_time": "2025-04-27T14:08:19.561Z"
   },
   {
    "duration": 2193,
    "start_time": "2025-04-27T14:08:21.573Z"
   },
   {
    "duration": 3,
    "start_time": "2025-04-27T14:08:23.769Z"
   },
   {
    "duration": 548,
    "start_time": "2025-04-27T14:08:23.774Z"
   },
   {
    "duration": 81,
    "start_time": "2025-04-27T14:08:24.325Z"
   },
   {
    "duration": 1332,
    "start_time": "2025-04-27T14:08:24.408Z"
   },
   {
    "duration": 10817,
    "start_time": "2025-04-27T14:08:25.744Z"
   },
   {
    "duration": 115,
    "start_time": "2025-04-27T14:09:59.755Z"
   },
   {
    "duration": 52,
    "start_time": "2025-04-27T14:09:59.935Z"
   },
   {
    "duration": 5,
    "start_time": "2025-04-27T14:10:00.130Z"
   },
   {
    "duration": 8,
    "start_time": "2025-04-27T14:10:00.275Z"
   },
   {
    "duration": 28,
    "start_time": "2025-04-27T14:10:00.503Z"
   },
   {
    "duration": 1757,
    "start_time": "2025-04-27T14:10:27.640Z"
   },
   {
    "duration": 618,
    "start_time": "2025-04-27T14:10:35.272Z"
   },
   {
    "duration": 5,
    "start_time": "2025-04-27T14:10:36.786Z"
   },
   {
    "duration": 125,
    "start_time": "2025-04-27T14:10:37.013Z"
   },
   {
    "duration": 96,
    "start_time": "2025-04-27T14:10:37.237Z"
   },
   {
    "duration": 130,
    "start_time": "2025-04-27T14:10:37.443Z"
   },
   {
    "duration": 10634,
    "start_time": "2025-04-27T14:10:38.339Z"
   },
   {
    "duration": 1873,
    "start_time": "2025-04-27T14:10:48.976Z"
   },
   {
    "duration": 2122,
    "start_time": "2025-04-27T14:10:50.850Z"
   },
   {
    "duration": 3,
    "start_time": "2025-04-27T14:10:52.975Z"
   },
   {
    "duration": 547,
    "start_time": "2025-04-27T14:10:52.980Z"
   },
   {
    "duration": 94,
    "start_time": "2025-04-27T14:10:59.971Z"
   },
   {
    "duration": 6,
    "start_time": "2025-04-27T14:11:19.486Z"
   },
   {
    "duration": 6,
    "start_time": "2025-04-27T14:11:27.491Z"
   },
   {
    "duration": 1227,
    "start_time": "2025-04-27T14:11:32.490Z"
   },
   {
    "duration": 10171,
    "start_time": "2025-04-27T14:11:44.318Z"
   },
   {
    "duration": 10155,
    "start_time": "2025-04-27T14:14:37.075Z"
   },
   {
    "duration": 1543,
    "start_time": "2025-04-27T14:17:12.969Z"
   },
   {
    "duration": 533,
    "start_time": "2025-04-27T14:17:14.514Z"
   },
   {
    "duration": 5,
    "start_time": "2025-04-27T14:17:15.048Z"
   },
   {
    "duration": 206,
    "start_time": "2025-04-27T14:17:15.055Z"
   },
   {
    "duration": 104,
    "start_time": "2025-04-27T14:17:15.263Z"
   },
   {
    "duration": 123,
    "start_time": "2025-04-27T14:17:15.369Z"
   },
   {
    "duration": 9935,
    "start_time": "2025-04-27T14:17:15.494Z"
   },
   {
    "duration": 1803,
    "start_time": "2025-04-27T14:17:25.430Z"
   },
   {
    "duration": 1969,
    "start_time": "2025-04-27T14:17:27.235Z"
   },
   {
    "duration": 4,
    "start_time": "2025-04-27T14:17:29.216Z"
   },
   {
    "duration": 485,
    "start_time": "2025-04-27T14:17:29.222Z"
   },
   {
    "duration": 7,
    "start_time": "2025-04-27T14:17:29.709Z"
   },
   {
    "duration": 1289,
    "start_time": "2025-04-27T14:17:29.718Z"
   },
   {
    "duration": 9,
    "start_time": "2025-04-27T14:17:31.010Z"
   },
   {
    "duration": 19,
    "start_time": "2025-04-27T14:17:31.021Z"
   },
   {
    "duration": 9411,
    "start_time": "2025-04-27T14:17:31.042Z"
   },
   {
    "duration": 1605,
    "start_time": "2025-04-27T14:19:52.461Z"
   },
   {
    "duration": 521,
    "start_time": "2025-04-27T14:19:54.069Z"
   },
   {
    "duration": 4,
    "start_time": "2025-04-27T14:19:54.591Z"
   },
   {
    "duration": 132,
    "start_time": "2025-04-27T14:19:54.597Z"
   },
   {
    "duration": 104,
    "start_time": "2025-04-27T14:19:54.732Z"
   },
   {
    "duration": 108,
    "start_time": "2025-04-27T14:19:54.838Z"
   },
   {
    "duration": 9645,
    "start_time": "2025-04-27T14:19:54.948Z"
   },
   {
    "duration": 1838,
    "start_time": "2025-04-27T14:20:04.595Z"
   },
   {
    "duration": 2130,
    "start_time": "2025-04-27T14:20:06.435Z"
   },
   {
    "duration": 3,
    "start_time": "2025-04-27T14:20:08.567Z"
   },
   {
    "duration": 539,
    "start_time": "2025-04-27T14:20:08.572Z"
   },
   {
    "duration": 93,
    "start_time": "2025-04-27T14:20:09.127Z"
   },
   {
    "duration": 1296,
    "start_time": "2025-04-27T14:20:09.222Z"
   },
   {
    "duration": 4,
    "start_time": "2025-04-27T14:20:10.522Z"
   },
   {
    "duration": 6,
    "start_time": "2025-04-27T14:20:10.529Z"
   },
   {
    "duration": 10021,
    "start_time": "2025-04-27T14:20:10.537Z"
   },
   {
    "duration": 1587,
    "start_time": "2025-04-27T14:22:00.899Z"
   },
   {
    "duration": 544,
    "start_time": "2025-04-27T14:22:02.488Z"
   },
   {
    "duration": 5,
    "start_time": "2025-04-27T14:22:03.033Z"
   },
   {
    "duration": 137,
    "start_time": "2025-04-27T14:22:03.039Z"
   },
   {
    "duration": 136,
    "start_time": "2025-04-27T14:22:03.178Z"
   },
   {
    "duration": 102,
    "start_time": "2025-04-27T14:22:03.320Z"
   },
   {
    "duration": 10173,
    "start_time": "2025-04-27T14:22:03.424Z"
   },
   {
    "duration": 1805,
    "start_time": "2025-04-27T14:22:13.599Z"
   },
   {
    "duration": 2049,
    "start_time": "2025-04-27T14:22:15.409Z"
   },
   {
    "duration": 3,
    "start_time": "2025-04-27T14:22:17.460Z"
   },
   {
    "duration": 547,
    "start_time": "2025-04-27T14:22:17.465Z"
   },
   {
    "duration": 13,
    "start_time": "2025-04-27T14:22:18.015Z"
   },
   {
    "duration": 1265,
    "start_time": "2025-04-27T14:22:18.030Z"
   },
   {
    "duration": 11,
    "start_time": "2025-04-27T14:22:19.298Z"
   },
   {
    "duration": 8,
    "start_time": "2025-04-27T14:22:19.312Z"
   },
   {
    "duration": 9651,
    "start_time": "2025-04-27T14:22:19.322Z"
   },
   {
    "duration": 1648,
    "start_time": "2025-04-27T14:22:54.536Z"
   },
   {
    "duration": 540,
    "start_time": "2025-04-27T14:22:56.186Z"
   },
   {
    "duration": 4,
    "start_time": "2025-04-27T14:22:56.728Z"
   },
   {
    "duration": 195,
    "start_time": "2025-04-27T14:22:56.734Z"
   },
   {
    "duration": 126,
    "start_time": "2025-04-27T14:22:56.932Z"
   },
   {
    "duration": 120,
    "start_time": "2025-04-27T14:22:57.060Z"
   },
   {
    "duration": 10468,
    "start_time": "2025-04-27T14:22:57.181Z"
   },
   {
    "duration": 1849,
    "start_time": "2025-04-27T14:23:07.650Z"
   },
   {
    "duration": 2014,
    "start_time": "2025-04-27T14:23:09.506Z"
   },
   {
    "duration": 3,
    "start_time": "2025-04-27T14:23:11.522Z"
   },
   {
    "duration": 487,
    "start_time": "2025-04-27T14:23:11.526Z"
   },
   {
    "duration": 93,
    "start_time": "2025-04-27T14:23:12.018Z"
   },
   {
    "duration": 1196,
    "start_time": "2025-04-27T14:23:12.117Z"
   },
   {
    "duration": 5,
    "start_time": "2025-04-27T14:23:13.320Z"
   },
   {
    "duration": 31,
    "start_time": "2025-04-27T14:23:13.326Z"
   },
   {
    "duration": 9632,
    "start_time": "2025-04-27T14:23:13.359Z"
   }
  ],
  "kernelspec": {
   "display_name": "Python 3 (ipykernel)",
   "language": "python",
   "name": "python3"
  },
  "language_info": {
   "codemirror_mode": {
    "name": "ipython",
    "version": 3
   },
   "file_extension": ".py",
   "mimetype": "text/x-python",
   "name": "python",
   "nbconvert_exporter": "python",
   "pygments_lexer": "ipython3",
   "version": "3.11.7"
  },
  "toc": {
   "base_numbering": 1,
   "nav_menu": {},
   "number_sections": true,
   "sideBar": true,
   "skip_h1_title": true,
   "title_cell": "Table of Contents",
   "title_sidebar": "Contents",
   "toc_cell": false,
   "toc_position": {
    "height": "calc(100% - 180px)",
    "left": "10px",
    "top": "150px",
    "width": "248.6px"
   },
   "toc_section_display": true,
   "toc_window_display": false
  }
 },
 "nbformat": 4,
 "nbformat_minor": 4
}
