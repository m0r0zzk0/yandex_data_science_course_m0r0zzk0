{
 "cells": [
  {
   "cell_type": "markdown",
   "id": "74f824a5",
   "metadata": {},
   "source": [
    "# Прогнозирование оттока клиентов оператора связи"
   ]
  },
  {
   "cell_type": "markdown",
   "id": "6e96555e",
   "metadata": {},
   "source": [
    "### Описание проекта\n",
    "\n",
    "Оператор связи «ТелеДом» сталкивается с проблемой оттока клиентов. Чтобы удержать абонентов, компания планирует предлагать им промокоды и специальные условия, если те собираются отказаться от услуг. Однако для эффективной работы сотрудникам необходимо заранее выявлять таких пользователей.\n",
    "\n",
    "Для решения этой задачи «ТелеДом» собрал данные о клиентах, включая их персональную информацию, сведения о тарифах и используемых услугах. На основе этих данных требуется разработать модель, способную прогнозировать вероятность оттока абонентов."
   ]
  },
  {
   "cell_type": "markdown",
   "id": "74ee307c",
   "metadata": {},
   "source": [
    "### Цель проекта\n",
    "\n",
    "Обучить модель машинного обучения, которая будет предсказывать, собирается ли клиент расторгнуть договор с оператором. Это позволит компании своевременно принимать меры для удержания абонентов, минимизируя тем самым их отток."
   ]
  },
  {
   "cell_type": "markdown",
   "id": "039b9678",
   "metadata": {},
   "source": [
    "## Загрузка данных"
   ]
  },
  {
   "cell_type": "code",
   "execution_count": 1,
   "id": "ad44c98e",
   "metadata": {
    "scrolled": true
   },
   "outputs": [],
   "source": [
    "import pandas as pd\n",
    "import seaborn as sns\n",
    "import matplotlib.pyplot as plt\n",
    "from datetime import datetime\n",
    "import numpy as np\n",
    "import warnings\n",
    "warnings.filterwarnings('ignore')\n",
    "\n",
    "\n",
    "#!pip install phik -q\n",
    "import phik\n",
    "from phik import phik_matrix\n",
    "\n",
    "from sklearn.model_selection import train_test_split, StratifiedKFold, cross_val_score, learning_curve, GridSearchCV,  cross_validate\n",
    "from sklearn.pipeline import Pipeline\n",
    "from sklearn.compose import ColumnTransformer\n",
    "from sklearn.preprocessing import StandardScaler, OneHotEncoder, FunctionTransformer\n",
    "from sklearn.linear_model import LogisticRegression\n",
    "from sklearn.ensemble import RandomForestClassifier\n",
    "from catboost import CatBoostClassifier\n",
    "from sklearn.metrics import classification_report, roc_auc_score, accuracy_score, confusion_matrix, ConfusionMatrixDisplay, roc_curve, auc\n",
    "from sklearn.inspection import permutation_importance\n",
    "\n",
    "\n",
    "RANDOM_STATE=300625\n",
    "TEST_SIZE=0.25"
   ]
  },
  {
   "cell_type": "code",
   "execution_count": 2,
   "id": "49bbbdbe",
   "metadata": {},
   "outputs": [],
   "source": [
    "try:\n",
    "    contract_df = pd.read_csv('/datasets/contract_new.csv', index_col='customerID').rename(columns=str.lower)\n",
    "    personal_df = pd.read_csv('/datasets/personal_new.csv', index_col='customerID').rename(columns=str.lower)\n",
    "    internet_df = pd.read_csv('/datasets/internet_new.csv', index_col='customerID').rename(columns=str.lower)\n",
    "    phone_df = pd.read_csv('/datasets/phone_new.csv', index_col='customerID').rename(columns=str.lower)\n",
    "except:\n",
    "    contract_df = pd.read_csv('https://code.s3.yandex.net/datasets/contract_new.csv', index_col='customerID').rename(columns=str.lower)\n",
    "    personal_df = pd.read_csv('https://code.s3.yandex.net/datasets/personal_new.csv', index_col='customerID').rename(columns=str.lower)\n",
    "    internet_df = pd.read_csv('https://code.s3.yandex.net/datasets/internet_new.csv', index_col='customerID').rename(columns=str.lower)\n",
    "    phone_df = pd.read_csv('https://code.s3.yandex.net/datasets/phone_new.csv', index_col='customerID').rename(columns=str.lower)"
   ]
  },
  {
   "cell_type": "code",
   "execution_count": 3,
   "id": "aece8cd4",
   "metadata": {},
   "outputs": [],
   "source": [
    "# функция для вывода всей нужной информации о датафрейме\n",
    "def data_info(dataframe):\n",
    "    print(dataframe.info())\n",
    "    display(dataframe.head())\n",
    "    display(dataframe.tail())\n",
    "    display(dataframe.describe())\n",
    "    print('Пропусков в датафрейме: ', dataframe.isnull().sum())\n",
    "    print()\n",
    "    print('Количество явных дубликатов в датафрейме:', dataframe.duplicated().sum())"
   ]
  },
  {
   "cell_type": "code",
   "execution_count": 4,
   "id": "a440bd8e",
   "metadata": {
    "scrolled": true
   },
   "outputs": [
    {
     "name": "stdout",
     "output_type": "stream",
     "text": [
      "<class 'pandas.core.frame.DataFrame'>\n",
      "Index: 7043 entries, 7590-VHVEG to 3186-AJIEK\n",
      "Data columns (total 7 columns):\n",
      " #   Column            Non-Null Count  Dtype  \n",
      "---  ------            --------------  -----  \n",
      " 0   begindate         7043 non-null   object \n",
      " 1   enddate           7043 non-null   object \n",
      " 2   type              7043 non-null   object \n",
      " 3   paperlessbilling  7043 non-null   object \n",
      " 4   paymentmethod     7043 non-null   object \n",
      " 5   monthlycharges    7043 non-null   float64\n",
      " 6   totalcharges      7043 non-null   object \n",
      "dtypes: float64(1), object(6)\n",
      "memory usage: 440.2+ KB\n",
      "None\n"
     ]
    },
    {
     "data": {
      "text/html": [
       "<div>\n",
       "<style scoped>\n",
       "    .dataframe tbody tr th:only-of-type {\n",
       "        vertical-align: middle;\n",
       "    }\n",
       "\n",
       "    .dataframe tbody tr th {\n",
       "        vertical-align: top;\n",
       "    }\n",
       "\n",
       "    .dataframe thead th {\n",
       "        text-align: right;\n",
       "    }\n",
       "</style>\n",
       "<table border=\"1\" class=\"dataframe\">\n",
       "  <thead>\n",
       "    <tr style=\"text-align: right;\">\n",
       "      <th></th>\n",
       "      <th>begindate</th>\n",
       "      <th>enddate</th>\n",
       "      <th>type</th>\n",
       "      <th>paperlessbilling</th>\n",
       "      <th>paymentmethod</th>\n",
       "      <th>monthlycharges</th>\n",
       "      <th>totalcharges</th>\n",
       "    </tr>\n",
       "    <tr>\n",
       "      <th>customerID</th>\n",
       "      <th></th>\n",
       "      <th></th>\n",
       "      <th></th>\n",
       "      <th></th>\n",
       "      <th></th>\n",
       "      <th></th>\n",
       "      <th></th>\n",
       "    </tr>\n",
       "  </thead>\n",
       "  <tbody>\n",
       "    <tr>\n",
       "      <th>7590-VHVEG</th>\n",
       "      <td>2020-01-01</td>\n",
       "      <td>No</td>\n",
       "      <td>Month-to-month</td>\n",
       "      <td>Yes</td>\n",
       "      <td>Electronic check</td>\n",
       "      <td>29.85</td>\n",
       "      <td>31.04</td>\n",
       "    </tr>\n",
       "    <tr>\n",
       "      <th>5575-GNVDE</th>\n",
       "      <td>2017-04-01</td>\n",
       "      <td>No</td>\n",
       "      <td>One year</td>\n",
       "      <td>No</td>\n",
       "      <td>Mailed check</td>\n",
       "      <td>56.95</td>\n",
       "      <td>2071.84</td>\n",
       "    </tr>\n",
       "    <tr>\n",
       "      <th>3668-QPYBK</th>\n",
       "      <td>2019-10-01</td>\n",
       "      <td>No</td>\n",
       "      <td>Month-to-month</td>\n",
       "      <td>Yes</td>\n",
       "      <td>Mailed check</td>\n",
       "      <td>53.85</td>\n",
       "      <td>226.17</td>\n",
       "    </tr>\n",
       "    <tr>\n",
       "      <th>7795-CFOCW</th>\n",
       "      <td>2016-05-01</td>\n",
       "      <td>No</td>\n",
       "      <td>One year</td>\n",
       "      <td>No</td>\n",
       "      <td>Bank transfer (automatic)</td>\n",
       "      <td>42.30</td>\n",
       "      <td>1960.6</td>\n",
       "    </tr>\n",
       "    <tr>\n",
       "      <th>9237-HQITU</th>\n",
       "      <td>2019-09-01</td>\n",
       "      <td>No</td>\n",
       "      <td>Month-to-month</td>\n",
       "      <td>Yes</td>\n",
       "      <td>Electronic check</td>\n",
       "      <td>70.70</td>\n",
       "      <td>353.5</td>\n",
       "    </tr>\n",
       "  </tbody>\n",
       "</table>\n",
       "</div>"
      ],
      "text/plain": [
       "             begindate enddate            type paperlessbilling  \\\n",
       "customerID                                                        \n",
       "7590-VHVEG  2020-01-01      No  Month-to-month              Yes   \n",
       "5575-GNVDE  2017-04-01      No        One year               No   \n",
       "3668-QPYBK  2019-10-01      No  Month-to-month              Yes   \n",
       "7795-CFOCW  2016-05-01      No        One year               No   \n",
       "9237-HQITU  2019-09-01      No  Month-to-month              Yes   \n",
       "\n",
       "                        paymentmethod  monthlycharges totalcharges  \n",
       "customerID                                                          \n",
       "7590-VHVEG           Electronic check           29.85        31.04  \n",
       "5575-GNVDE               Mailed check           56.95      2071.84  \n",
       "3668-QPYBK               Mailed check           53.85       226.17  \n",
       "7795-CFOCW  Bank transfer (automatic)           42.30       1960.6  \n",
       "9237-HQITU           Electronic check           70.70        353.5  "
      ]
     },
     "metadata": {},
     "output_type": "display_data"
    },
    {
     "data": {
      "text/html": [
       "<div>\n",
       "<style scoped>\n",
       "    .dataframe tbody tr th:only-of-type {\n",
       "        vertical-align: middle;\n",
       "    }\n",
       "\n",
       "    .dataframe tbody tr th {\n",
       "        vertical-align: top;\n",
       "    }\n",
       "\n",
       "    .dataframe thead th {\n",
       "        text-align: right;\n",
       "    }\n",
       "</style>\n",
       "<table border=\"1\" class=\"dataframe\">\n",
       "  <thead>\n",
       "    <tr style=\"text-align: right;\">\n",
       "      <th></th>\n",
       "      <th>begindate</th>\n",
       "      <th>enddate</th>\n",
       "      <th>type</th>\n",
       "      <th>paperlessbilling</th>\n",
       "      <th>paymentmethod</th>\n",
       "      <th>monthlycharges</th>\n",
       "      <th>totalcharges</th>\n",
       "    </tr>\n",
       "    <tr>\n",
       "      <th>customerID</th>\n",
       "      <th></th>\n",
       "      <th></th>\n",
       "      <th></th>\n",
       "      <th></th>\n",
       "      <th></th>\n",
       "      <th></th>\n",
       "      <th></th>\n",
       "    </tr>\n",
       "  </thead>\n",
       "  <tbody>\n",
       "    <tr>\n",
       "      <th>6840-RESVB</th>\n",
       "      <td>2018-02-01</td>\n",
       "      <td>No</td>\n",
       "      <td>One year</td>\n",
       "      <td>Yes</td>\n",
       "      <td>Mailed check</td>\n",
       "      <td>84.80</td>\n",
       "      <td>2035.2</td>\n",
       "    </tr>\n",
       "    <tr>\n",
       "      <th>2234-XADUH</th>\n",
       "      <td>2014-02-01</td>\n",
       "      <td>No</td>\n",
       "      <td>One year</td>\n",
       "      <td>Yes</td>\n",
       "      <td>Credit card (automatic)</td>\n",
       "      <td>103.20</td>\n",
       "      <td>7430.4</td>\n",
       "    </tr>\n",
       "    <tr>\n",
       "      <th>4801-JZAZL</th>\n",
       "      <td>2019-03-01</td>\n",
       "      <td>No</td>\n",
       "      <td>Month-to-month</td>\n",
       "      <td>Yes</td>\n",
       "      <td>Electronic check</td>\n",
       "      <td>29.60</td>\n",
       "      <td>325.6</td>\n",
       "    </tr>\n",
       "    <tr>\n",
       "      <th>8361-LTMKD</th>\n",
       "      <td>2019-07-01</td>\n",
       "      <td>No</td>\n",
       "      <td>Month-to-month</td>\n",
       "      <td>Yes</td>\n",
       "      <td>Mailed check</td>\n",
       "      <td>74.40</td>\n",
       "      <td>520.8</td>\n",
       "    </tr>\n",
       "    <tr>\n",
       "      <th>3186-AJIEK</th>\n",
       "      <td>2014-08-01</td>\n",
       "      <td>No</td>\n",
       "      <td>Two year</td>\n",
       "      <td>Yes</td>\n",
       "      <td>Bank transfer (automatic)</td>\n",
       "      <td>105.65</td>\n",
       "      <td>7251.82</td>\n",
       "    </tr>\n",
       "  </tbody>\n",
       "</table>\n",
       "</div>"
      ],
      "text/plain": [
       "             begindate enddate            type paperlessbilling  \\\n",
       "customerID                                                        \n",
       "6840-RESVB  2018-02-01      No        One year              Yes   \n",
       "2234-XADUH  2014-02-01      No        One year              Yes   \n",
       "4801-JZAZL  2019-03-01      No  Month-to-month              Yes   \n",
       "8361-LTMKD  2019-07-01      No  Month-to-month              Yes   \n",
       "3186-AJIEK  2014-08-01      No        Two year              Yes   \n",
       "\n",
       "                        paymentmethod  monthlycharges totalcharges  \n",
       "customerID                                                          \n",
       "6840-RESVB               Mailed check           84.80       2035.2  \n",
       "2234-XADUH    Credit card (automatic)          103.20       7430.4  \n",
       "4801-JZAZL           Electronic check           29.60        325.6  \n",
       "8361-LTMKD               Mailed check           74.40        520.8  \n",
       "3186-AJIEK  Bank transfer (automatic)          105.65      7251.82  "
      ]
     },
     "metadata": {},
     "output_type": "display_data"
    },
    {
     "data": {
      "text/html": [
       "<div>\n",
       "<style scoped>\n",
       "    .dataframe tbody tr th:only-of-type {\n",
       "        vertical-align: middle;\n",
       "    }\n",
       "\n",
       "    .dataframe tbody tr th {\n",
       "        vertical-align: top;\n",
       "    }\n",
       "\n",
       "    .dataframe thead th {\n",
       "        text-align: right;\n",
       "    }\n",
       "</style>\n",
       "<table border=\"1\" class=\"dataframe\">\n",
       "  <thead>\n",
       "    <tr style=\"text-align: right;\">\n",
       "      <th></th>\n",
       "      <th>monthlycharges</th>\n",
       "    </tr>\n",
       "  </thead>\n",
       "  <tbody>\n",
       "    <tr>\n",
       "      <th>count</th>\n",
       "      <td>7043.000000</td>\n",
       "    </tr>\n",
       "    <tr>\n",
       "      <th>mean</th>\n",
       "      <td>64.761692</td>\n",
       "    </tr>\n",
       "    <tr>\n",
       "      <th>std</th>\n",
       "      <td>30.090047</td>\n",
       "    </tr>\n",
       "    <tr>\n",
       "      <th>min</th>\n",
       "      <td>18.250000</td>\n",
       "    </tr>\n",
       "    <tr>\n",
       "      <th>25%</th>\n",
       "      <td>35.500000</td>\n",
       "    </tr>\n",
       "    <tr>\n",
       "      <th>50%</th>\n",
       "      <td>70.350000</td>\n",
       "    </tr>\n",
       "    <tr>\n",
       "      <th>75%</th>\n",
       "      <td>89.850000</td>\n",
       "    </tr>\n",
       "    <tr>\n",
       "      <th>max</th>\n",
       "      <td>118.750000</td>\n",
       "    </tr>\n",
       "  </tbody>\n",
       "</table>\n",
       "</div>"
      ],
      "text/plain": [
       "       monthlycharges\n",
       "count     7043.000000\n",
       "mean        64.761692\n",
       "std         30.090047\n",
       "min         18.250000\n",
       "25%         35.500000\n",
       "50%         70.350000\n",
       "75%         89.850000\n",
       "max        118.750000"
      ]
     },
     "metadata": {},
     "output_type": "display_data"
    },
    {
     "name": "stdout",
     "output_type": "stream",
     "text": [
      "Пропусков в датафрейме:  begindate           0\n",
      "enddate             0\n",
      "type                0\n",
      "paperlessbilling    0\n",
      "paymentmethod       0\n",
      "monthlycharges      0\n",
      "totalcharges        0\n",
      "dtype: int64\n",
      "\n",
      "Количество явных дубликатов в датафрейме: 37\n"
     ]
    }
   ],
   "source": [
    "data_info(contract_df)"
   ]
  },
  {
   "cell_type": "code",
   "execution_count": 5,
   "id": "9dd47b3a",
   "metadata": {
    "scrolled": true
   },
   "outputs": [
    {
     "name": "stdout",
     "output_type": "stream",
     "text": [
      "<class 'pandas.core.frame.DataFrame'>\n",
      "Index: 7043 entries, 7590-VHVEG to 3186-AJIEK\n",
      "Data columns (total 4 columns):\n",
      " #   Column         Non-Null Count  Dtype \n",
      "---  ------         --------------  ----- \n",
      " 0   gender         7043 non-null   object\n",
      " 1   seniorcitizen  7043 non-null   int64 \n",
      " 2   partner        7043 non-null   object\n",
      " 3   dependents     7043 non-null   object\n",
      "dtypes: int64(1), object(3)\n",
      "memory usage: 275.1+ KB\n",
      "None\n"
     ]
    },
    {
     "data": {
      "text/html": [
       "<div>\n",
       "<style scoped>\n",
       "    .dataframe tbody tr th:only-of-type {\n",
       "        vertical-align: middle;\n",
       "    }\n",
       "\n",
       "    .dataframe tbody tr th {\n",
       "        vertical-align: top;\n",
       "    }\n",
       "\n",
       "    .dataframe thead th {\n",
       "        text-align: right;\n",
       "    }\n",
       "</style>\n",
       "<table border=\"1\" class=\"dataframe\">\n",
       "  <thead>\n",
       "    <tr style=\"text-align: right;\">\n",
       "      <th></th>\n",
       "      <th>gender</th>\n",
       "      <th>seniorcitizen</th>\n",
       "      <th>partner</th>\n",
       "      <th>dependents</th>\n",
       "    </tr>\n",
       "    <tr>\n",
       "      <th>customerID</th>\n",
       "      <th></th>\n",
       "      <th></th>\n",
       "      <th></th>\n",
       "      <th></th>\n",
       "    </tr>\n",
       "  </thead>\n",
       "  <tbody>\n",
       "    <tr>\n",
       "      <th>7590-VHVEG</th>\n",
       "      <td>Female</td>\n",
       "      <td>0</td>\n",
       "      <td>Yes</td>\n",
       "      <td>No</td>\n",
       "    </tr>\n",
       "    <tr>\n",
       "      <th>5575-GNVDE</th>\n",
       "      <td>Male</td>\n",
       "      <td>0</td>\n",
       "      <td>No</td>\n",
       "      <td>No</td>\n",
       "    </tr>\n",
       "    <tr>\n",
       "      <th>3668-QPYBK</th>\n",
       "      <td>Male</td>\n",
       "      <td>0</td>\n",
       "      <td>No</td>\n",
       "      <td>No</td>\n",
       "    </tr>\n",
       "    <tr>\n",
       "      <th>7795-CFOCW</th>\n",
       "      <td>Male</td>\n",
       "      <td>0</td>\n",
       "      <td>No</td>\n",
       "      <td>No</td>\n",
       "    </tr>\n",
       "    <tr>\n",
       "      <th>9237-HQITU</th>\n",
       "      <td>Female</td>\n",
       "      <td>0</td>\n",
       "      <td>No</td>\n",
       "      <td>No</td>\n",
       "    </tr>\n",
       "  </tbody>\n",
       "</table>\n",
       "</div>"
      ],
      "text/plain": [
       "            gender  seniorcitizen partner dependents\n",
       "customerID                                          \n",
       "7590-VHVEG  Female              0     Yes         No\n",
       "5575-GNVDE    Male              0      No         No\n",
       "3668-QPYBK    Male              0      No         No\n",
       "7795-CFOCW    Male              0      No         No\n",
       "9237-HQITU  Female              0      No         No"
      ]
     },
     "metadata": {},
     "output_type": "display_data"
    },
    {
     "data": {
      "text/html": [
       "<div>\n",
       "<style scoped>\n",
       "    .dataframe tbody tr th:only-of-type {\n",
       "        vertical-align: middle;\n",
       "    }\n",
       "\n",
       "    .dataframe tbody tr th {\n",
       "        vertical-align: top;\n",
       "    }\n",
       "\n",
       "    .dataframe thead th {\n",
       "        text-align: right;\n",
       "    }\n",
       "</style>\n",
       "<table border=\"1\" class=\"dataframe\">\n",
       "  <thead>\n",
       "    <tr style=\"text-align: right;\">\n",
       "      <th></th>\n",
       "      <th>gender</th>\n",
       "      <th>seniorcitizen</th>\n",
       "      <th>partner</th>\n",
       "      <th>dependents</th>\n",
       "    </tr>\n",
       "    <tr>\n",
       "      <th>customerID</th>\n",
       "      <th></th>\n",
       "      <th></th>\n",
       "      <th></th>\n",
       "      <th></th>\n",
       "    </tr>\n",
       "  </thead>\n",
       "  <tbody>\n",
       "    <tr>\n",
       "      <th>6840-RESVB</th>\n",
       "      <td>Male</td>\n",
       "      <td>0</td>\n",
       "      <td>Yes</td>\n",
       "      <td>Yes</td>\n",
       "    </tr>\n",
       "    <tr>\n",
       "      <th>2234-XADUH</th>\n",
       "      <td>Female</td>\n",
       "      <td>0</td>\n",
       "      <td>Yes</td>\n",
       "      <td>Yes</td>\n",
       "    </tr>\n",
       "    <tr>\n",
       "      <th>4801-JZAZL</th>\n",
       "      <td>Female</td>\n",
       "      <td>0</td>\n",
       "      <td>Yes</td>\n",
       "      <td>Yes</td>\n",
       "    </tr>\n",
       "    <tr>\n",
       "      <th>8361-LTMKD</th>\n",
       "      <td>Male</td>\n",
       "      <td>1</td>\n",
       "      <td>Yes</td>\n",
       "      <td>No</td>\n",
       "    </tr>\n",
       "    <tr>\n",
       "      <th>3186-AJIEK</th>\n",
       "      <td>Male</td>\n",
       "      <td>0</td>\n",
       "      <td>No</td>\n",
       "      <td>No</td>\n",
       "    </tr>\n",
       "  </tbody>\n",
       "</table>\n",
       "</div>"
      ],
      "text/plain": [
       "            gender  seniorcitizen partner dependents\n",
       "customerID                                          \n",
       "6840-RESVB    Male              0     Yes        Yes\n",
       "2234-XADUH  Female              0     Yes        Yes\n",
       "4801-JZAZL  Female              0     Yes        Yes\n",
       "8361-LTMKD    Male              1     Yes         No\n",
       "3186-AJIEK    Male              0      No         No"
      ]
     },
     "metadata": {},
     "output_type": "display_data"
    },
    {
     "data": {
      "text/html": [
       "<div>\n",
       "<style scoped>\n",
       "    .dataframe tbody tr th:only-of-type {\n",
       "        vertical-align: middle;\n",
       "    }\n",
       "\n",
       "    .dataframe tbody tr th {\n",
       "        vertical-align: top;\n",
       "    }\n",
       "\n",
       "    .dataframe thead th {\n",
       "        text-align: right;\n",
       "    }\n",
       "</style>\n",
       "<table border=\"1\" class=\"dataframe\">\n",
       "  <thead>\n",
       "    <tr style=\"text-align: right;\">\n",
       "      <th></th>\n",
       "      <th>seniorcitizen</th>\n",
       "    </tr>\n",
       "  </thead>\n",
       "  <tbody>\n",
       "    <tr>\n",
       "      <th>count</th>\n",
       "      <td>7043.000000</td>\n",
       "    </tr>\n",
       "    <tr>\n",
       "      <th>mean</th>\n",
       "      <td>0.162147</td>\n",
       "    </tr>\n",
       "    <tr>\n",
       "      <th>std</th>\n",
       "      <td>0.368612</td>\n",
       "    </tr>\n",
       "    <tr>\n",
       "      <th>min</th>\n",
       "      <td>0.000000</td>\n",
       "    </tr>\n",
       "    <tr>\n",
       "      <th>25%</th>\n",
       "      <td>0.000000</td>\n",
       "    </tr>\n",
       "    <tr>\n",
       "      <th>50%</th>\n",
       "      <td>0.000000</td>\n",
       "    </tr>\n",
       "    <tr>\n",
       "      <th>75%</th>\n",
       "      <td>0.000000</td>\n",
       "    </tr>\n",
       "    <tr>\n",
       "      <th>max</th>\n",
       "      <td>1.000000</td>\n",
       "    </tr>\n",
       "  </tbody>\n",
       "</table>\n",
       "</div>"
      ],
      "text/plain": [
       "       seniorcitizen\n",
       "count    7043.000000\n",
       "mean        0.162147\n",
       "std         0.368612\n",
       "min         0.000000\n",
       "25%         0.000000\n",
       "50%         0.000000\n",
       "75%         0.000000\n",
       "max         1.000000"
      ]
     },
     "metadata": {},
     "output_type": "display_data"
    },
    {
     "name": "stdout",
     "output_type": "stream",
     "text": [
      "Пропусков в датафрейме:  gender           0\n",
      "seniorcitizen    0\n",
      "partner          0\n",
      "dependents       0\n",
      "dtype: int64\n",
      "\n",
      "Количество явных дубликатов в датафрейме: 7027\n"
     ]
    }
   ],
   "source": [
    "data_info(personal_df)"
   ]
  },
  {
   "cell_type": "code",
   "execution_count": 6,
   "id": "ffaae113",
   "metadata": {
    "scrolled": true
   },
   "outputs": [
    {
     "name": "stdout",
     "output_type": "stream",
     "text": [
      "<class 'pandas.core.frame.DataFrame'>\n",
      "Index: 5517 entries, 7590-VHVEG to 3186-AJIEK\n",
      "Data columns (total 7 columns):\n",
      " #   Column            Non-Null Count  Dtype \n",
      "---  ------            --------------  ----- \n",
      " 0   internetservice   5517 non-null   object\n",
      " 1   onlinesecurity    5517 non-null   object\n",
      " 2   onlinebackup      5517 non-null   object\n",
      " 3   deviceprotection  5517 non-null   object\n",
      " 4   techsupport       5517 non-null   object\n",
      " 5   streamingtv       5517 non-null   object\n",
      " 6   streamingmovies   5517 non-null   object\n",
      "dtypes: object(7)\n",
      "memory usage: 344.8+ KB\n",
      "None\n"
     ]
    },
    {
     "data": {
      "text/html": [
       "<div>\n",
       "<style scoped>\n",
       "    .dataframe tbody tr th:only-of-type {\n",
       "        vertical-align: middle;\n",
       "    }\n",
       "\n",
       "    .dataframe tbody tr th {\n",
       "        vertical-align: top;\n",
       "    }\n",
       "\n",
       "    .dataframe thead th {\n",
       "        text-align: right;\n",
       "    }\n",
       "</style>\n",
       "<table border=\"1\" class=\"dataframe\">\n",
       "  <thead>\n",
       "    <tr style=\"text-align: right;\">\n",
       "      <th></th>\n",
       "      <th>internetservice</th>\n",
       "      <th>onlinesecurity</th>\n",
       "      <th>onlinebackup</th>\n",
       "      <th>deviceprotection</th>\n",
       "      <th>techsupport</th>\n",
       "      <th>streamingtv</th>\n",
       "      <th>streamingmovies</th>\n",
       "    </tr>\n",
       "    <tr>\n",
       "      <th>customerID</th>\n",
       "      <th></th>\n",
       "      <th></th>\n",
       "      <th></th>\n",
       "      <th></th>\n",
       "      <th></th>\n",
       "      <th></th>\n",
       "      <th></th>\n",
       "    </tr>\n",
       "  </thead>\n",
       "  <tbody>\n",
       "    <tr>\n",
       "      <th>7590-VHVEG</th>\n",
       "      <td>DSL</td>\n",
       "      <td>No</td>\n",
       "      <td>Yes</td>\n",
       "      <td>No</td>\n",
       "      <td>No</td>\n",
       "      <td>No</td>\n",
       "      <td>No</td>\n",
       "    </tr>\n",
       "    <tr>\n",
       "      <th>5575-GNVDE</th>\n",
       "      <td>DSL</td>\n",
       "      <td>Yes</td>\n",
       "      <td>No</td>\n",
       "      <td>Yes</td>\n",
       "      <td>No</td>\n",
       "      <td>No</td>\n",
       "      <td>No</td>\n",
       "    </tr>\n",
       "    <tr>\n",
       "      <th>3668-QPYBK</th>\n",
       "      <td>DSL</td>\n",
       "      <td>Yes</td>\n",
       "      <td>Yes</td>\n",
       "      <td>No</td>\n",
       "      <td>No</td>\n",
       "      <td>No</td>\n",
       "      <td>No</td>\n",
       "    </tr>\n",
       "    <tr>\n",
       "      <th>7795-CFOCW</th>\n",
       "      <td>DSL</td>\n",
       "      <td>Yes</td>\n",
       "      <td>No</td>\n",
       "      <td>Yes</td>\n",
       "      <td>Yes</td>\n",
       "      <td>No</td>\n",
       "      <td>No</td>\n",
       "    </tr>\n",
       "    <tr>\n",
       "      <th>9237-HQITU</th>\n",
       "      <td>Fiber optic</td>\n",
       "      <td>No</td>\n",
       "      <td>No</td>\n",
       "      <td>No</td>\n",
       "      <td>No</td>\n",
       "      <td>No</td>\n",
       "      <td>No</td>\n",
       "    </tr>\n",
       "  </tbody>\n",
       "</table>\n",
       "</div>"
      ],
      "text/plain": [
       "           internetservice onlinesecurity onlinebackup deviceprotection  \\\n",
       "customerID                                                                \n",
       "7590-VHVEG             DSL             No          Yes               No   \n",
       "5575-GNVDE             DSL            Yes           No              Yes   \n",
       "3668-QPYBK             DSL            Yes          Yes               No   \n",
       "7795-CFOCW             DSL            Yes           No              Yes   \n",
       "9237-HQITU     Fiber optic             No           No               No   \n",
       "\n",
       "           techsupport streamingtv streamingmovies  \n",
       "customerID                                          \n",
       "7590-VHVEG          No          No              No  \n",
       "5575-GNVDE          No          No              No  \n",
       "3668-QPYBK          No          No              No  \n",
       "7795-CFOCW         Yes          No              No  \n",
       "9237-HQITU          No          No              No  "
      ]
     },
     "metadata": {},
     "output_type": "display_data"
    },
    {
     "data": {
      "text/html": [
       "<div>\n",
       "<style scoped>\n",
       "    .dataframe tbody tr th:only-of-type {\n",
       "        vertical-align: middle;\n",
       "    }\n",
       "\n",
       "    .dataframe tbody tr th {\n",
       "        vertical-align: top;\n",
       "    }\n",
       "\n",
       "    .dataframe thead th {\n",
       "        text-align: right;\n",
       "    }\n",
       "</style>\n",
       "<table border=\"1\" class=\"dataframe\">\n",
       "  <thead>\n",
       "    <tr style=\"text-align: right;\">\n",
       "      <th></th>\n",
       "      <th>internetservice</th>\n",
       "      <th>onlinesecurity</th>\n",
       "      <th>onlinebackup</th>\n",
       "      <th>deviceprotection</th>\n",
       "      <th>techsupport</th>\n",
       "      <th>streamingtv</th>\n",
       "      <th>streamingmovies</th>\n",
       "    </tr>\n",
       "    <tr>\n",
       "      <th>customerID</th>\n",
       "      <th></th>\n",
       "      <th></th>\n",
       "      <th></th>\n",
       "      <th></th>\n",
       "      <th></th>\n",
       "      <th></th>\n",
       "      <th></th>\n",
       "    </tr>\n",
       "  </thead>\n",
       "  <tbody>\n",
       "    <tr>\n",
       "      <th>6840-RESVB</th>\n",
       "      <td>DSL</td>\n",
       "      <td>Yes</td>\n",
       "      <td>No</td>\n",
       "      <td>Yes</td>\n",
       "      <td>Yes</td>\n",
       "      <td>Yes</td>\n",
       "      <td>Yes</td>\n",
       "    </tr>\n",
       "    <tr>\n",
       "      <th>2234-XADUH</th>\n",
       "      <td>Fiber optic</td>\n",
       "      <td>No</td>\n",
       "      <td>Yes</td>\n",
       "      <td>Yes</td>\n",
       "      <td>No</td>\n",
       "      <td>Yes</td>\n",
       "      <td>Yes</td>\n",
       "    </tr>\n",
       "    <tr>\n",
       "      <th>4801-JZAZL</th>\n",
       "      <td>DSL</td>\n",
       "      <td>Yes</td>\n",
       "      <td>No</td>\n",
       "      <td>No</td>\n",
       "      <td>No</td>\n",
       "      <td>No</td>\n",
       "      <td>No</td>\n",
       "    </tr>\n",
       "    <tr>\n",
       "      <th>8361-LTMKD</th>\n",
       "      <td>Fiber optic</td>\n",
       "      <td>No</td>\n",
       "      <td>No</td>\n",
       "      <td>No</td>\n",
       "      <td>No</td>\n",
       "      <td>No</td>\n",
       "      <td>No</td>\n",
       "    </tr>\n",
       "    <tr>\n",
       "      <th>3186-AJIEK</th>\n",
       "      <td>Fiber optic</td>\n",
       "      <td>Yes</td>\n",
       "      <td>No</td>\n",
       "      <td>Yes</td>\n",
       "      <td>Yes</td>\n",
       "      <td>Yes</td>\n",
       "      <td>Yes</td>\n",
       "    </tr>\n",
       "  </tbody>\n",
       "</table>\n",
       "</div>"
      ],
      "text/plain": [
       "           internetservice onlinesecurity onlinebackup deviceprotection  \\\n",
       "customerID                                                                \n",
       "6840-RESVB             DSL            Yes           No              Yes   \n",
       "2234-XADUH     Fiber optic             No          Yes              Yes   \n",
       "4801-JZAZL             DSL            Yes           No               No   \n",
       "8361-LTMKD     Fiber optic             No           No               No   \n",
       "3186-AJIEK     Fiber optic            Yes           No              Yes   \n",
       "\n",
       "           techsupport streamingtv streamingmovies  \n",
       "customerID                                          \n",
       "6840-RESVB         Yes         Yes             Yes  \n",
       "2234-XADUH          No         Yes             Yes  \n",
       "4801-JZAZL          No          No              No  \n",
       "8361-LTMKD          No          No              No  \n",
       "3186-AJIEK         Yes         Yes             Yes  "
      ]
     },
     "metadata": {},
     "output_type": "display_data"
    },
    {
     "data": {
      "text/html": [
       "<div>\n",
       "<style scoped>\n",
       "    .dataframe tbody tr th:only-of-type {\n",
       "        vertical-align: middle;\n",
       "    }\n",
       "\n",
       "    .dataframe tbody tr th {\n",
       "        vertical-align: top;\n",
       "    }\n",
       "\n",
       "    .dataframe thead th {\n",
       "        text-align: right;\n",
       "    }\n",
       "</style>\n",
       "<table border=\"1\" class=\"dataframe\">\n",
       "  <thead>\n",
       "    <tr style=\"text-align: right;\">\n",
       "      <th></th>\n",
       "      <th>internetservice</th>\n",
       "      <th>onlinesecurity</th>\n",
       "      <th>onlinebackup</th>\n",
       "      <th>deviceprotection</th>\n",
       "      <th>techsupport</th>\n",
       "      <th>streamingtv</th>\n",
       "      <th>streamingmovies</th>\n",
       "    </tr>\n",
       "  </thead>\n",
       "  <tbody>\n",
       "    <tr>\n",
       "      <th>count</th>\n",
       "      <td>5517</td>\n",
       "      <td>5517</td>\n",
       "      <td>5517</td>\n",
       "      <td>5517</td>\n",
       "      <td>5517</td>\n",
       "      <td>5517</td>\n",
       "      <td>5517</td>\n",
       "    </tr>\n",
       "    <tr>\n",
       "      <th>unique</th>\n",
       "      <td>2</td>\n",
       "      <td>2</td>\n",
       "      <td>2</td>\n",
       "      <td>2</td>\n",
       "      <td>2</td>\n",
       "      <td>2</td>\n",
       "      <td>2</td>\n",
       "    </tr>\n",
       "    <tr>\n",
       "      <th>top</th>\n",
       "      <td>Fiber optic</td>\n",
       "      <td>No</td>\n",
       "      <td>No</td>\n",
       "      <td>No</td>\n",
       "      <td>No</td>\n",
       "      <td>No</td>\n",
       "      <td>No</td>\n",
       "    </tr>\n",
       "    <tr>\n",
       "      <th>freq</th>\n",
       "      <td>3096</td>\n",
       "      <td>3498</td>\n",
       "      <td>3088</td>\n",
       "      <td>3095</td>\n",
       "      <td>3473</td>\n",
       "      <td>2810</td>\n",
       "      <td>2785</td>\n",
       "    </tr>\n",
       "  </tbody>\n",
       "</table>\n",
       "</div>"
      ],
      "text/plain": [
       "       internetservice onlinesecurity onlinebackup deviceprotection  \\\n",
       "count             5517           5517         5517             5517   \n",
       "unique               2              2            2                2   \n",
       "top        Fiber optic             No           No               No   \n",
       "freq              3096           3498         3088             3095   \n",
       "\n",
       "       techsupport streamingtv streamingmovies  \n",
       "count         5517        5517            5517  \n",
       "unique           2           2               2  \n",
       "top             No          No              No  \n",
       "freq          3473        2810            2785  "
      ]
     },
     "metadata": {},
     "output_type": "display_data"
    },
    {
     "name": "stdout",
     "output_type": "stream",
     "text": [
      "Пропусков в датафрейме:  internetservice     0\n",
      "onlinesecurity      0\n",
      "onlinebackup        0\n",
      "deviceprotection    0\n",
      "techsupport         0\n",
      "streamingtv         0\n",
      "streamingmovies     0\n",
      "dtype: int64\n",
      "\n",
      "Количество явных дубликатов в датафрейме: 5389\n"
     ]
    }
   ],
   "source": [
    "data_info(internet_df)"
   ]
  },
  {
   "cell_type": "code",
   "execution_count": 7,
   "id": "b80905ee",
   "metadata": {
    "scrolled": true
   },
   "outputs": [
    {
     "name": "stdout",
     "output_type": "stream",
     "text": [
      "<class 'pandas.core.frame.DataFrame'>\n",
      "Index: 6361 entries, 5575-GNVDE to 3186-AJIEK\n",
      "Data columns (total 1 columns):\n",
      " #   Column         Non-Null Count  Dtype \n",
      "---  ------         --------------  ----- \n",
      " 0   multiplelines  6361 non-null   object\n",
      "dtypes: object(1)\n",
      "memory usage: 99.4+ KB\n",
      "None\n"
     ]
    },
    {
     "data": {
      "text/html": [
       "<div>\n",
       "<style scoped>\n",
       "    .dataframe tbody tr th:only-of-type {\n",
       "        vertical-align: middle;\n",
       "    }\n",
       "\n",
       "    .dataframe tbody tr th {\n",
       "        vertical-align: top;\n",
       "    }\n",
       "\n",
       "    .dataframe thead th {\n",
       "        text-align: right;\n",
       "    }\n",
       "</style>\n",
       "<table border=\"1\" class=\"dataframe\">\n",
       "  <thead>\n",
       "    <tr style=\"text-align: right;\">\n",
       "      <th></th>\n",
       "      <th>multiplelines</th>\n",
       "    </tr>\n",
       "    <tr>\n",
       "      <th>customerID</th>\n",
       "      <th></th>\n",
       "    </tr>\n",
       "  </thead>\n",
       "  <tbody>\n",
       "    <tr>\n",
       "      <th>5575-GNVDE</th>\n",
       "      <td>No</td>\n",
       "    </tr>\n",
       "    <tr>\n",
       "      <th>3668-QPYBK</th>\n",
       "      <td>No</td>\n",
       "    </tr>\n",
       "    <tr>\n",
       "      <th>9237-HQITU</th>\n",
       "      <td>No</td>\n",
       "    </tr>\n",
       "    <tr>\n",
       "      <th>9305-CDSKC</th>\n",
       "      <td>Yes</td>\n",
       "    </tr>\n",
       "    <tr>\n",
       "      <th>1452-KIOVK</th>\n",
       "      <td>Yes</td>\n",
       "    </tr>\n",
       "  </tbody>\n",
       "</table>\n",
       "</div>"
      ],
      "text/plain": [
       "           multiplelines\n",
       "customerID              \n",
       "5575-GNVDE            No\n",
       "3668-QPYBK            No\n",
       "9237-HQITU            No\n",
       "9305-CDSKC           Yes\n",
       "1452-KIOVK           Yes"
      ]
     },
     "metadata": {},
     "output_type": "display_data"
    },
    {
     "data": {
      "text/html": [
       "<div>\n",
       "<style scoped>\n",
       "    .dataframe tbody tr th:only-of-type {\n",
       "        vertical-align: middle;\n",
       "    }\n",
       "\n",
       "    .dataframe tbody tr th {\n",
       "        vertical-align: top;\n",
       "    }\n",
       "\n",
       "    .dataframe thead th {\n",
       "        text-align: right;\n",
       "    }\n",
       "</style>\n",
       "<table border=\"1\" class=\"dataframe\">\n",
       "  <thead>\n",
       "    <tr style=\"text-align: right;\">\n",
       "      <th></th>\n",
       "      <th>multiplelines</th>\n",
       "    </tr>\n",
       "    <tr>\n",
       "      <th>customerID</th>\n",
       "      <th></th>\n",
       "    </tr>\n",
       "  </thead>\n",
       "  <tbody>\n",
       "    <tr>\n",
       "      <th>2569-WGERO</th>\n",
       "      <td>No</td>\n",
       "    </tr>\n",
       "    <tr>\n",
       "      <th>6840-RESVB</th>\n",
       "      <td>Yes</td>\n",
       "    </tr>\n",
       "    <tr>\n",
       "      <th>2234-XADUH</th>\n",
       "      <td>Yes</td>\n",
       "    </tr>\n",
       "    <tr>\n",
       "      <th>8361-LTMKD</th>\n",
       "      <td>Yes</td>\n",
       "    </tr>\n",
       "    <tr>\n",
       "      <th>3186-AJIEK</th>\n",
       "      <td>No</td>\n",
       "    </tr>\n",
       "  </tbody>\n",
       "</table>\n",
       "</div>"
      ],
      "text/plain": [
       "           multiplelines\n",
       "customerID              \n",
       "2569-WGERO            No\n",
       "6840-RESVB           Yes\n",
       "2234-XADUH           Yes\n",
       "8361-LTMKD           Yes\n",
       "3186-AJIEK            No"
      ]
     },
     "metadata": {},
     "output_type": "display_data"
    },
    {
     "data": {
      "text/html": [
       "<div>\n",
       "<style scoped>\n",
       "    .dataframe tbody tr th:only-of-type {\n",
       "        vertical-align: middle;\n",
       "    }\n",
       "\n",
       "    .dataframe tbody tr th {\n",
       "        vertical-align: top;\n",
       "    }\n",
       "\n",
       "    .dataframe thead th {\n",
       "        text-align: right;\n",
       "    }\n",
       "</style>\n",
       "<table border=\"1\" class=\"dataframe\">\n",
       "  <thead>\n",
       "    <tr style=\"text-align: right;\">\n",
       "      <th></th>\n",
       "      <th>multiplelines</th>\n",
       "    </tr>\n",
       "  </thead>\n",
       "  <tbody>\n",
       "    <tr>\n",
       "      <th>count</th>\n",
       "      <td>6361</td>\n",
       "    </tr>\n",
       "    <tr>\n",
       "      <th>unique</th>\n",
       "      <td>2</td>\n",
       "    </tr>\n",
       "    <tr>\n",
       "      <th>top</th>\n",
       "      <td>No</td>\n",
       "    </tr>\n",
       "    <tr>\n",
       "      <th>freq</th>\n",
       "      <td>3390</td>\n",
       "    </tr>\n",
       "  </tbody>\n",
       "</table>\n",
       "</div>"
      ],
      "text/plain": [
       "       multiplelines\n",
       "count           6361\n",
       "unique             2\n",
       "top               No\n",
       "freq            3390"
      ]
     },
     "metadata": {},
     "output_type": "display_data"
    },
    {
     "name": "stdout",
     "output_type": "stream",
     "text": [
      "Пропусков в датафрейме:  multiplelines    0\n",
      "dtype: int64\n",
      "\n",
      "Количество явных дубликатов в датафрейме: 6359\n"
     ]
    }
   ],
   "source": [
    "data_info(phone_df)"
   ]
  },
  {
   "cell_type": "markdown",
   "id": "39c03959",
   "metadata": {},
   "source": [
    "### Промежуточный вывод по загрузке данных:\n",
    "\n",
    "Все четыре предоставленных датасета без пропусков. Первичный осмотр указывает на дубликаты, но это скорее похожие абонентские планы, на данном этапе удалять их не будем, после объединения таблиц сделаем повторный анализ. Во всех датасетах столбцы начинаются с большой буквы, нужно привести их к нижнему регистру(я уже это сделал при загрузке данных). Также следует выдать правильные типы данных для каждой из колонок."
   ]
  },
  {
   "cell_type": "markdown",
   "id": "8f2dba33",
   "metadata": {},
   "source": [
    "## EDA и предобработка данных"
   ]
  },
  {
   "cell_type": "markdown",
   "id": "ae725db0",
   "metadata": {},
   "source": [
    "Выполним предобработку. Для этого преобразуем типы данных в столбцах в каждом из датасетов."
   ]
  },
  {
   "cell_type": "markdown",
   "id": "7fd33f29",
   "metadata": {},
   "source": [
    "В первом датасете, в столбце enddate данные представлены не только датой, но и строкой \"No\" для пользователей, у которых нет даты окончания договора. Выделим отдельный столбец."
   ]
  },
  {
   "cell_type": "code",
   "execution_count": 8,
   "id": "29aa8bb5",
   "metadata": {
    "scrolled": true
   },
   "outputs": [],
   "source": [
    "contract_df['begindate'] = pd.to_datetime(contract_df['begindate'])\n",
    "\n",
    "contract_df['type'] = contract_df['type'].astype('category')\n",
    "contract_df['paperlessbilling'] = contract_df['paperlessbilling'].astype('bool')\n",
    "contract_df['paymentmethod'] = contract_df['paymentmethod'].astype('category')\n",
    "contract_df['monthlycharges'] = contract_df['monthlycharges'].astype('float')\n",
    "contract_df['totalcharges'] = pd.to_numeric(contract_df['totalcharges'].str.replace(' ', ''), errors='coerce')"
   ]
  },
  {
   "cell_type": "markdown",
   "id": "ecedd46b",
   "metadata": {},
   "source": [
    "Переходим ко второму датасету. Исходя из осмотра данных, следует сделать такие преобразования:"
   ]
  },
  {
   "cell_type": "code",
   "execution_count": 9,
   "id": "d0bc3364",
   "metadata": {},
   "outputs": [],
   "source": [
    "# Преобразование типов\n",
    "personal_df['gender'] = personal_df['gender'].astype('category')\n",
    "personal_df['seniorcitizen'] = personal_df['seniorcitizen'].astype('bool')\n",
    "personal_df['partner'] = personal_df['partner'].replace({'Yes': True, 'No': False}).astype('bool')\n",
    "personal_df['dependents'] = personal_df['dependents'].replace({'Yes': True, 'No': False}).astype('bool')"
   ]
  },
  {
   "cell_type": "markdown",
   "id": "c87232e4",
   "metadata": {},
   "source": [
    "Третий датасет."
   ]
  },
  {
   "cell_type": "code",
   "execution_count": 10,
   "id": "8000846e",
   "metadata": {},
   "outputs": [],
   "source": [
    "# Преобразование типов\n",
    "internet_df['internetservice'] = internet_df['internetservice'].astype('category')\n",
    "\n",
    "for col in ['onlinesecurity', 'onlinebackup', 'deviceprotection', 'techsupport', 'streamingtv', 'streamingmovies']:\n",
    "    internet_df[col] = internet_df[col].replace({'Yes': True, 'No': False}).astype('bool')"
   ]
  },
  {
   "cell_type": "code",
   "execution_count": 11,
   "id": "4fb5c81a",
   "metadata": {},
   "outputs": [],
   "source": [
    "# Четвертый датасет\n",
    "phone_df['multiplelines'] = phone_df['multiplelines'].replace({'Yes': True, 'No': False}).astype('bool')"
   ]
  },
  {
   "cell_type": "markdown",
   "id": "43aaf917",
   "metadata": {},
   "source": [
    "### Визуализируем признаки\n",
    "\n",
    "Датасет contract_df"
   ]
  },
  {
   "cell_type": "code",
   "execution_count": 12,
   "id": "3ac3228f",
   "metadata": {
    "scrolled": true
   },
   "outputs": [
    {
     "data": {
      "image/png": "[encoded data removed]",
      "text/plain": [
       "<Figure size 1080x864 with 4 Axes>"
      ]
     },
     "metadata": {},
     "output_type": "display_data"
    }
   ],
   "source": [
    "# Настройка стиля\n",
    "plt.style.use('seaborn')\n",
    "plt.rcParams['figure.figsize'] = (15, 12)\n",
    "\n",
    "# Создаем 2x2 сетку графиков\n",
    "fig, axes = plt.subplots(nrows=2, ncols=2, constrained_layout=True)\n",
    "\n",
    "# 1. Распределение monthlycharges\n",
    "sns.histplot(data=contract_df, x='monthlycharges', kde=True, bins=30, ax=axes[0, 0])\n",
    "axes[0, 0].set_title('1. Распределение месячных расходов', pad=15)\n",
    "\n",
    "# 2. Распределение totalcharges\n",
    "sns.histplot(data=contract_df, x='totalcharges', kde=True, bins=30, ax=axes[0, 1])\n",
    "axes[0, 1].set_title('2. Распределение общих расходов', pad=15)\n",
    "\n",
    "# 3. Связь monthlycharges и totalcharges\n",
    "sns.scatterplot(data=contract_df, x='monthlycharges', y='totalcharges', alpha=0.5, ax=axes[1, 0])\n",
    "axes[1, 0].set_title('3. Месячные vs общие расходы', pad=15)\n",
    "\n",
    "# 4. Boxplot по типам договора\n",
    "sns.boxplot(data=contract_df, x='type', y='monthlycharges', ax=axes[1, 1])\n",
    "axes[1, 1].set_title('4. Расходы по типам договора', pad=15)\n",
    "axes[1, 1].tick_params(axis='x', rotation=15)\n",
    "\n",
    "plt.suptitle('Анализ расходов клиентов (contract_df)', y=1.02, fontsize=16)\n",
    "plt.show()"
   ]
  },
  {
   "cell_type": "code",
   "execution_count": 13,
   "id": "68663974",
   "metadata": {
    "scrolled": true
   },
   "outputs": [
    {
     "data": {
      "image/png": "[encoded data removed]",
      "text/plain": [
       "<Figure size 1080x864 with 4 Axes>"
      ]
     },
     "metadata": {},
     "output_type": "display_data"
    }
   ],
   "source": [
    "# из датасета personal_df попробуем создать портрет пользователя\n",
    "# Настройка стиля\n",
    "plt.style.use('seaborn')\n",
    "fig, axes = plt.subplots(2, 2, figsize=(15, 12))\n",
    "\n",
    "# График 1: Пол (gender)\n",
    "sns.countplot(data=personal_df, x='gender', ax=axes[0, 0])\n",
    "axes[0, 0].set_title('1. Распределение по полу', pad=15)\n",
    "\n",
    "# График 2: Пенсионеры (SeniorCitizen)\n",
    "sns.countplot(data=personal_df, x='seniorcitizen', ax=axes[0, 1])\n",
    "axes[0, 1].set_title('2. Доля пенсионеров', pad=15)\n",
    "axes[0, 1].set_xticklabels(['Нет', 'Да'])\n",
    "\n",
    "# График 3: Наличие партнёра (Partner)\n",
    "sns.countplot(data=personal_df, x='partner', ax=axes[1, 0])\n",
    "axes[1, 0].set_title('3. Наличие супруга/и', pad=15)\n",
    "axes[1, 0].set_xticklabels(['Нет', 'Да'])\n",
    "\n",
    "# График 4: Наличие детей (Dependents)\n",
    "sns.countplot(data=personal_df, x='dependents', ax=axes[1, 1])\n",
    "axes[1, 1].set_title('4. Наличие детей', pad=15)\n",
    "axes[1, 1].set_xticklabels(['Нет', 'Да'])\n",
    "\n",
    "plt.suptitle('Демографические характеристики клиентов (personal_df)', y=1.02, fontsize=16)\n",
    "plt.tight_layout()\n",
    "plt.show()"
   ]
  },
  {
   "cell_type": "markdown",
   "id": "1771d534",
   "metadata": {},
   "source": [
    "Для датасета internet_df посмотрим на популярность услуг."
   ]
  },
  {
   "cell_type": "code",
   "execution_count": 14,
   "id": "71c40e16",
   "metadata": {},
   "outputs": [
    {
     "data": {
      "image/png": "[encoded data removed]",
      "text/plain": [
       "<Figure size 576x360 with 1 Axes>"
      ]
     },
     "metadata": {},
     "output_type": "display_data"
    }
   ],
   "source": [
    "plt.figure(figsize=(8, 5))\n",
    "sns.countplot(data=internet_df, x='internetservice', order=internet_df['internetservice'].value_counts().index)\n",
    "plt.title('Распределение типов интернет-услуг')\n",
    "plt.xlabel('Тип услуги')\n",
    "plt.ylabel('Количество клиентов')\n",
    "plt.show()"
   ]
  },
  {
   "cell_type": "code",
   "execution_count": 15,
   "id": "8f702882",
   "metadata": {
    "scrolled": true
   },
   "outputs": [
    {
     "data": {
      "image/png": "[encoded data removed]",
      "text/plain": [
       "<Figure size 864x432 with 5 Axes>"
      ]
     },
     "metadata": {},
     "output_type": "display_data"
    }
   ],
   "source": [
    "services = ['onlinesecurity', 'onlinebackup', 'techsupport', 'streamingtv', 'streamingmovies']\n",
    "plt.figure(figsize=(12, 6))\n",
    "for i, col in enumerate(services, 1):\n",
    "    plt.subplot(2, 3, i)\n",
    "    sns.countplot(data=internet_df, x=col, hue='internetservice', dodge=True)\n",
    "    plt.title(col)\n",
    "plt.tight_layout()\n",
    "plt.show()"
   ]
  },
  {
   "cell_type": "code",
   "execution_count": 16,
   "id": "033890fd",
   "metadata": {
    "scrolled": true
   },
   "outputs": [
    {
     "data": {
      "image/png": "[encoded data removed]",
      "text/plain": [
       "<Figure size 576x396 with 1 Axes>"
      ]
     },
     "metadata": {},
     "output_type": "display_data"
    }
   ],
   "source": [
    "# для phone_df посчитаем количество клиентов с многоканальной связью\n",
    "# Получаем количество значений\n",
    "counts = phone_df['multiplelines'].value_counts()\n",
    "\n",
    "# Строим график\n",
    "counts.plot(kind='bar', color=['skyblue', 'lightcoral'])\n",
    "plt.title('Распределение значений multiplelines')\n",
    "plt.xlabel('Значения')\n",
    "plt.ylabel('Количество')\n",
    "plt.xticks(rotation=0)  # Горизонтальные подписи\n",
    "plt.show()"
   ]
  },
  {
   "cell_type": "markdown",
   "id": "a4a4deb4",
   "metadata": {},
   "source": [
    "### Промежуточный вывод\n",
    "\n",
    "В ходе EDA в каждом датасете были обработаны признаки. Из очищенных данных построены графики:\n",
    "* из анализа расходов клиентов:\n",
    "- большая часть клиентов ежемесячно тратит мало\n",
    "- более 50% общих расходов до 2000 валюты\n",
    "* типичный портрет пользователя:\n",
    "- это человек до 55-60 лет, неважно какого пола и семейного положения, обычно, по большей части без детей\n",
    "\n",
    "Пользователи с оптоволокном чаще отказываются от сопутствующих услуг, отдавая предпочтение стримнговым сервисам, в то время как пользователи DSL не отдают предпочтение чему то одному.\n",
    "Количество клиентов с многоканальной связью и без нее распределено практически равномерно\n"
   ]
  },
  {
   "cell_type": "markdown",
   "id": "76a3696c",
   "metadata": {},
   "source": [
    "## Объединение данных и EDA объединенного датасета"
   ]
  },
  {
   "cell_type": "code",
   "execution_count": 17,
   "id": "88eea573",
   "metadata": {},
   "outputs": [],
   "source": [
    "final_df = contract_df.join([personal_df, internet_df, phone_df], how='left')"
   ]
  },
  {
   "cell_type": "code",
   "execution_count": 18,
   "id": "8116fb2d",
   "metadata": {
    "scrolled": true
   },
   "outputs": [],
   "source": [
    "final_df['churn'] = (final_df['enddate'] != 'No').astype(int)"
   ]
  },
  {
   "cell_type": "code",
   "execution_count": 19,
   "id": "6c0e1e91",
   "metadata": {
    "scrolled": true
   },
   "outputs": [
    {
     "data": {
      "image/png": "[encoded data removed]",
      "text/plain": [
       "<Figure size 576x288 with 1 Axes>"
      ]
     },
     "metadata": {},
     "output_type": "display_data"
    },
    {
     "name": "stdout",
     "output_type": "stream",
     "text": [
      "Доля ушедших клиентов: 0.16\n"
     ]
    }
   ],
   "source": [
    "plt.figure(figsize=(8, 4))\n",
    "sns.countplot(data=final_df, x='churn')\n",
    "plt.title('Распределение оттока (0 - активен, 1 - ушел)')\n",
    "plt.show()\n",
    "\n",
    "print(\"Доля ушедших клиентов:\", final_df['churn'].mean().round(2))"
   ]
  },
  {
   "cell_type": "markdown",
   "id": "03772028",
   "metadata": {},
   "source": [
    "В объединенном датасете появились пропуски в данных, обработаем их. Также сделаем преобразование типов данных."
   ]
  },
  {
   "cell_type": "code",
   "execution_count": 20,
   "id": "615b5f6b",
   "metadata": {},
   "outputs": [],
   "source": [
    "# Заполняем пропуски в totalcharges (если клиент новый)\n",
    "final_df['totalcharges'] = final_df['totalcharges'].fillna(0)\n",
    "\n",
    "# Пропуски в internet-услугах (когда нет интернета)\n",
    "internet_cols = ['onlinesecurity', 'onlinebackup', 'deviceprotection', \n",
    "                'techsupport', 'streamingtv', 'streamingmovies']\n",
    "final_df[internet_cols] = final_df[internet_cols].fillna('No internet service')\n",
    "\n",
    "# Пропуски в multiplelines (если нет телефона)\n",
    "final_df['multiplelines'] = final_df['multiplelines'].fillna('No phone service')"
   ]
  },
  {
   "cell_type": "code",
   "execution_count": 21,
   "id": "0632eb7c",
   "metadata": {},
   "outputs": [],
   "source": [
    "# Преобразуем Yes/No колонки в bool\n",
    "yes_no_cols = internet_cols + ['multiplelines']\n",
    "for col in yes_no_cols:\n",
    "    final_df[col] = final_df[col].replace({\n",
    "        'Yes': True, \n",
    "        'No': False,\n",
    "        'No internet service': False,\n",
    "        'No phone service': False\n",
    "    }).astype(bool)\n",
    "\n",
    "# Оптимизация категориальных признаков\n",
    "final_df['paymentmethod'] = final_df['paymentmethod'].astype('category')\n",
    "final_df['internetservice'] = final_df['internetservice'].astype('category')"
   ]
  },
  {
   "cell_type": "markdown",
   "id": "520dbb98",
   "metadata": {},
   "source": [
    "Также создадим новые признаки. Учтем, что информация о договорах актуальна на 1 февраля 2020 года."
   ]
  },
  {
   "cell_type": "code",
   "execution_count": 22,
   "id": "db54475b",
   "metadata": {
    "scrolled": true
   },
   "outputs": [],
   "source": [
    "# Фиксируем актуальную дату\n",
    "current_date = pd.to_datetime('2020-02-01')\n",
    "\n",
    "# Преобразуем enddate в datetime, заменяя 'No' на текущую дату\n",
    "final_df['enddate_clean'] = pd.to_datetime(final_df['enddate'].replace('No', current_date))\n",
    "\n",
    "final_df['tenure_months'] = ((final_df['enddate_clean'] - pd.to_datetime(final_df['begindate'])) / np.timedelta64(1, 'M')).round().astype(int)\n",
    "\n",
    "# Удаляем временный столбец\n",
    "#final_df.drop('enddate_clean', axis=1, inplace=True)"
   ]
  },
  {
   "cell_type": "code",
   "execution_count": 23,
   "id": "c0a549fb",
   "metadata": {},
   "outputs": [
    {
     "data": {
      "image/png": "[encoded data removed]",
      "text/plain": [
       "<Figure size 1296x864 with 6 Axes>"
      ]
     },
     "metadata": {},
     "output_type": "display_data"
    }
   ],
   "source": [
    "# Ушедшие клиенты churn=1, лояльные churn=0\n",
    "sns.set(style=\"whitegrid\")\n",
    "plt.figure(figsize=(18, 12))\n",
    "\n",
    "# Числовые признаки\n",
    "num_features = ['monthlycharges', 'totalcharges', 'tenure_months']\n",
    "for i, feature in enumerate(num_features, 1):\n",
    "    plt.subplot(2, 3, i)\n",
    "    sns.histplot(\n",
    "        data=final_df,\n",
    "        x=feature,\n",
    "        hue='churn',\n",
    "        element='step',\n",
    "        stat='density',\n",
    "        common_norm=False,\n",
    "        palette={0: '#66c2a5', 1: '#fc8d62'},\n",
    "        bins=20\n",
    "    )\n",
    "    plt.title(f'Распределение {feature} по оттоку')\n",
    "    plt.xlabel('')\n",
    "\n",
    "# Категориальные признаки\n",
    "cat_features = ['internetservice', 'onlinesecurity', 'techsupport']\n",
    "for i, feature in enumerate(cat_features, 4):\n",
    "    plt.subplot(2, 3, i)\n",
    "    sns.countplot(\n",
    "        data=final_df,\n",
    "        x=feature,\n",
    "        hue='churn',\n",
    "        palette={0: '#66c2a5', 1: '#fc8d62'}\n",
    "    )\n",
    "    plt.title(f'Отток по признаку {feature}')\n",
    "    plt.xticks(rotation=45)\n",
    "\n",
    "plt.tight_layout()\n",
    "plt.show()"
   ]
  },
  {
   "cell_type": "markdown",
   "id": "9909f7dc",
   "metadata": {},
   "source": [
    "Проанализируем зависимость признаков и исследуем финальный датасет на мультиколлинеарность."
   ]
  },
  {
   "cell_type": "code",
   "execution_count": 24,
   "id": "5c602993",
   "metadata": {
    "scrolled": true
   },
   "outputs": [
    {
     "name": "stdout",
     "output_type": "stream",
     "text": [
      "interval columns not set, guessing: ['monthlycharges', 'totalcharges', 'tenure_months', 'churn']\n"
     ]
    },
    {
     "data": {
      "image/png": "[encoded data removed]",
      "text/plain": [
       "<Figure size 864x720 with 2 Axes>"
      ]
     },
     "metadata": {},
     "output_type": "display_data"
    }
   ],
   "source": [
    "# Выбираем все значимые признаки\n",
    "cols_to_analyze = ['monthlycharges', 'totalcharges', 'tenure_months', \n",
    "                  'internetservice', 'paymentmethod', 'onlinesecurity',\n",
    "                  'techsupport', 'churn']\n",
    "\n",
    "# Строим полную матрицу корреляций\n",
    "plt.figure(figsize=(12, 10))\n",
    "phik_matrix = final_df[cols_to_analyze].phik_matrix()\n",
    "sns.heatmap(phik_matrix, \n",
    "            annot=True, \n",
    "            cmap='coolwarm', \n",
    "            fmt='.2f',\n",
    "            vmin=0, vmax=1,\n",
    "            linewidths=0.5)\n",
    "plt.title('Матрица корреляций Phi-K\\n', pad=20)\n",
    "plt.xticks(rotation=45)\n",
    "plt.yticks(rotation=0)\n",
    "plt.tight_layout()\n",
    "plt.show()"
   ]
  },
  {
   "cell_type": "markdown",
   "id": "4e60c491",
   "metadata": {},
   "source": [
    "### Промежуточный вывод по объединенному датасету.\n",
    "\n",
    "Ключевые инсайты из графиков:\n",
    "\n",
    "1. monthlycharges (в долларах):\n",
    "\n",
    "Ушедшие клиенты:\n",
    "* Два пика: 20-30  (дешевые тарифы) и  70-110  (дорогие тарифы)\n",
    "- Минимум в 30-60  диапазоне\n",
    "\n",
    "Лояльные клиенты:\n",
    "* Неравномерное распределение, скошенное вправо с пиком в 80 \n",
    "\n",
    "2. totalcharges:\n",
    "\n",
    "* Почти все ушедшие клиенты находятся в диапазоне общих трат не больше 4000  \n",
    "\n",
    "3. tenure_months:\n",
    "\n",
    "Яркий U-образный паттерн лояльных клиентов:\n",
    "* Пик оттока при 20-50 месяцах\n",
    "* Минимум оттока при 10 и 50+ месяцах\n",
    "\n",
    "4. internetservice:\n",
    "\n",
    "* DSL:\n",
    "16% ушедших\n",
    "84% лояльных\n",
    "\n",
    "* Fiber optic:\n",
    "16% ушедших клиентов\n",
    "84% лояльных\n",
    "\n",
    "5. Доп.услуги (onlinesecurity, techsupport):\n",
    "\n",
    "* Клиенты без этих услуг уходят на 90% реже\n",
    "- Наличие техподдержки снижает отток на 15%\n",
    "\n",
    "Анализ корелляции:\n",
    "\n",
    "monthlycharges - internetservice (0.95)\n",
    "* Самая сильная связь в данных, это может быть обусловлено высокой стоимостью на оптоволокно\n",
    "\n",
    "totalcharges - tenure_months (0.85)\n",
    "* Чем дольше клиент пользуется услугами → тем больше общие накопленные платежи\n",
    "\n",
    "monthlycharges - totalcharges (0.71)\n",
    "* Высокие ежемесячные платежи → быстрый рост totalcharges, oсобенно заметно для Fiber optic клиентов"
   ]
  },
  {
   "cell_type": "markdown",
   "id": "07e62557",
   "metadata": {},
   "source": [
    "## Подготовка данных к обучению"
   ]
  },
  {
   "cell_type": "code",
   "execution_count": 25,
   "id": "3752471c",
   "metadata": {},
   "outputs": [],
   "source": [
    "# Добавляем длительность контракта в днях\n",
    "final_df['contract_days'] = (final_df['enddate_clean'] - final_df['begindate']).dt.days\n",
    "\n",
    "# Удаляем нефункциональные колонки (добавил type и после него)\n",
    "to_drop = ['begindate', 'enddate', 'gender', 'totalcharges']\n",
    "X = final_df.drop(columns=to_drop + ['churn'])\n",
    "y = final_df['churn']\n",
    "\n",
    "# Разделение категориальных и числовых признаков\n",
    "cat_cols = X.select_dtypes(include=['category', 'bool']).columns.tolist()\n",
    "num_cols = X.select_dtypes(include=['int64', 'float64']).columns.tolist()\n",
    "\n",
    "# Pipeline для препроцессинга\n",
    "preprocessor = ColumnTransformer(\n",
    "    transformers=[\n",
    "        ('num', StandardScaler(), num_cols),\n",
    "        ('cat', OneHotEncoder(drop='first'), cat_cols)\n",
    "    ])"
   ]
  },
  {
   "cell_type": "markdown",
   "id": "de13fa90",
   "metadata": {},
   "source": [
    "## Обучение модели"
   ]
  },
  {
   "cell_type": "code",
   "execution_count": 26,
   "id": "46ea70bf",
   "metadata": {},
   "outputs": [],
   "source": [
    "models = {\n",
    "    \"Logistic Regression\": LogisticRegression(\n",
    "        class_weight='balanced',\n",
    "        random_state=RANDOM_STATE,\n",
    "        max_iter=1000\n",
    "    ),\n",
    "    \"CatBoost\": CatBoostClassifier(\n",
    "        iterations=1500,       \n",
    "        depth=8,              \n",
    "        learning_rate=0.03,   \n",
    "        l2_leaf_reg=3,        \n",
    "        random_seed=RANDOM_STATE,\n",
    "        verbose=0,\n",
    "        auto_class_weights='Balanced',\n",
    "        eval_metric='AUC'     \n",
    "    ),\n",
    "    \"Random Forest\": RandomForestClassifier(\n",
    "        class_weight='balanced',\n",
    "        random_state=RANDOM_STATE\n",
    "    )\n",
    "}\n",
    "\n",
    "# Параметры для GridSearch для Random Forest\n",
    "rf_params = {\n",
    "    'classifier__n_estimators': [100, 200],\n",
    "    'classifier__max_depth': [None, 10, 20],\n",
    "    'classifier__min_samples_split': [2, 5]\n",
    "}\n",
    "\n",
    "metrics = {\n",
    "    'ROC-AUC': ('roc_auc', roc_auc_score),\n",
    "    'Accuracy': ('accuracy', accuracy_score)\n",
    "}"
   ]
  },
  {
   "cell_type": "code",
   "execution_count": 27,
   "id": "4b911575",
   "metadata": {
    "scrolled": true
   },
   "outputs": [
    {
     "name": "stdout",
     "output_type": "stream",
     "text": [
      "Лучшие параметры для Random Forest: {'classifier__max_depth': 10, 'classifier__min_samples_split': 5, 'classifier__n_estimators': 200}\n"
     ]
    },
    {
     "data": {
      "text/html": [
       "<style  type=\"text/css\" >\n",
       "#T_67799_row0_col0,#T_67799_row0_col1{\n",
       "            background-color:  #f7fbff;\n",
       "            color:  #000000;\n",
       "        }#T_67799_row1_col0,#T_67799_row1_col1{\n",
       "            background-color:  #08306b;\n",
       "            color:  #f1f1f1;\n",
       "        }#T_67799_row2_col0{\n",
       "            background-color:  #7fb9da;\n",
       "            color:  #000000;\n",
       "        }#T_67799_row2_col1{\n",
       "            background-color:  #64a9d3;\n",
       "            color:  #000000;\n",
       "        }</style><table id=\"T_67799_\" ><thead>    <tr>        <th class=\"blank level0\" ></th>        <th class=\"col_heading level0 col0\" >ROC-AUC</th>        <th class=\"col_heading level0 col1\" >Accuracy</th>    </tr></thead><tbody>\n",
       "                <tr>\n",
       "                        <th id=\"T_67799_level0_row0\" class=\"row_heading level0 row0\" >Logistic Regression</th>\n",
       "                        <td id=\"T_67799_row0_col0\" class=\"data row0 col0\" >0.756916</td>\n",
       "                        <td id=\"T_67799_row0_col1\" class=\"data row0 col1\" >0.694732</td>\n",
       "            </tr>\n",
       "            <tr>\n",
       "                        <th id=\"T_67799_level0_row1\" class=\"row_heading level0 row1\" >CatBoost</th>\n",
       "                        <td id=\"T_67799_row1_col0\" class=\"data row1 col0\" >0.909934</td>\n",
       "                        <td id=\"T_67799_row1_col1\" class=\"data row1 col1\" >0.899475</td>\n",
       "            </tr>\n",
       "            <tr>\n",
       "                        <th id=\"T_67799_level0_row2\" class=\"row_heading level0 row2\" >Random Forest</th>\n",
       "                        <td id=\"T_67799_row2_col0\" class=\"data row2 col0\" >0.826076</td>\n",
       "                        <td id=\"T_67799_row2_col1\" class=\"data row2 col1\" >0.801220</td>\n",
       "            </tr>\n",
       "    </tbody></table>"
      ],
      "text/plain": [
       "<pandas.io.formats.style.Styler at 0x7fb9e83219d0>"
      ]
     },
     "execution_count": 27,
     "metadata": {},
     "output_type": "execute_result"
    }
   ],
   "source": [
    "cv = StratifiedKFold(n_splits=5, shuffle=True, random_state=RANDOM_STATE)\n",
    "results = {}\n",
    "\n",
    "for name, model in models.items():\n",
    "    pipeline = Pipeline(steps=[\n",
    "        ('preprocessor', preprocessor),\n",
    "        ('classifier', model)\n",
    "    ])\n",
    "    \n",
    "    if name == \"Random Forest\":\n",
    "        grid_search = GridSearchCV(\n",
    "            pipeline,\n",
    "            param_grid=rf_params,\n",
    "            cv=cv,\n",
    "            scoring='roc_auc',\n",
    "            n_jobs=-1\n",
    "        )\n",
    "        grid_search.fit(X, y)\n",
    "        best_model = grid_search.best_estimator_\n",
    "        print(f\"Лучшие параметры для Random Forest: {grid_search.best_params_}\")\n",
    "        \n",
    "        scores = {}\n",
    "        for metric_name, (scoring, _) in metrics.items():\n",
    "            cv_scores = cross_val_score(\n",
    "                best_model, X, y,\n",
    "                cv=cv,\n",
    "                scoring=scoring,\n",
    "                n_jobs=-1\n",
    "            )\n",
    "            scores[metric_name] = np.mean(cv_scores)\n",
    "    else:\n",
    "        scores = {}\n",
    "        for metric_name, (scoring, _) in metrics.items():\n",
    "            cv_scores = cross_val_score(\n",
    "                pipeline, X, y,\n",
    "                cv=cv,\n",
    "                scoring=scoring,\n",
    "                n_jobs=-1\n",
    "            )\n",
    "            scores[metric_name] = np.mean(cv_scores)\n",
    "    \n",
    "    results[name] = scores\n",
    "\n",
    "# Вывод результатов\n",
    "pd.DataFrame(results).T.style.background_gradient(cmap='Blues')"
   ]
  },
  {
   "cell_type": "markdown",
   "id": "56d43cbb",
   "metadata": {},
   "source": [
    "## Выбор лучшей модели"
   ]
  },
  {
   "cell_type": "code",
   "execution_count": 28,
   "id": "43f74a0a",
   "metadata": {
    "scrolled": true
   },
   "outputs": [
    {
     "name": "stdout",
     "output_type": "stream",
     "text": [
      "Лучшая модель: CatBoost (ROC-AUC=0.910)\n"
     ]
    }
   ],
   "source": [
    "best_model_name = max(results, key=lambda x: results[x]['ROC-AUC'])\n",
    "print(f\"Лучшая модель: {best_model_name} (ROC-AUC={results[best_model_name]['ROC-AUC']:.3f})\")\n",
    "\n",
    "# Создаем временный pipeline\n",
    "temp_pipeline = Pipeline([\n",
    "    ('preprocessor', preprocessor),\n",
    "    ('classifier', models[best_model_name])  \n",
    "])"
   ]
  },
  {
   "cell_type": "markdown",
   "id": "91351587",
   "metadata": {},
   "source": [
    "Лучшей моделью получилась CatBoost (ROC-AUC=0.910). Построим для нее learning curve, а после обучим ее на тестовой выборке."
   ]
  },
  {
   "cell_type": "code",
   "execution_count": 29,
   "id": "da8a4e4b",
   "metadata": {},
   "outputs": [
    {
     "name": "stdout",
     "output_type": "stream",
     "text": [
      "Анализ переобучения для CatBoost:\n"
     ]
    },
    {
     "data": {
      "image/png": "[encoded data removed]",
      "text/plain": [
       "<Figure size 720x432 with 1 Axes>"
      ]
     },
     "metadata": {},
     "output_type": "display_data"
    },
    {
     "name": "stdout",
     "output_type": "stream",
     "text": [
      "Обнаружено переобучение: разрыв между Train и CV > 0.05\n"
     ]
    }
   ],
   "source": [
    "print(\"Анализ переобучения для CatBoost:\")\n",
    "\n",
    "# График learning curves\n",
    "train_sizes, train_scores, test_scores = learning_curve(\n",
    "    temp_pipeline, X, y,\n",
    "    cv=StratifiedKFold(5, shuffle=True, random_state=RANDOM_STATE),\n",
    "    scoring='roc_auc',\n",
    "    n_jobs=-1,\n",
    "    train_sizes=np.linspace(0.1, 1.0, 5)\n",
    ")\n",
    "\n",
    "plt.figure(figsize=(10, 6))\n",
    "plt.plot(train_sizes, np.mean(train_scores, axis=1), label='Train AUC')\n",
    "plt.plot(train_sizes, np.mean(test_scores, axis=1), label='CV AUC')\n",
    "plt.fill_between(train_sizes, \n",
    "                 np.mean(train_scores, axis=1) - np.std(train_scores, axis=1),\n",
    "                 np.mean(train_scores, axis=1) + np.std(train_scores, axis=1),\n",
    "                 alpha=0.1)\n",
    "plt.xlabel('Размер обучающей выборки')\n",
    "plt.ylabel('ROC-AUC')\n",
    "plt.legend()\n",
    "plt.title('Кривые обучения (до упрощения)')\n",
    "plt.show()\n",
    "\n",
    "# Проверка переобучения\n",
    "if np.mean(train_scores[-1]) - np.mean(test_scores[-1]) > 0.05:\n",
    "    print(\"Обнаружено переобучение: разрыв между Train и CV > 0.05\")\n",
    "else:\n",
    "    print(\"Признаков переобучения не обнаружено\")"
   ]
  },
  {
   "cell_type": "code",
   "execution_count": 30,
   "id": "bd7d6b00",
   "metadata": {},
   "outputs": [
    {
     "name": "stdout",
     "output_type": "stream",
     "text": [
      "ROC-AUC     0.922831\n",
      "Accuracy    0.901193\n",
      "dtype: float64\n"
     ]
    }
   ],
   "source": [
    "# Разделение на train/test\n",
    "X_train, X_test, y_train, y_test = train_test_split(\n",
    "    X, y, \n",
    "    test_size=TEST_SIZE, \n",
    "    random_state=RANDOM_STATE, \n",
    "    stratify=y\n",
    ")\n",
    "\n",
    "# Обучение и предсказание\n",
    "temp_pipeline.fit(X_train, y_train)\n",
    "y_pred = temp_pipeline.predict(X_test)\n",
    "y_proba = temp_pipeline.predict_proba(X_test)[:, 1]\n",
    "\n",
    "# Финальные метрики\n",
    "final_metrics = {\n",
    "    'ROC-AUC': roc_auc_score(y_test, y_proba),\n",
    "    'Accuracy': accuracy_score(y_test, y_pred)\n",
    "}\n",
    "print(pd.Series(final_metrics))"
   ]
  },
  {
   "cell_type": "code",
   "execution_count": 31,
   "id": "15027a2c",
   "metadata": {
    "scrolled": true
   },
   "outputs": [
    {
     "data": {
      "image/png": "[encoded data removed]",
      "text/plain": [
       "<Figure size 720x576 with 1 Axes>"
      ]
     },
     "metadata": {},
     "output_type": "display_data"
    }
   ],
   "source": [
    "# Permutation Importance\n",
    "perm_importance = permutation_importance(\n",
    "    temp_pipeline, X_test, y_test,\n",
    "    n_repeats=10,\n",
    "    random_state=RANDOM_STATE,\n",
    "    n_jobs=-1\n",
    ")\n",
    "\n",
    "# Визуализация\n",
    "sorted_idx = perm_importance.importances_mean.argsort()\n",
    "plt.figure(figsize=(10, 8))\n",
    "plt.barh(\n",
    "    X.columns[sorted_idx][-15:],\n",
    "    perm_importance.importances_mean[sorted_idx][-15:]\n",
    ")\n",
    "plt.title(\"Permutation Importance (test set)\")\n",
    "plt.show()"
   ]
  },
  {
   "cell_type": "code",
   "execution_count": 32,
   "id": "af932253",
   "metadata": {},
   "outputs": [
    {
     "name": "stdout",
     "output_type": "stream",
     "text": [
      "Топ-5 факторов влияющих на отток:\n",
      "- contract_days: 0.240\n",
      "- tenure_months: 0.174\n",
      "- type: 0.043\n",
      "- paymentmethod: 0.005\n",
      "- partner: 0.002\n"
     ]
    }
   ],
   "source": [
    "top_features = pd.Series(\n",
    "    perm_importance.importances_mean,\n",
    "    index=X.columns\n",
    ").nlargest(5)\n",
    "\n",
    "print(\"Топ-5 факторов влияющих на отток:\")\n",
    "for feat, importance in top_features.items():\n",
    "    print(f\"- {feat}: {importance:.3f}\")"
   ]
  },
  {
   "cell_type": "code",
   "execution_count": 33,
   "id": "6d16bef8",
   "metadata": {
    "scrolled": true
   },
   "outputs": [
    {
     "data": {
      "image/png": "[encoded data removed]",
      "text/plain": [
       "<Figure size 576x396 with 1 Axes>"
      ]
     },
     "metadata": {},
     "output_type": "display_data"
    }
   ],
   "source": [
    "# Получаем вероятности и строим кривую вручную\n",
    "y_proba = temp_pipeline.predict_proba(X_test)[:, 1]\n",
    "fpr, tpr, _ = roc_curve(y_test, y_proba)\n",
    "roc_auc = auc(fpr, tpr)\n",
    "\n",
    "plt.figure()\n",
    "plt.plot(fpr, tpr, label=f'ROC curve (AUC = {roc_auc:.2f})')\n",
    "plt.plot([0, 1], [0, 1], 'k--')\n",
    "plt.xlabel('False Positive Rate')\n",
    "plt.ylabel('True Positive Rate')\n",
    "plt.title('ROC Curve')\n",
    "plt.legend()\n",
    "plt.show()"
   ]
  },
  {
   "cell_type": "markdown",
   "id": "14ed02a7",
   "metadata": {},
   "source": [
    "### Промежуточный вывод по обучению\n",
    "\n",
    "На основе permutation importance выявлены ключевые факторы оттока:\n",
    "\n",
    "* contract_days - клиенты ближе к окончанию договора чаще уходят.\n",
    "- tenure_months - клиенты с малым сроком обслуживания (<6 мес.) уходят чаще.\n",
    "- type - тип договора, клиенты с ежемесячной оплатой уходят чаще"
   ]
  },
  {
   "cell_type": "code",
   "execution_count": 34,
   "id": "2f35fec8",
   "metadata": {},
   "outputs": [
    {
     "data": {
      "image/png": "[encoded data removed]",
      "text/plain": [
       "<Figure size 720x432 with 1 Axes>"
      ]
     },
     "metadata": {},
     "output_type": "display_data"
    }
   ],
   "source": [
    "plt.figure(figsize=(10, 6))\n",
    "sns.boxplot(data=final_df, x='churn', y='tenure_months', palette=['#66c2a5','#fc8d62'])\n",
    "plt.title('Распределение срока обслуживания у клиентов', pad=20, fontsize=14)\n",
    "plt.xticks([0, 1], ['Оставшиеся', 'Ушедшие'])\n",
    "plt.xlabel('Статус клиента')\n",
    "plt.ylabel('Срок обслуживания (месяцы)')\n",
    "plt.grid(axis='y', alpha=0.3)\n",
    "\n",
    "plt.show()"
   ]
  },
  {
   "cell_type": "markdown",
   "id": "5c630b77",
   "metadata": {},
   "source": [
    "## Общий вывод по работе\n",
    "\n",
    "1. Соответствие плану и выполненные этапы\n",
    "\n",
    "Проект был реализован в полном соответствии с изначальным планом:\n",
    "\n",
    " Загрузка и предобработка данных\n",
    "\n",
    "- Все 4 датасета успешно объединены по customerID с приведением типов данных и обработкой категориальных признаков. - Исходные проблемы (разный регистр колонок, потенциальные дубликаты) были решены на этапе EDA.\n",
    "\n",
    "\n",
    " EDA и визуализация. Выявлены ключевые закономерности:\n",
    "- Клиенты с Fiber optic чаще отказываются от доп. услуг\n",
    "- Равномерное распределение пользователей многоканальной связи\n",
    "- максимальный отток среди \"ветеранов\" (45+ месяцев)\n",
    "\n",
    "\n",
    " Генерация признаков. Созданы 2 новых признака:\n",
    "- tenure_months — длительность обслуживания в месяцах\n",
    "- contract_days - длительность контракта в днях\n",
    "\n",
    " Обучение моделей\n",
    " \n",
    "- Протестированы 3 модели: Logistic Regression, Random Forest и CatBoost. Лучший результат показал CatBoost (ROC-AUC=0.922) благодаря:\n",
    "- - Автоматической обработке категориальных признаков\n",
    "- - Встроенной балансировке классов\n",
    "- - Оптимальной регуляризации\n",
    "\n",
    "\n",
    "2. Ключевые моменты успеха\n",
    "\n",
    " Высокий ROC-AUC (0.922) достигнут за счет:\n",
    " \n",
    "- Глубокого анализа признаков (permutation importance)\n",
    "- Правильного учёта дисбаланса классов (1:6)\n",
    "- Оптимизированного препроцессинга\n",
    "\n",
    " Самые значимые признаки:\n",
    " \n",
    "* contract_days (0.240) - клиенты ближе к окончанию договора чаще уходят\n",
    "- tenure_months (0.174) — \"эффект усталости\" у долгосрочных клиентов\n",
    "- type (0.043) — новые клиенты с низкими тратами в группе риска\n",
    "\n",
    "4. Рекомендации заказчику\n",
    "\n",
    " Для \"ветеранов\" (45+ месяцев):\n",
    "- Персональные бонусы за лояльность\n",
    "- Бесплатный апгрейд тарифа раз в 2 года\n",
    "\n",
    " Для новых клиентов (<6 месяцев):\n",
    "- Программа \"Адаптация\": скидка 15% на 3-й месяц\n",
    "- Персональный менеджер на первые полгода\n",
    "\n",
    " Для дорогих тарифов:\n",
    "- Пакет \"Все включено\" (TV + Security + Backup) со скидкой 20%\n",
    "- Гарантия заморозки тарифа на 12 месяцев\n",
    "\n",
    " Для клиентов, у которых дата окончания договора меньше 30 дней:\n",
    "- Предложить персональные скидки\n",
    "\n",
    "Итог: Проект успешно решает задачу прогнозирования оттока с точностью 90%. Ключевой фактор — работа с долгосрочными клиентами и гибкость тарифов."
   ]
  }
 ],
 "metadata": {
  "ExecuteTimeLog": [
   {
    "duration": 411,
    "start_time": "2025-07-03T11:14:18.963Z"
   },
   {
    "duration": 86,
    "start_time": "2025-07-03T11:18:38.545Z"
   },
   {
    "duration": 4,
    "start_time": "2025-07-03T11:18:38.932Z"
   },
   {
    "duration": 68,
    "start_time": "2025-07-03T11:19:07.321Z"
   },
   {
    "duration": 38,
    "start_time": "2025-07-03T11:19:27.890Z"
   },
   {
    "duration": 61,
    "start_time": "2025-07-03T11:29:02.905Z"
   },
   {
    "duration": 33,
    "start_time": "2025-07-03T11:29:03.194Z"
   },
   {
    "duration": 98,
    "start_time": "2025-07-03T11:29:10.332Z"
   },
   {
    "duration": 3,
    "start_time": "2025-07-03T11:29:10.981Z"
   },
   {
    "duration": 49,
    "start_time": "2025-07-03T11:29:13.220Z"
   },
   {
    "duration": 34,
    "start_time": "2025-07-03T11:29:13.539Z"
   },
   {
    "duration": 57,
    "start_time": "2025-07-03T11:29:14.227Z"
   },
   {
    "duration": 38,
    "start_time": "2025-07-03T11:29:28.034Z"
   },
   {
    "duration": 374,
    "start_time": "2025-07-06T08:13:27.125Z"
   },
   {
    "duration": 314,
    "start_time": "2025-07-06T08:13:27.501Z"
   },
   {
    "duration": 4,
    "start_time": "2025-07-06T08:13:27.817Z"
   },
   {
    "duration": 50,
    "start_time": "2025-07-06T08:13:28.441Z"
   },
   {
    "duration": 35,
    "start_time": "2025-07-06T08:13:28.827Z"
   },
   {
    "duration": 54,
    "start_time": "2025-07-06T08:13:29.333Z"
   },
   {
    "duration": 25,
    "start_time": "2025-07-06T08:13:30.342Z"
   },
   {
    "duration": 100,
    "start_time": "2025-07-06T08:22:55.941Z"
   },
   {
    "duration": 42,
    "start_time": "2025-07-06T08:23:00.381Z"
   },
   {
    "duration": 33,
    "start_time": "2025-07-06T08:23:05.133Z"
   },
   {
    "duration": 54,
    "start_time": "2025-07-06T08:23:05.697Z"
   },
   {
    "duration": 27,
    "start_time": "2025-07-06T08:23:06.514Z"
   },
   {
    "duration": 67,
    "start_time": "2025-07-06T08:31:59.708Z"
   },
   {
    "duration": 4,
    "start_time": "2025-07-06T08:32:03.741Z"
   },
   {
    "duration": 4,
    "start_time": "2025-07-06T08:39:18.977Z"
   },
   {
    "duration": 4,
    "start_time": "2025-07-06T08:39:36.011Z"
   },
   {
    "duration": 5,
    "start_time": "2025-07-06T08:41:41.840Z"
   },
   {
    "duration": 7,
    "start_time": "2025-07-06T08:41:49.751Z"
   },
   {
    "duration": 5,
    "start_time": "2025-07-06T08:42:15.106Z"
   },
   {
    "duration": 21,
    "start_time": "2025-07-06T08:53:25.429Z"
   },
   {
    "duration": 20,
    "start_time": "2025-07-06T08:53:55.836Z"
   },
   {
    "duration": 47,
    "start_time": "2025-07-06T08:54:10.042Z"
   },
   {
    "duration": 5,
    "start_time": "2025-07-06T08:55:06.590Z"
   },
   {
    "duration": 53,
    "start_time": "2025-07-06T08:56:41.051Z"
   },
   {
    "duration": 15,
    "start_time": "2025-07-06T08:56:57.279Z"
   },
   {
    "duration": 46,
    "start_time": "2025-07-06T08:57:03.131Z"
   },
   {
    "duration": 406,
    "start_time": "2025-07-06T14:57:52.794Z"
   },
   {
    "duration": 87,
    "start_time": "2025-07-06T14:57:53.202Z"
   },
   {
    "duration": 3,
    "start_time": "2025-07-06T14:57:53.290Z"
   },
   {
    "duration": 91,
    "start_time": "2025-07-06T14:57:53.295Z"
   },
   {
    "duration": 91,
    "start_time": "2025-07-06T14:57:53.387Z"
   },
   {
    "duration": 50,
    "start_time": "2025-07-06T14:57:53.480Z"
   },
   {
    "duration": 25,
    "start_time": "2025-07-06T14:57:53.531Z"
   },
   {
    "duration": 42,
    "start_time": "2025-07-06T14:57:53.557Z"
   },
   {
    "duration": 46,
    "start_time": "2025-07-06T14:57:53.601Z"
   },
   {
    "duration": 431,
    "start_time": "2025-07-06T14:59:14.310Z"
   },
   {
    "duration": 110,
    "start_time": "2025-07-06T14:59:14.744Z"
   },
   {
    "duration": 4,
    "start_time": "2025-07-06T14:59:14.855Z"
   },
   {
    "duration": 91,
    "start_time": "2025-07-06T14:59:14.861Z"
   },
   {
    "duration": 58,
    "start_time": "2025-07-06T14:59:14.953Z"
   },
   {
    "duration": 55,
    "start_time": "2025-07-06T14:59:15.012Z"
   },
   {
    "duration": 59,
    "start_time": "2025-07-06T14:59:15.068Z"
   },
   {
    "duration": 43,
    "start_time": "2025-07-06T14:59:15.128Z"
   },
   {
    "duration": 70,
    "start_time": "2025-07-06T14:59:15.173Z"
   },
   {
    "duration": 8,
    "start_time": "2025-07-06T15:01:09.509Z"
   },
   {
    "duration": 39,
    "start_time": "2025-07-06T15:03:28.018Z"
   },
   {
    "duration": 435,
    "start_time": "2025-07-06T15:09:34.289Z"
   },
   {
    "duration": 112,
    "start_time": "2025-07-06T15:09:34.726Z"
   },
   {
    "duration": 4,
    "start_time": "2025-07-06T15:09:34.840Z"
   },
   {
    "duration": 145,
    "start_time": "2025-07-06T15:09:34.846Z"
   },
   {
    "duration": 40,
    "start_time": "2025-07-06T15:09:34.993Z"
   },
   {
    "duration": 88,
    "start_time": "2025-07-06T15:09:35.035Z"
   },
   {
    "duration": 31,
    "start_time": "2025-07-06T15:09:35.125Z"
   },
   {
    "duration": 41,
    "start_time": "2025-07-06T15:09:35.158Z"
   },
   {
    "duration": 17,
    "start_time": "2025-07-06T15:09:35.201Z"
   },
   {
    "duration": 63,
    "start_time": "2025-07-06T15:09:35.220Z"
   },
   {
    "duration": 2,
    "start_time": "2025-07-06T15:09:35.285Z"
   },
   {
    "duration": 15,
    "start_time": "2025-07-06T15:10:43.641Z"
   },
   {
    "duration": 55,
    "start_time": "2025-07-06T15:10:56.683Z"
   },
   {
    "duration": 8,
    "start_time": "2025-07-06T15:11:37.467Z"
   },
   {
    "duration": 993,
    "start_time": "2025-07-06T15:20:47.518Z"
   },
   {
    "duration": 127,
    "start_time": "2025-07-06T15:21:10.736Z"
   },
   {
    "duration": 569,
    "start_time": "2025-07-06T15:25:40.878Z"
   },
   {
    "duration": 5,
    "start_time": "2025-07-06T15:27:21.134Z"
   },
   {
    "duration": 7,
    "start_time": "2025-07-06T15:27:25.357Z"
   },
   {
    "duration": 122,
    "start_time": "2025-07-06T15:30:10.563Z"
   },
   {
    "duration": 1154,
    "start_time": "2025-07-06T15:31:16.514Z"
   },
   {
    "duration": 645,
    "start_time": "2025-07-06T15:33:42.716Z"
   },
   {
    "duration": 550,
    "start_time": "2025-07-06T15:34:02.322Z"
   },
   {
    "duration": 104,
    "start_time": "2025-07-06T16:51:08.927Z"
   },
   {
    "duration": 632,
    "start_time": "2025-07-06T16:51:30.344Z"
   },
   {
    "duration": 625,
    "start_time": "2025-07-06T17:09:17.431Z"
   },
   {
    "duration": 13,
    "start_time": "2025-07-06T17:15:12.884Z"
   },
   {
    "duration": 105,
    "start_time": "2025-07-06T17:15:32.629Z"
   },
   {
    "duration": 3,
    "start_time": "2025-07-06T17:22:40.036Z"
   },
   {
    "duration": 2271,
    "start_time": "2025-07-06T17:23:27.046Z"
   },
   {
    "duration": 19,
    "start_time": "2025-07-06T17:23:54.853Z"
   },
   {
    "duration": 8,
    "start_time": "2025-07-06T17:24:13.534Z"
   },
   {
    "duration": 4,
    "start_time": "2025-07-06T17:24:17.833Z"
   },
   {
    "duration": 13,
    "start_time": "2025-07-06T17:29:18.872Z"
   },
   {
    "duration": 1122,
    "start_time": "2025-07-06T17:33:18.243Z"
   },
   {
    "duration": 107,
    "start_time": "2025-07-06T17:33:19.367Z"
   },
   {
    "duration": 4,
    "start_time": "2025-07-06T17:33:19.476Z"
   },
   {
    "duration": 68,
    "start_time": "2025-07-06T17:33:19.482Z"
   },
   {
    "duration": 53,
    "start_time": "2025-07-06T17:33:19.552Z"
   },
   {
    "duration": 54,
    "start_time": "2025-07-06T17:33:19.606Z"
   },
   {
    "duration": 50,
    "start_time": "2025-07-06T17:33:19.661Z"
   },
   {
    "duration": 270,
    "start_time": "2025-07-06T17:33:19.712Z"
   },
   {
    "duration": 0,
    "start_time": "2025-07-06T17:33:19.984Z"
   },
   {
    "duration": 0,
    "start_time": "2025-07-06T17:33:19.985Z"
   },
   {
    "duration": 0,
    "start_time": "2025-07-06T17:33:19.986Z"
   },
   {
    "duration": 0,
    "start_time": "2025-07-06T17:33:19.987Z"
   },
   {
    "duration": 0,
    "start_time": "2025-07-06T17:33:19.989Z"
   },
   {
    "duration": 0,
    "start_time": "2025-07-06T17:33:19.990Z"
   },
   {
    "duration": 0,
    "start_time": "2025-07-06T17:33:19.991Z"
   },
   {
    "duration": 0,
    "start_time": "2025-07-06T17:33:19.999Z"
   },
   {
    "duration": 0,
    "start_time": "2025-07-06T17:33:20.000Z"
   },
   {
    "duration": 0,
    "start_time": "2025-07-06T17:33:20.001Z"
   },
   {
    "duration": 0,
    "start_time": "2025-07-06T17:33:20.002Z"
   },
   {
    "duration": 21,
    "start_time": "2025-07-06T17:34:17.005Z"
   },
   {
    "duration": 10,
    "start_time": "2025-07-06T17:34:20.116Z"
   },
   {
    "duration": 14,
    "start_time": "2025-07-06T17:34:24.357Z"
   },
   {
    "duration": 6,
    "start_time": "2025-07-06T17:34:24.638Z"
   },
   {
    "duration": 1110,
    "start_time": "2025-07-06T17:34:25.137Z"
   },
   {
    "duration": 531,
    "start_time": "2025-07-06T17:34:26.249Z"
   },
   {
    "duration": 477,
    "start_time": "2025-07-06T17:34:26.782Z"
   },
   {
    "duration": 118,
    "start_time": "2025-07-06T17:34:27.261Z"
   },
   {
    "duration": 742,
    "start_time": "2025-07-06T17:34:27.381Z"
   },
   {
    "duration": 131,
    "start_time": "2025-07-06T17:34:28.125Z"
   },
   {
    "duration": 14,
    "start_time": "2025-07-06T17:34:35.473Z"
   },
   {
    "duration": 4,
    "start_time": "2025-07-06T17:34:37.077Z"
   },
   {
    "duration": 22,
    "start_time": "2025-07-06T17:35:01.958Z"
   },
   {
    "duration": 166,
    "start_time": "2025-07-06T17:35:14.577Z"
   },
   {
    "duration": 97,
    "start_time": "2025-07-06T17:35:53.544Z"
   },
   {
    "duration": 1802,
    "start_time": "2025-07-07T13:57:34.516Z"
   },
   {
    "duration": 113,
    "start_time": "2025-07-07T13:57:36.320Z"
   },
   {
    "duration": 6,
    "start_time": "2025-07-07T13:57:36.436Z"
   },
   {
    "duration": 97,
    "start_time": "2025-07-07T13:57:36.446Z"
   },
   {
    "duration": 52,
    "start_time": "2025-07-07T13:57:36.546Z"
   },
   {
    "duration": 122,
    "start_time": "2025-07-07T13:57:36.600Z"
   },
   {
    "duration": 40,
    "start_time": "2025-07-07T13:57:36.724Z"
   },
   {
    "duration": 17,
    "start_time": "2025-07-07T13:57:36.766Z"
   },
   {
    "duration": 36,
    "start_time": "2025-07-07T13:57:36.785Z"
   },
   {
    "duration": 33,
    "start_time": "2025-07-07T13:57:36.824Z"
   },
   {
    "duration": 7,
    "start_time": "2025-07-07T13:57:36.859Z"
   },
   {
    "duration": 1308,
    "start_time": "2025-07-07T13:57:36.868Z"
   },
   {
    "duration": 591,
    "start_time": "2025-07-07T13:57:38.178Z"
   },
   {
    "duration": 482,
    "start_time": "2025-07-07T13:57:38.770Z"
   },
   {
    "duration": 209,
    "start_time": "2025-07-07T13:57:39.255Z"
   },
   {
    "duration": 631,
    "start_time": "2025-07-07T13:57:39.466Z"
   },
   {
    "duration": 131,
    "start_time": "2025-07-07T13:57:40.099Z"
   },
   {
    "duration": 18,
    "start_time": "2025-07-07T13:57:40.236Z"
   },
   {
    "duration": 6,
    "start_time": "2025-07-07T13:57:40.256Z"
   },
   {
    "duration": 115,
    "start_time": "2025-07-07T13:57:40.264Z"
   },
   {
    "duration": 18,
    "start_time": "2025-07-07T13:58:07.358Z"
   },
   {
    "duration": 20,
    "start_time": "2025-07-07T14:00:07.794Z"
   },
   {
    "duration": 87,
    "start_time": "2025-07-07T14:00:58.871Z"
   },
   {
    "duration": 75,
    "start_time": "2025-07-07T14:02:31.671Z"
   },
   {
    "duration": 11,
    "start_time": "2025-07-07T14:05:41.874Z"
   },
   {
    "duration": 19,
    "start_time": "2025-07-07T14:06:08.677Z"
   },
   {
    "duration": 4,
    "start_time": "2025-07-07T14:17:24.421Z"
   },
   {
    "duration": 121,
    "start_time": "2025-07-07T14:17:35.162Z"
   },
   {
    "duration": 4,
    "start_time": "2025-07-07T14:17:55.944Z"
   },
   {
    "duration": 9,
    "start_time": "2025-07-07T14:18:03.099Z"
   },
   {
    "duration": 94,
    "start_time": "2025-07-07T15:00:57.206Z"
   },
   {
    "duration": 14,
    "start_time": "2025-07-07T15:03:52.692Z"
   },
   {
    "duration": 5,
    "start_time": "2025-07-07T15:04:17.393Z"
   },
   {
    "duration": 68029,
    "start_time": "2025-07-07T15:05:29.646Z"
   },
   {
    "duration": 3988,
    "start_time": "2025-07-07T15:06:37.677Z"
   },
   {
    "duration": 4696,
    "start_time": "2025-07-07T15:06:41.667Z"
   },
   {
    "duration": 5,
    "start_time": "2025-07-07T15:07:42.116Z"
   },
   {
    "duration": 382,
    "start_time": "2025-07-07T15:12:30.890Z"
   },
   {
    "duration": 5,
    "start_time": "2025-07-07T15:13:09.461Z"
   },
   {
    "duration": 94,
    "start_time": "2025-07-07T15:13:31.180Z"
   },
   {
    "duration": 122,
    "start_time": "2025-07-07T15:13:43.946Z"
   },
   {
    "duration": 90865,
    "start_time": "2025-07-07T15:14:13.391Z"
   },
   {
    "duration": 28,
    "start_time": "2025-07-07T15:19:42.724Z"
   },
   {
    "duration": 171,
    "start_time": "2025-07-07T15:22:32.516Z"
   },
   {
    "duration": 161,
    "start_time": "2025-07-07T15:28:25.596Z"
   },
   {
    "duration": 1804,
    "start_time": "2025-07-08T17:53:36.277Z"
   },
   {
    "duration": 114,
    "start_time": "2025-07-08T17:53:38.083Z"
   },
   {
    "duration": 4,
    "start_time": "2025-07-08T17:53:38.199Z"
   },
   {
    "duration": 53,
    "start_time": "2025-07-08T17:53:38.265Z"
   },
   {
    "duration": 43,
    "start_time": "2025-07-08T17:53:38.549Z"
   },
   {
    "duration": 55,
    "start_time": "2025-07-08T17:53:38.866Z"
   },
   {
    "duration": 25,
    "start_time": "2025-07-08T17:53:39.158Z"
   },
   {
    "duration": 16,
    "start_time": "2025-07-08T17:53:40.603Z"
   },
   {
    "duration": 10,
    "start_time": "2025-07-08T17:53:41.199Z"
   },
   {
    "duration": 15,
    "start_time": "2025-07-08T17:53:41.764Z"
   },
   {
    "duration": 6,
    "start_time": "2025-07-08T17:53:42.013Z"
   },
   {
    "duration": 1303,
    "start_time": "2025-07-08T17:53:42.579Z"
   },
   {
    "duration": 667,
    "start_time": "2025-07-08T17:53:43.884Z"
   },
   {
    "duration": 452,
    "start_time": "2025-07-08T17:53:49.173Z"
   },
   {
    "duration": 132,
    "start_time": "2025-07-08T17:53:49.627Z"
   },
   {
    "duration": 668,
    "start_time": "2025-07-08T17:53:49.937Z"
   },
   {
    "duration": 130,
    "start_time": "2025-07-08T17:53:51.350Z"
   },
   {
    "duration": 24,
    "start_time": "2025-07-08T17:53:57.625Z"
   },
   {
    "duration": 5,
    "start_time": "2025-07-08T17:53:57.906Z"
   },
   {
    "duration": 109,
    "start_time": "2025-07-08T17:53:58.189Z"
   },
   {
    "duration": 85,
    "start_time": "2025-07-08T17:53:58.585Z"
   },
   {
    "duration": 25,
    "start_time": "2025-07-08T17:54:10.331Z"
   },
   {
    "duration": 20,
    "start_time": "2025-07-08T17:54:10.805Z"
   },
   {
    "duration": 8,
    "start_time": "2025-07-08T17:54:13.715Z"
   },
   {
    "duration": 3780,
    "start_time": "2025-07-08T17:55:28.724Z"
   },
   {
    "duration": 1632,
    "start_time": "2025-07-08T17:55:46.250Z"
   },
   {
    "duration": 98,
    "start_time": "2025-07-08T17:55:47.884Z"
   },
   {
    "duration": 4,
    "start_time": "2025-07-08T17:55:47.983Z"
   },
   {
    "duration": 68,
    "start_time": "2025-07-08T17:55:47.990Z"
   },
   {
    "duration": 36,
    "start_time": "2025-07-08T17:55:48.060Z"
   },
   {
    "duration": 83,
    "start_time": "2025-07-08T17:55:48.098Z"
   },
   {
    "duration": 26,
    "start_time": "2025-07-08T17:55:48.183Z"
   },
   {
    "duration": 39,
    "start_time": "2025-07-08T17:55:48.210Z"
   },
   {
    "duration": 12,
    "start_time": "2025-07-08T17:55:48.252Z"
   },
   {
    "duration": 28,
    "start_time": "2025-07-08T17:55:48.267Z"
   },
   {
    "duration": 19,
    "start_time": "2025-07-08T17:55:48.297Z"
   },
   {
    "duration": 1245,
    "start_time": "2025-07-08T17:55:48.317Z"
   },
   {
    "duration": 688,
    "start_time": "2025-07-08T17:55:49.564Z"
   },
   {
    "duration": 504,
    "start_time": "2025-07-08T17:55:50.254Z"
   },
   {
    "duration": 126,
    "start_time": "2025-07-08T17:55:50.760Z"
   },
   {
    "duration": 703,
    "start_time": "2025-07-08T17:55:50.888Z"
   },
   {
    "duration": 138,
    "start_time": "2025-07-08T17:55:51.593Z"
   },
   {
    "duration": 19,
    "start_time": "2025-07-08T17:55:51.733Z"
   },
   {
    "duration": 21,
    "start_time": "2025-07-08T17:55:51.754Z"
   },
   {
    "duration": 128,
    "start_time": "2025-07-08T17:55:51.777Z"
   },
   {
    "duration": 10,
    "start_time": "2025-07-08T17:55:51.907Z"
   },
   {
    "duration": 34,
    "start_time": "2025-07-08T17:55:51.918Z"
   },
   {
    "duration": 9,
    "start_time": "2025-07-08T17:55:51.954Z"
   },
   {
    "duration": 90,
    "start_time": "2025-07-08T17:55:51.965Z"
   },
   {
    "duration": 0,
    "start_time": "2025-07-08T17:55:52.057Z"
   },
   {
    "duration": 0,
    "start_time": "2025-07-08T17:55:52.058Z"
   },
   {
    "duration": 0,
    "start_time": "2025-07-08T17:55:52.060Z"
   },
   {
    "duration": 0,
    "start_time": "2025-07-08T17:55:52.061Z"
   },
   {
    "duration": 0,
    "start_time": "2025-07-08T17:55:52.062Z"
   },
   {
    "duration": 0,
    "start_time": "2025-07-08T17:55:52.063Z"
   },
   {
    "duration": 0,
    "start_time": "2025-07-08T17:55:52.064Z"
   },
   {
    "duration": 0,
    "start_time": "2025-07-08T17:55:52.066Z"
   },
   {
    "duration": 0,
    "start_time": "2025-07-08T17:55:52.067Z"
   },
   {
    "duration": 0,
    "start_time": "2025-07-08T17:55:52.068Z"
   },
   {
    "duration": 0,
    "start_time": "2025-07-08T17:55:52.069Z"
   },
   {
    "duration": 0,
    "start_time": "2025-07-08T17:55:52.070Z"
   },
   {
    "duration": 141,
    "start_time": "2025-07-08T17:59:54.185Z"
   },
   {
    "duration": 4715,
    "start_time": "2025-07-08T18:00:11.656Z"
   },
   {
    "duration": 19,
    "start_time": "2025-07-08T18:03:50.925Z"
   },
   {
    "duration": 11,
    "start_time": "2025-07-08T18:07:57.450Z"
   },
   {
    "duration": 4,
    "start_time": "2025-07-08T18:08:00.298Z"
   },
   {
    "duration": 65723,
    "start_time": "2025-07-08T18:08:01.051Z"
   },
   {
    "duration": 3,
    "start_time": "2025-07-08T18:09:06.775Z"
   },
   {
    "duration": 3,
    "start_time": "2025-07-08T18:10:26.409Z"
   },
   {
    "duration": 14,
    "start_time": "2025-07-08T18:10:48.451Z"
   },
   {
    "duration": 4,
    "start_time": "2025-07-08T18:18:13.827Z"
   },
   {
    "duration": 91536,
    "start_time": "2025-07-08T18:18:21.514Z"
   },
   {
    "duration": 15,
    "start_time": "2025-07-08T18:40:58.652Z"
   },
   {
    "duration": 4367,
    "start_time": "2025-07-08T18:41:44.114Z"
   },
   {
    "duration": 10,
    "start_time": "2025-07-08T18:41:59.650Z"
   },
   {
    "duration": 19,
    "start_time": "2025-07-08T18:41:59.932Z"
   },
   {
    "duration": 1576,
    "start_time": "2025-07-09T13:29:56.456Z"
   },
   {
    "duration": 0,
    "start_time": "2025-07-09T13:29:58.035Z"
   },
   {
    "duration": 0,
    "start_time": "2025-07-09T13:29:58.037Z"
   },
   {
    "duration": 0,
    "start_time": "2025-07-09T13:29:58.038Z"
   },
   {
    "duration": 0,
    "start_time": "2025-07-09T13:29:58.039Z"
   },
   {
    "duration": 0,
    "start_time": "2025-07-09T13:29:58.040Z"
   },
   {
    "duration": 0,
    "start_time": "2025-07-09T13:29:58.041Z"
   },
   {
    "duration": 0,
    "start_time": "2025-07-09T13:29:58.042Z"
   },
   {
    "duration": 0,
    "start_time": "2025-07-09T13:29:58.043Z"
   },
   {
    "duration": 0,
    "start_time": "2025-07-09T13:29:58.044Z"
   },
   {
    "duration": 0,
    "start_time": "2025-07-09T13:29:58.045Z"
   },
   {
    "duration": 0,
    "start_time": "2025-07-09T13:29:58.046Z"
   },
   {
    "duration": 0,
    "start_time": "2025-07-09T13:29:58.071Z"
   },
   {
    "duration": 0,
    "start_time": "2025-07-09T13:29:58.072Z"
   },
   {
    "duration": 0,
    "start_time": "2025-07-09T13:29:58.073Z"
   },
   {
    "duration": 0,
    "start_time": "2025-07-09T13:29:58.074Z"
   },
   {
    "duration": 0,
    "start_time": "2025-07-09T13:29:58.076Z"
   },
   {
    "duration": 0,
    "start_time": "2025-07-09T13:29:58.077Z"
   },
   {
    "duration": 0,
    "start_time": "2025-07-09T13:29:58.078Z"
   },
   {
    "duration": 0,
    "start_time": "2025-07-09T13:29:58.079Z"
   },
   {
    "duration": 0,
    "start_time": "2025-07-09T13:29:58.081Z"
   },
   {
    "duration": 0,
    "start_time": "2025-07-09T13:29:58.082Z"
   },
   {
    "duration": 0,
    "start_time": "2025-07-09T13:29:58.083Z"
   },
   {
    "duration": 0,
    "start_time": "2025-07-09T13:29:58.084Z"
   },
   {
    "duration": 0,
    "start_time": "2025-07-09T13:29:58.085Z"
   },
   {
    "duration": 0,
    "start_time": "2025-07-09T13:29:58.086Z"
   },
   {
    "duration": 0,
    "start_time": "2025-07-09T13:29:58.087Z"
   },
   {
    "duration": 0,
    "start_time": "2025-07-09T13:29:58.088Z"
   },
   {
    "duration": 0,
    "start_time": "2025-07-09T13:29:58.089Z"
   },
   {
    "duration": 0,
    "start_time": "2025-07-09T13:29:58.091Z"
   },
   {
    "duration": 0,
    "start_time": "2025-07-09T13:29:58.092Z"
   },
   {
    "duration": 0,
    "start_time": "2025-07-09T13:29:58.093Z"
   },
   {
    "duration": 0,
    "start_time": "2025-07-09T13:29:58.094Z"
   },
   {
    "duration": 0,
    "start_time": "2025-07-09T13:29:58.095Z"
   },
   {
    "duration": 0,
    "start_time": "2025-07-09T13:29:58.096Z"
   },
   {
    "duration": 0,
    "start_time": "2025-07-09T13:29:58.098Z"
   },
   {
    "duration": 3932,
    "start_time": "2025-07-09T13:30:08.304Z"
   },
   {
    "duration": 1563,
    "start_time": "2025-07-09T13:30:29.123Z"
   },
   {
    "duration": 101,
    "start_time": "2025-07-09T13:30:30.688Z"
   },
   {
    "duration": 4,
    "start_time": "2025-07-09T13:30:30.790Z"
   },
   {
    "duration": 77,
    "start_time": "2025-07-09T13:30:30.796Z"
   },
   {
    "duration": 47,
    "start_time": "2025-07-09T13:30:30.875Z"
   },
   {
    "duration": 200,
    "start_time": "2025-07-09T13:30:30.923Z"
   },
   {
    "duration": 27,
    "start_time": "2025-07-09T13:30:31.124Z"
   },
   {
    "duration": 16,
    "start_time": "2025-07-09T13:30:31.172Z"
   },
   {
    "duration": 22,
    "start_time": "2025-07-09T13:30:31.190Z"
   },
   {
    "duration": 31,
    "start_time": "2025-07-09T13:30:31.215Z"
   },
   {
    "duration": 30,
    "start_time": "2025-07-09T13:30:31.248Z"
   },
   {
    "duration": 1245,
    "start_time": "2025-07-09T13:30:31.279Z"
   },
   {
    "duration": 636,
    "start_time": "2025-07-09T13:30:32.525Z"
   },
   {
    "duration": 492,
    "start_time": "2025-07-09T13:30:33.163Z"
   },
   {
    "duration": 122,
    "start_time": "2025-07-09T13:30:33.656Z"
   },
   {
    "duration": 653,
    "start_time": "2025-07-09T13:30:33.779Z"
   },
   {
    "duration": 145,
    "start_time": "2025-07-09T13:30:34.434Z"
   },
   {
    "duration": 13,
    "start_time": "2025-07-09T13:30:34.581Z"
   },
   {
    "duration": 26,
    "start_time": "2025-07-09T13:30:34.596Z"
   },
   {
    "duration": 128,
    "start_time": "2025-07-09T13:30:34.624Z"
   },
   {
    "duration": 21,
    "start_time": "2025-07-09T13:30:34.754Z"
   },
   {
    "duration": 20,
    "start_time": "2025-07-09T13:30:34.777Z"
   },
   {
    "duration": 9,
    "start_time": "2025-07-09T13:30:34.798Z"
   },
   {
    "duration": 4557,
    "start_time": "2025-07-09T13:30:34.808Z"
   },
   {
    "duration": 11,
    "start_time": "2025-07-09T13:30:39.370Z"
   },
   {
    "duration": 54,
    "start_time": "2025-07-09T13:30:39.383Z"
   },
   {
    "duration": 56257,
    "start_time": "2025-07-09T13:30:39.439Z"
   },
   {
    "duration": 5,
    "start_time": "2025-07-09T13:31:35.699Z"
   },
   {
    "duration": 82404,
    "start_time": "2025-07-09T13:31:35.705Z"
   },
   {
    "duration": 3681,
    "start_time": "2025-07-09T13:32:58.111Z"
   },
   {
    "duration": 4446,
    "start_time": "2025-07-09T13:33:01.793Z"
   },
   {
    "duration": 5,
    "start_time": "2025-07-09T13:33:06.241Z"
   },
   {
    "duration": 139,
    "start_time": "2025-07-09T13:33:06.248Z"
   },
   {
    "duration": 0,
    "start_time": "2025-07-09T13:33:06.389Z"
   },
   {
    "duration": 0,
    "start_time": "2025-07-09T13:33:06.390Z"
   },
   {
    "duration": 0,
    "start_time": "2025-07-09T13:33:06.392Z"
   },
   {
    "duration": 5,
    "start_time": "2025-07-09T13:36:34.350Z"
   },
   {
    "duration": 5,
    "start_time": "2025-07-09T13:37:45.389Z"
   },
   {
    "duration": 150,
    "start_time": "2025-07-09T13:37:56.856Z"
   },
   {
    "duration": 222,
    "start_time": "2025-07-09T13:38:31.777Z"
   },
   {
    "duration": 167,
    "start_time": "2025-07-09T13:39:14.457Z"
   },
   {
    "duration": 141,
    "start_time": "2025-07-09T13:50:49.136Z"
   },
   {
    "duration": 134,
    "start_time": "2025-07-09T13:51:30.484Z"
   },
   {
    "duration": 13,
    "start_time": "2025-07-09T13:54:53.470Z"
   },
   {
    "duration": 128,
    "start_time": "2025-07-09T13:55:00.884Z"
   },
   {
    "duration": 205,
    "start_time": "2025-07-09T13:56:30.040Z"
   },
   {
    "duration": 229,
    "start_time": "2025-07-09T13:58:12.351Z"
   },
   {
    "duration": 210,
    "start_time": "2025-07-09T13:58:22.990Z"
   },
   {
    "duration": 347,
    "start_time": "2025-07-09T14:00:41.997Z"
   },
   {
    "duration": 135,
    "start_time": "2025-07-09T14:01:32.691Z"
   },
   {
    "duration": 141,
    "start_time": "2025-07-09T14:02:12.943Z"
   },
   {
    "duration": 136,
    "start_time": "2025-07-09T14:02:29.652Z"
   },
   {
    "duration": 14,
    "start_time": "2025-07-09T16:04:41.053Z"
   },
   {
    "duration": 159,
    "start_time": "2025-07-09T16:36:28.156Z"
   },
   {
    "duration": 5730,
    "start_time": "2025-07-11T10:27:43.804Z"
   },
   {
    "duration": 1695,
    "start_time": "2025-07-11T10:28:03.979Z"
   },
   {
    "duration": 96,
    "start_time": "2025-07-11T10:28:05.676Z"
   },
   {
    "duration": 89,
    "start_time": "2025-07-11T10:28:05.774Z"
   },
   {
    "duration": 129,
    "start_time": "2025-07-11T10:28:05.865Z"
   },
   {
    "duration": 70,
    "start_time": "2025-07-11T10:28:05.996Z"
   },
   {
    "duration": 85,
    "start_time": "2025-07-11T10:28:06.068Z"
   },
   {
    "duration": 134,
    "start_time": "2025-07-11T10:28:06.155Z"
   },
   {
    "duration": 115,
    "start_time": "2025-07-11T10:28:06.291Z"
   },
   {
    "duration": 46,
    "start_time": "2025-07-11T10:28:06.408Z"
   },
   {
    "duration": 147,
    "start_time": "2025-07-11T10:28:06.456Z"
   },
   {
    "duration": 62,
    "start_time": "2025-07-11T10:28:06.605Z"
   },
   {
    "duration": 1281,
    "start_time": "2025-07-11T10:28:06.670Z"
   },
   {
    "duration": 638,
    "start_time": "2025-07-11T10:28:07.953Z"
   },
   {
    "duration": 495,
    "start_time": "2025-07-11T10:28:08.594Z"
   },
   {
    "duration": 124,
    "start_time": "2025-07-11T10:28:09.090Z"
   },
   {
    "duration": 693,
    "start_time": "2025-07-11T10:28:09.216Z"
   },
   {
    "duration": 145,
    "start_time": "2025-07-11T10:28:09.911Z"
   },
   {
    "duration": 13,
    "start_time": "2025-07-11T10:28:10.058Z"
   },
   {
    "duration": 16,
    "start_time": "2025-07-11T10:28:10.073Z"
   },
   {
    "duration": 130,
    "start_time": "2025-07-11T10:28:10.091Z"
   },
   {
    "duration": 11,
    "start_time": "2025-07-11T10:28:10.223Z"
   },
   {
    "duration": 23,
    "start_time": "2025-07-11T10:28:10.237Z"
   },
   {
    "duration": 9,
    "start_time": "2025-07-11T10:28:10.261Z"
   },
   {
    "duration": 4650,
    "start_time": "2025-07-11T10:28:10.272Z"
   },
   {
    "duration": 13,
    "start_time": "2025-07-11T10:28:14.924Z"
   },
   {
    "duration": 7,
    "start_time": "2025-07-11T10:28:14.938Z"
   },
   {
    "duration": 57620,
    "start_time": "2025-07-11T10:28:14.946Z"
   },
   {
    "duration": 4,
    "start_time": "2025-07-11T10:29:12.568Z"
   },
   {
    "duration": 90112,
    "start_time": "2025-07-11T10:29:12.574Z"
   },
   {
    "duration": 3974,
    "start_time": "2025-07-11T10:30:42.688Z"
   },
   {
    "duration": 4496,
    "start_time": "2025-07-11T10:30:46.664Z"
   },
   {
    "duration": 6,
    "start_time": "2025-07-11T10:30:51.162Z"
   },
   {
    "duration": 190,
    "start_time": "2025-07-11T10:30:51.169Z"
   },
   {
    "duration": 152,
    "start_time": "2025-07-11T10:30:51.361Z"
   },
   {
    "duration": 228,
    "start_time": "2025-07-11T10:30:51.514Z"
   },
   {
    "duration": 177,
    "start_time": "2025-07-11T10:30:51.744Z"
   },
   {
    "duration": 11,
    "start_time": "2025-07-11T11:29:06.700Z"
   },
   {
    "duration": 8,
    "start_time": "2025-07-11T11:30:47.058Z"
   },
   {
    "duration": 1493,
    "start_time": "2025-07-11T11:38:52.194Z"
   },
   {
    "duration": 13,
    "start_time": "2025-07-11T11:39:07.949Z"
   },
   {
    "duration": 6,
    "start_time": "2025-07-11T11:39:13.936Z"
   },
   {
    "duration": 1527,
    "start_time": "2025-07-11T12:38:05.347Z"
   },
   {
    "duration": 91,
    "start_time": "2025-07-11T12:38:06.877Z"
   },
   {
    "duration": 4,
    "start_time": "2025-07-11T12:38:06.969Z"
   },
   {
    "duration": 176,
    "start_time": "2025-07-11T12:38:06.975Z"
   },
   {
    "duration": 45,
    "start_time": "2025-07-11T12:38:07.154Z"
   },
   {
    "duration": 51,
    "start_time": "2025-07-11T12:38:07.200Z"
   },
   {
    "duration": 55,
    "start_time": "2025-07-11T12:38:07.253Z"
   },
   {
    "duration": 15,
    "start_time": "2025-07-11T12:38:07.309Z"
   },
   {
    "duration": 18,
    "start_time": "2025-07-11T12:38:07.325Z"
   },
   {
    "duration": 14,
    "start_time": "2025-07-11T12:38:07.345Z"
   },
   {
    "duration": 5,
    "start_time": "2025-07-11T12:38:07.360Z"
   },
   {
    "duration": 1161,
    "start_time": "2025-07-11T12:38:07.366Z"
   },
   {
    "duration": 624,
    "start_time": "2025-07-11T12:38:08.529Z"
   },
   {
    "duration": 516,
    "start_time": "2025-07-11T12:38:09.156Z"
   },
   {
    "duration": 114,
    "start_time": "2025-07-11T12:38:09.674Z"
   },
   {
    "duration": 643,
    "start_time": "2025-07-11T12:38:09.789Z"
   },
   {
    "duration": 135,
    "start_time": "2025-07-11T12:38:10.433Z"
   },
   {
    "duration": 13,
    "start_time": "2025-07-11T12:38:10.570Z"
   },
   {
    "duration": 5,
    "start_time": "2025-07-11T12:38:10.598Z"
   },
   {
    "duration": 142,
    "start_time": "2025-07-11T12:38:10.604Z"
   },
   {
    "duration": 11,
    "start_time": "2025-07-11T12:38:10.748Z"
   },
   {
    "duration": 29,
    "start_time": "2025-07-11T12:38:10.761Z"
   },
   {
    "duration": 12,
    "start_time": "2025-07-11T12:38:10.792Z"
   },
   {
    "duration": 4346,
    "start_time": "2025-07-11T12:38:10.806Z"
   },
   {
    "duration": 13,
    "start_time": "2025-07-11T12:38:15.153Z"
   },
   {
    "duration": 27,
    "start_time": "2025-07-11T12:38:15.167Z"
   },
   {
    "duration": 54982,
    "start_time": "2025-07-11T12:38:15.196Z"
   },
   {
    "duration": 5,
    "start_time": "2025-07-11T12:39:10.180Z"
   },
   {
    "duration": 84644,
    "start_time": "2025-07-11T12:39:10.198Z"
   },
   {
    "duration": 3922,
    "start_time": "2025-07-11T12:40:34.844Z"
   },
   {
    "duration": 5,
    "start_time": "2025-07-12T10:39:07.754Z"
   },
   {
    "duration": 1546,
    "start_time": "2025-07-12T10:39:31.153Z"
   },
   {
    "duration": 275,
    "start_time": "2025-07-12T10:39:33.789Z"
   },
   {
    "duration": 3,
    "start_time": "2025-07-12T10:39:34.404Z"
   },
   {
    "duration": 50,
    "start_time": "2025-07-12T10:39:35.066Z"
   },
   {
    "duration": 36,
    "start_time": "2025-07-12T10:39:35.360Z"
   },
   {
    "duration": 54,
    "start_time": "2025-07-12T10:39:35.547Z"
   },
   {
    "duration": 26,
    "start_time": "2025-07-12T10:39:35.746Z"
   },
   {
    "duration": 16,
    "start_time": "2025-07-12T10:39:40.149Z"
   },
   {
    "duration": 10,
    "start_time": "2025-07-12T10:39:40.692Z"
   },
   {
    "duration": 16,
    "start_time": "2025-07-12T10:39:41.447Z"
   },
   {
    "duration": 5,
    "start_time": "2025-07-12T10:39:43.023Z"
   },
   {
    "duration": 1110,
    "start_time": "2025-07-12T10:39:46.703Z"
   },
   {
    "duration": 665,
    "start_time": "2025-07-12T10:39:47.815Z"
   },
   {
    "duration": 109,
    "start_time": "2025-07-12T10:39:59.211Z"
   },
   {
    "duration": 644,
    "start_time": "2025-07-12T10:39:59.756Z"
   },
   {
    "duration": 123,
    "start_time": "2025-07-12T10:40:00.640Z"
   },
   {
    "duration": 203,
    "start_time": "2025-07-12T10:40:32.541Z"
   },
   {
    "duration": 13,
    "start_time": "2025-07-12T10:43:51.049Z"
   },
   {
    "duration": 7,
    "start_time": "2025-07-12T10:43:52.587Z"
   },
   {
    "duration": 121,
    "start_time": "2025-07-12T10:43:55.937Z"
   },
   {
    "duration": 12,
    "start_time": "2025-07-12T10:43:59.136Z"
   },
   {
    "duration": 20,
    "start_time": "2025-07-12T10:44:00.903Z"
   },
   {
    "duration": 2463,
    "start_time": "2025-07-12T10:50:15.583Z"
   },
   {
    "duration": 1435,
    "start_time": "2025-07-13T18:23:29.365Z"
   },
   {
    "duration": 3816,
    "start_time": "2025-07-13T18:23:35.246Z"
   },
   {
    "duration": 1439,
    "start_time": "2025-07-13T18:25:48.077Z"
   },
   {
    "duration": 99,
    "start_time": "2025-07-13T18:25:50.730Z"
   },
   {
    "duration": 3,
    "start_time": "2025-07-13T18:25:51.080Z"
   },
   {
    "duration": 47,
    "start_time": "2025-07-13T18:25:51.382Z"
   },
   {
    "duration": 31,
    "start_time": "2025-07-13T18:25:51.591Z"
   },
   {
    "duration": 51,
    "start_time": "2025-07-13T18:25:51.873Z"
   },
   {
    "duration": 25,
    "start_time": "2025-07-13T18:25:52.071Z"
   },
   {
    "duration": 15,
    "start_time": "2025-07-13T18:25:53.805Z"
   },
   {
    "duration": 9,
    "start_time": "2025-07-13T18:25:54.384Z"
   },
   {
    "duration": 14,
    "start_time": "2025-07-13T18:25:54.863Z"
   },
   {
    "duration": 5,
    "start_time": "2025-07-13T18:25:55.009Z"
   },
   {
    "duration": 1086,
    "start_time": "2025-07-13T18:25:55.917Z"
   },
   {
    "duration": 576,
    "start_time": "2025-07-13T18:25:57.005Z"
   },
   {
    "duration": 98,
    "start_time": "2025-07-13T18:25:57.831Z"
   },
   {
    "duration": 586,
    "start_time": "2025-07-13T18:25:58.304Z"
   },
   {
    "duration": 121,
    "start_time": "2025-07-13T18:25:58.892Z"
   },
   {
    "duration": 12,
    "start_time": "2025-07-13T18:26:04.836Z"
   },
   {
    "duration": 4,
    "start_time": "2025-07-13T18:26:05.832Z"
   },
   {
    "duration": 98,
    "start_time": "2025-07-13T18:26:06.074Z"
   },
   {
    "duration": 11,
    "start_time": "2025-07-13T18:26:11.314Z"
   },
   {
    "duration": 19,
    "start_time": "2025-07-13T18:26:11.743Z"
   },
   {
    "duration": 12,
    "start_time": "2025-07-13T18:26:14.383Z"
   },
   {
    "duration": 774,
    "start_time": "2025-07-13T18:26:19.799Z"
   },
   {
    "duration": 786,
    "start_time": "2025-07-13T18:26:42.717Z"
   },
   {
    "duration": 15,
    "start_time": "2025-07-13T18:27:09.125Z"
   },
   {
    "duration": 1230,
    "start_time": "2025-07-13T18:31:10.472Z"
   },
   {
    "duration": 1515,
    "start_time": "2025-07-14T09:31:50.189Z"
   },
   {
    "duration": 3973,
    "start_time": "2025-07-14T09:31:55.070Z"
   },
   {
    "duration": 1853,
    "start_time": "2025-07-14T09:32:55.355Z"
   },
   {
    "duration": 227,
    "start_time": "2025-07-14T09:32:57.209Z"
   },
   {
    "duration": 4,
    "start_time": "2025-07-14T09:32:57.438Z"
   },
   {
    "duration": 80,
    "start_time": "2025-07-14T09:32:57.444Z"
   },
   {
    "duration": 72,
    "start_time": "2025-07-14T09:32:57.526Z"
   },
   {
    "duration": 60,
    "start_time": "2025-07-14T09:32:57.600Z"
   },
   {
    "duration": 50,
    "start_time": "2025-07-14T09:32:57.661Z"
   },
   {
    "duration": 17,
    "start_time": "2025-07-14T09:32:58.692Z"
   },
   {
    "duration": 11,
    "start_time": "2025-07-14T09:32:59.146Z"
   },
   {
    "duration": 16,
    "start_time": "2025-07-14T09:32:59.683Z"
   },
   {
    "duration": 4,
    "start_time": "2025-07-14T09:32:59.996Z"
   },
   {
    "duration": 1283,
    "start_time": "2025-07-14T09:33:01.466Z"
   },
   {
    "duration": 644,
    "start_time": "2025-07-14T09:33:02.751Z"
   },
   {
    "duration": 105,
    "start_time": "2025-07-14T09:33:10.613Z"
   },
   {
    "duration": 667,
    "start_time": "2025-07-14T09:33:10.836Z"
   },
   {
    "duration": 133,
    "start_time": "2025-07-14T09:33:11.504Z"
   },
   {
    "duration": 13,
    "start_time": "2025-07-14T09:33:19.013Z"
   },
   {
    "duration": 6,
    "start_time": "2025-07-14T09:33:19.667Z"
   },
   {
    "duration": 105,
    "start_time": "2025-07-14T09:33:20.013Z"
   },
   {
    "duration": 124,
    "start_time": "2025-07-14T09:34:06.723Z"
   },
   {
    "duration": 9,
    "start_time": "2025-07-14T09:34:13.161Z"
   },
   {
    "duration": 5,
    "start_time": "2025-07-14T09:34:23.143Z"
   },
   {
    "duration": 6,
    "start_time": "2025-07-14T09:35:13.533Z"
   },
   {
    "duration": 6,
    "start_time": "2025-07-14T09:35:25.483Z"
   },
   {
    "duration": 11,
    "start_time": "2025-07-14T09:35:45.970Z"
   },
   {
    "duration": 21,
    "start_time": "2025-07-14T09:35:47.250Z"
   },
   {
    "duration": 13,
    "start_time": "2025-07-14T09:35:49.813Z"
   },
   {
    "duration": 1341,
    "start_time": "2025-07-14T09:36:15.482Z"
   },
   {
    "duration": 4071,
    "start_time": "2025-07-14T09:36:19.931Z"
   },
   {
    "duration": 541,
    "start_time": "2025-07-14T10:11:01.364Z"
   },
   {
    "duration": 4293,
    "start_time": "2025-07-14T10:11:17.436Z"
   },
   {
    "duration": 476,
    "start_time": "2025-07-14T10:12:24.690Z"
   },
   {
    "duration": 362,
    "start_time": "2025-07-14T10:13:59.321Z"
   },
   {
    "duration": 4342,
    "start_time": "2025-07-14T10:14:47.084Z"
   },
   {
    "duration": 486,
    "start_time": "2025-07-14T10:15:54.555Z"
   },
   {
    "duration": 1280,
    "start_time": "2025-07-14T10:16:16.020Z"
   },
   {
    "duration": 1276,
    "start_time": "2025-07-14T10:18:51.132Z"
   },
   {
    "duration": 5319,
    "start_time": "2025-07-15T08:45:53.418Z"
   },
   {
    "duration": 4366,
    "start_time": "2025-07-15T08:47:10.067Z"
   },
   {
    "duration": 334,
    "start_time": "2025-07-15T08:47:14.436Z"
   },
   {
    "duration": 4,
    "start_time": "2025-07-15T08:47:14.772Z"
   },
   {
    "duration": 76,
    "start_time": "2025-07-15T08:47:14.778Z"
   },
   {
    "duration": 45,
    "start_time": "2025-07-15T08:47:14.857Z"
   },
   {
    "duration": 104,
    "start_time": "2025-07-15T08:47:14.904Z"
   },
   {
    "duration": 51,
    "start_time": "2025-07-15T08:47:15.010Z"
   },
   {
    "duration": 75,
    "start_time": "2025-07-15T08:47:15.064Z"
   },
   {
    "duration": 77,
    "start_time": "2025-07-15T08:47:15.142Z"
   },
   {
    "duration": 48,
    "start_time": "2025-07-15T08:47:15.221Z"
   },
   {
    "duration": 51,
    "start_time": "2025-07-15T08:47:15.271Z"
   },
   {
    "duration": 1344,
    "start_time": "2025-07-15T08:47:15.324Z"
   },
   {
    "duration": 687,
    "start_time": "2025-07-15T08:47:16.670Z"
   },
   {
    "duration": 117,
    "start_time": "2025-07-15T08:47:17.359Z"
   },
   {
    "duration": 721,
    "start_time": "2025-07-15T08:47:17.478Z"
   },
   {
    "duration": 150,
    "start_time": "2025-07-15T08:47:18.201Z"
   },
   {
    "duration": 13,
    "start_time": "2025-07-15T08:47:18.353Z"
   },
   {
    "duration": 18,
    "start_time": "2025-07-15T08:47:18.368Z"
   },
   {
    "duration": 142,
    "start_time": "2025-07-15T08:47:18.387Z"
   },
   {
    "duration": 18,
    "start_time": "2025-07-15T08:47:18.531Z"
   },
   {
    "duration": 20,
    "start_time": "2025-07-15T08:47:18.552Z"
   },
   {
    "duration": 44,
    "start_time": "2025-07-15T08:47:18.573Z"
   },
   {
    "duration": 1457,
    "start_time": "2025-07-15T08:47:18.618Z"
   },
   {
    "duration": 1397,
    "start_time": "2025-07-15T08:47:20.077Z"
   },
   {
    "duration": 139,
    "start_time": "2025-07-15T08:47:21.477Z"
   },
   {
    "duration": 0,
    "start_time": "2025-07-15T08:47:21.618Z"
   },
   {
    "duration": 0,
    "start_time": "2025-07-15T08:47:21.620Z"
   },
   {
    "duration": 0,
    "start_time": "2025-07-15T08:47:21.622Z"
   },
   {
    "duration": 0,
    "start_time": "2025-07-15T08:47:21.623Z"
   },
   {
    "duration": 0,
    "start_time": "2025-07-15T08:47:21.625Z"
   },
   {
    "duration": 0,
    "start_time": "2025-07-15T08:47:21.639Z"
   },
   {
    "duration": 0,
    "start_time": "2025-07-15T08:47:21.641Z"
   },
   {
    "duration": 0,
    "start_time": "2025-07-15T08:47:21.642Z"
   },
   {
    "duration": 0,
    "start_time": "2025-07-15T08:47:21.644Z"
   },
   {
    "duration": 1592,
    "start_time": "2025-07-15T10:00:18.574Z"
   },
   {
    "duration": 4054,
    "start_time": "2025-07-15T10:02:09.285Z"
   },
   {
    "duration": 6138,
    "start_time": "2025-07-15T10:02:39.220Z"
   },
   {
    "duration": 1562,
    "start_time": "2025-07-15T10:03:08.644Z"
   },
   {
    "duration": 321,
    "start_time": "2025-07-15T10:03:10.208Z"
   },
   {
    "duration": 3,
    "start_time": "2025-07-15T10:03:10.531Z"
   },
   {
    "duration": 58,
    "start_time": "2025-07-15T10:03:10.536Z"
   },
   {
    "duration": 34,
    "start_time": "2025-07-15T10:03:10.595Z"
   },
   {
    "duration": 75,
    "start_time": "2025-07-15T10:03:10.630Z"
   },
   {
    "duration": 27,
    "start_time": "2025-07-15T10:03:10.707Z"
   },
   {
    "duration": 16,
    "start_time": "2025-07-15T10:03:10.763Z"
   },
   {
    "duration": 24,
    "start_time": "2025-07-15T10:03:10.781Z"
   },
   {
    "duration": 38,
    "start_time": "2025-07-15T10:03:10.808Z"
   },
   {
    "duration": 5,
    "start_time": "2025-07-15T10:03:10.847Z"
   },
   {
    "duration": 1237,
    "start_time": "2025-07-15T10:03:10.854Z"
   },
   {
    "duration": 541,
    "start_time": "2025-07-15T10:03:12.092Z"
   },
   {
    "duration": 116,
    "start_time": "2025-07-15T10:03:12.635Z"
   },
   {
    "duration": 636,
    "start_time": "2025-07-15T10:03:12.753Z"
   },
   {
    "duration": 137,
    "start_time": "2025-07-15T10:03:13.390Z"
   },
   {
    "duration": 14,
    "start_time": "2025-07-15T10:03:13.528Z"
   },
   {
    "duration": 20,
    "start_time": "2025-07-15T10:03:13.543Z"
   },
   {
    "duration": 108,
    "start_time": "2025-07-15T10:03:13.565Z"
   },
   {
    "duration": 10,
    "start_time": "2025-07-15T10:03:13.674Z"
   },
   {
    "duration": 19,
    "start_time": "2025-07-15T10:03:13.686Z"
   },
   {
    "duration": 12,
    "start_time": "2025-07-15T10:03:13.707Z"
   },
   {
    "duration": 1355,
    "start_time": "2025-07-15T10:03:13.721Z"
   },
   {
    "duration": 1317,
    "start_time": "2025-07-15T10:03:15.078Z"
   },
   {
    "duration": 130,
    "start_time": "2025-07-15T10:03:16.396Z"
   },
   {
    "duration": 0,
    "start_time": "2025-07-15T10:03:16.528Z"
   },
   {
    "duration": 0,
    "start_time": "2025-07-15T10:03:16.529Z"
   },
   {
    "duration": 0,
    "start_time": "2025-07-15T10:03:16.530Z"
   },
   {
    "duration": 0,
    "start_time": "2025-07-15T10:03:16.532Z"
   },
   {
    "duration": 0,
    "start_time": "2025-07-15T10:03:16.533Z"
   },
   {
    "duration": 0,
    "start_time": "2025-07-15T10:03:16.534Z"
   },
   {
    "duration": 0,
    "start_time": "2025-07-15T10:03:16.535Z"
   },
   {
    "duration": 0,
    "start_time": "2025-07-15T10:03:16.536Z"
   },
   {
    "duration": 0,
    "start_time": "2025-07-15T10:03:16.537Z"
   },
   {
    "duration": 112414,
    "start_time": "2025-07-15T10:03:57.983Z"
   },
   {
    "duration": 5,
    "start_time": "2025-07-15T10:07:20.650Z"
   },
   {
    "duration": 26,
    "start_time": "2025-07-15T10:07:32.586Z"
   },
   {
    "duration": 114653,
    "start_time": "2025-07-15T10:07:56.503Z"
   },
   {
    "duration": 113291,
    "start_time": "2025-07-15T10:21:09.231Z"
   },
   {
    "duration": 193,
    "start_time": "2025-07-15T10:23:02.524Z"
   },
   {
    "duration": 1656,
    "start_time": "2025-07-15T10:32:37.479Z"
   },
   {
    "duration": 106,
    "start_time": "2025-07-15T10:32:39.137Z"
   },
   {
    "duration": 4,
    "start_time": "2025-07-15T10:32:39.244Z"
   },
   {
    "duration": 49,
    "start_time": "2025-07-15T10:32:39.250Z"
   },
   {
    "duration": 34,
    "start_time": "2025-07-15T10:32:39.300Z"
   },
   {
    "duration": 90,
    "start_time": "2025-07-15T10:32:39.336Z"
   },
   {
    "duration": 50,
    "start_time": "2025-07-15T10:32:39.427Z"
   },
   {
    "duration": 15,
    "start_time": "2025-07-15T10:32:39.479Z"
   },
   {
    "duration": 9,
    "start_time": "2025-07-15T10:32:39.496Z"
   },
   {
    "duration": 14,
    "start_time": "2025-07-15T10:32:39.507Z"
   },
   {
    "duration": 4,
    "start_time": "2025-07-15T10:32:39.523Z"
   },
   {
    "duration": 1259,
    "start_time": "2025-07-15T10:32:39.528Z"
   },
   {
    "duration": 533,
    "start_time": "2025-07-15T10:32:40.789Z"
   },
   {
    "duration": 115,
    "start_time": "2025-07-15T10:32:41.324Z"
   },
   {
    "duration": 616,
    "start_time": "2025-07-15T10:32:41.441Z"
   },
   {
    "duration": 133,
    "start_time": "2025-07-15T10:32:42.059Z"
   },
   {
    "duration": 12,
    "start_time": "2025-07-15T10:32:42.194Z"
   },
   {
    "duration": 63,
    "start_time": "2025-07-15T10:32:42.208Z"
   },
   {
    "duration": 95,
    "start_time": "2025-07-15T10:32:42.277Z"
   },
   {
    "duration": 11,
    "start_time": "2025-07-15T10:32:42.374Z"
   },
   {
    "duration": 28,
    "start_time": "2025-07-15T10:32:42.386Z"
   },
   {
    "duration": 12,
    "start_time": "2025-07-15T10:32:42.416Z"
   },
   {
    "duration": 1229,
    "start_time": "2025-07-15T10:32:42.430Z"
   },
   {
    "duration": 1210,
    "start_time": "2025-07-15T10:32:43.662Z"
   },
   {
    "duration": 5,
    "start_time": "2025-07-15T10:32:44.874Z"
   },
   {
    "duration": 132,
    "start_time": "2025-07-15T10:32:44.881Z"
   },
   {
    "duration": 0,
    "start_time": "2025-07-15T10:32:45.015Z"
   },
   {
    "duration": 0,
    "start_time": "2025-07-15T10:32:45.016Z"
   },
   {
    "duration": 0,
    "start_time": "2025-07-15T10:32:45.017Z"
   },
   {
    "duration": 0,
    "start_time": "2025-07-15T10:32:45.018Z"
   },
   {
    "duration": 0,
    "start_time": "2025-07-15T10:32:45.019Z"
   },
   {
    "duration": 0,
    "start_time": "2025-07-15T10:32:45.021Z"
   },
   {
    "duration": 0,
    "start_time": "2025-07-15T10:32:45.022Z"
   },
   {
    "duration": 0,
    "start_time": "2025-07-15T10:32:45.023Z"
   },
   {
    "duration": 0,
    "start_time": "2025-07-15T10:32:45.024Z"
   },
   {
    "duration": 0,
    "start_time": "2025-07-15T10:32:45.024Z"
   },
   {
    "duration": 0,
    "start_time": "2025-07-15T10:32:45.025Z"
   },
   {
    "duration": 20,
    "start_time": "2025-07-15T10:33:04.147Z"
   },
   {
    "duration": 94329,
    "start_time": "2025-07-15T10:33:24.041Z"
   },
   {
    "duration": 1562,
    "start_time": "2025-07-15T10:36:41.213Z"
   },
   {
    "duration": 108,
    "start_time": "2025-07-15T10:36:42.777Z"
   },
   {
    "duration": 4,
    "start_time": "2025-07-15T10:36:42.887Z"
   },
   {
    "duration": 81,
    "start_time": "2025-07-15T10:36:42.894Z"
   },
   {
    "duration": 39,
    "start_time": "2025-07-15T10:36:42.977Z"
   },
   {
    "duration": 84,
    "start_time": "2025-07-15T10:36:43.018Z"
   },
   {
    "duration": 27,
    "start_time": "2025-07-15T10:36:43.104Z"
   },
   {
    "duration": 41,
    "start_time": "2025-07-15T10:36:43.133Z"
   },
   {
    "duration": 10,
    "start_time": "2025-07-15T10:36:43.175Z"
   },
   {
    "duration": 54,
    "start_time": "2025-07-15T10:36:43.188Z"
   },
   {
    "duration": 5,
    "start_time": "2025-07-15T10:36:43.243Z"
   },
   {
    "duration": 1237,
    "start_time": "2025-07-15T10:36:43.250Z"
   },
   {
    "duration": 547,
    "start_time": "2025-07-15T10:36:44.489Z"
   },
   {
    "duration": 117,
    "start_time": "2025-07-15T10:36:45.038Z"
   },
   {
    "duration": 730,
    "start_time": "2025-07-15T10:36:45.157Z"
   },
   {
    "duration": 134,
    "start_time": "2025-07-15T10:36:45.889Z"
   },
   {
    "duration": 13,
    "start_time": "2025-07-15T10:36:46.024Z"
   },
   {
    "duration": 63,
    "start_time": "2025-07-15T10:36:46.038Z"
   },
   {
    "duration": 124,
    "start_time": "2025-07-15T10:36:46.103Z"
   },
   {
    "duration": 10,
    "start_time": "2025-07-15T10:36:46.229Z"
   },
   {
    "duration": 86,
    "start_time": "2025-07-15T10:36:46.241Z"
   },
   {
    "duration": 14,
    "start_time": "2025-07-15T10:36:46.329Z"
   },
   {
    "duration": 1273,
    "start_time": "2025-07-15T10:36:46.345Z"
   },
   {
    "duration": 1291,
    "start_time": "2025-07-15T10:36:47.619Z"
   },
   {
    "duration": 4,
    "start_time": "2025-07-15T10:36:48.912Z"
   },
   {
    "duration": 96286,
    "start_time": "2025-07-15T10:36:48.918Z"
   },
   {
    "duration": 200,
    "start_time": "2025-07-15T10:38:25.205Z"
   },
   {
    "duration": 123,
    "start_time": "2025-07-15T10:38:25.408Z"
   },
   {
    "duration": 0,
    "start_time": "2025-07-15T10:38:25.532Z"
   },
   {
    "duration": 0,
    "start_time": "2025-07-15T10:38:25.533Z"
   },
   {
    "duration": 0,
    "start_time": "2025-07-15T10:38:25.534Z"
   },
   {
    "duration": 0,
    "start_time": "2025-07-15T10:38:25.535Z"
   },
   {
    "duration": 0,
    "start_time": "2025-07-15T10:38:25.536Z"
   },
   {
    "duration": 0,
    "start_time": "2025-07-15T10:38:25.537Z"
   },
   {
    "duration": 0,
    "start_time": "2025-07-15T10:38:25.538Z"
   },
   {
    "duration": 0,
    "start_time": "2025-07-15T10:38:25.539Z"
   },
   {
    "duration": 0,
    "start_time": "2025-07-15T10:38:25.540Z"
   },
   {
    "duration": 1482,
    "start_time": "2025-07-15T10:39:49.679Z"
   },
   {
    "duration": 95,
    "start_time": "2025-07-15T10:39:51.163Z"
   },
   {
    "duration": 10,
    "start_time": "2025-07-15T10:39:51.260Z"
   },
   {
    "duration": 66,
    "start_time": "2025-07-15T10:39:51.272Z"
   },
   {
    "duration": 35,
    "start_time": "2025-07-15T10:39:51.340Z"
   },
   {
    "duration": 52,
    "start_time": "2025-07-15T10:39:51.377Z"
   },
   {
    "duration": 46,
    "start_time": "2025-07-15T10:39:51.431Z"
   },
   {
    "duration": 15,
    "start_time": "2025-07-15T10:39:51.479Z"
   },
   {
    "duration": 18,
    "start_time": "2025-07-15T10:39:51.495Z"
   },
   {
    "duration": 31,
    "start_time": "2025-07-15T10:39:51.514Z"
   },
   {
    "duration": 23,
    "start_time": "2025-07-15T10:39:51.547Z"
   },
   {
    "duration": 1175,
    "start_time": "2025-07-15T10:39:51.572Z"
   },
   {
    "duration": 520,
    "start_time": "2025-07-15T10:39:52.749Z"
   },
   {
    "duration": 112,
    "start_time": "2025-07-15T10:39:53.272Z"
   },
   {
    "duration": 593,
    "start_time": "2025-07-15T10:39:53.385Z"
   },
   {
    "duration": 125,
    "start_time": "2025-07-15T10:39:53.980Z"
   },
   {
    "duration": 12,
    "start_time": "2025-07-15T10:39:54.106Z"
   },
   {
    "duration": 17,
    "start_time": "2025-07-15T10:39:54.120Z"
   },
   {
    "duration": 126,
    "start_time": "2025-07-15T10:39:54.139Z"
   },
   {
    "duration": 10,
    "start_time": "2025-07-15T10:39:54.267Z"
   },
   {
    "duration": 68,
    "start_time": "2025-07-15T10:39:54.278Z"
   },
   {
    "duration": 11,
    "start_time": "2025-07-15T10:39:54.348Z"
   },
   {
    "duration": 1233,
    "start_time": "2025-07-15T10:39:54.361Z"
   },
   {
    "duration": 1242,
    "start_time": "2025-07-15T10:39:55.596Z"
   },
   {
    "duration": 167975,
    "start_time": "2025-07-15T10:39:56.839Z"
   },
   {
    "duration": 0,
    "start_time": "2025-07-15T10:42:44.816Z"
   },
   {
    "duration": 0,
    "start_time": "2025-07-15T10:42:44.817Z"
   },
   {
    "duration": 0,
    "start_time": "2025-07-15T10:42:44.818Z"
   },
   {
    "duration": 0,
    "start_time": "2025-07-15T10:42:44.820Z"
   },
   {
    "duration": 0,
    "start_time": "2025-07-15T10:42:44.821Z"
   },
   {
    "duration": 0,
    "start_time": "2025-07-15T10:42:44.822Z"
   },
   {
    "duration": 0,
    "start_time": "2025-07-15T10:42:44.824Z"
   },
   {
    "duration": 0,
    "start_time": "2025-07-15T10:42:44.826Z"
   },
   {
    "duration": 0,
    "start_time": "2025-07-15T10:42:44.827Z"
   },
   {
    "duration": 0,
    "start_time": "2025-07-15T10:42:44.829Z"
   },
   {
    "duration": 0,
    "start_time": "2025-07-15T10:42:44.861Z"
   },
   {
    "duration": 4,
    "start_time": "2025-07-15T10:58:02.687Z"
   },
   {
    "duration": 1469,
    "start_time": "2025-07-15T10:58:38.355Z"
   },
   {
    "duration": 107,
    "start_time": "2025-07-15T10:58:39.825Z"
   },
   {
    "duration": 4,
    "start_time": "2025-07-15T10:58:39.934Z"
   },
   {
    "duration": 51,
    "start_time": "2025-07-15T10:58:39.939Z"
   },
   {
    "duration": 32,
    "start_time": "2025-07-15T10:58:39.992Z"
   },
   {
    "duration": 85,
    "start_time": "2025-07-15T10:58:40.025Z"
   },
   {
    "duration": 25,
    "start_time": "2025-07-15T10:58:40.111Z"
   },
   {
    "duration": 34,
    "start_time": "2025-07-15T10:58:40.161Z"
   },
   {
    "duration": 9,
    "start_time": "2025-07-15T10:58:40.196Z"
   },
   {
    "duration": 36,
    "start_time": "2025-07-15T10:58:40.206Z"
   },
   {
    "duration": 4,
    "start_time": "2025-07-15T10:58:40.243Z"
   },
   {
    "duration": 1091,
    "start_time": "2025-07-15T10:58:40.248Z"
   },
   {
    "duration": 581,
    "start_time": "2025-07-15T10:58:41.341Z"
   },
   {
    "duration": 109,
    "start_time": "2025-07-15T10:58:41.925Z"
   },
   {
    "duration": 615,
    "start_time": "2025-07-15T10:58:42.036Z"
   },
   {
    "duration": 131,
    "start_time": "2025-07-15T10:58:42.653Z"
   },
   {
    "duration": 12,
    "start_time": "2025-07-15T10:58:42.786Z"
   },
   {
    "duration": 4,
    "start_time": "2025-07-15T10:58:42.800Z"
   },
   {
    "duration": 114,
    "start_time": "2025-07-15T10:58:42.805Z"
   },
   {
    "duration": 10,
    "start_time": "2025-07-15T10:58:42.920Z"
   },
   {
    "duration": 39,
    "start_time": "2025-07-15T10:58:42.931Z"
   },
   {
    "duration": 11,
    "start_time": "2025-07-15T10:58:42.972Z"
   },
   {
    "duration": 1289,
    "start_time": "2025-07-15T10:58:42.985Z"
   },
   {
    "duration": 1188,
    "start_time": "2025-07-15T10:58:44.277Z"
   },
   {
    "duration": 118,
    "start_time": "2025-07-15T10:58:45.467Z"
   },
   {
    "duration": 0,
    "start_time": "2025-07-15T10:58:45.586Z"
   },
   {
    "duration": 0,
    "start_time": "2025-07-15T10:58:45.588Z"
   },
   {
    "duration": 0,
    "start_time": "2025-07-15T10:58:45.589Z"
   },
   {
    "duration": 0,
    "start_time": "2025-07-15T10:58:45.590Z"
   },
   {
    "duration": 0,
    "start_time": "2025-07-15T10:58:45.591Z"
   },
   {
    "duration": 0,
    "start_time": "2025-07-15T10:58:45.592Z"
   },
   {
    "duration": 0,
    "start_time": "2025-07-15T10:58:45.593Z"
   },
   {
    "duration": 0,
    "start_time": "2025-07-15T10:58:45.594Z"
   },
   {
    "duration": 0,
    "start_time": "2025-07-15T10:58:45.595Z"
   },
   {
    "duration": 10,
    "start_time": "2025-07-15T10:59:43.485Z"
   },
   {
    "duration": 16,
    "start_time": "2025-07-15T11:03:03.871Z"
   },
   {
    "duration": 56123,
    "start_time": "2025-07-15T11:08:24.040Z"
   },
   {
    "duration": 1454,
    "start_time": "2025-07-15T13:48:40.516Z"
   },
   {
    "duration": 97,
    "start_time": "2025-07-15T13:48:41.972Z"
   },
   {
    "duration": 4,
    "start_time": "2025-07-15T13:48:42.071Z"
   },
   {
    "duration": 78,
    "start_time": "2025-07-15T13:48:42.077Z"
   },
   {
    "duration": 37,
    "start_time": "2025-07-15T13:48:42.158Z"
   },
   {
    "duration": 80,
    "start_time": "2025-07-15T13:48:42.196Z"
   },
   {
    "duration": 29,
    "start_time": "2025-07-15T13:48:42.277Z"
   },
   {
    "duration": 16,
    "start_time": "2025-07-15T13:48:42.308Z"
   },
   {
    "duration": 11,
    "start_time": "2025-07-15T13:48:42.827Z"
   },
   {
    "duration": 58,
    "start_time": "2025-07-15T13:48:42.840Z"
   },
   {
    "duration": 6,
    "start_time": "2025-07-15T13:48:42.900Z"
   },
   {
    "duration": 1146,
    "start_time": "2025-07-15T13:48:43.033Z"
   },
   {
    "duration": 653,
    "start_time": "2025-07-15T13:48:44.181Z"
   },
   {
    "duration": 117,
    "start_time": "2025-07-15T13:48:44.836Z"
   },
   {
    "duration": 631,
    "start_time": "2025-07-15T13:48:44.962Z"
   },
   {
    "duration": 138,
    "start_time": "2025-07-15T13:48:45.595Z"
   },
   {
    "duration": 14,
    "start_time": "2025-07-15T13:48:45.734Z"
   },
   {
    "duration": 45,
    "start_time": "2025-07-15T13:48:45.749Z"
   },
   {
    "duration": 112,
    "start_time": "2025-07-15T13:48:45.796Z"
   },
   {
    "duration": 11,
    "start_time": "2025-07-15T13:48:45.909Z"
   },
   {
    "duration": 21,
    "start_time": "2025-07-15T13:48:45.922Z"
   },
   {
    "duration": 26,
    "start_time": "2025-07-15T13:48:45.945Z"
   },
   {
    "duration": 1394,
    "start_time": "2025-07-15T13:48:45.972Z"
   },
   {
    "duration": 1442,
    "start_time": "2025-07-15T13:48:47.368Z"
   },
   {
    "duration": 127,
    "start_time": "2025-07-15T13:48:48.811Z"
   },
   {
    "duration": 1,
    "start_time": "2025-07-15T13:48:48.939Z"
   },
   {
    "duration": 0,
    "start_time": "2025-07-15T13:48:48.941Z"
   },
   {
    "duration": 0,
    "start_time": "2025-07-15T13:48:48.942Z"
   },
   {
    "duration": 0,
    "start_time": "2025-07-15T13:48:48.943Z"
   },
   {
    "duration": 0,
    "start_time": "2025-07-15T13:48:48.944Z"
   },
   {
    "duration": 0,
    "start_time": "2025-07-15T13:48:48.945Z"
   },
   {
    "duration": 0,
    "start_time": "2025-07-15T13:48:48.946Z"
   },
   {
    "duration": 0,
    "start_time": "2025-07-15T13:48:48.947Z"
   },
   {
    "duration": 0,
    "start_time": "2025-07-15T13:48:48.963Z"
   },
   {
    "duration": 20,
    "start_time": "2025-07-15T13:49:34.170Z"
   },
   {
    "duration": 35,
    "start_time": "2025-07-15T13:51:37.231Z"
   },
   {
    "duration": 40,
    "start_time": "2025-07-15T13:54:26.022Z"
   },
   {
    "duration": 5,
    "start_time": "2025-07-15T13:55:39.906Z"
   },
   {
    "duration": 28328,
    "start_time": "2025-07-15T14:09:21.369Z"
   },
   {
    "duration": 16,
    "start_time": "2025-07-15T14:17:17.266Z"
   },
   {
    "duration": 6,
    "start_time": "2025-07-15T14:17:20.088Z"
   },
   {
    "duration": 89572,
    "start_time": "2025-07-15T14:17:29.376Z"
   },
   {
    "duration": 4,
    "start_time": "2025-07-15T14:18:58.950Z"
   },
   {
    "duration": 86231,
    "start_time": "2025-07-15T14:18:58.956Z"
   },
   {
    "duration": 4156,
    "start_time": "2025-07-15T14:20:25.190Z"
   },
   {
    "duration": 3899,
    "start_time": "2025-07-15T14:20:29.349Z"
   },
   {
    "duration": 15,
    "start_time": "2025-07-15T14:20:33.250Z"
   },
   {
    "duration": 232,
    "start_time": "2025-07-15T14:20:33.268Z"
   },
   {
    "duration": 153,
    "start_time": "2025-07-15T14:20:33.501Z"
   },
   {
    "duration": 1538,
    "start_time": "2025-07-15T14:24:02.332Z"
   },
   {
    "duration": 105,
    "start_time": "2025-07-15T14:24:03.875Z"
   },
   {
    "duration": 3,
    "start_time": "2025-07-15T14:24:03.982Z"
   },
   {
    "duration": 63,
    "start_time": "2025-07-15T14:24:03.987Z"
   },
   {
    "duration": 44,
    "start_time": "2025-07-15T14:24:04.052Z"
   },
   {
    "duration": 79,
    "start_time": "2025-07-15T14:24:04.098Z"
   },
   {
    "duration": 26,
    "start_time": "2025-07-15T14:24:04.179Z"
   },
   {
    "duration": 50,
    "start_time": "2025-07-15T14:24:04.207Z"
   },
   {
    "duration": 19,
    "start_time": "2025-07-15T14:24:04.259Z"
   },
   {
    "duration": 27,
    "start_time": "2025-07-15T14:24:04.281Z"
   },
   {
    "duration": 4,
    "start_time": "2025-07-15T14:24:04.310Z"
   },
   {
    "duration": 1115,
    "start_time": "2025-07-15T14:24:04.316Z"
   },
   {
    "duration": 613,
    "start_time": "2025-07-15T14:24:05.433Z"
   },
   {
    "duration": 129,
    "start_time": "2025-07-15T14:24:06.048Z"
   },
   {
    "duration": 637,
    "start_time": "2025-07-15T14:24:06.178Z"
   },
   {
    "duration": 132,
    "start_time": "2025-07-15T14:24:06.817Z"
   },
   {
    "duration": 31,
    "start_time": "2025-07-15T14:24:06.950Z"
   },
   {
    "duration": 4,
    "start_time": "2025-07-15T14:24:06.983Z"
   },
   {
    "duration": 123,
    "start_time": "2025-07-15T14:24:06.988Z"
   },
   {
    "duration": 9,
    "start_time": "2025-07-15T14:24:07.113Z"
   },
   {
    "duration": 18,
    "start_time": "2025-07-15T14:24:07.124Z"
   },
   {
    "duration": 38,
    "start_time": "2025-07-15T14:24:07.144Z"
   },
   {
    "duration": 1361,
    "start_time": "2025-07-15T14:24:07.184Z"
   },
   {
    "duration": 1246,
    "start_time": "2025-07-15T14:24:08.546Z"
   },
   {
    "duration": 12,
    "start_time": "2025-07-15T14:24:09.793Z"
   },
   {
    "duration": 54,
    "start_time": "2025-07-15T14:24:09.806Z"
   },
   {
    "duration": 95022,
    "start_time": "2025-07-15T14:24:09.862Z"
   },
   {
    "duration": 4,
    "start_time": "2025-07-15T14:25:44.887Z"
   },
   {
    "duration": 138,
    "start_time": "2025-07-15T14:25:44.893Z"
   },
   {
    "duration": 0,
    "start_time": "2025-07-15T14:25:45.033Z"
   },
   {
    "duration": 0,
    "start_time": "2025-07-15T14:25:45.034Z"
   },
   {
    "duration": 0,
    "start_time": "2025-07-15T14:25:45.035Z"
   },
   {
    "duration": 0,
    "start_time": "2025-07-15T14:25:45.036Z"
   },
   {
    "duration": 0,
    "start_time": "2025-07-15T14:25:45.037Z"
   },
   {
    "duration": 1552,
    "start_time": "2025-07-15T14:29:45.376Z"
   },
   {
    "duration": 94,
    "start_time": "2025-07-15T14:29:46.929Z"
   },
   {
    "duration": 4,
    "start_time": "2025-07-15T14:29:47.024Z"
   },
   {
    "duration": 64,
    "start_time": "2025-07-15T14:29:47.030Z"
   },
   {
    "duration": 30,
    "start_time": "2025-07-15T14:29:47.096Z"
   },
   {
    "duration": 83,
    "start_time": "2025-07-15T14:29:47.127Z"
   },
   {
    "duration": 24,
    "start_time": "2025-07-15T14:29:47.211Z"
   },
   {
    "duration": 45,
    "start_time": "2025-07-15T14:29:47.236Z"
   },
   {
    "duration": 18,
    "start_time": "2025-07-15T14:29:47.286Z"
   },
   {
    "duration": 17,
    "start_time": "2025-07-15T14:29:47.307Z"
   },
   {
    "duration": 6,
    "start_time": "2025-07-15T14:29:47.327Z"
   },
   {
    "duration": 1188,
    "start_time": "2025-07-15T14:29:47.335Z"
   },
   {
    "duration": 617,
    "start_time": "2025-07-15T14:29:48.525Z"
   },
   {
    "duration": 117,
    "start_time": "2025-07-15T14:29:49.144Z"
   },
   {
    "duration": 661,
    "start_time": "2025-07-15T14:29:49.271Z"
   },
   {
    "duration": 154,
    "start_time": "2025-07-15T14:29:49.935Z"
   },
   {
    "duration": 15,
    "start_time": "2025-07-15T14:29:50.092Z"
   },
   {
    "duration": 16,
    "start_time": "2025-07-15T14:29:50.109Z"
   },
   {
    "duration": 132,
    "start_time": "2025-07-15T14:29:50.127Z"
   },
   {
    "duration": 18,
    "start_time": "2025-07-15T14:29:50.260Z"
   },
   {
    "duration": 19,
    "start_time": "2025-07-15T14:29:50.279Z"
   },
   {
    "duration": 20,
    "start_time": "2025-07-15T14:29:50.300Z"
   },
   {
    "duration": 1458,
    "start_time": "2025-07-15T14:29:50.322Z"
   },
   {
    "duration": 1370,
    "start_time": "2025-07-15T14:29:51.782Z"
   },
   {
    "duration": 23,
    "start_time": "2025-07-15T14:29:53.154Z"
   },
   {
    "duration": 11,
    "start_time": "2025-07-15T14:29:53.179Z"
   },
   {
    "duration": 12416,
    "start_time": "2025-07-15T14:29:53.192Z"
   },
   {
    "duration": 0,
    "start_time": "2025-07-15T14:30:05.610Z"
   },
   {
    "duration": 0,
    "start_time": "2025-07-15T14:30:05.611Z"
   },
   {
    "duration": 0,
    "start_time": "2025-07-15T14:30:05.612Z"
   },
   {
    "duration": 0,
    "start_time": "2025-07-15T14:30:05.613Z"
   },
   {
    "duration": 0,
    "start_time": "2025-07-15T14:30:05.614Z"
   },
   {
    "duration": 0,
    "start_time": "2025-07-15T14:30:05.615Z"
   },
   {
    "duration": 0,
    "start_time": "2025-07-15T14:30:05.617Z"
   },
   {
    "duration": 23933,
    "start_time": "2025-07-15T14:39:03.557Z"
   },
   {
    "duration": 10,
    "start_time": "2025-07-15T14:39:44.064Z"
   },
   {
    "duration": 5,
    "start_time": "2025-07-15T14:52:03.994Z"
   },
   {
    "duration": 9455,
    "start_time": "2025-07-15T14:52:20.349Z"
   },
   {
    "duration": 20,
    "start_time": "2025-07-15T14:53:12.470Z"
   },
   {
    "duration": 16,
    "start_time": "2025-07-15T14:56:01.367Z"
   },
   {
    "duration": 5,
    "start_time": "2025-07-15T15:08:23.963Z"
   },
   {
    "duration": 7,
    "start_time": "2025-07-15T15:08:34.350Z"
   },
   {
    "duration": 7,
    "start_time": "2025-07-15T15:08:51.614Z"
   },
   {
    "duration": 7503,
    "start_time": "2025-07-15T15:10:06.659Z"
   },
   {
    "duration": 7849,
    "start_time": "2025-07-15T15:19:20.831Z"
   },
   {
    "duration": 2222,
    "start_time": "2025-07-15T15:20:02.895Z"
   },
   {
    "duration": 125,
    "start_time": "2025-07-15T15:20:05.118Z"
   },
   {
    "duration": 4,
    "start_time": "2025-07-15T15:20:05.244Z"
   },
   {
    "duration": 124,
    "start_time": "2025-07-15T15:20:05.249Z"
   },
   {
    "duration": 36,
    "start_time": "2025-07-15T15:20:05.378Z"
   },
   {
    "duration": 115,
    "start_time": "2025-07-15T15:20:05.415Z"
   },
   {
    "duration": 28,
    "start_time": "2025-07-15T15:20:05.532Z"
   },
   {
    "duration": 29,
    "start_time": "2025-07-15T15:20:05.562Z"
   },
   {
    "duration": 40,
    "start_time": "2025-07-15T15:20:05.593Z"
   },
   {
    "duration": 17,
    "start_time": "2025-07-15T15:20:05.636Z"
   },
   {
    "duration": 19,
    "start_time": "2025-07-15T15:20:05.655Z"
   },
   {
    "duration": 1299,
    "start_time": "2025-07-15T15:20:05.676Z"
   },
   {
    "duration": 674,
    "start_time": "2025-07-15T15:20:06.977Z"
   },
   {
    "duration": 142,
    "start_time": "2025-07-15T15:20:07.654Z"
   },
   {
    "duration": 718,
    "start_time": "2025-07-15T15:20:07.797Z"
   },
   {
    "duration": 157,
    "start_time": "2025-07-15T15:20:08.516Z"
   },
   {
    "duration": 14,
    "start_time": "2025-07-15T15:20:08.676Z"
   },
   {
    "duration": 5,
    "start_time": "2025-07-15T15:20:08.691Z"
   },
   {
    "duration": 119,
    "start_time": "2025-07-15T15:20:08.698Z"
   },
   {
    "duration": 11,
    "start_time": "2025-07-15T15:20:08.819Z"
   },
   {
    "duration": 44,
    "start_time": "2025-07-15T15:20:08.831Z"
   },
   {
    "duration": 22,
    "start_time": "2025-07-15T15:20:08.877Z"
   },
   {
    "duration": 1514,
    "start_time": "2025-07-15T15:20:08.901Z"
   },
   {
    "duration": 1336,
    "start_time": "2025-07-15T15:20:10.417Z"
   },
   {
    "duration": 25,
    "start_time": "2025-07-15T15:20:11.755Z"
   },
   {
    "duration": 5,
    "start_time": "2025-07-15T15:20:11.782Z"
   },
   {
    "duration": 175933,
    "start_time": "2025-07-15T15:20:11.789Z"
   },
   {
    "duration": 131,
    "start_time": "2025-07-15T15:23:07.725Z"
   },
   {
    "duration": 0,
    "start_time": "2025-07-15T15:23:07.859Z"
   },
   {
    "duration": 0,
    "start_time": "2025-07-15T15:23:07.860Z"
   },
   {
    "duration": 0,
    "start_time": "2025-07-15T15:23:07.861Z"
   },
   {
    "duration": 0,
    "start_time": "2025-07-15T15:23:07.864Z"
   },
   {
    "duration": 0,
    "start_time": "2025-07-15T15:23:07.864Z"
   },
   {
    "duration": 0,
    "start_time": "2025-07-15T15:23:07.865Z"
   },
   {
    "duration": 16,
    "start_time": "2025-07-15T15:23:23.877Z"
   },
   {
    "duration": 1625,
    "start_time": "2025-07-15T15:24:25.068Z"
   },
   {
    "duration": 94,
    "start_time": "2025-07-15T15:24:26.695Z"
   },
   {
    "duration": 4,
    "start_time": "2025-07-15T15:24:26.791Z"
   },
   {
    "duration": 55,
    "start_time": "2025-07-15T15:24:26.797Z"
   },
   {
    "duration": 37,
    "start_time": "2025-07-15T15:24:26.862Z"
   },
   {
    "duration": 85,
    "start_time": "2025-07-15T15:24:26.901Z"
   },
   {
    "duration": 31,
    "start_time": "2025-07-15T15:24:26.988Z"
   },
   {
    "duration": 46,
    "start_time": "2025-07-15T15:24:27.021Z"
   },
   {
    "duration": 12,
    "start_time": "2025-07-15T15:24:27.069Z"
   },
   {
    "duration": 22,
    "start_time": "2025-07-15T15:24:27.085Z"
   },
   {
    "duration": 7,
    "start_time": "2025-07-15T15:24:27.109Z"
   },
   {
    "duration": 1234,
    "start_time": "2025-07-15T15:24:27.117Z"
   },
   {
    "duration": 672,
    "start_time": "2025-07-15T15:24:28.353Z"
   },
   {
    "duration": 183,
    "start_time": "2025-07-15T15:24:29.027Z"
   },
   {
    "duration": 723,
    "start_time": "2025-07-15T15:24:29.212Z"
   },
   {
    "duration": 163,
    "start_time": "2025-07-15T15:24:29.937Z"
   },
   {
    "duration": 41,
    "start_time": "2025-07-15T15:24:30.102Z"
   },
   {
    "duration": 49,
    "start_time": "2025-07-15T15:24:30.145Z"
   },
   {
    "duration": 134,
    "start_time": "2025-07-15T15:24:30.195Z"
   },
   {
    "duration": 11,
    "start_time": "2025-07-15T15:24:30.331Z"
   },
   {
    "duration": 34,
    "start_time": "2025-07-15T15:24:30.343Z"
   },
   {
    "duration": 91,
    "start_time": "2025-07-15T15:24:30.379Z"
   },
   {
    "duration": 1452,
    "start_time": "2025-07-15T15:24:30.471Z"
   },
   {
    "duration": 1318,
    "start_time": "2025-07-15T15:24:31.925Z"
   },
   {
    "duration": 21,
    "start_time": "2025-07-15T15:24:33.245Z"
   },
   {
    "duration": 41,
    "start_time": "2025-07-15T15:24:33.268Z"
   },
   {
    "duration": 127,
    "start_time": "2025-07-15T15:24:33.311Z"
   },
   {
    "duration": 0,
    "start_time": "2025-07-15T15:24:33.439Z"
   },
   {
    "duration": 0,
    "start_time": "2025-07-15T15:24:33.440Z"
   },
   {
    "duration": 0,
    "start_time": "2025-07-15T15:24:33.442Z"
   },
   {
    "duration": 0,
    "start_time": "2025-07-15T15:24:33.443Z"
   },
   {
    "duration": 0,
    "start_time": "2025-07-15T15:24:33.444Z"
   },
   {
    "duration": 0,
    "start_time": "2025-07-15T15:24:33.445Z"
   },
   {
    "duration": 0,
    "start_time": "2025-07-15T15:24:33.447Z"
   },
   {
    "duration": 5,
    "start_time": "2025-07-15T15:25:28.182Z"
   },
   {
    "duration": 96841,
    "start_time": "2025-07-15T15:25:30.266Z"
   },
   {
    "duration": 4,
    "start_time": "2025-07-15T15:27:15.608Z"
   },
   {
    "duration": 5,
    "start_time": "2025-07-15T15:34:18.229Z"
   },
   {
    "duration": 6,
    "start_time": "2025-07-15T15:34:36.163Z"
   },
   {
    "duration": 153401,
    "start_time": "2025-07-15T15:34:43.272Z"
   },
   {
    "duration": 4,
    "start_time": "2025-07-15T15:44:07.751Z"
   },
   {
    "duration": 8385,
    "start_time": "2025-07-15T15:44:08.958Z"
   },
   {
    "duration": 89480,
    "start_time": "2025-07-15T15:44:55.260Z"
   },
   {
    "duration": 1546,
    "start_time": "2025-07-15T16:11:05.461Z"
   },
   {
    "duration": 93,
    "start_time": "2025-07-15T16:11:07.009Z"
   },
   {
    "duration": 38,
    "start_time": "2025-07-15T16:11:07.104Z"
   },
   {
    "duration": 74,
    "start_time": "2025-07-15T16:11:07.144Z"
   },
   {
    "duration": 55,
    "start_time": "2025-07-15T16:11:07.220Z"
   },
   {
    "duration": 49,
    "start_time": "2025-07-15T16:11:07.276Z"
   },
   {
    "duration": 56,
    "start_time": "2025-07-15T16:11:07.326Z"
   },
   {
    "duration": 13,
    "start_time": "2025-07-15T16:11:07.384Z"
   },
   {
    "duration": 37,
    "start_time": "2025-07-15T16:11:07.399Z"
   },
   {
    "duration": 23,
    "start_time": "2025-07-15T16:11:07.438Z"
   },
   {
    "duration": 9,
    "start_time": "2025-07-15T16:11:07.463Z"
   },
   {
    "duration": 1152,
    "start_time": "2025-07-15T16:11:07.475Z"
   },
   {
    "duration": 600,
    "start_time": "2025-07-15T16:11:08.629Z"
   },
   {
    "duration": 113,
    "start_time": "2025-07-15T16:11:09.231Z"
   },
   {
    "duration": 646,
    "start_time": "2025-07-15T16:11:09.345Z"
   },
   {
    "duration": 146,
    "start_time": "2025-07-15T16:11:09.993Z"
   },
   {
    "duration": 21,
    "start_time": "2025-07-15T16:11:10.141Z"
   },
   {
    "duration": 59,
    "start_time": "2025-07-15T16:11:10.165Z"
   },
   {
    "duration": 122,
    "start_time": "2025-07-15T16:11:10.226Z"
   },
   {
    "duration": 25,
    "start_time": "2025-07-15T16:11:10.350Z"
   },
   {
    "duration": 18,
    "start_time": "2025-07-15T16:11:10.378Z"
   },
   {
    "duration": 19,
    "start_time": "2025-07-15T16:11:10.397Z"
   },
   {
    "duration": 1341,
    "start_time": "2025-07-15T16:11:10.418Z"
   },
   {
    "duration": 1268,
    "start_time": "2025-07-15T16:11:11.763Z"
   },
   {
    "duration": 11,
    "start_time": "2025-07-15T16:11:13.032Z"
   },
   {
    "duration": 23,
    "start_time": "2025-07-15T16:11:13.045Z"
   },
   {
    "duration": 58663,
    "start_time": "2025-07-15T16:11:13.070Z"
   },
   {
    "duration": 129,
    "start_time": "2025-07-15T16:12:11.736Z"
   },
   {
    "duration": 0,
    "start_time": "2025-07-15T16:12:11.874Z"
   },
   {
    "duration": 0,
    "start_time": "2025-07-15T16:12:11.874Z"
   },
   {
    "duration": 0,
    "start_time": "2025-07-15T16:12:11.876Z"
   },
   {
    "duration": 0,
    "start_time": "2025-07-15T16:12:11.877Z"
   },
   {
    "duration": 0,
    "start_time": "2025-07-15T16:12:11.878Z"
   },
   {
    "duration": 0,
    "start_time": "2025-07-15T16:12:11.879Z"
   },
   {
    "duration": 0,
    "start_time": "2025-07-15T16:12:11.880Z"
   },
   {
    "duration": 4,
    "start_time": "2025-07-15T16:15:45.651Z"
   },
   {
    "duration": 56562,
    "start_time": "2025-07-15T16:15:47.663Z"
   },
   {
    "duration": 14,
    "start_time": "2025-07-15T16:18:03.104Z"
   },
   {
    "duration": 4,
    "start_time": "2025-07-15T16:18:22.102Z"
   },
   {
    "duration": 14,
    "start_time": "2025-07-15T16:18:24.469Z"
   },
   {
    "duration": 5,
    "start_time": "2025-07-15T16:18:43.697Z"
   },
   {
    "duration": 153942,
    "start_time": "2025-07-15T16:18:45.972Z"
   },
   {
    "duration": 4,
    "start_time": "2025-07-15T16:21:19.916Z"
   },
   {
    "duration": 1468,
    "start_time": "2025-07-15T16:23:44.444Z"
   },
   {
    "duration": 91,
    "start_time": "2025-07-15T16:23:45.913Z"
   },
   {
    "duration": 3,
    "start_time": "2025-07-15T16:23:46.006Z"
   },
   {
    "duration": 55,
    "start_time": "2025-07-15T16:23:46.012Z"
   },
   {
    "duration": 36,
    "start_time": "2025-07-15T16:23:46.068Z"
   },
   {
    "duration": 76,
    "start_time": "2025-07-15T16:23:46.105Z"
   },
   {
    "duration": 26,
    "start_time": "2025-07-15T16:23:46.183Z"
   },
   {
    "duration": 101,
    "start_time": "2025-07-15T16:23:46.210Z"
   },
   {
    "duration": 10,
    "start_time": "2025-07-15T16:23:46.313Z"
   },
   {
    "duration": 13,
    "start_time": "2025-07-15T16:23:46.326Z"
   },
   {
    "duration": 5,
    "start_time": "2025-07-15T16:23:46.341Z"
   },
   {
    "duration": 1108,
    "start_time": "2025-07-15T16:23:46.347Z"
   },
   {
    "duration": 635,
    "start_time": "2025-07-15T16:23:47.457Z"
   },
   {
    "duration": 117,
    "start_time": "2025-07-15T16:23:48.094Z"
   },
   {
    "duration": 633,
    "start_time": "2025-07-15T16:23:48.213Z"
   },
   {
    "duration": 131,
    "start_time": "2025-07-15T16:23:48.847Z"
   },
   {
    "duration": 12,
    "start_time": "2025-07-15T16:23:48.980Z"
   },
   {
    "duration": 4,
    "start_time": "2025-07-15T16:23:48.994Z"
   },
   {
    "duration": 112,
    "start_time": "2025-07-15T16:23:49.000Z"
   },
   {
    "duration": 10,
    "start_time": "2025-07-15T16:23:49.113Z"
   },
   {
    "duration": 90,
    "start_time": "2025-07-15T16:23:49.124Z"
   },
   {
    "duration": 56,
    "start_time": "2025-07-15T16:23:49.216Z"
   },
   {
    "duration": 1289,
    "start_time": "2025-07-15T16:23:49.273Z"
   },
   {
    "duration": 1226,
    "start_time": "2025-07-15T16:23:50.564Z"
   },
   {
    "duration": 12,
    "start_time": "2025-07-15T16:23:51.791Z"
   },
   {
    "duration": 16,
    "start_time": "2025-07-15T16:23:51.805Z"
   },
   {
    "duration": 9458,
    "start_time": "2025-07-15T16:23:51.823Z"
   },
   {
    "duration": 0,
    "start_time": "2025-07-15T16:24:01.283Z"
   },
   {
    "duration": 1,
    "start_time": "2025-07-15T16:24:01.283Z"
   },
   {
    "duration": 0,
    "start_time": "2025-07-15T16:24:01.285Z"
   },
   {
    "duration": 0,
    "start_time": "2025-07-15T16:24:01.286Z"
   },
   {
    "duration": 0,
    "start_time": "2025-07-15T16:24:01.287Z"
   },
   {
    "duration": 0,
    "start_time": "2025-07-15T16:24:01.288Z"
   },
   {
    "duration": 0,
    "start_time": "2025-07-15T16:24:01.289Z"
   },
   {
    "duration": 0,
    "start_time": "2025-07-15T16:24:01.290Z"
   },
   {
    "duration": 0,
    "start_time": "2025-07-15T16:24:01.290Z"
   },
   {
    "duration": 13,
    "start_time": "2025-07-15T16:25:55.486Z"
   },
   {
    "duration": 4,
    "start_time": "2025-07-15T16:26:08.538Z"
   },
   {
    "duration": 39718,
    "start_time": "2025-07-15T16:26:11.246Z"
   },
   {
    "duration": 1608,
    "start_time": "2025-07-15T16:28:41.712Z"
   },
   {
    "duration": 102,
    "start_time": "2025-07-15T16:28:43.322Z"
   },
   {
    "duration": 3,
    "start_time": "2025-07-15T16:28:43.426Z"
   },
   {
    "duration": 85,
    "start_time": "2025-07-15T16:28:43.431Z"
   },
   {
    "duration": 63,
    "start_time": "2025-07-15T16:28:43.518Z"
   },
   {
    "duration": 53,
    "start_time": "2025-07-15T16:28:43.582Z"
   },
   {
    "duration": 43,
    "start_time": "2025-07-15T16:28:43.636Z"
   },
   {
    "duration": 15,
    "start_time": "2025-07-15T16:28:43.681Z"
   },
   {
    "duration": 15,
    "start_time": "2025-07-15T16:28:43.698Z"
   },
   {
    "duration": 14,
    "start_time": "2025-07-15T16:28:43.715Z"
   },
   {
    "duration": 25,
    "start_time": "2025-07-15T16:28:43.731Z"
   },
   {
    "duration": 1217,
    "start_time": "2025-07-15T16:28:43.758Z"
   },
   {
    "duration": 664,
    "start_time": "2025-07-15T16:28:44.977Z"
   },
   {
    "duration": 116,
    "start_time": "2025-07-15T16:28:45.642Z"
   },
   {
    "duration": 648,
    "start_time": "2025-07-15T16:28:45.760Z"
   },
   {
    "duration": 126,
    "start_time": "2025-07-15T16:28:46.410Z"
   },
   {
    "duration": 13,
    "start_time": "2025-07-15T16:28:46.537Z"
   },
   {
    "duration": 20,
    "start_time": "2025-07-15T16:28:46.552Z"
   },
   {
    "duration": 112,
    "start_time": "2025-07-15T16:28:46.575Z"
   },
   {
    "duration": 10,
    "start_time": "2025-07-15T16:28:46.689Z"
   },
   {
    "duration": 37,
    "start_time": "2025-07-15T16:28:46.701Z"
   },
   {
    "duration": 20,
    "start_time": "2025-07-15T16:28:46.740Z"
   },
   {
    "duration": 1322,
    "start_time": "2025-07-15T16:28:46.762Z"
   },
   {
    "duration": 1239,
    "start_time": "2025-07-15T16:28:48.086Z"
   },
   {
    "duration": 12,
    "start_time": "2025-07-15T16:28:49.327Z"
   },
   {
    "duration": 28,
    "start_time": "2025-07-15T16:28:49.341Z"
   },
   {
    "duration": 7227,
    "start_time": "2025-07-15T16:28:49.375Z"
   },
   {
    "duration": 0,
    "start_time": "2025-07-15T16:28:56.604Z"
   },
   {
    "duration": 0,
    "start_time": "2025-07-15T16:28:56.605Z"
   },
   {
    "duration": 0,
    "start_time": "2025-07-15T16:28:56.606Z"
   },
   {
    "duration": 0,
    "start_time": "2025-07-15T16:28:56.607Z"
   },
   {
    "duration": 0,
    "start_time": "2025-07-15T16:28:56.608Z"
   },
   {
    "duration": 0,
    "start_time": "2025-07-15T16:28:56.609Z"
   },
   {
    "duration": 5,
    "start_time": "2025-07-15T16:29:26.975Z"
   },
   {
    "duration": 63202,
    "start_time": "2025-07-15T16:29:29.122Z"
   },
   {
    "duration": 4,
    "start_time": "2025-07-15T16:30:32.325Z"
   },
   {
    "duration": 5,
    "start_time": "2025-07-15T16:30:49.299Z"
   },
   {
    "duration": 162815,
    "start_time": "2025-07-15T16:30:51.521Z"
   },
   {
    "duration": 4,
    "start_time": "2025-07-15T16:33:34.338Z"
   },
   {
    "duration": 562,
    "start_time": "2025-07-15T16:40:22.800Z"
   },
   {
    "duration": 8375,
    "start_time": "2025-07-15T16:40:25.087Z"
   },
   {
    "duration": 5,
    "start_time": "2025-07-15T16:40:33.464Z"
   },
   {
    "duration": 238,
    "start_time": "2025-07-15T16:40:33.470Z"
   },
   {
    "duration": 16,
    "start_time": "2025-07-15T16:42:33.444Z"
   },
   {
    "duration": 5,
    "start_time": "2025-07-15T16:42:46.856Z"
   },
   {
    "duration": 1480,
    "start_time": "2025-07-15T16:43:38.033Z"
   },
   {
    "duration": 89,
    "start_time": "2025-07-15T16:43:39.515Z"
   },
   {
    "duration": 3,
    "start_time": "2025-07-15T16:43:39.606Z"
   },
   {
    "duration": 55,
    "start_time": "2025-07-15T16:43:39.611Z"
   },
   {
    "duration": 31,
    "start_time": "2025-07-15T16:43:39.667Z"
   },
   {
    "duration": 75,
    "start_time": "2025-07-15T16:43:39.699Z"
   },
   {
    "duration": 25,
    "start_time": "2025-07-15T16:43:39.775Z"
   },
   {
    "duration": 15,
    "start_time": "2025-07-15T16:43:39.801Z"
   },
   {
    "duration": 11,
    "start_time": "2025-07-15T16:43:39.818Z"
   },
   {
    "duration": 45,
    "start_time": "2025-07-15T16:43:39.832Z"
   },
   {
    "duration": 5,
    "start_time": "2025-07-15T16:43:39.878Z"
   },
   {
    "duration": 1051,
    "start_time": "2025-07-15T16:43:39.884Z"
   },
   {
    "duration": 555,
    "start_time": "2025-07-15T16:43:40.937Z"
   },
   {
    "duration": 106,
    "start_time": "2025-07-15T16:43:41.494Z"
   },
   {
    "duration": 598,
    "start_time": "2025-07-15T16:43:41.602Z"
   },
   {
    "duration": 122,
    "start_time": "2025-07-15T16:43:42.202Z"
   },
   {
    "duration": 13,
    "start_time": "2025-07-15T16:43:42.325Z"
   },
   {
    "duration": 17,
    "start_time": "2025-07-15T16:43:42.339Z"
   },
   {
    "duration": 106,
    "start_time": "2025-07-15T16:43:42.358Z"
   },
   {
    "duration": 9,
    "start_time": "2025-07-15T16:43:42.465Z"
   },
   {
    "duration": 23,
    "start_time": "2025-07-15T16:43:42.476Z"
   },
   {
    "duration": 19,
    "start_time": "2025-07-15T16:43:42.501Z"
   },
   {
    "duration": 1236,
    "start_time": "2025-07-15T16:43:42.522Z"
   },
   {
    "duration": 1203,
    "start_time": "2025-07-15T16:43:43.762Z"
   },
   {
    "duration": 10,
    "start_time": "2025-07-15T16:43:44.966Z"
   },
   {
    "duration": 9,
    "start_time": "2025-07-15T16:43:44.978Z"
   },
   {
    "duration": 142620,
    "start_time": "2025-07-15T16:43:44.989Z"
   },
   {
    "duration": 4,
    "start_time": "2025-07-15T16:46:07.611Z"
   },
   {
    "duration": 603,
    "start_time": "2025-07-15T16:46:07.617Z"
   },
   {
    "duration": 7855,
    "start_time": "2025-07-15T16:46:08.222Z"
   },
   {
    "duration": 6,
    "start_time": "2025-07-15T16:46:16.079Z"
   },
   {
    "duration": 223,
    "start_time": "2025-07-15T16:46:16.086Z"
   },
   {
    "duration": 147,
    "start_time": "2025-07-15T16:46:16.311Z"
   },
   {
    "duration": 16,
    "start_time": "2025-07-15T16:48:50.297Z"
   },
   {
    "duration": 1466,
    "start_time": "2025-07-15T16:49:51.475Z"
   },
   {
    "duration": 91,
    "start_time": "2025-07-15T16:49:52.943Z"
   },
   {
    "duration": 4,
    "start_time": "2025-07-15T16:49:53.035Z"
   },
   {
    "duration": 54,
    "start_time": "2025-07-15T16:49:53.041Z"
   },
   {
    "duration": 33,
    "start_time": "2025-07-15T16:49:53.097Z"
   },
   {
    "duration": 77,
    "start_time": "2025-07-15T16:49:53.131Z"
   },
   {
    "duration": 26,
    "start_time": "2025-07-15T16:49:53.209Z"
   },
   {
    "duration": 16,
    "start_time": "2025-07-15T16:49:53.262Z"
   },
   {
    "duration": 25,
    "start_time": "2025-07-15T16:49:53.279Z"
   },
   {
    "duration": 14,
    "start_time": "2025-07-15T16:49:53.307Z"
   },
   {
    "duration": 10,
    "start_time": "2025-07-15T16:49:53.322Z"
   },
   {
    "duration": 1050,
    "start_time": "2025-07-15T16:49:53.333Z"
   },
   {
    "duration": 597,
    "start_time": "2025-07-15T16:49:54.384Z"
   },
   {
    "duration": 113,
    "start_time": "2025-07-15T16:49:54.983Z"
   },
   {
    "duration": 616,
    "start_time": "2025-07-15T16:49:55.097Z"
   },
   {
    "duration": 118,
    "start_time": "2025-07-15T16:49:55.715Z"
   },
   {
    "duration": 12,
    "start_time": "2025-07-15T16:49:55.835Z"
   },
   {
    "duration": 15,
    "start_time": "2025-07-15T16:49:55.848Z"
   },
   {
    "duration": 106,
    "start_time": "2025-07-15T16:49:55.865Z"
   },
   {
    "duration": 9,
    "start_time": "2025-07-15T16:49:55.973Z"
   },
   {
    "duration": 18,
    "start_time": "2025-07-15T16:49:55.984Z"
   },
   {
    "duration": 19,
    "start_time": "2025-07-15T16:49:56.003Z"
   },
   {
    "duration": 1268,
    "start_time": "2025-07-15T16:49:56.024Z"
   },
   {
    "duration": 1181,
    "start_time": "2025-07-15T16:49:57.293Z"
   },
   {
    "duration": 9,
    "start_time": "2025-07-15T16:49:58.476Z"
   },
   {
    "duration": 31,
    "start_time": "2025-07-15T16:49:58.486Z"
   },
   {
    "duration": 113224,
    "start_time": "2025-07-15T16:49:58.519Z"
   },
   {
    "duration": 4,
    "start_time": "2025-07-15T16:51:51.745Z"
   },
   {
    "duration": 480,
    "start_time": "2025-07-15T16:51:51.762Z"
   },
   {
    "duration": 6821,
    "start_time": "2025-07-15T16:51:52.244Z"
   },
   {
    "duration": 6,
    "start_time": "2025-07-15T16:51:59.066Z"
   },
   {
    "duration": 218,
    "start_time": "2025-07-15T16:51:59.073Z"
   },
   {
    "duration": 143,
    "start_time": "2025-07-15T16:51:59.293Z"
   },
   {
    "duration": 1429,
    "start_time": "2025-07-15T16:52:59.807Z"
   },
   {
    "duration": 90,
    "start_time": "2025-07-15T16:53:01.238Z"
   },
   {
    "duration": 4,
    "start_time": "2025-07-15T16:53:01.329Z"
   },
   {
    "duration": 48,
    "start_time": "2025-07-15T16:53:01.334Z"
   },
   {
    "duration": 32,
    "start_time": "2025-07-15T16:53:01.384Z"
   },
   {
    "duration": 79,
    "start_time": "2025-07-15T16:53:01.418Z"
   },
   {
    "duration": 59,
    "start_time": "2025-07-15T16:53:01.499Z"
   },
   {
    "duration": 16,
    "start_time": "2025-07-15T16:53:01.559Z"
   },
   {
    "duration": 25,
    "start_time": "2025-07-15T16:53:01.577Z"
   },
   {
    "duration": 13,
    "start_time": "2025-07-15T16:53:01.605Z"
   },
   {
    "duration": 4,
    "start_time": "2025-07-15T16:53:01.620Z"
   },
   {
    "duration": 1085,
    "start_time": "2025-07-15T16:53:01.626Z"
   },
   {
    "duration": 609,
    "start_time": "2025-07-15T16:53:02.713Z"
   },
   {
    "duration": 109,
    "start_time": "2025-07-15T16:53:03.324Z"
   },
   {
    "duration": 605,
    "start_time": "2025-07-15T16:53:03.434Z"
   },
   {
    "duration": 123,
    "start_time": "2025-07-15T16:53:04.041Z"
   },
   {
    "duration": 14,
    "start_time": "2025-07-15T16:53:04.166Z"
   },
   {
    "duration": 34,
    "start_time": "2025-07-15T16:53:04.181Z"
   },
   {
    "duration": 113,
    "start_time": "2025-07-15T16:53:04.217Z"
   },
   {
    "duration": 11,
    "start_time": "2025-07-15T16:53:04.332Z"
   },
   {
    "duration": 89,
    "start_time": "2025-07-15T16:53:04.345Z"
   },
   {
    "duration": 33,
    "start_time": "2025-07-15T16:53:04.436Z"
   },
   {
    "duration": 1228,
    "start_time": "2025-07-15T16:53:04.470Z"
   },
   {
    "duration": 1257,
    "start_time": "2025-07-15T16:53:05.699Z"
   },
   {
    "duration": 11,
    "start_time": "2025-07-15T16:53:06.962Z"
   },
   {
    "duration": 14,
    "start_time": "2025-07-15T16:53:06.974Z"
   },
   {
    "duration": 136451,
    "start_time": "2025-07-15T16:53:06.990Z"
   },
   {
    "duration": 4,
    "start_time": "2025-07-15T16:55:23.444Z"
   },
   {
    "duration": 549,
    "start_time": "2025-07-15T16:55:23.449Z"
   },
   {
    "duration": 7873,
    "start_time": "2025-07-15T16:55:24.000Z"
   },
   {
    "duration": 5,
    "start_time": "2025-07-15T16:55:31.874Z"
   },
   {
    "duration": 229,
    "start_time": "2025-07-15T16:55:31.881Z"
   },
   {
    "duration": 144,
    "start_time": "2025-07-15T16:55:32.112Z"
   },
   {
    "duration": 1584,
    "start_time": "2025-07-16T06:41:23.094Z"
   },
   {
    "duration": 0,
    "start_time": "2025-07-16T06:41:24.680Z"
   },
   {
    "duration": 0,
    "start_time": "2025-07-16T06:41:24.681Z"
   },
   {
    "duration": 0,
    "start_time": "2025-07-16T06:41:24.682Z"
   },
   {
    "duration": 0,
    "start_time": "2025-07-16T06:41:24.684Z"
   },
   {
    "duration": 0,
    "start_time": "2025-07-16T06:41:24.685Z"
   },
   {
    "duration": 0,
    "start_time": "2025-07-16T06:41:24.686Z"
   },
   {
    "duration": 0,
    "start_time": "2025-07-16T06:41:24.687Z"
   },
   {
    "duration": 0,
    "start_time": "2025-07-16T06:41:24.687Z"
   },
   {
    "duration": 0,
    "start_time": "2025-07-16T06:41:24.688Z"
   },
   {
    "duration": 0,
    "start_time": "2025-07-16T06:41:24.689Z"
   },
   {
    "duration": 0,
    "start_time": "2025-07-16T06:41:24.690Z"
   },
   {
    "duration": 0,
    "start_time": "2025-07-16T06:41:24.691Z"
   },
   {
    "duration": 0,
    "start_time": "2025-07-16T06:41:24.693Z"
   },
   {
    "duration": 0,
    "start_time": "2025-07-16T06:41:24.694Z"
   },
   {
    "duration": 0,
    "start_time": "2025-07-16T06:41:24.694Z"
   },
   {
    "duration": 0,
    "start_time": "2025-07-16T06:41:24.695Z"
   },
   {
    "duration": 0,
    "start_time": "2025-07-16T06:41:24.696Z"
   },
   {
    "duration": 0,
    "start_time": "2025-07-16T06:41:24.697Z"
   },
   {
    "duration": 0,
    "start_time": "2025-07-16T06:41:24.698Z"
   },
   {
    "duration": 0,
    "start_time": "2025-07-16T06:41:24.699Z"
   },
   {
    "duration": 0,
    "start_time": "2025-07-16T06:41:24.700Z"
   },
   {
    "duration": 0,
    "start_time": "2025-07-16T06:41:24.701Z"
   },
   {
    "duration": 0,
    "start_time": "2025-07-16T06:41:24.702Z"
   },
   {
    "duration": 0,
    "start_time": "2025-07-16T06:41:24.745Z"
   },
   {
    "duration": 0,
    "start_time": "2025-07-16T06:41:24.752Z"
   },
   {
    "duration": 0,
    "start_time": "2025-07-16T06:41:24.753Z"
   },
   {
    "duration": 0,
    "start_time": "2025-07-16T06:41:24.754Z"
   },
   {
    "duration": 1,
    "start_time": "2025-07-16T06:41:24.755Z"
   },
   {
    "duration": 0,
    "start_time": "2025-07-16T06:41:24.757Z"
   },
   {
    "duration": 0,
    "start_time": "2025-07-16T06:41:24.758Z"
   },
   {
    "duration": 0,
    "start_time": "2025-07-16T06:41:24.759Z"
   },
   {
    "duration": 0,
    "start_time": "2025-07-16T06:41:24.760Z"
   },
   {
    "duration": 0,
    "start_time": "2025-07-16T06:41:24.761Z"
   },
   {
    "duration": 0,
    "start_time": "2025-07-16T06:41:24.762Z"
   },
   {
    "duration": 0,
    "start_time": "2025-07-16T06:41:24.763Z"
   },
   {
    "duration": 4110,
    "start_time": "2025-07-16T06:41:44.911Z"
   },
   {
    "duration": 1585,
    "start_time": "2025-07-16T06:41:57.296Z"
   },
   {
    "duration": 122,
    "start_time": "2025-07-16T06:41:58.883Z"
   },
   {
    "duration": 3,
    "start_time": "2025-07-16T06:41:59.007Z"
   },
   {
    "duration": 64,
    "start_time": "2025-07-16T06:41:59.013Z"
   },
   {
    "duration": 35,
    "start_time": "2025-07-16T06:41:59.078Z"
   },
   {
    "duration": 87,
    "start_time": "2025-07-16T06:41:59.115Z"
   },
   {
    "duration": 59,
    "start_time": "2025-07-16T06:41:59.204Z"
   },
   {
    "duration": 16,
    "start_time": "2025-07-16T06:41:59.265Z"
   },
   {
    "duration": 46,
    "start_time": "2025-07-16T06:41:59.283Z"
   },
   {
    "duration": 22,
    "start_time": "2025-07-16T06:41:59.332Z"
   },
   {
    "duration": 7,
    "start_time": "2025-07-16T06:41:59.356Z"
   },
   {
    "duration": 1232,
    "start_time": "2025-07-16T06:41:59.364Z"
   },
   {
    "duration": 699,
    "start_time": "2025-07-16T06:42:00.598Z"
   },
   {
    "duration": 131,
    "start_time": "2025-07-16T06:42:01.299Z"
   },
   {
    "duration": 724,
    "start_time": "2025-07-16T06:42:01.446Z"
   },
   {
    "duration": 142,
    "start_time": "2025-07-16T06:42:02.171Z"
   },
   {
    "duration": 28,
    "start_time": "2025-07-16T06:42:02.315Z"
   },
   {
    "duration": 7,
    "start_time": "2025-07-16T06:42:02.345Z"
   },
   {
    "duration": 150,
    "start_time": "2025-07-16T06:42:02.355Z"
   },
   {
    "duration": 12,
    "start_time": "2025-07-16T06:42:02.506Z"
   },
   {
    "duration": 37,
    "start_time": "2025-07-16T06:42:02.519Z"
   },
   {
    "duration": 70,
    "start_time": "2025-07-16T06:42:02.558Z"
   },
   {
    "duration": 1538,
    "start_time": "2025-07-16T06:42:02.629Z"
   },
   {
    "duration": 1386,
    "start_time": "2025-07-16T06:42:04.169Z"
   },
   {
    "duration": 1683,
    "start_time": "2025-07-16T06:42:05.557Z"
   },
   {
    "duration": 0,
    "start_time": "2025-07-16T06:42:07.249Z"
   },
   {
    "duration": 0,
    "start_time": "2025-07-16T06:42:07.252Z"
   },
   {
    "duration": 0,
    "start_time": "2025-07-16T06:42:07.253Z"
   },
   {
    "duration": 0,
    "start_time": "2025-07-16T06:42:07.254Z"
   },
   {
    "duration": 0,
    "start_time": "2025-07-16T06:42:07.255Z"
   },
   {
    "duration": 0,
    "start_time": "2025-07-16T06:42:07.255Z"
   },
   {
    "duration": 0,
    "start_time": "2025-07-16T06:42:07.256Z"
   },
   {
    "duration": 0,
    "start_time": "2025-07-16T06:42:07.257Z"
   },
   {
    "duration": 0,
    "start_time": "2025-07-16T06:42:07.258Z"
   },
   {
    "duration": 0,
    "start_time": "2025-07-16T06:42:07.259Z"
   },
   {
    "duration": 0,
    "start_time": "2025-07-16T06:42:07.260Z"
   },
   {
    "duration": 1643,
    "start_time": "2025-07-16T06:42:41.711Z"
   },
   {
    "duration": 100,
    "start_time": "2025-07-16T06:42:43.358Z"
   },
   {
    "duration": 94,
    "start_time": "2025-07-16T06:42:43.460Z"
   },
   {
    "duration": 144,
    "start_time": "2025-07-16T06:42:43.559Z"
   },
   {
    "duration": 244,
    "start_time": "2025-07-16T06:42:43.705Z"
   },
   {
    "duration": 108,
    "start_time": "2025-07-16T06:42:43.952Z"
   },
   {
    "duration": 70,
    "start_time": "2025-07-16T06:42:44.062Z"
   },
   {
    "duration": 134,
    "start_time": "2025-07-16T06:42:44.134Z"
   },
   {
    "duration": 194,
    "start_time": "2025-07-16T06:42:44.270Z"
   },
   {
    "duration": 225,
    "start_time": "2025-07-16T06:42:44.468Z"
   },
   {
    "duration": 211,
    "start_time": "2025-07-16T06:42:44.695Z"
   },
   {
    "duration": 1350,
    "start_time": "2025-07-16T06:42:44.907Z"
   },
   {
    "duration": 668,
    "start_time": "2025-07-16T06:42:46.259Z"
   },
   {
    "duration": 135,
    "start_time": "2025-07-16T06:42:46.929Z"
   },
   {
    "duration": 804,
    "start_time": "2025-07-16T06:42:47.067Z"
   },
   {
    "duration": 154,
    "start_time": "2025-07-16T06:42:47.872Z"
   },
   {
    "duration": 17,
    "start_time": "2025-07-16T06:42:48.028Z"
   },
   {
    "duration": 108,
    "start_time": "2025-07-16T06:42:48.050Z"
   },
   {
    "duration": 213,
    "start_time": "2025-07-16T06:42:48.159Z"
   },
   {
    "duration": 51,
    "start_time": "2025-07-16T06:42:48.374Z"
   },
   {
    "duration": 157,
    "start_time": "2025-07-16T06:42:48.427Z"
   },
   {
    "duration": 183,
    "start_time": "2025-07-16T06:42:48.586Z"
   },
   {
    "duration": 1611,
    "start_time": "2025-07-16T06:42:48.770Z"
   },
   {
    "duration": 1339,
    "start_time": "2025-07-16T06:42:50.383Z"
   },
   {
    "duration": 29,
    "start_time": "2025-07-16T06:42:51.725Z"
   },
   {
    "duration": 15576,
    "start_time": "2025-07-16T06:42:51.756Z"
   },
   {
    "duration": 0,
    "start_time": "2025-07-16T06:43:07.334Z"
   },
   {
    "duration": 0,
    "start_time": "2025-07-16T06:43:07.336Z"
   },
   {
    "duration": 0,
    "start_time": "2025-07-16T06:43:07.337Z"
   },
   {
    "duration": 0,
    "start_time": "2025-07-16T06:43:07.341Z"
   },
   {
    "duration": 0,
    "start_time": "2025-07-16T06:43:07.342Z"
   },
   {
    "duration": 0,
    "start_time": "2025-07-16T06:43:07.344Z"
   },
   {
    "duration": 0,
    "start_time": "2025-07-16T06:43:07.345Z"
   },
   {
    "duration": 0,
    "start_time": "2025-07-16T06:43:07.352Z"
   },
   {
    "duration": 0,
    "start_time": "2025-07-16T06:43:07.353Z"
   },
   {
    "duration": 0,
    "start_time": "2025-07-16T06:43:07.354Z"
   },
   {
    "duration": 14,
    "start_time": "2025-07-16T06:43:55.984Z"
   },
   {
    "duration": 14,
    "start_time": "2025-07-16T06:44:12.464Z"
   },
   {
    "duration": 71067,
    "start_time": "2025-07-16T06:44:13.333Z"
   },
   {
    "duration": 1643,
    "start_time": "2025-07-16T06:47:34.366Z"
   },
   {
    "duration": 101,
    "start_time": "2025-07-16T06:47:36.011Z"
   },
   {
    "duration": 5,
    "start_time": "2025-07-16T06:47:36.114Z"
   },
   {
    "duration": 78,
    "start_time": "2025-07-16T06:47:36.121Z"
   },
   {
    "duration": 59,
    "start_time": "2025-07-16T06:47:36.200Z"
   },
   {
    "duration": 180,
    "start_time": "2025-07-16T06:47:36.261Z"
   },
   {
    "duration": 36,
    "start_time": "2025-07-16T06:47:36.443Z"
   },
   {
    "duration": 37,
    "start_time": "2025-07-16T06:47:36.481Z"
   },
   {
    "duration": 45,
    "start_time": "2025-07-16T06:47:36.520Z"
   },
   {
    "duration": 33,
    "start_time": "2025-07-16T06:47:36.568Z"
   },
   {
    "duration": 31,
    "start_time": "2025-07-16T06:47:36.603Z"
   },
   {
    "duration": 1267,
    "start_time": "2025-07-16T06:47:36.636Z"
   },
   {
    "duration": 661,
    "start_time": "2025-07-16T06:47:37.905Z"
   },
   {
    "duration": 136,
    "start_time": "2025-07-16T06:47:38.569Z"
   },
   {
    "duration": 704,
    "start_time": "2025-07-16T06:47:38.708Z"
   },
   {
    "duration": 152,
    "start_time": "2025-07-16T06:47:39.415Z"
   },
   {
    "duration": 19,
    "start_time": "2025-07-16T06:47:39.569Z"
   },
   {
    "duration": 5,
    "start_time": "2025-07-16T06:47:39.589Z"
   },
   {
    "duration": 133,
    "start_time": "2025-07-16T06:47:39.595Z"
   },
   {
    "duration": 23,
    "start_time": "2025-07-16T06:47:39.731Z"
   },
   {
    "duration": 95,
    "start_time": "2025-07-16T06:47:39.756Z"
   },
   {
    "duration": 82,
    "start_time": "2025-07-16T06:47:39.853Z"
   },
   {
    "duration": 1557,
    "start_time": "2025-07-16T06:47:39.937Z"
   },
   {
    "duration": 1365,
    "start_time": "2025-07-16T06:47:41.496Z"
   },
   {
    "duration": 13,
    "start_time": "2025-07-16T06:47:42.863Z"
   },
   {
    "duration": 9,
    "start_time": "2025-07-16T06:47:42.878Z"
   },
   {
    "duration": 188563,
    "start_time": "2025-07-16T06:47:42.889Z"
   },
   {
    "duration": 4,
    "start_time": "2025-07-16T06:50:51.457Z"
   },
   {
    "duration": 140,
    "start_time": "2025-07-16T06:50:51.462Z"
   },
   {
    "duration": 0,
    "start_time": "2025-07-16T06:50:51.604Z"
   },
   {
    "duration": 0,
    "start_time": "2025-07-16T06:50:51.605Z"
   },
   {
    "duration": 0,
    "start_time": "2025-07-16T06:50:51.606Z"
   },
   {
    "duration": 0,
    "start_time": "2025-07-16T06:50:51.607Z"
   },
   {
    "duration": 11054,
    "start_time": "2025-07-16T06:51:47.165Z"
   },
   {
    "duration": 4747,
    "start_time": "2025-07-16T08:31:09.672Z"
   },
   {
    "duration": 6,
    "start_time": "2025-07-16T08:31:14.421Z"
   },
   {
    "duration": 267,
    "start_time": "2025-07-16T08:31:14.438Z"
   },
   {
    "duration": 164,
    "start_time": "2025-07-16T08:31:17.332Z"
   },
   {
    "duration": 14169,
    "start_time": "2025-07-16T08:41:16.091Z"
   },
   {
    "duration": 1646,
    "start_time": "2025-07-16T09:18:22.778Z"
   },
   {
    "duration": 106,
    "start_time": "2025-07-16T09:18:24.426Z"
   },
   {
    "duration": 4,
    "start_time": "2025-07-16T09:18:24.533Z"
   },
   {
    "duration": 135,
    "start_time": "2025-07-16T09:18:24.539Z"
   },
   {
    "duration": 69,
    "start_time": "2025-07-16T09:18:24.676Z"
   },
   {
    "duration": 58,
    "start_time": "2025-07-16T09:18:24.747Z"
   },
   {
    "duration": 94,
    "start_time": "2025-07-16T09:18:24.807Z"
   },
   {
    "duration": 55,
    "start_time": "2025-07-16T09:18:24.902Z"
   },
   {
    "duration": 10,
    "start_time": "2025-07-16T09:18:24.959Z"
   },
   {
    "duration": 23,
    "start_time": "2025-07-16T09:18:24.972Z"
   },
   {
    "duration": 18,
    "start_time": "2025-07-16T09:18:24.997Z"
   },
   {
    "duration": 1203,
    "start_time": "2025-07-16T09:18:25.017Z"
   },
   {
    "duration": 703,
    "start_time": "2025-07-16T09:18:26.221Z"
   },
   {
    "duration": 134,
    "start_time": "2025-07-16T09:18:26.925Z"
   },
   {
    "duration": 760,
    "start_time": "2025-07-16T09:18:27.061Z"
   },
   {
    "duration": 145,
    "start_time": "2025-07-16T09:18:27.823Z"
   },
   {
    "duration": 14,
    "start_time": "2025-07-16T09:18:27.970Z"
   },
   {
    "duration": 4,
    "start_time": "2025-07-16T09:18:27.986Z"
   },
   {
    "duration": 128,
    "start_time": "2025-07-16T09:18:27.992Z"
   },
   {
    "duration": 29,
    "start_time": "2025-07-16T09:18:28.121Z"
   },
   {
    "duration": 63,
    "start_time": "2025-07-16T09:18:28.156Z"
   },
   {
    "duration": 26,
    "start_time": "2025-07-16T09:18:28.220Z"
   },
   {
    "duration": 1456,
    "start_time": "2025-07-16T09:18:28.254Z"
   },
   {
    "duration": 1361,
    "start_time": "2025-07-16T09:18:29.712Z"
   },
   {
    "duration": 12,
    "start_time": "2025-07-16T09:18:31.075Z"
   },
   {
    "duration": 43,
    "start_time": "2025-07-16T09:18:31.089Z"
   },
   {
    "duration": 193252,
    "start_time": "2025-07-16T09:18:31.133Z"
   },
   {
    "duration": 3,
    "start_time": "2025-07-16T09:21:44.388Z"
   },
   {
    "duration": 266327,
    "start_time": "2025-07-16T09:21:44.393Z"
   },
   {
    "duration": 12830,
    "start_time": "2025-07-16T09:26:10.722Z"
   },
   {
    "duration": 4859,
    "start_time": "2025-07-16T09:26:23.555Z"
   },
   {
    "duration": 6,
    "start_time": "2025-07-16T09:26:28.415Z"
   },
   {
    "duration": 232,
    "start_time": "2025-07-16T09:26:28.423Z"
   },
   {
    "duration": 161,
    "start_time": "2025-07-16T09:26:28.658Z"
   }
  ],
  "kernelspec": {
   "display_name": "Python 3 (ipykernel)",
   "language": "python",
   "name": "python3"
  },
  "language_info": {
   "codemirror_mode": {
    "name": "ipython",
    "version": 3
   },
   "file_extension": ".py",
   "mimetype": "text/x-python",
   "name": "python",
   "nbconvert_exporter": "python",
   "pygments_lexer": "ipython3",
   "version": "3.11.7"
  },
  "toc": {
   "base_numbering": 1,
   "nav_menu": {},
   "number_sections": true,
   "sideBar": true,
   "skip_h1_title": true,
   "title_cell": "Table of Contents",
   "title_sidebar": "Contents",
   "toc_cell": false,
   "toc_position": {},
   "toc_section_display": true,
   "toc_window_display": false
  }
 },
 "nbformat": 4,
 "nbformat_minor": 5
}
