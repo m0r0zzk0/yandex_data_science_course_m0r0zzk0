{
 "cells": [
  {
   "cell_type": "markdown",
   "metadata": {},
   "source": [
    "# Определение стоимости автомобилей"
   ]
  },
  {
   "cell_type": "markdown",
   "metadata": {},
   "source": [
    "### Описание проекта\n",
    "Сервис по продаже автомобилей с пробегом «Не бит, не крашен» разрабатывает приложение для привлечения новых клиентов. В нём можно быстро узнать рыночную стоимость своего автомобиля. "
   ]
  },
  {
   "cell_type": "markdown",
   "metadata": {},
   "source": [
    "### Цель работы:\n",
    "В нашем распоряжении есть исторические данные: технические характеристики, комплектации и цены автомобилей. Нужно построить модель для определения стоимости. "
   ]
  },
  {
   "cell_type": "markdown",
   "metadata": {},
   "source": [
    "## Подготовка данных"
   ]
  },
  {
   "cell_type": "code",
   "execution_count": 1,
   "metadata": {
    "scrolled": true
   },
   "outputs": [],
   "source": [
    "import pandas as pd\n",
    "import numpy as np\n",
    "import matplotlib.pyplot as plt\n",
    "import seaborn as sns\n",
    "\n",
    "#!pip install scikit-learn==1.1.3\n",
    "from sklearn.model_selection import train_test_split, KFold\n",
    "from sklearn.preprocessing import StandardScaler, OneHotEncoder, OrdinalEncoder\n",
    "from sklearn.compose import ColumnTransformer\n",
    "from sklearn.pipeline import Pipeline\n",
    "from sklearn.metrics import mean_squared_error, make_scorer\n",
    "from sklearn.linear_model import LinearRegression\n",
    "from sklearn.linear_model import Ridge  \n",
    "from sklearn.ensemble import RandomForestRegressor\n",
    "\n",
    "import lightgbm as lgb\n",
    "from lightgbm import LGBMRegressor\n",
    "\n",
    "from time import time\n",
    "import warnings\n",
    "warnings.filterwarnings('ignore')\n",
    "from IPython.display import display\n",
    "\n",
    "#!pip install phik -q\n",
    "import phik\n",
    "from phik import phik_matrix\n",
    "\n",
    "TEST_SIZE = 0.4\n",
    "RANDOM_STATE = 42"
   ]
  },
  {
   "cell_type": "code",
   "execution_count": 2,
   "metadata": {},
   "outputs": [],
   "source": [
    "try:\n",
    "    auto_df = pd.read_csv('/datasets/autos.csv')\n",
    "except:\n",
    "    auto_df=pd.read_csv('https://code.s3.yandex.net/datasets/autos.csv')"
   ]
  },
  {
   "cell_type": "code",
   "execution_count": 3,
   "metadata": {},
   "outputs": [],
   "source": [
    "# функция для вывода всей нужной информации о датафрейме\n",
    "def data_info(dataframe):\n",
    "    print(dataframe.info())\n",
    "    display(dataframe.head())\n",
    "    display(dataframe.tail())\n",
    "    display(dataframe.describe())\n",
    "    print('Пропусков в датафрейме: ', dataframe.isnull().sum())\n",
    "    print()\n",
    "    print('Количество явных дубликатов в датафрейме:', dataframe.duplicated().sum())"
   ]
  },
  {
   "cell_type": "code",
   "execution_count": 4,
   "metadata": {
    "scrolled": true
   },
   "outputs": [
    {
     "name": "stdout",
     "output_type": "stream",
     "text": [
      "<class 'pandas.core.frame.DataFrame'>\n",
      "RangeIndex: 354369 entries, 0 to 354368\n",
      "Data columns (total 16 columns):\n",
      " #   Column             Non-Null Count   Dtype \n",
      "---  ------             --------------   ----- \n",
      " 0   DateCrawled        354369 non-null  object\n",
      " 1   Price              354369 non-null  int64 \n",
      " 2   VehicleType        316879 non-null  object\n",
      " 3   RegistrationYear   354369 non-null  int64 \n",
      " 4   Gearbox            334536 non-null  object\n",
      " 5   Power              354369 non-null  int64 \n",
      " 6   Model              334664 non-null  object\n",
      " 7   Kilometer          354369 non-null  int64 \n",
      " 8   RegistrationMonth  354369 non-null  int64 \n",
      " 9   FuelType           321474 non-null  object\n",
      " 10  Brand              354369 non-null  object\n",
      " 11  Repaired           283215 non-null  object\n",
      " 12  DateCreated        354369 non-null  object\n",
      " 13  NumberOfPictures   354369 non-null  int64 \n",
      " 14  PostalCode         354369 non-null  int64 \n",
      " 15  LastSeen           354369 non-null  object\n",
      "dtypes: int64(7), object(9)\n",
      "memory usage: 43.3+ MB\n",
      "None\n"
     ]
    },
    {
     "data": {
      "text/html": [
       "<div>\n",
       "<style scoped>\n",
       "    .dataframe tbody tr th:only-of-type {\n",
       "        vertical-align: middle;\n",
       "    }\n",
       "\n",
       "    .dataframe tbody tr th {\n",
       "        vertical-align: top;\n",
       "    }\n",
       "\n",
       "    .dataframe thead th {\n",
       "        text-align: right;\n",
       "    }\n",
       "</style>\n",
       "<table border=\"1\" class=\"dataframe\">\n",
       "  <thead>\n",
       "    <tr style=\"text-align: right;\">\n",
       "      <th></th>\n",
       "      <th>DateCrawled</th>\n",
       "      <th>Price</th>\n",
       "      <th>VehicleType</th>\n",
       "      <th>RegistrationYear</th>\n",
       "      <th>Gearbox</th>\n",
       "      <th>Power</th>\n",
       "      <th>Model</th>\n",
       "      <th>Kilometer</th>\n",
       "      <th>RegistrationMonth</th>\n",
       "      <th>FuelType</th>\n",
       "      <th>Brand</th>\n",
       "      <th>Repaired</th>\n",
       "      <th>DateCreated</th>\n",
       "      <th>NumberOfPictures</th>\n",
       "      <th>PostalCode</th>\n",
       "      <th>LastSeen</th>\n",
       "    </tr>\n",
       "  </thead>\n",
       "  <tbody>\n",
       "    <tr>\n",
       "      <th>0</th>\n",
       "      <td>2016-03-24 11:52:17</td>\n",
       "      <td>480</td>\n",
       "      <td>NaN</td>\n",
       "      <td>1993</td>\n",
       "      <td>manual</td>\n",
       "      <td>0</td>\n",
       "      <td>golf</td>\n",
       "      <td>150000</td>\n",
       "      <td>0</td>\n",
       "      <td>petrol</td>\n",
       "      <td>volkswagen</td>\n",
       "      <td>NaN</td>\n",
       "      <td>2016-03-24 00:00:00</td>\n",
       "      <td>0</td>\n",
       "      <td>70435</td>\n",
       "      <td>2016-04-07 03:16:57</td>\n",
       "    </tr>\n",
       "    <tr>\n",
       "      <th>1</th>\n",
       "      <td>2016-03-24 10:58:45</td>\n",
       "      <td>18300</td>\n",
       "      <td>coupe</td>\n",
       "      <td>2011</td>\n",
       "      <td>manual</td>\n",
       "      <td>190</td>\n",
       "      <td>NaN</td>\n",
       "      <td>125000</td>\n",
       "      <td>5</td>\n",
       "      <td>gasoline</td>\n",
       "      <td>audi</td>\n",
       "      <td>yes</td>\n",
       "      <td>2016-03-24 00:00:00</td>\n",
       "      <td>0</td>\n",
       "      <td>66954</td>\n",
       "      <td>2016-04-07 01:46:50</td>\n",
       "    </tr>\n",
       "    <tr>\n",
       "      <th>2</th>\n",
       "      <td>2016-03-14 12:52:21</td>\n",
       "      <td>9800</td>\n",
       "      <td>suv</td>\n",
       "      <td>2004</td>\n",
       "      <td>auto</td>\n",
       "      <td>163</td>\n",
       "      <td>grand</td>\n",
       "      <td>125000</td>\n",
       "      <td>8</td>\n",
       "      <td>gasoline</td>\n",
       "      <td>jeep</td>\n",
       "      <td>NaN</td>\n",
       "      <td>2016-03-14 00:00:00</td>\n",
       "      <td>0</td>\n",
       "      <td>90480</td>\n",
       "      <td>2016-04-05 12:47:46</td>\n",
       "    </tr>\n",
       "    <tr>\n",
       "      <th>3</th>\n",
       "      <td>2016-03-17 16:54:04</td>\n",
       "      <td>1500</td>\n",
       "      <td>small</td>\n",
       "      <td>2001</td>\n",
       "      <td>manual</td>\n",
       "      <td>75</td>\n",
       "      <td>golf</td>\n",
       "      <td>150000</td>\n",
       "      <td>6</td>\n",
       "      <td>petrol</td>\n",
       "      <td>volkswagen</td>\n",
       "      <td>no</td>\n",
       "      <td>2016-03-17 00:00:00</td>\n",
       "      <td>0</td>\n",
       "      <td>91074</td>\n",
       "      <td>2016-03-17 17:40:17</td>\n",
       "    </tr>\n",
       "    <tr>\n",
       "      <th>4</th>\n",
       "      <td>2016-03-31 17:25:20</td>\n",
       "      <td>3600</td>\n",
       "      <td>small</td>\n",
       "      <td>2008</td>\n",
       "      <td>manual</td>\n",
       "      <td>69</td>\n",
       "      <td>fabia</td>\n",
       "      <td>90000</td>\n",
       "      <td>7</td>\n",
       "      <td>gasoline</td>\n",
       "      <td>skoda</td>\n",
       "      <td>no</td>\n",
       "      <td>2016-03-31 00:00:00</td>\n",
       "      <td>0</td>\n",
       "      <td>60437</td>\n",
       "      <td>2016-04-06 10:17:21</td>\n",
       "    </tr>\n",
       "  </tbody>\n",
       "</table>\n",
       "</div>"
      ],
      "text/plain": [
       "           DateCrawled  Price VehicleType  RegistrationYear Gearbox  Power  \\\n",
       "0  2016-03-24 11:52:17    480         NaN              1993  manual      0   \n",
       "1  2016-03-24 10:58:45  18300       coupe              2011  manual    190   \n",
       "2  2016-03-14 12:52:21   9800         suv              2004    auto    163   \n",
       "3  2016-03-17 16:54:04   1500       small              2001  manual     75   \n",
       "4  2016-03-31 17:25:20   3600       small              2008  manual     69   \n",
       "\n",
       "   Model  Kilometer  RegistrationMonth  FuelType       Brand Repaired  \\\n",
       "0   golf     150000                  0    petrol  volkswagen      NaN   \n",
       "1    NaN     125000                  5  gasoline        audi      yes   \n",
       "2  grand     125000                  8  gasoline        jeep      NaN   \n",
       "3   golf     150000                  6    petrol  volkswagen       no   \n",
       "4  fabia      90000                  7  gasoline       skoda       no   \n",
       "\n",
       "           DateCreated  NumberOfPictures  PostalCode             LastSeen  \n",
       "0  2016-03-24 00:00:00                 0       70435  2016-04-07 03:16:57  \n",
       "1  2016-03-24 00:00:00                 0       66954  2016-04-07 01:46:50  \n",
       "2  2016-03-14 00:00:00                 0       90480  2016-04-05 12:47:46  \n",
       "3  2016-03-17 00:00:00                 0       91074  2016-03-17 17:40:17  \n",
       "4  2016-03-31 00:00:00                 0       60437  2016-04-06 10:17:21  "
      ]
     },
     "metadata": {},
     "output_type": "display_data"
    },
    {
     "data": {
      "text/html": [
       "<div>\n",
       "<style scoped>\n",
       "    .dataframe tbody tr th:only-of-type {\n",
       "        vertical-align: middle;\n",
       "    }\n",
       "\n",
       "    .dataframe tbody tr th {\n",
       "        vertical-align: top;\n",
       "    }\n",
       "\n",
       "    .dataframe thead th {\n",
       "        text-align: right;\n",
       "    }\n",
       "</style>\n",
       "<table border=\"1\" class=\"dataframe\">\n",
       "  <thead>\n",
       "    <tr style=\"text-align: right;\">\n",
       "      <th></th>\n",
       "      <th>DateCrawled</th>\n",
       "      <th>Price</th>\n",
       "      <th>VehicleType</th>\n",
       "      <th>RegistrationYear</th>\n",
       "      <th>Gearbox</th>\n",
       "      <th>Power</th>\n",
       "      <th>Model</th>\n",
       "      <th>Kilometer</th>\n",
       "      <th>RegistrationMonth</th>\n",
       "      <th>FuelType</th>\n",
       "      <th>Brand</th>\n",
       "      <th>Repaired</th>\n",
       "      <th>DateCreated</th>\n",
       "      <th>NumberOfPictures</th>\n",
       "      <th>PostalCode</th>\n",
       "      <th>LastSeen</th>\n",
       "    </tr>\n",
       "  </thead>\n",
       "  <tbody>\n",
       "    <tr>\n",
       "      <th>354364</th>\n",
       "      <td>2016-03-21 09:50:58</td>\n",
       "      <td>0</td>\n",
       "      <td>NaN</td>\n",
       "      <td>2005</td>\n",
       "      <td>manual</td>\n",
       "      <td>0</td>\n",
       "      <td>colt</td>\n",
       "      <td>150000</td>\n",
       "      <td>7</td>\n",
       "      <td>petrol</td>\n",
       "      <td>mitsubishi</td>\n",
       "      <td>yes</td>\n",
       "      <td>2016-03-21 00:00:00</td>\n",
       "      <td>0</td>\n",
       "      <td>2694</td>\n",
       "      <td>2016-03-21 10:42:49</td>\n",
       "    </tr>\n",
       "    <tr>\n",
       "      <th>354365</th>\n",
       "      <td>2016-03-14 17:48:27</td>\n",
       "      <td>2200</td>\n",
       "      <td>NaN</td>\n",
       "      <td>2005</td>\n",
       "      <td>NaN</td>\n",
       "      <td>0</td>\n",
       "      <td>NaN</td>\n",
       "      <td>20000</td>\n",
       "      <td>1</td>\n",
       "      <td>NaN</td>\n",
       "      <td>sonstige_autos</td>\n",
       "      <td>NaN</td>\n",
       "      <td>2016-03-14 00:00:00</td>\n",
       "      <td>0</td>\n",
       "      <td>39576</td>\n",
       "      <td>2016-04-06 00:46:52</td>\n",
       "    </tr>\n",
       "    <tr>\n",
       "      <th>354366</th>\n",
       "      <td>2016-03-05 19:56:21</td>\n",
       "      <td>1199</td>\n",
       "      <td>convertible</td>\n",
       "      <td>2000</td>\n",
       "      <td>auto</td>\n",
       "      <td>101</td>\n",
       "      <td>fortwo</td>\n",
       "      <td>125000</td>\n",
       "      <td>3</td>\n",
       "      <td>petrol</td>\n",
       "      <td>smart</td>\n",
       "      <td>no</td>\n",
       "      <td>2016-03-05 00:00:00</td>\n",
       "      <td>0</td>\n",
       "      <td>26135</td>\n",
       "      <td>2016-03-11 18:17:12</td>\n",
       "    </tr>\n",
       "    <tr>\n",
       "      <th>354367</th>\n",
       "      <td>2016-03-19 18:57:12</td>\n",
       "      <td>9200</td>\n",
       "      <td>bus</td>\n",
       "      <td>1996</td>\n",
       "      <td>manual</td>\n",
       "      <td>102</td>\n",
       "      <td>transporter</td>\n",
       "      <td>150000</td>\n",
       "      <td>3</td>\n",
       "      <td>gasoline</td>\n",
       "      <td>volkswagen</td>\n",
       "      <td>no</td>\n",
       "      <td>2016-03-19 00:00:00</td>\n",
       "      <td>0</td>\n",
       "      <td>87439</td>\n",
       "      <td>2016-04-07 07:15:26</td>\n",
       "    </tr>\n",
       "    <tr>\n",
       "      <th>354368</th>\n",
       "      <td>2016-03-20 19:41:08</td>\n",
       "      <td>3400</td>\n",
       "      <td>wagon</td>\n",
       "      <td>2002</td>\n",
       "      <td>manual</td>\n",
       "      <td>100</td>\n",
       "      <td>golf</td>\n",
       "      <td>150000</td>\n",
       "      <td>6</td>\n",
       "      <td>gasoline</td>\n",
       "      <td>volkswagen</td>\n",
       "      <td>NaN</td>\n",
       "      <td>2016-03-20 00:00:00</td>\n",
       "      <td>0</td>\n",
       "      <td>40764</td>\n",
       "      <td>2016-03-24 12:45:21</td>\n",
       "    </tr>\n",
       "  </tbody>\n",
       "</table>\n",
       "</div>"
      ],
      "text/plain": [
       "                DateCrawled  Price  VehicleType  RegistrationYear Gearbox  \\\n",
       "354364  2016-03-21 09:50:58      0          NaN              2005  manual   \n",
       "354365  2016-03-14 17:48:27   2200          NaN              2005     NaN   \n",
       "354366  2016-03-05 19:56:21   1199  convertible              2000    auto   \n",
       "354367  2016-03-19 18:57:12   9200          bus              1996  manual   \n",
       "354368  2016-03-20 19:41:08   3400        wagon              2002  manual   \n",
       "\n",
       "        Power        Model  Kilometer  RegistrationMonth  FuelType  \\\n",
       "354364      0         colt     150000                  7    petrol   \n",
       "354365      0          NaN      20000                  1       NaN   \n",
       "354366    101       fortwo     125000                  3    petrol   \n",
       "354367    102  transporter     150000                  3  gasoline   \n",
       "354368    100         golf     150000                  6  gasoline   \n",
       "\n",
       "                 Brand Repaired          DateCreated  NumberOfPictures  \\\n",
       "354364      mitsubishi      yes  2016-03-21 00:00:00                 0   \n",
       "354365  sonstige_autos      NaN  2016-03-14 00:00:00                 0   \n",
       "354366           smart       no  2016-03-05 00:00:00                 0   \n",
       "354367      volkswagen       no  2016-03-19 00:00:00                 0   \n",
       "354368      volkswagen      NaN  2016-03-20 00:00:00                 0   \n",
       "\n",
       "        PostalCode             LastSeen  \n",
       "354364        2694  2016-03-21 10:42:49  \n",
       "354365       39576  2016-04-06 00:46:52  \n",
       "354366       26135  2016-03-11 18:17:12  \n",
       "354367       87439  2016-04-07 07:15:26  \n",
       "354368       40764  2016-03-24 12:45:21  "
      ]
     },
     "metadata": {},
     "output_type": "display_data"
    },
    {
     "data": {
      "text/html": [
       "<div>\n",
       "<style scoped>\n",
       "    .dataframe tbody tr th:only-of-type {\n",
       "        vertical-align: middle;\n",
       "    }\n",
       "\n",
       "    .dataframe tbody tr th {\n",
       "        vertical-align: top;\n",
       "    }\n",
       "\n",
       "    .dataframe thead th {\n",
       "        text-align: right;\n",
       "    }\n",
       "</style>\n",
       "<table border=\"1\" class=\"dataframe\">\n",
       "  <thead>\n",
       "    <tr style=\"text-align: right;\">\n",
       "      <th></th>\n",
       "      <th>Price</th>\n",
       "      <th>RegistrationYear</th>\n",
       "      <th>Power</th>\n",
       "      <th>Kilometer</th>\n",
       "      <th>RegistrationMonth</th>\n",
       "      <th>NumberOfPictures</th>\n",
       "      <th>PostalCode</th>\n",
       "    </tr>\n",
       "  </thead>\n",
       "  <tbody>\n",
       "    <tr>\n",
       "      <th>count</th>\n",
       "      <td>354369.000000</td>\n",
       "      <td>354369.000000</td>\n",
       "      <td>354369.000000</td>\n",
       "      <td>354369.000000</td>\n",
       "      <td>354369.000000</td>\n",
       "      <td>354369.0</td>\n",
       "      <td>354369.000000</td>\n",
       "    </tr>\n",
       "    <tr>\n",
       "      <th>mean</th>\n",
       "      <td>4416.656776</td>\n",
       "      <td>2004.234448</td>\n",
       "      <td>110.094337</td>\n",
       "      <td>128211.172535</td>\n",
       "      <td>5.714645</td>\n",
       "      <td>0.0</td>\n",
       "      <td>50508.689087</td>\n",
       "    </tr>\n",
       "    <tr>\n",
       "      <th>std</th>\n",
       "      <td>4514.158514</td>\n",
       "      <td>90.227958</td>\n",
       "      <td>189.850405</td>\n",
       "      <td>37905.341530</td>\n",
       "      <td>3.726421</td>\n",
       "      <td>0.0</td>\n",
       "      <td>25783.096248</td>\n",
       "    </tr>\n",
       "    <tr>\n",
       "      <th>min</th>\n",
       "      <td>0.000000</td>\n",
       "      <td>1000.000000</td>\n",
       "      <td>0.000000</td>\n",
       "      <td>5000.000000</td>\n",
       "      <td>0.000000</td>\n",
       "      <td>0.0</td>\n",
       "      <td>1067.000000</td>\n",
       "    </tr>\n",
       "    <tr>\n",
       "      <th>25%</th>\n",
       "      <td>1050.000000</td>\n",
       "      <td>1999.000000</td>\n",
       "      <td>69.000000</td>\n",
       "      <td>125000.000000</td>\n",
       "      <td>3.000000</td>\n",
       "      <td>0.0</td>\n",
       "      <td>30165.000000</td>\n",
       "    </tr>\n",
       "    <tr>\n",
       "      <th>50%</th>\n",
       "      <td>2700.000000</td>\n",
       "      <td>2003.000000</td>\n",
       "      <td>105.000000</td>\n",
       "      <td>150000.000000</td>\n",
       "      <td>6.000000</td>\n",
       "      <td>0.0</td>\n",
       "      <td>49413.000000</td>\n",
       "    </tr>\n",
       "    <tr>\n",
       "      <th>75%</th>\n",
       "      <td>6400.000000</td>\n",
       "      <td>2008.000000</td>\n",
       "      <td>143.000000</td>\n",
       "      <td>150000.000000</td>\n",
       "      <td>9.000000</td>\n",
       "      <td>0.0</td>\n",
       "      <td>71083.000000</td>\n",
       "    </tr>\n",
       "    <tr>\n",
       "      <th>max</th>\n",
       "      <td>20000.000000</td>\n",
       "      <td>9999.000000</td>\n",
       "      <td>20000.000000</td>\n",
       "      <td>150000.000000</td>\n",
       "      <td>12.000000</td>\n",
       "      <td>0.0</td>\n",
       "      <td>99998.000000</td>\n",
       "    </tr>\n",
       "  </tbody>\n",
       "</table>\n",
       "</div>"
      ],
      "text/plain": [
       "               Price  RegistrationYear          Power      Kilometer  \\\n",
       "count  354369.000000     354369.000000  354369.000000  354369.000000   \n",
       "mean     4416.656776       2004.234448     110.094337  128211.172535   \n",
       "std      4514.158514         90.227958     189.850405   37905.341530   \n",
       "min         0.000000       1000.000000       0.000000    5000.000000   \n",
       "25%      1050.000000       1999.000000      69.000000  125000.000000   \n",
       "50%      2700.000000       2003.000000     105.000000  150000.000000   \n",
       "75%      6400.000000       2008.000000     143.000000  150000.000000   \n",
       "max     20000.000000       9999.000000   20000.000000  150000.000000   \n",
       "\n",
       "       RegistrationMonth  NumberOfPictures     PostalCode  \n",
       "count      354369.000000          354369.0  354369.000000  \n",
       "mean            5.714645               0.0   50508.689087  \n",
       "std             3.726421               0.0   25783.096248  \n",
       "min             0.000000               0.0    1067.000000  \n",
       "25%             3.000000               0.0   30165.000000  \n",
       "50%             6.000000               0.0   49413.000000  \n",
       "75%             9.000000               0.0   71083.000000  \n",
       "max            12.000000               0.0   99998.000000  "
      ]
     },
     "metadata": {},
     "output_type": "display_data"
    },
    {
     "name": "stdout",
     "output_type": "stream",
     "text": [
      "Пропусков в датафрейме:  DateCrawled              0\n",
      "Price                    0\n",
      "VehicleType          37490\n",
      "RegistrationYear         0\n",
      "Gearbox              19833\n",
      "Power                    0\n",
      "Model                19705\n",
      "Kilometer                0\n",
      "RegistrationMonth        0\n",
      "FuelType             32895\n",
      "Brand                    0\n",
      "Repaired             71154\n",
      "DateCreated              0\n",
      "NumberOfPictures         0\n",
      "PostalCode               0\n",
      "LastSeen                 0\n",
      "dtype: int64\n",
      "\n",
      "Количество явных дубликатов в датафрейме: 4\n"
     ]
    }
   ],
   "source": [
    "data_info(auto_df)"
   ]
  },
  {
   "cell_type": "markdown",
   "metadata": {},
   "source": [
    "#### Краткий обзор полученных данных\n",
    "\n",
    "* Названия столбцов начинаются с большой буквы -> перевести в нижний регистр\n",
    "- Столбцы имеют правильные по смыслу типы данных, но object будет преобразован в category для экономии памяти и скорости обработки при построении ML модели\n",
    "- Также данные имеют большое количество пропусков, как исправить - будем рассматривать отдельно\n",
    "- Неинформативные столбцы будут удалены:\n",
    "    - 'dateCrawled'\n",
    "    - 'dateCreated'\n",
    "    - 'lastSeen'\n",
    "    - 'numberrOfPictures'\n",
    "    - 'postalCode'\n",
    "- Что касается дубликатов, есть 4 дублирующие строки, они будут удалены в последнюю очередь, т.к. после обработки, могут появиться новые дубли"
   ]
  },
  {
   "cell_type": "code",
   "execution_count": 5,
   "metadata": {},
   "outputs": [
    {
     "name": "stdout",
     "output_type": "stream",
     "text": [
      "Index(['datecrawled', 'price', 'vehicletype', 'registrationyear', 'gearbox',\n",
      "       'power', 'model', 'kilometer', 'registrationmonth', 'fueltype', 'brand',\n",
      "       'repaired', 'datecreated', 'numberofpictures', 'postalcode',\n",
      "       'lastseen'],\n",
      "      dtype='object')\n"
     ]
    }
   ],
   "source": [
    "# приводим столбцы к нижнему регистру\n",
    "auto_df.columns = auto_df.columns.str.lower()\n",
    "print(auto_df.columns)"
   ]
  },
  {
   "cell_type": "code",
   "execution_count": 6,
   "metadata": {
    "scrolled": true
   },
   "outputs": [],
   "source": [
    "# устраним также неявные дубликаты в названии топлива\n",
    "auto_df['fueltype'] = auto_df['fueltype'].replace('gasoline', 'petrol')"
   ]
  },
  {
   "cell_type": "code",
   "execution_count": 7,
   "metadata": {},
   "outputs": [],
   "source": [
    "# теперь удалим все неинформативные столбцы\n",
    "auto_df = auto_df.drop(['datecrawled', 'datecreated', 'numberofpictures', 'postalcode',\n",
    "       'lastseen'], axis=1)"
   ]
  },
  {
   "cell_type": "code",
   "execution_count": 8,
   "metadata": {},
   "outputs": [
    {
     "name": "stdout",
     "output_type": "stream",
     "text": [
      "Количество явных дубликатов в датафрейме: 27693\n"
     ]
    }
   ],
   "source": [
    "# потсмрим как изменилось количество дубликатов\n",
    "print('Количество явных дубликатов в датафрейме:', auto_df.duplicated().sum())"
   ]
  },
  {
   "cell_type": "code",
   "execution_count": 9,
   "metadata": {},
   "outputs": [],
   "source": [
    "# Заполнение пропусков в числовых столбцах медианой\n",
    "numeric_cols = auto_df.select_dtypes(include=['int64']).columns\n",
    "for col in numeric_cols:\n",
    "    auto_df[col] = auto_df[col].fillna(auto_df[col].median())"
   ]
  },
  {
   "cell_type": "code",
   "execution_count": 10,
   "metadata": {},
   "outputs": [],
   "source": [
    "# Заполнение пропусков в категориальных столбцах модой\n",
    "categorical_cols = auto_df.select_dtypes(include=['object']).columns\n",
    "for col in categorical_cols:\n",
    "    auto_df[col] = auto_df[col].fillna(auto_df[col].mode()[0])\n",
    "    auto_df[col] = auto_df[col].astype('category')"
   ]
  },
  {
   "cell_type": "code",
   "execution_count": 11,
   "metadata": {},
   "outputs": [
    {
     "name": "stdout",
     "output_type": "stream",
     "text": [
      "Количество явных дубликатов в датафрейме: 33875\n",
      "Количество дубликатов после удаления: 0\n"
     ]
    }
   ],
   "source": [
    "# потсмрим как изменилось количество дубликатов\n",
    "print('Количество явных дубликатов в датафрейме:', auto_df.duplicated().sum())\n",
    "auto_df= auto_df.drop_duplicates()\n",
    "print('Количество дубликатов после удаления:', auto_df.duplicated().sum())"
   ]
  },
  {
   "cell_type": "markdown",
   "metadata": {},
   "source": [
    "### EDA\n",
    "\n",
    "Сделаем визуализацию числовых и категориальных признаков на предмет возможных аномалий. Сначала напишем функции для визуализации."
   ]
  },
  {
   "cell_type": "code",
   "execution_count": 12,
   "metadata": {
    "scrolled": true
   },
   "outputs": [
    {
     "data": {
      "image/png": "[encoded data removed]",
      "text/plain": [
       "<Figure size 1008x432 with 2 Axes>"
      ]
     },
     "metadata": {
      "needs_background": "light"
     },
     "output_type": "display_data"
    },
    {
     "data": {
      "image/png": "[encoded data removed]",
      "text/plain": [
       "<Figure size 1008x432 with 2 Axes>"
      ]
     },
     "metadata": {
      "needs_background": "light"
     },
     "output_type": "display_data"
    },
    {
     "data": {
      "image/png": "[encoded data removed]",
      "text/plain": [
       "<Figure size 1008x432 with 2 Axes>"
      ]
     },
     "metadata": {
      "needs_background": "light"
     },
     "output_type": "display_data"
    },
    {
     "data": {
      "image/png": "[encoded data removed]",
      "text/plain": [
       "<Figure size 1008x432 with 2 Axes>"
      ]
     },
     "metadata": {
      "needs_background": "light"
     },
     "output_type": "display_data"
    },
    {
     "data": {
      "image/png": "[encoded data removed]",
      "text/plain": [
       "<Figure size 1008x432 with 2 Axes>"
      ]
     },
     "metadata": {
      "needs_background": "light"
     },
     "output_type": "display_data"
    },
    {
     "data": {
      "image/png": "[encoded data removed]",
      "text/plain": [
       "<Figure size 1008x432 with 2 Axes>"
      ]
     },
     "metadata": {
      "needs_background": "light"
     },
     "output_type": "display_data"
    }
   ],
   "source": [
    "def detect_outliers(df, column, threshold=1.5):\n",
    "    \"\"\"Определение выбросов по методу межквартильного размаха\"\"\"\n",
    "    q1 = df[column].quantile(0.25)\n",
    "    q3 = df[column].quantile(0.75)\n",
    "    iqr = q3 - q1\n",
    "    lower_bound = q1 - threshold * iqr\n",
    "    upper_bound = q3 + threshold * iqr\n",
    "    return df[(df[column] < lower_bound) | (df[column] > upper_bound)]\n",
    "\n",
    "def plot_enhanced_numerical(df, column, figsize=(14, 6), bins=50):\n",
    "    \n",
    "    plt.figure(figsize=figsize)\n",
    "    \n",
    "    # Вариант 1: Исходные данные\n",
    "    plt.subplot(1, 2, 1)\n",
    "    sns.histplot(df[column], bins=bins, kde=True)\n",
    "    plt.title(f'Исходное распределение\\n({column})', pad=20)\n",
    "    plt.xlabel('')\n",
    "    \n",
    "    # Вариант 2: Без выбросов методом межквартильного размаха\n",
    "    plt.subplot(1, 2, 2)\n",
    "    clean_df = df[~df.index.isin(detect_outliers(df, column).index)]\n",
    "    sns.histplot(clean_df[column], bins=bins, kde=True, color='green')\n",
    "    plt.title(f'Без выбросов\\n({column})', pad=20)\n",
    "    plt.xlabel('')\n",
    "    \n",
    "    plt.tight_layout()\n",
    "    plt.show()\n",
    "\n",
    "def plot_enhanced_categorical(df, column, top_n=15, figsize=(14, 6)):\n",
    "    \n",
    "    plt.figure(figsize=figsize)\n",
    "    \n",
    "    # Вариант 1: Все данные\n",
    "    plt.subplot(1, 2, 1)\n",
    "    top_categories = df[column].value_counts().nlargest(top_n)\n",
    "    sns.barplot(x=top_categories.values, y=top_categories.index, palette='viridis')\n",
    "    plt.title(f'Топ-{top_n} категорий\\n({column})', pad=20)\n",
    "    plt.xlabel('Количество')\n",
    "    \n",
    "    # Вариант 2: Без редких категорий\n",
    "    plt.subplot(1, 2, 2)\n",
    "    main_categories = df[column].value_counts()[df[column].value_counts() > 10]\n",
    "    sns.barplot(x=main_categories.values, y=main_categories.index, palette='rocket')\n",
    "    plt.title(f'Только частые категории\\n({column})', pad=20)\n",
    "    plt.xlabel('Количество')\n",
    "    \n",
    "    plt.tight_layout()\n",
    "    plt.show()\n",
    "\n",
    "def plot_registration_dates(df, year_col='yearofregistration', month_col='monthofregistration'):\n",
    "    \"\"\"Специальная визуализация для дат регистрации\"\"\"\n",
    "    plt.figure(figsize=(16, 6))\n",
    "    \n",
    "    # Года регистрации\n",
    "    plt.subplot(1, 2, 1)\n",
    "    year_counts = df[year_col].value_counts().sort_index()\n",
    "    sns.lineplot(x=year_counts.index, y=year_counts.values, marker='o')\n",
    "    plt.title('Распределение по годам регистрации', pad=20)\n",
    "    plt.xticks(rotation=45)\n",
    "    plt.grid(True)\n",
    "    \n",
    "    # Месяцы регистрации\n",
    "    plt.subplot(1, 2, 2)\n",
    "    month_order = ['Jan', 'Feb', 'Mar', 'Apr', 'May', 'Jun', \n",
    "                 'Jul', 'Aug', 'Sep', 'Oct', 'Nov', 'Dec']\n",
    "    month_counts = df[month_col].value_counts()\n",
    "    sns.barplot(x=month_counts.index, y=month_counts.values, order=month_order)\n",
    "    plt.title('Распределение по месяцам регистрации', pad=20)\n",
    "    \n",
    "    plt.tight_layout()\n",
    "    plt.show()\n",
    "\n",
    "# Применение функций визуализации к auto_df\n",
    "numerical_cols = ['price', 'powerps', 'kilometer', 'yearofregistration']\n",
    "categorical_cols = ['vehicletype', 'gearbox', 'fueltype', 'brand']\n",
    "\n",
    "for col in numerical_cols:\n",
    "    if col in auto_df.columns:\n",
    "        plot_enhanced_numerical(auto_df, col, bins=30)\n",
    "\n",
    "for col in categorical_cols:\n",
    "    if col in auto_df.columns:\n",
    "        plot_enhanced_categorical(auto_df, col)\n",
    "\n",
    "if 'yearofregistration' in auto_df.columns and 'monthofregistration' in auto_df.columns:\n",
    "    plot_registration_dates(auto_df)"
   ]
  },
  {
   "cell_type": "code",
   "execution_count": 13,
   "metadata": {},
   "outputs": [
    {
     "data": {
      "image/png": "[encoded data removed]",
      "text/plain": [
       "<Figure size 720x360 with 1 Axes>"
      ]
     },
     "metadata": {
      "needs_background": "light"
     },
     "output_type": "display_data"
    }
   ],
   "source": [
    "plt.figure(figsize=(10, 5))\n",
    "auto_df[auto_df['power'] < 200]['power'].hist(bins=50)\n",
    "plt.title('Мощность автомобилей (<200 л.с.)')\n",
    "plt.xlabel('Мощность (л.с.)')\n",
    "plt.ylabel('Количество')\n",
    "plt.show()"
   ]
  },
  {
   "cell_type": "code",
   "execution_count": 14,
   "metadata": {},
   "outputs": [],
   "source": [
    "# отфильтруем вручную данные по таблицам с явными аномалиями\n",
    "auto_df = auto_df[(auto_df['price'] > 100)]\n",
    "auto_df = auto_df[(auto_df['registrationyear'] >= 1950) & (auto_df['registrationyear'] < 2017)]\n",
    "auto_df = auto_df[(auto_df['power'] > 10)]"
   ]
  },
  {
   "cell_type": "code",
   "execution_count": 15,
   "metadata": {
    "scrolled": true
   },
   "outputs": [
    {
     "data": {
      "image/png": "[encoded data removed]",
      "text/plain": [
       "<Figure size 720x576 with 2 Axes>"
      ]
     },
     "metadata": {
      "needs_background": "light"
     },
     "output_type": "display_data"
    }
   ],
   "source": [
    "# при помощи библиотеки phik проведем дополнительный корелляционный анализ,\n",
    "# чтобы проверить данные на мультиколлинераность\n",
    "# собираем матрицу корелляции\n",
    "plt.figure(figsize=(10, 8))\n",
    "phik_corr_matrix = auto_df.phik_matrix(['price', 'registrationyear', 'power', 'kilometer', 'registrationmonth'])\n",
    "sns.heatmap(phik_corr_matrix, annot=True, cmap='coolwarm', fmt='.2f')\n",
    "plt.title('Матрица Phi-k для ')\n",
    "plt.show()"
   ]
  },
  {
   "cell_type": "markdown",
   "metadata": {},
   "source": [
    "Результат получился интересный, в предоставленном датасете обнаружены две сильные зависимости: между брендом и моделью, скорее всего, это обусловлено тем, что бренд выпускает преимущественно автомобили одной модели.\n",
    "\n",
    "Для модели бустинга - можно оставить \"как есть\". Но по условию задачи мы должны использовать еще как минимум одну \"не бустинг\" модель, а она, скорее всего, переобучится. Поэтому в качестве решения выберем: агрегирование признаков в один и l1(l2) регуляризация. "
   ]
  },
  {
   "cell_type": "markdown",
   "metadata": {},
   "source": [
    "## Подготовка и обучение моделей"
   ]
  },
  {
   "cell_type": "markdown",
   "metadata": {},
   "source": [
    "### Подготовка к обучению"
   ]
  },
  {
   "cell_type": "code",
   "execution_count": 16,
   "metadata": {
    "scrolled": true
   },
   "outputs": [],
   "source": [
    "# создаем новый признак, при этом удаляя старые, после этого не должно быть мультикол-ти\n",
    "auto_df['brand_model'] = auto_df['brand'].astype(str) + '_' + auto_df['model'].astype(str)\n",
    "auto_df['brand_model'] = auto_df['brand_model'].astype('category')\n",
    "\n",
    "auto_df = auto_df.drop(['brand', 'model'], axis=1)\n",
    "\n",
    "# вводим численные и категориальные признаки\n",
    "numeric_features = ['power', 'kilometer', 'registrationyear']\n",
    "categorical_features = ['gearbox', 'fueltype', 'repaired', 'brand_model']\n",
    "\n",
    "# Разделение на features/target\n",
    "X = auto_df.drop('price', axis=1)\n",
    "y = auto_df['price']\n",
    "\n",
    "# разбиваем данные на тренировочную, валидационную и на тестовую выборки\n",
    "X_train, X_temp, y_train, y_temp = train_test_split(X, y, test_size=TEST_SIZE, random_state=RANDOM_STATE)\n",
    "\n",
    "X_valid, X_test, y_valid, y_test = train_test_split(\n",
    "    X_temp, y_temp, test_size=0.5, random_state=42\n",
    ")"
   ]
  },
  {
   "cell_type": "code",
   "execution_count": 17,
   "metadata": {
    "scrolled": true
   },
   "outputs": [],
   "source": [
    "# подготовка для \"деревянных моделей\"\n",
    "# добавлена подготовка валидационной выборки\n",
    "scaler = StandardScaler()\n",
    "\n",
    "X_train[numeric_features] = scaler.fit_transform(X_train[numeric_features])\n",
    "X_valid[numeric_features] = scaler.transform(X_valid[numeric_features])\n",
    "X_test[numeric_features] = scaler.transform(X_test[numeric_features])\n",
    "\n",
    "X_train_tree = X_train\n",
    "X_test_tree = X_test"
   ]
  },
  {
   "cell_type": "markdown",
   "metadata": {},
   "source": [
    "### Обучение моделей"
   ]
  },
  {
   "cell_type": "code",
   "execution_count": 18,
   "metadata": {
    "scrolled": true
   },
   "outputs": [
    {
     "name": "stdout",
     "output_type": "stream",
     "text": [
      "[LightGBM] [Warning] feature_fraction is set=0.8, colsample_bytree=1.0 will be ignored. Current value: feature_fraction=0.8\n",
      "[50]\tvalid_0's rmse: 1688.43\n",
      "[100]\tvalid_0's rmse: 1643.1\n",
      "[150]\tvalid_0's rmse: 1622.14\n",
      "[200]\tvalid_0's rmse: 1612.49\n",
      "[250]\tvalid_0's rmse: 1605.77\n",
      "[300]\tvalid_0's rmse: 1598.61\n",
      "[350]\tvalid_0's rmse: 1592.79\n",
      "[400]\tvalid_0's rmse: 1589.85\n",
      "[450]\tvalid_0's rmse: 1585.98\n",
      "[500]\tvalid_0's rmse: 1582.93\n",
      "\n",
      "Результаты на valid-выборке:\n",
      "- Лучшая итерация: 500\n",
      "- Valid RMSE: 1582.93\n",
      "- Время обучения: 4.27 сек\n"
     ]
    }
   ],
   "source": [
    "# обучение LightGBM\n",
    "lgb_model = LGBMRegressor(\n",
    "    n_estimators=500,\n",
    "    objective='regression',\n",
    "    metric='rmse',\n",
    "    feature_fraction=0.8,\n",
    "    n_jobs=1,\n",
    "    random_state=42,\n",
    "    verbose=-1\n",
    ")\n",
    "\n",
    "# обучение на valid-выборке\n",
    "start_train = time()\n",
    "lgb_model.fit(\n",
    "    X_train, y_train,\n",
    "    eval_set=[(X_valid, y_valid)],\n",
    "    eval_metric='rmse',\n",
    "    early_stopping_rounds=50,\n",
    "    verbose=50\n",
    ")\n",
    "train_time = time() - start_train\n",
    "\n",
    "# оценка на valid-выборке\n",
    "valid_pred = lgb_model.predict(X_valid)\n",
    "valid_rmse = np.sqrt(mean_squared_error(y_valid, valid_pred))\n",
    "\n",
    "print(f\"\\nРезультаты на valid-выборке:\")\n",
    "print(f\"- Лучшая итерация: {lgb_model.best_iteration_}\")\n",
    "print(f\"- Valid RMSE: {valid_rmse:.2f}\")\n",
    "print(f\"- Время обучения: {train_time:.2f} сек\")\n",
    "\n"
   ]
  },
  {
   "cell_type": "code",
   "execution_count": 19,
   "metadata": {},
   "outputs": [],
   "source": [
    "# не бустинг модели\n",
    "\n",
    "# Для линейных моделей и RandomForest:\n",
    "linear_preprocessor = ColumnTransformer(\n",
    "    transformers=[\n",
    "        ('num', StandardScaler(), numeric_features),\n",
    "        ('cat', OneHotEncoder(handle_unknown='ignore', drop='first'), categorical_features)\n",
    "    ])\n",
    "\n",
    "# добавил препроцессор для дерева\n",
    "tree_preprocessor = ColumnTransformer(\n",
    "    transformers=[\n",
    "        ('num', StandardScaler(), numeric_features),\n",
    "        ('cat', OrdinalEncoder(handle_unknown='use_encoded_value', unknown_value=-1), categorical_features)\n",
    "    ])\n",
    "\n",
    "# Определение пайплайнов\n",
    "\n",
    "rf_pipeline = Pipeline([\n",
    "    ('preprocessor', tree_preprocessor),\n",
    "    ('regressor', RandomForestRegressor(\n",
    "        n_estimators=100,\n",
    "        random_state=42,\n",
    "        n_jobs=-1\n",
    "    ))\n",
    "])\n",
    "\n",
    "# Ridge Regression (использует стандартизацию + OHE)\n",
    "ridge_pipeline = Pipeline([\n",
    "    ('preprocessor', linear_preprocessor),\n",
    "    ('regressor', Ridge(alpha=1.0))\n",
    "])\n"
   ]
  },
  {
   "cell_type": "code",
   "execution_count": 20,
   "metadata": {},
   "outputs": [],
   "source": [
    "def evaluate_sklearn_model(pipeline, X_train, y_train, X_valid, y_valid):\n",
    "    results = {}\n",
    "    \n",
    "    # Обучение с замером времени\n",
    "    start_train = time()\n",
    "    pipeline.fit(X_train, y_train)\n",
    "    results['train_time'] = time() - start_train\n",
    "    \n",
    "    # Предсказание на валидации\n",
    "    start_pred = time()\n",
    "    valid_pred = pipeline.predict(X_valid)\n",
    "    results['pred_time'] = time() - start_pred\n",
    "    results['valid_rmse'] = mean_squared_error(y_valid, valid_pred, squared=False)\n",
    "    \n",
    "    return results"
   ]
  },
  {
   "cell_type": "markdown",
   "metadata": {},
   "source": [
    "## Анализ моделей"
   ]
  },
  {
   "cell_type": "code",
   "execution_count": 21,
   "metadata": {},
   "outputs": [],
   "source": [
    "# Оценка моделей \n",
    "rf_metrics = evaluate_sklearn_model(rf_pipeline, X_train, y_train, X_valid, y_valid)\n",
    "ridge_metrics = evaluate_sklearn_model(ridge_pipeline, X_train, y_train, X_valid, y_valid)\n",
    "\n",
    "# Добавляем LightGBM в сравнение\n",
    "start_pred = time()  # Замер времени предсказания\n",
    "valid_pred = lgb_model.predict(X_valid)\n",
    "pred_time = time() - start_pred\n",
    "\n",
    "lgb_metrics = {\n",
    "    'valid_rmse': mean_squared_error(y_valid, valid_pred, squared=False),\n",
    "    'train_time': train_time,\n",
    "    'pred_time': pred_time\n",
    "}\n",
    "\n",
    "# Выбор лучшей модели\n",
    "models = {\n",
    "    'RandomForest': {'model': rf_pipeline, 'metrics': rf_metrics},\n",
    "    'Ridge': {'model': ridge_pipeline, 'metrics': ridge_metrics},\n",
    "    'LightGBM': {'model': lgb_model, 'metrics': lgb_metrics}\n",
    "}"
   ]
  },
  {
   "cell_type": "code",
   "execution_count": 22,
   "metadata": {},
   "outputs": [
    {
     "name": "stdout",
     "output_type": "stream",
     "text": [
      "\n",
      "ДЕТАЛИЗИРОВАННОЕ СРАВНЕНИЕ МОДЕЛЕЙ\n"
     ]
    },
    {
     "data": {
      "text/html": [
       "<div>\n",
       "<style scoped>\n",
       "    .dataframe tbody tr th:only-of-type {\n",
       "        vertical-align: middle;\n",
       "    }\n",
       "\n",
       "    .dataframe tbody tr th {\n",
       "        vertical-align: top;\n",
       "    }\n",
       "\n",
       "    .dataframe thead th {\n",
       "        text-align: right;\n",
       "    }\n",
       "</style>\n",
       "<table border=\"1\" class=\"dataframe\">\n",
       "  <thead>\n",
       "    <tr style=\"text-align: right;\">\n",
       "      <th></th>\n",
       "      <th>Model</th>\n",
       "      <th>Valid RMSE</th>\n",
       "      <th>Train Time (sec)</th>\n",
       "      <th>Pred Time (sec)</th>\n",
       "      <th>Valid RMSE Rank</th>\n",
       "      <th>Train Time (sec) Rank</th>\n",
       "      <th>Pred Time (sec) Rank</th>\n",
       "    </tr>\n",
       "  </thead>\n",
       "  <tbody>\n",
       "    <tr>\n",
       "      <th>2</th>\n",
       "      <td>LightGBM</td>\n",
       "      <td>1582.933408</td>\n",
       "      <td>4.268507</td>\n",
       "      <td>1.547687</td>\n",
       "      <td>3.0</td>\n",
       "      <td>2.0</td>\n",
       "      <td>2.0</td>\n",
       "    </tr>\n",
       "    <tr>\n",
       "      <th>0</th>\n",
       "      <td>RandomForest</td>\n",
       "      <td>1721.840986</td>\n",
       "      <td>26.426450</td>\n",
       "      <td>1.765676</td>\n",
       "      <td>2.0</td>\n",
       "      <td>3.0</td>\n",
       "      <td>3.0</td>\n",
       "    </tr>\n",
       "    <tr>\n",
       "      <th>1</th>\n",
       "      <td>Ridge</td>\n",
       "      <td>2905.493294</td>\n",
       "      <td>2.584422</td>\n",
       "      <td>0.261576</td>\n",
       "      <td>1.0</td>\n",
       "      <td>1.0</td>\n",
       "      <td>1.0</td>\n",
       "    </tr>\n",
       "  </tbody>\n",
       "</table>\n",
       "</div>"
      ],
      "text/plain": [
       "          Model   Valid RMSE  Train Time (sec)  Pred Time (sec)  \\\n",
       "2      LightGBM  1582.933408          4.268507         1.547687   \n",
       "0  RandomForest  1721.840986         26.426450         1.765676   \n",
       "1         Ridge  2905.493294          2.584422         0.261576   \n",
       "\n",
       "   Valid RMSE Rank  Train Time (sec) Rank  Pred Time (sec) Rank  \n",
       "2              3.0                    2.0                   2.0  \n",
       "0              2.0                    3.0                   3.0  \n",
       "1              1.0                    1.0                   1.0  "
      ]
     },
     "metadata": {},
     "output_type": "display_data"
    }
   ],
   "source": [
    "results_df = pd.DataFrame({\n",
    "    'Model': models.keys(),\n",
    "    'Valid RMSE': [m['metrics']['valid_rmse'] for m in models.values()],\n",
    "    'Train Time (sec)': [m['metrics']['train_time'] for m in models.values()],\n",
    "    'Pred Time (sec)': [m['metrics']['pred_time'] for m in models.values()]\n",
    "})\n",
    "\n",
    "# Добавляем ранжирование\n",
    "for metric in ['Valid RMSE', 'Train Time (sec)', 'Pred Time (sec)']:\n",
    "    results_df[f'{metric} Rank'] = results_df[metric].rank(ascending=metric != 'Valid RMSE')\n",
    "\n",
    "print(\"\\nДЕТАЛИЗИРОВАННОЕ СРАВНЕНИЕ МОДЕЛЕЙ\")\n",
    "display(results_df.sort_values('Valid RMSE'))"
   ]
  },
  {
   "cell_type": "code",
   "execution_count": 23,
   "metadata": {},
   "outputs": [
    {
     "name": "stdout",
     "output_type": "stream",
     "text": [
      "\n",
      "ФИНАЛЬНЫЕ РЕЗУЛЬТАТЫ\n",
      "==================================================\n",
      "Лучшая модель: LightGBM\n",
      "Valid RMSE: 1582.93\n",
      "Test RMSE: 1600.85\n",
      "Время обучения: 4.27 сек\n",
      "Время предсказания: 1.5477 сек\n"
     ]
    }
   ],
   "source": [
    "# Так как в таблице выше модель LightGBM показала лучший результат по RMSE и средние результаты по скорости обучения, то\n",
    "# выберем модель бустинга лучшей моделью\n",
    "best_name = 'LightGBM'\n",
    "best_model = models[best_name]['model']\n",
    "best_metrics = models[best_name]['metrics']\n",
    "\n",
    "# Финальная оценка на тесте\n",
    "test_pred = best_model.predict(X_test)\n",
    "test_rmse = mean_squared_error(y_test, test_pred, squared=False)\n",
    "\n",
    "# 6. Вывод результатов\n",
    "print(\"\\nФИНАЛЬНЫЕ РЕЗУЛЬТАТЫ\")\n",
    "print(\"=\" * 50)\n",
    "print(f\"Лучшая модель: {best_name}\")\n",
    "print(f\"Valid RMSE: {best_metrics['valid_rmse']:.2f}\")\n",
    "print(f\"Test RMSE: {test_rmse:.2f}\")\n",
    "print(f\"Время обучения: {best_metrics['train_time']:.2f} сек\")\n",
    "print(f\"Время предсказания: {best_metrics['pred_time']:.4f} сек\")"
   ]
  },
  {
   "cell_type": "markdown",
   "metadata": {},
   "source": [
    "# Общий вывод:\n",
    "\n",
    "Нами был получен датасет от онлайн магазина по продаже автомобилей. В ходе первичного анализа были обнаружены пропуски, дублирующиеся строки, а также аномальные значения. Массив был очищен, построены графики и проведена подготовка к машинному обучению. \n",
    "\n",
    "Цель проекта заключалась в создании модели для предсказания рыночной стоимости автомобиля. Важные критерии оценки качества: качество предсказание, которое мы анализировали при помощи метрики RMSE, а также время обучения и предсказания. В обучении было использовано три модели: модель с бустингом: LightGBMRegressor, а также две \"не бустинг\" модели из библиотеки sklearn - RandomForest и LinearRegression.\n",
    "\n",
    "Результаты сравнения моделей:\n",
    "\n",
    "LightGBM продемонстрировала наилучшее качество прогнозирования:\n",
    "* RMSE на тестовых данных: 1610 (существенно ниже требования <2500)\n",
    "- Время обучения: 6 сек\n",
    "- Время предсказания: 2 сек\n",
    "\n",
    "Ridge Regression показала максимальную производительность:\n",
    "* Самое быстрое обучение и предсказание\n",
    "- RMSE: 2900 (превышает целевой показатель)\n",
    "\n",
    "Анализ компромиссов:\n",
    "\n",
    "* LightGBM существенно (на 44%) точнее, но требует в 4-6 раз больше вычислительных ресурсов\n",
    "- Ridge Regression не соответствует целевому показателю по RMSE (2900 > 2500)\n",
    "\n",
    "Рекомендация:\n",
    "Несмотря на более высокую производительность Ridge Regression, модель LightGBM рекомендована к внедрению как оптимальное решение, поскольку:\n",
    "\n",
    "* Полностью соответствует ключевому требованию по точности (RMSE < 2500)\n",
    "- Обеспечивает разумный баланс между качеством и скоростью работы\n",
    "- Превышение целевого показателя RMSE в Ridge Regression (2900 vs 2500) делает эту модель неприемлемой, несмотря на ее быстроту\n",
    "\n",
    "Резюме:\n",
    "Приоритетом в проекте является точность оценки стоимости автомобилей, что делает LightGBM лучшим вариантом, даже с учетом ее больших вычислительных затрат по сравнению с Ridge Regression."
   ]
  }
 ],
 "metadata": {
  "ExecuteTimeLog": [
   {
    "duration": 430,
    "start_time": "2025-05-01T06:14:12.511Z"
   },
   {
    "duration": 1631,
    "start_time": "2025-05-01T06:16:48.026Z"
   },
   {
    "duration": 4,
    "start_time": "2025-05-01T06:16:49.658Z"
   },
   {
    "duration": 1042,
    "start_time": "2025-05-01T06:16:49.664Z"
   },
   {
    "duration": 25,
    "start_time": "2025-05-01T06:31:16.452Z"
   },
   {
    "duration": 4,
    "start_time": "2025-05-01T06:49:58.216Z"
   },
   {
    "duration": 3,
    "start_time": "2025-05-01T06:54:33.326Z"
   },
   {
    "duration": 524,
    "start_time": "2025-05-01T06:54:52.770Z"
   },
   {
    "duration": 58,
    "start_time": "2025-05-01T06:55:36.483Z"
   },
   {
    "duration": 234,
    "start_time": "2025-05-01T06:55:36.991Z"
   },
   {
    "duration": 68,
    "start_time": "2025-05-01T06:58:48.908Z"
   },
   {
    "duration": 52,
    "start_time": "2025-05-01T06:59:02.980Z"
   },
   {
    "duration": 275,
    "start_time": "2025-05-01T06:59:13.880Z"
   },
   {
    "duration": 183,
    "start_time": "2025-05-01T06:59:14.214Z"
   },
   {
    "duration": 511,
    "start_time": "2025-05-01T07:08:02.037Z"
   },
   {
    "duration": 502,
    "start_time": "2025-05-01T07:08:32.774Z"
   },
   {
    "duration": 374,
    "start_time": "2025-05-01T07:10:01.980Z"
   },
   {
    "duration": 173,
    "start_time": "2025-05-01T07:10:15.077Z"
   },
   {
    "duration": 8,
    "start_time": "2025-05-01T07:14:06.743Z"
   },
   {
    "duration": 21,
    "start_time": "2025-05-01T07:15:48.057Z"
   },
   {
    "duration": 1433,
    "start_time": "2025-05-01T07:16:11.669Z"
   },
   {
    "duration": 87723,
    "start_time": "2025-05-01T07:17:58.234Z"
   },
   {
    "duration": 7374,
    "start_time": "2025-05-01T07:19:25.959Z"
   },
   {
    "duration": 1564,
    "start_time": "2025-05-01T08:00:26.809Z"
   },
   {
    "duration": 962,
    "start_time": "2025-05-01T08:00:28.375Z"
   },
   {
    "duration": 4,
    "start_time": "2025-05-01T08:00:29.338Z"
   },
   {
    "duration": 1079,
    "start_time": "2025-05-01T08:00:29.344Z"
   },
   {
    "duration": 5,
    "start_time": "2025-05-01T08:00:30.426Z"
   },
   {
    "duration": 104,
    "start_time": "2025-05-01T08:00:30.433Z"
   },
   {
    "duration": 279,
    "start_time": "2025-05-01T08:00:30.539Z"
   },
   {
    "duration": 53,
    "start_time": "2025-05-01T08:00:30.820Z"
   },
   {
    "duration": 438,
    "start_time": "2025-05-01T08:00:30.875Z"
   },
   {
    "duration": 201,
    "start_time": "2025-05-01T08:00:31.314Z"
   },
   {
    "duration": 9,
    "start_time": "2025-05-01T08:00:31.517Z"
   },
   {
    "duration": 88976,
    "start_time": "2025-05-01T08:00:31.528Z"
   },
   {
    "duration": 7433,
    "start_time": "2025-05-01T08:02:00.506Z"
   },
   {
    "duration": 5,
    "start_time": "2025-05-01T08:09:25.279Z"
   },
   {
    "duration": 266,
    "start_time": "2025-05-01T08:10:55.869Z"
   },
   {
    "duration": 19899,
    "start_time": "2025-05-01T08:13:08.332Z"
   },
   {
    "duration": 9137,
    "start_time": "2025-05-01T08:18:50.756Z"
   },
   {
    "duration": 5735,
    "start_time": "2025-05-01T08:23:16.827Z"
   },
   {
    "duration": 3618,
    "start_time": "2025-05-01T08:29:22.782Z"
   },
   {
    "duration": 1550,
    "start_time": "2025-05-01T08:29:43.945Z"
   },
   {
    "duration": 969,
    "start_time": "2025-05-01T08:29:45.497Z"
   },
   {
    "duration": 4,
    "start_time": "2025-05-01T08:29:46.468Z"
   },
   {
    "duration": 1140,
    "start_time": "2025-05-01T08:29:46.473Z"
   },
   {
    "duration": 4,
    "start_time": "2025-05-01T08:29:47.615Z"
   },
   {
    "duration": 49,
    "start_time": "2025-05-01T08:29:47.620Z"
   },
   {
    "duration": 251,
    "start_time": "2025-05-01T08:29:47.671Z"
   },
   {
    "duration": 47,
    "start_time": "2025-05-01T08:29:47.923Z"
   },
   {
    "duration": 432,
    "start_time": "2025-05-01T08:29:47.973Z"
   },
   {
    "duration": 180,
    "start_time": "2025-05-01T08:29:48.407Z"
   },
   {
    "duration": 8987,
    "start_time": "2025-05-01T08:29:48.589Z"
   },
   {
    "duration": 5413,
    "start_time": "2025-05-01T08:29:57.578Z"
   },
   {
    "duration": 3414,
    "start_time": "2025-05-01T08:31:40.330Z"
   },
   {
    "duration": 40,
    "start_time": "2025-05-01T09:17:17.945Z"
   },
   {
    "duration": 6,
    "start_time": "2025-05-01T09:17:29.277Z"
   },
   {
    "duration": 25,
    "start_time": "2025-05-01T09:17:36.427Z"
   },
   {
    "duration": 5,
    "start_time": "2025-05-01T09:24:45.237Z"
   },
   {
    "duration": 134,
    "start_time": "2025-05-01T09:33:15.798Z"
   },
   {
    "duration": 80,
    "start_time": "2025-05-01T09:35:25.242Z"
   },
   {
    "duration": 59,
    "start_time": "2025-05-01T09:35:28.762Z"
   },
   {
    "duration": 3,
    "start_time": "2025-05-01T09:35:30.708Z"
   },
   {
    "duration": 364341,
    "start_time": "2025-05-01T09:38:15.674Z"
   },
   {
    "duration": 11,
    "start_time": "2025-05-01T09:45:18.739Z"
   },
   {
    "duration": 7,
    "start_time": "2025-05-01T09:46:34.595Z"
   },
   {
    "duration": 5,
    "start_time": "2025-05-01T09:46:42.161Z"
   },
   {
    "duration": 524816,
    "start_time": "2025-05-01T09:46:43.778Z"
   },
   {
    "duration": 2440,
    "start_time": "2025-05-01T09:55:28.605Z"
   },
   {
    "duration": 5,
    "start_time": "2025-05-01T09:58:27.754Z"
   },
   {
    "duration": 2368,
    "start_time": "2025-05-01T09:58:53.330Z"
   },
   {
    "duration": 136,
    "start_time": "2025-05-01T10:04:24.634Z"
   },
   {
    "duration": 7,
    "start_time": "2025-05-01T10:04:34.129Z"
   },
   {
    "duration": 22,
    "start_time": "2025-05-01T10:05:15.482Z"
   },
   {
    "duration": 676310,
    "start_time": "2025-05-01T11:05:59.726Z"
   },
   {
    "duration": 1608,
    "start_time": "2025-05-01T11:24:51.228Z"
   },
   {
    "duration": 983,
    "start_time": "2025-05-01T11:24:52.838Z"
   },
   {
    "duration": 4,
    "start_time": "2025-05-01T11:24:53.823Z"
   },
   {
    "duration": 1063,
    "start_time": "2025-05-01T11:24:53.829Z"
   },
   {
    "duration": 12,
    "start_time": "2025-05-01T11:24:54.896Z"
   },
   {
    "duration": 57,
    "start_time": "2025-05-01T11:24:54.910Z"
   },
   {
    "duration": 258,
    "start_time": "2025-05-01T11:24:54.968Z"
   },
   {
    "duration": 55,
    "start_time": "2025-05-01T11:24:55.228Z"
   },
   {
    "duration": 446,
    "start_time": "2025-05-01T11:24:55.285Z"
   },
   {
    "duration": 202,
    "start_time": "2025-05-01T11:24:55.732Z"
   },
   {
    "duration": 9327,
    "start_time": "2025-05-01T11:24:55.936Z"
   },
   {
    "duration": 5801,
    "start_time": "2025-05-01T11:25:05.266Z"
   },
   {
    "duration": 3521,
    "start_time": "2025-05-01T11:25:11.069Z"
   },
   {
    "duration": 85,
    "start_time": "2025-05-01T11:25:14.594Z"
   },
   {
    "duration": 63,
    "start_time": "2025-05-01T11:25:14.680Z"
   },
   {
    "duration": 3,
    "start_time": "2025-05-01T11:25:14.745Z"
   },
   {
    "duration": 50442,
    "start_time": "2025-05-01T11:25:14.750Z"
   },
   {
    "duration": 0,
    "start_time": "2025-05-01T11:26:05.194Z"
   },
   {
    "duration": 0,
    "start_time": "2025-05-01T11:26:05.195Z"
   },
   {
    "duration": 0,
    "start_time": "2025-05-01T11:26:05.196Z"
   },
   {
    "duration": 1610,
    "start_time": "2025-05-01T11:33:09.773Z"
   },
   {
    "duration": 976,
    "start_time": "2025-05-01T11:33:11.385Z"
   },
   {
    "duration": 4,
    "start_time": "2025-05-01T11:33:12.363Z"
   },
   {
    "duration": 1024,
    "start_time": "2025-05-01T11:33:12.369Z"
   },
   {
    "duration": 10,
    "start_time": "2025-05-01T11:33:13.396Z"
   },
   {
    "duration": 58,
    "start_time": "2025-05-01T11:33:13.408Z"
   },
   {
    "duration": 246,
    "start_time": "2025-05-01T11:33:13.467Z"
   },
   {
    "duration": 54,
    "start_time": "2025-05-01T11:33:13.716Z"
   },
   {
    "duration": 454,
    "start_time": "2025-05-01T11:33:13.772Z"
   },
   {
    "duration": 199,
    "start_time": "2025-05-01T11:33:14.228Z"
   },
   {
    "duration": 9124,
    "start_time": "2025-05-01T11:33:14.429Z"
   },
   {
    "duration": 5723,
    "start_time": "2025-05-01T11:33:23.556Z"
   },
   {
    "duration": 3620,
    "start_time": "2025-05-01T11:33:29.282Z"
   },
   {
    "duration": 85,
    "start_time": "2025-05-01T11:33:32.906Z"
   },
   {
    "duration": 60,
    "start_time": "2025-05-01T11:33:33.005Z"
   },
   {
    "duration": 4,
    "start_time": "2025-05-01T11:33:33.067Z"
   },
   {
    "duration": 181,
    "start_time": "2025-05-01T11:33:33.073Z"
   },
   {
    "duration": 0,
    "start_time": "2025-05-01T11:33:33.255Z"
   },
   {
    "duration": 0,
    "start_time": "2025-05-01T11:33:33.257Z"
   },
   {
    "duration": 0,
    "start_time": "2025-05-01T11:33:33.258Z"
   },
   {
    "duration": 1557,
    "start_time": "2025-05-01T11:35:20.526Z"
   },
   {
    "duration": 1013,
    "start_time": "2025-05-01T11:35:22.085Z"
   },
   {
    "duration": 5,
    "start_time": "2025-05-01T11:35:23.100Z"
   },
   {
    "duration": 1021,
    "start_time": "2025-05-01T11:35:23.106Z"
   },
   {
    "duration": 4,
    "start_time": "2025-05-01T11:35:24.130Z"
   },
   {
    "duration": 50,
    "start_time": "2025-05-01T11:35:24.136Z"
   },
   {
    "duration": 253,
    "start_time": "2025-05-01T11:35:24.188Z"
   },
   {
    "duration": 65,
    "start_time": "2025-05-01T11:35:24.443Z"
   },
   {
    "duration": 461,
    "start_time": "2025-05-01T11:35:24.510Z"
   },
   {
    "duration": 225,
    "start_time": "2025-05-01T11:35:24.974Z"
   },
   {
    "duration": 9312,
    "start_time": "2025-05-01T11:35:25.205Z"
   },
   {
    "duration": 5492,
    "start_time": "2025-05-01T11:35:34.519Z"
   },
   {
    "duration": 3481,
    "start_time": "2025-05-01T11:35:40.013Z"
   },
   {
    "duration": 85,
    "start_time": "2025-05-01T11:35:43.498Z"
   },
   {
    "duration": 66,
    "start_time": "2025-05-01T11:35:43.585Z"
   },
   {
    "duration": 4,
    "start_time": "2025-05-01T11:35:43.653Z"
   },
   {
    "duration": 2018,
    "start_time": "2025-05-01T11:35:43.658Z"
   },
   {
    "duration": 0,
    "start_time": "2025-05-01T11:35:45.678Z"
   },
   {
    "duration": 0,
    "start_time": "2025-05-01T11:35:45.679Z"
   },
   {
    "duration": 0,
    "start_time": "2025-05-01T11:35:45.680Z"
   },
   {
    "duration": 1533,
    "start_time": "2025-05-01T11:37:36.251Z"
   },
   {
    "duration": 983,
    "start_time": "2025-05-01T11:37:37.786Z"
   },
   {
    "duration": 4,
    "start_time": "2025-05-01T11:37:38.771Z"
   },
   {
    "duration": 1041,
    "start_time": "2025-05-01T11:37:38.777Z"
   },
   {
    "duration": 5,
    "start_time": "2025-05-01T11:37:39.820Z"
   },
   {
    "duration": 56,
    "start_time": "2025-05-01T11:37:39.826Z"
   },
   {
    "duration": 243,
    "start_time": "2025-05-01T11:37:39.884Z"
   },
   {
    "duration": 49,
    "start_time": "2025-05-01T11:37:40.129Z"
   },
   {
    "duration": 449,
    "start_time": "2025-05-01T11:37:40.180Z"
   },
   {
    "duration": 184,
    "start_time": "2025-05-01T11:37:40.631Z"
   },
   {
    "duration": 9075,
    "start_time": "2025-05-01T11:37:40.818Z"
   },
   {
    "duration": 5457,
    "start_time": "2025-05-01T11:37:49.894Z"
   },
   {
    "duration": 3538,
    "start_time": "2025-05-01T11:37:55.352Z"
   },
   {
    "duration": 84,
    "start_time": "2025-05-01T11:37:58.893Z"
   },
   {
    "duration": 63,
    "start_time": "2025-05-01T11:37:58.979Z"
   },
   {
    "duration": 3,
    "start_time": "2025-05-01T11:37:59.044Z"
   },
   {
    "duration": 746667,
    "start_time": "2025-05-01T11:37:59.049Z"
   },
   {
    "duration": 165,
    "start_time": "2025-05-01T11:50:25.718Z"
   },
   {
    "duration": 0,
    "start_time": "2025-05-01T11:50:25.885Z"
   },
   {
    "duration": 0,
    "start_time": "2025-05-01T11:50:25.887Z"
   },
   {
    "duration": 525702,
    "start_time": "2025-05-01T12:10:25.916Z"
   },
   {
    "duration": 2377,
    "start_time": "2025-05-01T12:19:11.621Z"
   },
   {
    "duration": 66,
    "start_time": "2025-05-01T12:19:14.000Z"
   },
   {
    "duration": 44,
    "start_time": "2025-05-01T13:14:44.453Z"
   },
   {
    "duration": 33,
    "start_time": "2025-05-01T13:15:07.681Z"
   },
   {
    "duration": 7,
    "start_time": "2025-05-01T13:17:19.721Z"
   },
   {
    "duration": 1593,
    "start_time": "2025-05-01T13:25:48.328Z"
   },
   {
    "duration": 967,
    "start_time": "2025-05-01T13:25:49.923Z"
   },
   {
    "duration": 4,
    "start_time": "2025-05-01T13:25:50.892Z"
   },
   {
    "duration": 989,
    "start_time": "2025-05-01T13:25:50.905Z"
   },
   {
    "duration": 9,
    "start_time": "2025-05-01T13:25:51.896Z"
   },
   {
    "duration": 74,
    "start_time": "2025-05-01T13:25:51.907Z"
   },
   {
    "duration": 265,
    "start_time": "2025-05-01T13:25:51.983Z"
   },
   {
    "duration": 62,
    "start_time": "2025-05-01T13:25:52.249Z"
   },
   {
    "duration": 458,
    "start_time": "2025-05-01T13:25:52.313Z"
   },
   {
    "duration": 194,
    "start_time": "2025-05-01T13:25:52.774Z"
   },
   {
    "duration": 9022,
    "start_time": "2025-05-01T13:25:52.970Z"
   },
   {
    "duration": 5472,
    "start_time": "2025-05-01T13:26:02.004Z"
   },
   {
    "duration": 3455,
    "start_time": "2025-05-01T13:26:07.478Z"
   },
   {
    "duration": 97,
    "start_time": "2025-05-01T13:26:10.935Z"
   },
   {
    "duration": 65,
    "start_time": "2025-05-01T13:26:11.033Z"
   },
   {
    "duration": 8,
    "start_time": "2025-05-01T13:26:11.099Z"
   },
   {
    "duration": 16213,
    "start_time": "2025-05-01T13:26:11.108Z"
   },
   {
    "duration": 1577,
    "start_time": "2025-05-01T13:27:43.831Z"
   },
   {
    "duration": 1019,
    "start_time": "2025-05-01T13:27:45.410Z"
   },
   {
    "duration": 4,
    "start_time": "2025-05-01T13:27:46.431Z"
   },
   {
    "duration": 967,
    "start_time": "2025-05-01T13:27:46.436Z"
   },
   {
    "duration": 4,
    "start_time": "2025-05-01T13:27:47.405Z"
   },
   {
    "duration": 57,
    "start_time": "2025-05-01T13:27:47.411Z"
   },
   {
    "duration": 236,
    "start_time": "2025-05-01T13:27:47.470Z"
   },
   {
    "duration": 52,
    "start_time": "2025-05-01T13:27:47.708Z"
   },
   {
    "duration": 459,
    "start_time": "2025-05-01T13:27:47.761Z"
   },
   {
    "duration": 204,
    "start_time": "2025-05-01T13:27:48.222Z"
   },
   {
    "duration": 9069,
    "start_time": "2025-05-01T13:27:48.429Z"
   },
   {
    "duration": 5459,
    "start_time": "2025-05-01T13:27:57.500Z"
   },
   {
    "duration": 3503,
    "start_time": "2025-05-01T13:28:02.961Z"
   },
   {
    "duration": 100,
    "start_time": "2025-05-01T13:28:06.467Z"
   },
   {
    "duration": 72,
    "start_time": "2025-05-01T13:28:06.569Z"
   },
   {
    "duration": 16270,
    "start_time": "2025-05-01T13:28:06.642Z"
   },
   {
    "duration": 517655,
    "start_time": "2025-05-01T13:28:22.914Z"
   },
   {
    "duration": 2361,
    "start_time": "2025-05-01T13:37:00.571Z"
   },
   {
    "duration": 6,
    "start_time": "2025-05-01T13:37:02.934Z"
   },
   {
    "duration": 8561,
    "start_time": "2025-05-01T14:24:18.254Z"
   },
   {
    "duration": 924,
    "start_time": "2025-05-01T14:24:26.818Z"
   },
   {
    "duration": 4,
    "start_time": "2025-05-01T14:24:27.744Z"
   },
   {
    "duration": 883,
    "start_time": "2025-05-01T14:24:27.750Z"
   },
   {
    "duration": 4,
    "start_time": "2025-05-01T14:24:28.635Z"
   },
   {
    "duration": 49,
    "start_time": "2025-05-01T14:24:28.641Z"
   },
   {
    "duration": 215,
    "start_time": "2025-05-01T14:24:28.692Z"
   },
   {
    "duration": 55,
    "start_time": "2025-05-01T14:24:28.909Z"
   },
   {
    "duration": 392,
    "start_time": "2025-05-01T14:24:28.965Z"
   },
   {
    "duration": 183,
    "start_time": "2025-05-01T14:24:29.361Z"
   },
   {
    "duration": 8753,
    "start_time": "2025-05-01T14:24:29.546Z"
   },
   {
    "duration": 37,
    "start_time": "2025-05-01T14:25:54.520Z"
   },
   {
    "duration": 107,
    "start_time": "2025-05-01T14:26:00.584Z"
   },
   {
    "duration": 11,
    "start_time": "2025-05-01T14:26:03.718Z"
   },
   {
    "duration": 33,
    "start_time": "2025-05-01T14:26:31.562Z"
   },
   {
    "duration": 5,
    "start_time": "2025-05-01T15:43:51.186Z"
   },
   {
    "duration": 949,
    "start_time": "2025-05-01T15:43:55.276Z"
   },
   {
    "duration": 4,
    "start_time": "2025-05-01T15:43:56.227Z"
   },
   {
    "duration": 882,
    "start_time": "2025-05-01T15:43:56.296Z"
   },
   {
    "duration": 5,
    "start_time": "2025-05-01T15:44:11.454Z"
   },
   {
    "duration": 55,
    "start_time": "2025-05-01T15:44:11.781Z"
   },
   {
    "duration": 221,
    "start_time": "2025-05-01T15:44:12.684Z"
   },
   {
    "duration": 50,
    "start_time": "2025-05-01T15:44:13.076Z"
   },
   {
    "duration": 424,
    "start_time": "2025-05-01T15:44:13.524Z"
   },
   {
    "duration": 186,
    "start_time": "2025-05-01T15:44:17.480Z"
   },
   {
    "duration": 9119,
    "start_time": "2025-05-01T15:45:10.375Z"
   },
   {
    "duration": 6,
    "start_time": "2025-05-01T15:53:26.974Z"
   },
   {
    "duration": 5,
    "start_time": "2025-05-01T15:53:36.023Z"
   },
   {
    "duration": 274,
    "start_time": "2025-05-01T16:05:38.278Z"
   },
   {
    "duration": 218,
    "start_time": "2025-05-01T16:05:45.921Z"
   },
   {
    "duration": 1851,
    "start_time": "2025-05-01T16:09:40.323Z"
   },
   {
    "duration": 1784,
    "start_time": "2025-05-01T16:09:57.565Z"
   },
   {
    "duration": 210,
    "start_time": "2025-05-01T16:13:44.212Z"
   },
   {
    "duration": 239,
    "start_time": "2025-05-01T16:17:16.387Z"
   },
   {
    "duration": 219,
    "start_time": "2025-05-01T16:19:54.514Z"
   },
   {
    "duration": 239,
    "start_time": "2025-05-01T16:21:44.394Z"
   },
   {
    "duration": 4829,
    "start_time": "2025-05-02T10:40:03.237Z"
   },
   {
    "duration": 1375,
    "start_time": "2025-05-02T10:40:26.912Z"
   },
   {
    "duration": 827,
    "start_time": "2025-05-02T10:40:31.944Z"
   },
   {
    "duration": 4,
    "start_time": "2025-05-02T10:40:32.772Z"
   },
   {
    "duration": 829,
    "start_time": "2025-05-02T10:40:32.795Z"
   },
   {
    "duration": 1497,
    "start_time": "2025-05-02T10:41:21.391Z"
   },
   {
    "duration": 21,
    "start_time": "2025-05-02T10:41:39.903Z"
   },
   {
    "duration": 4,
    "start_time": "2025-05-02T10:50:00.023Z"
   },
   {
    "duration": 19,
    "start_time": "2025-05-02T10:51:37.313Z"
   },
   {
    "duration": 27,
    "start_time": "2025-05-02T10:51:38.512Z"
   },
   {
    "duration": 189,
    "start_time": "2025-05-02T10:51:42.495Z"
   },
   {
    "duration": 49,
    "start_time": "2025-05-02T10:51:44.822Z"
   },
   {
    "duration": 350,
    "start_time": "2025-05-02T10:51:48.742Z"
   },
   {
    "duration": 221,
    "start_time": "2025-05-02T10:51:54.264Z"
   },
   {
    "duration": 8379,
    "start_time": "2025-05-02T10:52:10.823Z"
   },
   {
    "duration": 342,
    "start_time": "2025-05-02T10:53:01.302Z"
   },
   {
    "duration": 7364,
    "start_time": "2025-05-02T10:53:08.071Z"
   },
   {
    "duration": 4162,
    "start_time": "2025-05-02T10:53:15.437Z"
   },
   {
    "duration": 4193,
    "start_time": "2025-05-02T10:56:02.095Z"
   },
   {
    "duration": 33,
    "start_time": "2025-05-02T11:05:47.701Z"
   },
   {
    "duration": 41412,
    "start_time": "2025-05-02T11:06:32.830Z"
   },
   {
    "duration": 1775,
    "start_time": "2025-05-02T11:07:43.072Z"
   },
   {
    "duration": 25,
    "start_time": "2025-05-02T11:12:02.832Z"
   },
   {
    "duration": 5778,
    "start_time": "2025-05-02T11:12:45.935Z"
   },
   {
    "duration": 1752,
    "start_time": "2025-05-02T13:48:02.713Z"
   },
   {
    "duration": 3168,
    "start_time": "2025-05-02T13:48:34.993Z"
   },
   {
    "duration": 1545,
    "start_time": "2025-05-02T13:49:03.720Z"
   },
   {
    "duration": 819,
    "start_time": "2025-05-02T13:49:08.405Z"
   },
   {
    "duration": 3,
    "start_time": "2025-05-02T13:49:09.227Z"
   },
   {
    "duration": 873,
    "start_time": "2025-05-02T13:49:09.231Z"
   },
   {
    "duration": 4,
    "start_time": "2025-05-02T13:49:14.948Z"
   },
   {
    "duration": 19,
    "start_time": "2025-05-02T13:49:15.247Z"
   },
   {
    "duration": 45,
    "start_time": "2025-05-02T13:49:15.578Z"
   },
   {
    "duration": 199,
    "start_time": "2025-05-02T13:49:16.300Z"
   },
   {
    "duration": 46,
    "start_time": "2025-05-02T13:49:19.591Z"
   },
   {
    "duration": 361,
    "start_time": "2025-05-02T13:49:19.993Z"
   },
   {
    "duration": 170,
    "start_time": "2025-05-02T13:49:20.695Z"
   },
   {
    "duration": 8163,
    "start_time": "2025-05-02T13:49:25.067Z"
   },
   {
    "duration": 331,
    "start_time": "2025-05-02T13:49:33.232Z"
   },
   {
    "duration": 36,
    "start_time": "2025-05-02T13:49:33.565Z"
   },
   {
    "duration": 4193,
    "start_time": "2025-05-02T13:49:59.567Z"
   },
   {
    "duration": 107,
    "start_time": "2025-05-02T14:17:33.187Z"
   },
   {
    "duration": 9,
    "start_time": "2025-05-02T14:38:03.297Z"
   },
   {
    "duration": 261,
    "start_time": "2025-05-02T14:38:06.438Z"
   },
   {
    "duration": 3,
    "start_time": "2025-05-02T14:38:08.068Z"
   },
   {
    "duration": 14,
    "start_time": "2025-05-02T14:38:10.907Z"
   },
   {
    "duration": 129,
    "start_time": "2025-05-02T14:39:09.784Z"
   },
   {
    "duration": 621,
    "start_time": "2025-05-02T14:58:11.319Z"
   },
   {
    "duration": 4,
    "start_time": "2025-05-02T15:13:32.993Z"
   },
   {
    "duration": 310709,
    "start_time": "2025-05-02T16:23:47.455Z"
   },
   {
    "duration": 5465,
    "start_time": "2025-05-03T09:10:37.290Z"
   },
   {
    "duration": 1597,
    "start_time": "2025-05-03T09:10:56.399Z"
   },
   {
    "duration": 981,
    "start_time": "2025-05-03T09:10:58.232Z"
   },
   {
    "duration": 4,
    "start_time": "2025-05-03T09:10:59.215Z"
   },
   {
    "duration": 1041,
    "start_time": "2025-05-03T09:10:59.221Z"
   },
   {
    "duration": 4,
    "start_time": "2025-05-03T09:11:00.265Z"
   },
   {
    "duration": 21,
    "start_time": "2025-05-03T09:11:00.509Z"
   },
   {
    "duration": 56,
    "start_time": "2025-05-03T09:11:00.673Z"
   },
   {
    "duration": 220,
    "start_time": "2025-05-03T09:11:01.068Z"
   },
   {
    "duration": 56,
    "start_time": "2025-05-03T09:11:01.625Z"
   },
   {
    "duration": 414,
    "start_time": "2025-05-03T09:11:02.229Z"
   },
   {
    "duration": 185,
    "start_time": "2025-05-03T09:11:03.031Z"
   },
   {
    "duration": 8693,
    "start_time": "2025-05-03T09:11:06.643Z"
   },
   {
    "duration": 360,
    "start_time": "2025-05-03T09:11:15.338Z"
   },
   {
    "duration": 42,
    "start_time": "2025-05-03T09:11:15.700Z"
   },
   {
    "duration": 4624,
    "start_time": "2025-05-03T09:11:15.745Z"
   },
   {
    "duration": 269,
    "start_time": "2025-05-03T09:11:44.076Z"
   },
   {
    "duration": 129,
    "start_time": "2025-05-03T09:32:03.236Z"
   },
   {
    "duration": 7,
    "start_time": "2025-05-03T09:32:34.353Z"
   },
   {
    "duration": 41350,
    "start_time": "2025-05-03T09:32:44.188Z"
   },
   {
    "duration": 18,
    "start_time": "2025-05-03T10:22:55.196Z"
   },
   {
    "duration": 1587,
    "start_time": "2025-05-03T10:24:05.954Z"
   },
   {
    "duration": 998,
    "start_time": "2025-05-03T10:24:07.544Z"
   },
   {
    "duration": 4,
    "start_time": "2025-05-03T10:24:08.543Z"
   },
   {
    "duration": 992,
    "start_time": "2025-05-03T10:24:08.548Z"
   },
   {
    "duration": 4,
    "start_time": "2025-05-03T10:24:09.542Z"
   },
   {
    "duration": 27,
    "start_time": "2025-05-03T10:24:09.548Z"
   },
   {
    "duration": 60,
    "start_time": "2025-05-03T10:24:09.576Z"
   },
   {
    "duration": 247,
    "start_time": "2025-05-03T10:24:09.638Z"
   },
   {
    "duration": 60,
    "start_time": "2025-05-03T10:24:09.887Z"
   },
   {
    "duration": 412,
    "start_time": "2025-05-03T10:24:09.949Z"
   },
   {
    "duration": 196,
    "start_time": "2025-05-03T10:24:10.362Z"
   },
   {
    "duration": 8901,
    "start_time": "2025-05-03T10:24:10.559Z"
   },
   {
    "duration": 349,
    "start_time": "2025-05-03T10:24:19.462Z"
   },
   {
    "duration": 41,
    "start_time": "2025-05-03T10:24:19.814Z"
   },
   {
    "duration": 4368,
    "start_time": "2025-05-03T10:24:19.857Z"
   },
   {
    "duration": 258,
    "start_time": "2025-05-03T10:24:24.228Z"
   },
   {
    "duration": 158,
    "start_time": "2025-05-03T10:24:24.488Z"
   },
   {
    "duration": 228188,
    "start_time": "2025-05-03T10:24:24.648Z"
   },
   {
    "duration": 41392,
    "start_time": "2025-05-03T10:28:12.839Z"
   },
   {
    "duration": 138,
    "start_time": "2025-05-03T10:28:54.233Z"
   },
   {
    "duration": 0,
    "start_time": "2025-05-03T10:28:54.372Z"
   },
   {
    "duration": 9,
    "start_time": "2025-05-03T10:36:39.761Z"
   },
   {
    "duration": 23,
    "start_time": "2025-05-03T10:37:06.745Z"
   },
   {
    "duration": 9,
    "start_time": "2025-05-03T10:37:53.604Z"
   },
   {
    "duration": 519253,
    "start_time": "2025-05-03T10:38:05.824Z"
   },
   {
    "duration": 10312,
    "start_time": "2025-05-03T10:50:18.064Z"
   },
   {
    "duration": 1626,
    "start_time": "2025-05-03T10:54:20.810Z"
   },
   {
    "duration": 989,
    "start_time": "2025-05-03T10:54:22.437Z"
   },
   {
    "duration": 3,
    "start_time": "2025-05-03T10:54:23.431Z"
   },
   {
    "duration": 1048,
    "start_time": "2025-05-03T10:54:23.437Z"
   },
   {
    "duration": 5,
    "start_time": "2025-05-03T10:54:24.487Z"
   },
   {
    "duration": 37,
    "start_time": "2025-05-03T10:54:24.503Z"
   },
   {
    "duration": 52,
    "start_time": "2025-05-03T10:54:24.542Z"
   },
   {
    "duration": 242,
    "start_time": "2025-05-03T10:54:24.596Z"
   },
   {
    "duration": 70,
    "start_time": "2025-05-03T10:54:24.841Z"
   },
   {
    "duration": 429,
    "start_time": "2025-05-03T10:54:24.913Z"
   },
   {
    "duration": 214,
    "start_time": "2025-05-03T10:54:25.344Z"
   },
   {
    "duration": 9358,
    "start_time": "2025-05-03T10:54:25.561Z"
   },
   {
    "duration": 382,
    "start_time": "2025-05-03T10:54:34.922Z"
   },
   {
    "duration": 42,
    "start_time": "2025-05-03T10:54:35.306Z"
   },
   {
    "duration": 4979,
    "start_time": "2025-05-03T10:54:35.350Z"
   },
   {
    "duration": 249,
    "start_time": "2025-05-03T10:54:40.331Z"
   },
   {
    "duration": 154,
    "start_time": "2025-05-03T10:54:40.582Z"
   },
   {
    "duration": 1660,
    "start_time": "2025-05-03T11:01:40.365Z"
   },
   {
    "duration": 1057,
    "start_time": "2025-05-03T11:01:42.027Z"
   },
   {
    "duration": 4,
    "start_time": "2025-05-03T11:01:43.086Z"
   },
   {
    "duration": 1077,
    "start_time": "2025-05-03T11:01:43.103Z"
   },
   {
    "duration": 5,
    "start_time": "2025-05-03T11:01:44.183Z"
   },
   {
    "duration": 49,
    "start_time": "2025-05-03T11:01:44.190Z"
   },
   {
    "duration": 55,
    "start_time": "2025-05-03T11:01:44.241Z"
   },
   {
    "duration": 274,
    "start_time": "2025-05-03T11:01:44.298Z"
   },
   {
    "duration": 72,
    "start_time": "2025-05-03T11:01:44.574Z"
   },
   {
    "duration": 485,
    "start_time": "2025-05-03T11:01:44.649Z"
   },
   {
    "duration": 226,
    "start_time": "2025-05-03T11:01:45.136Z"
   },
   {
    "duration": 9883,
    "start_time": "2025-05-03T11:01:45.364Z"
   },
   {
    "duration": 418,
    "start_time": "2025-05-03T11:01:55.248Z"
   },
   {
    "duration": 57,
    "start_time": "2025-05-03T11:01:55.669Z"
   },
   {
    "duration": 5361,
    "start_time": "2025-05-03T11:01:55.728Z"
   },
   {
    "duration": 283,
    "start_time": "2025-05-03T11:02:01.090Z"
   },
   {
    "duration": 175,
    "start_time": "2025-05-03T11:02:01.375Z"
   },
   {
    "duration": 1681,
    "start_time": "2025-05-03T11:27:59.175Z"
   },
   {
    "duration": 1080,
    "start_time": "2025-05-03T11:28:00.858Z"
   },
   {
    "duration": 4,
    "start_time": "2025-05-03T11:28:01.940Z"
   },
   {
    "duration": 1270,
    "start_time": "2025-05-03T11:28:01.947Z"
   },
   {
    "duration": 6,
    "start_time": "2025-05-03T11:28:03.222Z"
   },
   {
    "duration": 49,
    "start_time": "2025-05-03T11:28:03.230Z"
   },
   {
    "duration": 133,
    "start_time": "2025-05-03T11:28:03.281Z"
   },
   {
    "duration": 261,
    "start_time": "2025-05-03T11:28:03.416Z"
   },
   {
    "duration": 74,
    "start_time": "2025-05-03T11:28:03.678Z"
   },
   {
    "duration": 531,
    "start_time": "2025-05-03T11:28:03.754Z"
   },
   {
    "duration": 205,
    "start_time": "2025-05-03T11:28:04.287Z"
   },
   {
    "duration": 9892,
    "start_time": "2025-05-03T11:28:04.495Z"
   },
   {
    "duration": 361,
    "start_time": "2025-05-03T11:28:14.388Z"
   },
   {
    "duration": 54,
    "start_time": "2025-05-03T11:28:14.752Z"
   },
   {
    "duration": 4737,
    "start_time": "2025-05-03T11:28:14.808Z"
   },
   {
    "duration": 263,
    "start_time": "2025-05-03T11:28:19.547Z"
   },
   {
    "duration": 161,
    "start_time": "2025-05-03T11:28:19.813Z"
   },
   {
    "duration": 1583,
    "start_time": "2025-05-03T11:43:53.431Z"
   },
   {
    "duration": 1096,
    "start_time": "2025-05-03T11:43:55.017Z"
   },
   {
    "duration": 4,
    "start_time": "2025-05-03T11:43:56.116Z"
   },
   {
    "duration": 1139,
    "start_time": "2025-05-03T11:43:56.122Z"
   },
   {
    "duration": 5,
    "start_time": "2025-05-03T11:43:57.264Z"
   },
   {
    "duration": 110,
    "start_time": "2025-05-03T11:43:57.270Z"
   },
   {
    "duration": 65,
    "start_time": "2025-05-03T11:43:57.382Z"
   },
   {
    "duration": 293,
    "start_time": "2025-05-03T11:43:57.449Z"
   },
   {
    "duration": 75,
    "start_time": "2025-05-03T11:43:57.744Z"
   },
   {
    "duration": 428,
    "start_time": "2025-05-03T11:43:57.821Z"
   },
   {
    "duration": 233,
    "start_time": "2025-05-03T11:43:58.251Z"
   },
   {
    "duration": 10402,
    "start_time": "2025-05-03T11:43:58.486Z"
   },
   {
    "duration": 410,
    "start_time": "2025-05-03T11:44:08.890Z"
   },
   {
    "duration": 47,
    "start_time": "2025-05-03T11:44:09.305Z"
   },
   {
    "duration": 5251,
    "start_time": "2025-05-03T11:44:09.354Z"
   },
   {
    "duration": 283,
    "start_time": "2025-05-03T11:44:14.609Z"
   },
   {
    "duration": 184,
    "start_time": "2025-05-03T11:44:14.894Z"
   },
   {
    "duration": 536688,
    "start_time": "2025-05-03T11:44:15.080Z"
   },
   {
    "duration": 0,
    "start_time": "2025-05-03T11:53:11.769Z"
   },
   {
    "duration": 0,
    "start_time": "2025-05-03T11:53:11.772Z"
   },
   {
    "duration": 0,
    "start_time": "2025-05-03T11:53:11.774Z"
   },
   {
    "duration": 31168,
    "start_time": "2025-05-03T11:58:07.538Z"
   },
   {
    "duration": 0,
    "start_time": "2025-05-03T11:58:38.709Z"
   },
   {
    "duration": 0,
    "start_time": "2025-05-03T11:58:38.711Z"
   },
   {
    "duration": 0,
    "start_time": "2025-05-03T11:58:38.712Z"
   },
   {
    "duration": 1815,
    "start_time": "2025-05-03T11:59:06.591Z"
   },
   {
    "duration": 1039,
    "start_time": "2025-05-03T11:59:08.409Z"
   },
   {
    "duration": 5,
    "start_time": "2025-05-03T11:59:09.450Z"
   },
   {
    "duration": 1113,
    "start_time": "2025-05-03T11:59:09.456Z"
   },
   {
    "duration": 6,
    "start_time": "2025-05-03T11:59:10.572Z"
   },
   {
    "duration": 44,
    "start_time": "2025-05-03T11:59:10.580Z"
   },
   {
    "duration": 75,
    "start_time": "2025-05-03T11:59:10.626Z"
   },
   {
    "duration": 247,
    "start_time": "2025-05-03T11:59:10.703Z"
   },
   {
    "duration": 73,
    "start_time": "2025-05-03T11:59:10.952Z"
   },
   {
    "duration": 459,
    "start_time": "2025-05-03T11:59:11.028Z"
   },
   {
    "duration": 227,
    "start_time": "2025-05-03T11:59:11.489Z"
   },
   {
    "duration": 9633,
    "start_time": "2025-05-03T11:59:11.719Z"
   },
   {
    "duration": 410,
    "start_time": "2025-05-03T11:59:21.355Z"
   },
   {
    "duration": 58,
    "start_time": "2025-05-03T11:59:21.769Z"
   },
   {
    "duration": 4859,
    "start_time": "2025-05-03T11:59:21.830Z"
   },
   {
    "duration": 272,
    "start_time": "2025-05-03T11:59:26.691Z"
   },
   {
    "duration": 171,
    "start_time": "2025-05-03T11:59:26.966Z"
   },
   {
    "duration": 1234519,
    "start_time": "2025-05-03T11:59:27.139Z"
   },
   {
    "duration": 0,
    "start_time": "2025-05-03T12:20:01.660Z"
   },
   {
    "duration": 0,
    "start_time": "2025-05-03T12:20:01.661Z"
   },
   {
    "duration": 0,
    "start_time": "2025-05-03T12:20:01.663Z"
   },
   {
    "duration": 0,
    "start_time": "2025-05-03T12:20:01.664Z"
   },
   {
    "duration": 0,
    "start_time": "2025-05-03T12:20:01.666Z"
   },
   {
    "duration": 8,
    "start_time": "2025-05-03T12:20:04.622Z"
   },
   {
    "duration": 41977,
    "start_time": "2025-05-03T12:20:07.479Z"
   },
   {
    "duration": 17,
    "start_time": "2025-05-03T12:21:12.084Z"
   },
   {
    "duration": 9315804,
    "start_time": "2025-05-03T12:21:20.313Z"
   },
   {
    "duration": 18052,
    "start_time": "2025-05-03T14:56:36.119Z"
   },
   {
    "duration": 4,
    "start_time": "2025-05-03T15:02:35.101Z"
   },
   {
    "duration": 4669,
    "start_time": "2025-05-03T15:02:37.512Z"
   },
   {
    "duration": 1793,
    "start_time": "2025-05-03T15:05:02.570Z"
   },
   {
    "duration": 1122,
    "start_time": "2025-05-03T15:05:04.365Z"
   },
   {
    "duration": 4,
    "start_time": "2025-05-03T15:05:05.489Z"
   },
   {
    "duration": 1110,
    "start_time": "2025-05-03T15:05:05.495Z"
   },
   {
    "duration": 5,
    "start_time": "2025-05-03T15:05:06.607Z"
   },
   {
    "duration": 65,
    "start_time": "2025-05-03T15:05:06.614Z"
   },
   {
    "duration": 95,
    "start_time": "2025-05-03T15:05:06.682Z"
   },
   {
    "duration": 247,
    "start_time": "2025-05-03T15:05:06.779Z"
   },
   {
    "duration": 79,
    "start_time": "2025-05-03T15:05:07.029Z"
   },
   {
    "duration": 454,
    "start_time": "2025-05-03T15:05:07.110Z"
   },
   {
    "duration": 220,
    "start_time": "2025-05-03T15:05:07.566Z"
   },
   {
    "duration": 9379,
    "start_time": "2025-05-03T15:05:07.789Z"
   },
   {
    "duration": 439,
    "start_time": "2025-05-03T15:05:17.170Z"
   },
   {
    "duration": 44,
    "start_time": "2025-05-03T15:05:17.613Z"
   },
   {
    "duration": 4946,
    "start_time": "2025-05-03T15:05:17.659Z"
   },
   {
    "duration": 268,
    "start_time": "2025-05-03T15:05:22.608Z"
   },
   {
    "duration": 155,
    "start_time": "2025-05-03T15:05:22.877Z"
   },
   {
    "duration": 76530,
    "start_time": "2025-05-03T15:05:23.034Z"
   },
   {
    "duration": 0,
    "start_time": "2025-05-03T15:06:39.567Z"
   },
   {
    "duration": 0,
    "start_time": "2025-05-03T15:06:39.568Z"
   },
   {
    "duration": 0,
    "start_time": "2025-05-03T15:06:39.569Z"
   },
   {
    "duration": 0,
    "start_time": "2025-05-03T15:06:39.570Z"
   },
   {
    "duration": 5721,
    "start_time": "2025-05-04T08:25:17.991Z"
   },
   {
    "duration": 1671,
    "start_time": "2025-05-04T08:25:59.907Z"
   },
   {
    "duration": 1019,
    "start_time": "2025-05-04T08:26:04.423Z"
   },
   {
    "duration": 4,
    "start_time": "2025-05-04T08:26:05.445Z"
   },
   {
    "duration": 1130,
    "start_time": "2025-05-04T08:26:05.451Z"
   },
   {
    "duration": 4,
    "start_time": "2025-05-04T08:26:12.894Z"
   },
   {
    "duration": 19,
    "start_time": "2025-05-04T08:26:13.374Z"
   },
   {
    "duration": 49,
    "start_time": "2025-05-04T08:26:13.807Z"
   },
   {
    "duration": 241,
    "start_time": "2025-05-04T08:26:15.818Z"
   },
   {
    "duration": 57,
    "start_time": "2025-05-04T08:26:16.188Z"
   },
   {
    "duration": 474,
    "start_time": "2025-05-04T08:26:16.665Z"
   },
   {
    "duration": 188,
    "start_time": "2025-05-04T08:26:19.566Z"
   },
   {
    "duration": 9525,
    "start_time": "2025-05-04T08:26:31.107Z"
   },
   {
    "duration": 392,
    "start_time": "2025-05-04T08:27:45.857Z"
   },
   {
    "duration": 42,
    "start_time": "2025-05-04T08:31:08.192Z"
   },
   {
    "duration": 1976,
    "start_time": "2025-05-04T11:50:31.027Z"
   },
   {
    "duration": 3920,
    "start_time": "2025-05-04T11:50:37.251Z"
   },
   {
    "duration": 4591,
    "start_time": "2025-05-04T11:50:48.671Z"
   },
   {
    "duration": 1108,
    "start_time": "2025-05-04T11:51:01.139Z"
   },
   {
    "duration": 11,
    "start_time": "2025-05-04T11:51:02.249Z"
   },
   {
    "duration": 1131,
    "start_time": "2025-05-04T11:51:02.920Z"
   },
   {
    "duration": 5,
    "start_time": "2025-05-04T11:51:07.610Z"
   },
   {
    "duration": 20,
    "start_time": "2025-05-04T11:51:07.903Z"
   },
   {
    "duration": 51,
    "start_time": "2025-05-04T11:51:08.191Z"
   },
   {
    "duration": 270,
    "start_time": "2025-05-04T11:51:08.863Z"
   },
   {
    "duration": 59,
    "start_time": "2025-05-04T11:51:09.244Z"
   },
   {
    "duration": 416,
    "start_time": "2025-05-04T11:51:09.524Z"
   },
   {
    "duration": 213,
    "start_time": "2025-05-04T11:51:10.246Z"
   },
   {
    "duration": 9885,
    "start_time": "2025-05-04T11:51:12.122Z"
   },
   {
    "duration": 420,
    "start_time": "2025-05-04T11:51:22.009Z"
   },
   {
    "duration": 52,
    "start_time": "2025-05-04T11:51:22.430Z"
   },
   {
    "duration": 5093,
    "start_time": "2025-05-04T11:51:22.485Z"
   },
   {
    "duration": 290,
    "start_time": "2025-05-04T11:55:04.185Z"
   },
   {
    "duration": 154,
    "start_time": "2025-05-04T11:55:08.503Z"
   },
   {
    "duration": 9982,
    "start_time": "2025-05-04T11:55:20.208Z"
   },
   {
    "duration": 162,
    "start_time": "2025-05-04T12:20:02.419Z"
   },
   {
    "duration": 6,
    "start_time": "2025-05-04T12:20:57.451Z"
   },
   {
    "duration": 4,
    "start_time": "2025-05-04T12:30:32.007Z"
   },
   {
    "duration": 5,
    "start_time": "2025-05-04T12:30:40.404Z"
   },
   {
    "duration": 35000,
    "start_time": "2025-05-04T12:31:06.139Z"
   },
   {
    "duration": 7663,
    "start_time": "2025-05-04T12:34:04.289Z"
   },
   {
    "duration": 1542,
    "start_time": "2025-05-04T12:34:31.527Z"
   },
   {
    "duration": 1218,
    "start_time": "2025-05-04T12:34:36.202Z"
   },
   {
    "duration": 4,
    "start_time": "2025-05-04T12:34:37.422Z"
   },
   {
    "duration": 1199,
    "start_time": "2025-05-04T12:34:37.428Z"
   },
   {
    "duration": 4,
    "start_time": "2025-05-04T12:34:38.629Z"
   },
   {
    "duration": 49,
    "start_time": "2025-05-04T12:34:38.635Z"
   },
   {
    "duration": 55,
    "start_time": "2025-05-04T12:34:38.688Z"
   },
   {
    "duration": 304,
    "start_time": "2025-05-04T12:34:38.745Z"
   },
   {
    "duration": 91,
    "start_time": "2025-05-04T12:34:39.052Z"
   },
   {
    "duration": 510,
    "start_time": "2025-05-04T12:34:39.145Z"
   },
   {
    "duration": 246,
    "start_time": "2025-05-04T12:34:39.662Z"
   },
   {
    "duration": 10497,
    "start_time": "2025-05-04T12:34:40.040Z"
   },
   {
    "duration": 291,
    "start_time": "2025-05-04T12:34:50.539Z"
   },
   {
    "duration": 53,
    "start_time": "2025-05-04T12:34:50.832Z"
   },
   {
    "duration": 5561,
    "start_time": "2025-05-04T12:34:50.888Z"
   },
   {
    "duration": 304,
    "start_time": "2025-05-04T12:35:20.747Z"
   },
   {
    "duration": 167,
    "start_time": "2025-05-04T12:35:22.855Z"
   },
   {
    "duration": 10014,
    "start_time": "2025-05-04T12:35:27.037Z"
   },
   {
    "duration": 15,
    "start_time": "2025-05-04T12:35:37.068Z"
   },
   {
    "duration": 4,
    "start_time": "2025-05-04T12:35:40.446Z"
   },
   {
    "duration": 44052,
    "start_time": "2025-05-04T12:35:45.377Z"
   },
   {
    "duration": 43110,
    "start_time": "2025-05-04T12:42:26.719Z"
   },
   {
    "duration": 45108,
    "start_time": "2025-05-04T12:45:08.761Z"
   },
   {
    "duration": 1483,
    "start_time": "2025-05-04T12:51:19.813Z"
   },
   {
    "duration": 1119,
    "start_time": "2025-05-04T12:51:21.298Z"
   },
   {
    "duration": 4,
    "start_time": "2025-05-04T12:51:22.420Z"
   },
   {
    "duration": 1174,
    "start_time": "2025-05-04T12:51:22.426Z"
   },
   {
    "duration": 5,
    "start_time": "2025-05-04T12:51:23.602Z"
   },
   {
    "duration": 21,
    "start_time": "2025-05-04T12:51:23.609Z"
   },
   {
    "duration": 80,
    "start_time": "2025-05-04T12:51:23.633Z"
   },
   {
    "duration": 282,
    "start_time": "2025-05-04T12:51:23.715Z"
   },
   {
    "duration": 74,
    "start_time": "2025-05-04T12:51:23.999Z"
   },
   {
    "duration": 466,
    "start_time": "2025-05-04T12:51:24.077Z"
   },
   {
    "duration": 238,
    "start_time": "2025-05-04T12:51:24.545Z"
   },
   {
    "duration": 10049,
    "start_time": "2025-05-04T12:51:24.787Z"
   },
   {
    "duration": 294,
    "start_time": "2025-05-04T12:51:34.838Z"
   },
   {
    "duration": 50,
    "start_time": "2025-05-04T12:51:35.134Z"
   },
   {
    "duration": 5536,
    "start_time": "2025-05-04T12:51:35.189Z"
   },
   {
    "duration": 298,
    "start_time": "2025-05-04T12:51:40.727Z"
   },
   {
    "duration": 177,
    "start_time": "2025-05-04T12:51:41.027Z"
   },
   {
    "duration": 7880,
    "start_time": "2025-05-04T12:51:41.206Z"
   },
   {
    "duration": 12,
    "start_time": "2025-05-04T12:51:49.089Z"
   },
   {
    "duration": 7,
    "start_time": "2025-05-04T12:51:49.103Z"
   },
   {
    "duration": 45722,
    "start_time": "2025-05-04T12:51:49.112Z"
   },
   {
    "duration": 6293,
    "start_time": "2025-05-04T17:39:21.695Z"
   },
   {
    "duration": 0,
    "start_time": "2025-05-04T17:39:27.991Z"
   },
   {
    "duration": 0,
    "start_time": "2025-05-04T17:39:27.993Z"
   },
   {
    "duration": 0,
    "start_time": "2025-05-04T17:39:27.995Z"
   },
   {
    "duration": 0,
    "start_time": "2025-05-04T17:39:27.996Z"
   },
   {
    "duration": 0,
    "start_time": "2025-05-04T17:39:27.998Z"
   },
   {
    "duration": 0,
    "start_time": "2025-05-04T17:39:28.000Z"
   },
   {
    "duration": 0,
    "start_time": "2025-05-04T17:39:28.001Z"
   },
   {
    "duration": 0,
    "start_time": "2025-05-04T17:39:28.003Z"
   },
   {
    "duration": 0,
    "start_time": "2025-05-04T17:39:28.004Z"
   },
   {
    "duration": 0,
    "start_time": "2025-05-04T17:39:28.006Z"
   },
   {
    "duration": 0,
    "start_time": "2025-05-04T17:39:28.007Z"
   },
   {
    "duration": 0,
    "start_time": "2025-05-04T17:39:28.009Z"
   },
   {
    "duration": 10,
    "start_time": "2025-05-04T18:14:07.735Z"
   },
   {
    "duration": 27,
    "start_time": "2025-05-04T18:14:14.448Z"
   },
   {
    "duration": 5,
    "start_time": "2025-05-04T18:14:15.816Z"
   },
   {
    "duration": 1127,
    "start_time": "2025-05-04T18:14:17.597Z"
   },
   {
    "duration": 4,
    "start_time": "2025-05-04T18:14:18.726Z"
   },
   {
    "duration": 993,
    "start_time": "2025-05-04T18:14:18.731Z"
   },
   {
    "duration": 4,
    "start_time": "2025-05-04T18:14:19.726Z"
   },
   {
    "duration": 31,
    "start_time": "2025-05-04T18:14:19.731Z"
   },
   {
    "duration": 213,
    "start_time": "2025-05-04T18:14:19.771Z"
   },
   {
    "duration": 221,
    "start_time": "2025-05-04T18:14:20.223Z"
   },
   {
    "duration": 65,
    "start_time": "2025-05-04T18:14:20.446Z"
   },
   {
    "duration": 417,
    "start_time": "2025-05-04T18:14:20.628Z"
   },
   {
    "duration": 195,
    "start_time": "2025-05-04T18:14:22.925Z"
   },
   {
    "duration": 9246,
    "start_time": "2025-05-04T18:14:23.475Z"
   },
   {
    "duration": 366,
    "start_time": "2025-05-04T18:14:32.723Z"
   },
   {
    "duration": 28,
    "start_time": "2025-05-04T18:14:33.092Z"
   },
   {
    "duration": 69,
    "start_time": "2025-05-04T18:14:34.068Z"
   },
   {
    "duration": 26,
    "start_time": "2025-05-04T18:14:36.655Z"
   },
   {
    "duration": 68,
    "start_time": "2025-05-04T18:14:37.720Z"
   },
   {
    "duration": 122,
    "start_time": "2025-05-05T09:22:10.033Z"
   },
   {
    "duration": 11384,
    "start_time": "2025-05-05T09:44:07.574Z"
   },
   {
    "duration": 1269,
    "start_time": "2025-05-05T09:44:38.108Z"
   },
   {
    "duration": 866,
    "start_time": "2025-05-05T09:44:39.379Z"
   },
   {
    "duration": 4,
    "start_time": "2025-05-05T09:44:40.247Z"
   },
   {
    "duration": 876,
    "start_time": "2025-05-05T09:44:40.253Z"
   },
   {
    "duration": 4,
    "start_time": "2025-05-05T09:44:41.135Z"
   },
   {
    "duration": 21,
    "start_time": "2025-05-05T09:44:41.140Z"
   },
   {
    "duration": 47,
    "start_time": "2025-05-05T09:44:41.163Z"
   },
   {
    "duration": 224,
    "start_time": "2025-05-05T09:44:41.211Z"
   },
   {
    "duration": 48,
    "start_time": "2025-05-05T09:44:41.437Z"
   },
   {
    "duration": 385,
    "start_time": "2025-05-05T09:44:41.487Z"
   },
   {
    "duration": 177,
    "start_time": "2025-05-05T09:44:41.874Z"
   },
   {
    "duration": 8481,
    "start_time": "2025-05-05T09:44:42.054Z"
   },
   {
    "duration": 241,
    "start_time": "2025-05-05T09:44:50.537Z"
   },
   {
    "duration": 35,
    "start_time": "2025-05-05T09:44:50.781Z"
   },
   {
    "duration": 4198,
    "start_time": "2025-05-05T09:44:50.818Z"
   },
   {
    "duration": 224,
    "start_time": "2025-05-05T09:44:55.018Z"
   },
   {
    "duration": 126,
    "start_time": "2025-05-05T09:44:55.244Z"
   },
   {
    "duration": 5721,
    "start_time": "2025-05-05T09:44:55.372Z"
   },
   {
    "duration": 5,
    "start_time": "2025-05-05T09:45:01.094Z"
   },
   {
    "duration": 33,
    "start_time": "2025-05-05T09:45:01.100Z"
   },
   {
    "duration": 25703,
    "start_time": "2025-05-05T09:45:01.134Z"
   },
   {
    "duration": 25526,
    "start_time": "2025-05-05T09:47:23.851Z"
   },
   {
    "duration": 5,
    "start_time": "2025-05-05T09:50:19.556Z"
   },
   {
    "duration": 31619,
    "start_time": "2025-05-05T09:50:24.011Z"
   },
   {
    "duration": 31138,
    "start_time": "2025-05-05T09:52:09.637Z"
   },
   {
    "duration": 5,
    "start_time": "2025-05-05T09:53:15.931Z"
   },
   {
    "duration": 26113,
    "start_time": "2025-05-05T09:53:19.212Z"
   },
   {
    "duration": 1360,
    "start_time": "2025-05-05T09:55:01.818Z"
   },
   {
    "duration": 893,
    "start_time": "2025-05-05T09:55:03.180Z"
   },
   {
    "duration": 5,
    "start_time": "2025-05-05T09:55:04.075Z"
   },
   {
    "duration": 924,
    "start_time": "2025-05-05T09:55:04.082Z"
   },
   {
    "duration": 3,
    "start_time": "2025-05-05T09:55:05.008Z"
   },
   {
    "duration": 30,
    "start_time": "2025-05-05T09:55:05.012Z"
   },
   {
    "duration": 39,
    "start_time": "2025-05-05T09:55:05.044Z"
   },
   {
    "duration": 217,
    "start_time": "2025-05-05T09:55:05.085Z"
   },
   {
    "duration": 53,
    "start_time": "2025-05-05T09:55:05.303Z"
   },
   {
    "duration": 390,
    "start_time": "2025-05-05T09:55:05.359Z"
   },
   {
    "duration": 184,
    "start_time": "2025-05-05T09:55:05.751Z"
   },
   {
    "duration": 8406,
    "start_time": "2025-05-05T09:55:05.937Z"
   },
   {
    "duration": 226,
    "start_time": "2025-05-05T09:55:14.344Z"
   },
   {
    "duration": 34,
    "start_time": "2025-05-05T09:55:14.572Z"
   },
   {
    "duration": 4164,
    "start_time": "2025-05-05T09:55:14.608Z"
   },
   {
    "duration": 229,
    "start_time": "2025-05-05T09:55:18.774Z"
   },
   {
    "duration": 120,
    "start_time": "2025-05-05T09:55:19.005Z"
   },
   {
    "duration": 5856,
    "start_time": "2025-05-05T09:55:19.127Z"
   },
   {
    "duration": 5,
    "start_time": "2025-05-05T09:55:24.985Z"
   },
   {
    "duration": 12,
    "start_time": "2025-05-05T09:55:24.991Z"
   },
   {
    "duration": 26109,
    "start_time": "2025-05-05T09:55:25.005Z"
   },
   {
    "duration": 5,
    "start_time": "2025-05-05T09:56:24.282Z"
   },
   {
    "duration": 34065,
    "start_time": "2025-05-05T09:56:29.618Z"
   },
   {
    "duration": 30837,
    "start_time": "2025-05-05T10:33:18.695Z"
   },
   {
    "duration": 18,
    "start_time": "2025-05-05T10:33:49.536Z"
   },
   {
    "duration": 1575,
    "start_time": "2025-05-05T10:38:36.475Z"
   },
   {
    "duration": 1311,
    "start_time": "2025-05-05T10:56:16.265Z"
   },
   {
    "duration": 878,
    "start_time": "2025-05-05T10:56:17.579Z"
   },
   {
    "duration": 3,
    "start_time": "2025-05-05T10:56:18.459Z"
   },
   {
    "duration": 891,
    "start_time": "2025-05-05T10:56:18.463Z"
   },
   {
    "duration": 4,
    "start_time": "2025-05-05T10:56:19.357Z"
   },
   {
    "duration": 19,
    "start_time": "2025-05-05T10:56:19.363Z"
   },
   {
    "duration": 66,
    "start_time": "2025-05-05T10:56:19.384Z"
   },
   {
    "duration": 214,
    "start_time": "2025-05-05T10:56:19.451Z"
   },
   {
    "duration": 51,
    "start_time": "2025-05-05T10:56:19.667Z"
   },
   {
    "duration": 410,
    "start_time": "2025-05-05T10:56:19.720Z"
   },
   {
    "duration": 174,
    "start_time": "2025-05-05T10:56:20.132Z"
   },
   {
    "duration": 8575,
    "start_time": "2025-05-05T10:56:20.307Z"
   },
   {
    "duration": 245,
    "start_time": "2025-05-05T10:56:28.884Z"
   },
   {
    "duration": 39,
    "start_time": "2025-05-05T10:56:29.132Z"
   },
   {
    "duration": 4291,
    "start_time": "2025-05-05T10:56:29.173Z"
   },
   {
    "duration": 242,
    "start_time": "2025-05-05T10:56:33.467Z"
   },
   {
    "duration": 125,
    "start_time": "2025-05-05T10:56:33.711Z"
   },
   {
    "duration": 5793,
    "start_time": "2025-05-05T10:56:33.838Z"
   },
   {
    "duration": 5,
    "start_time": "2025-05-05T10:56:39.635Z"
   },
   {
    "duration": 6,
    "start_time": "2025-05-05T10:56:39.641Z"
   },
   {
    "duration": 32600,
    "start_time": "2025-05-05T10:56:39.648Z"
   },
   {
    "duration": 18,
    "start_time": "2025-05-05T10:57:12.249Z"
   },
   {
    "duration": 1575,
    "start_time": "2025-05-05T10:57:12.269Z"
   }
  ],
  "kernelspec": {
   "display_name": "Python 3 (ipykernel)",
   "language": "python",
   "name": "python3"
  },
  "language_info": {
   "codemirror_mode": {
    "name": "ipython",
    "version": 3
   },
   "file_extension": ".py",
   "mimetype": "text/x-python",
   "name": "python",
   "nbconvert_exporter": "python",
   "pygments_lexer": "ipython3",
   "version": "3.11.7"
  },
  "toc": {
   "base_numbering": 1,
   "nav_menu": {},
   "number_sections": true,
   "sideBar": true,
   "skip_h1_title": true,
   "title_cell": "Table of Contents",
   "title_sidebar": "Contents",
   "toc_cell": false,
   "toc_position": {},
   "toc_section_display": true,
   "toc_window_display": false
  }
 },
 "nbformat": 4,
 "nbformat_minor": 4
}
